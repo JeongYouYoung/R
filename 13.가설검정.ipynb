{
 "cells": [
  {
   "cell_type": "markdown",
   "id": "1c3b0758",
   "metadata": {},
   "source": [
    "# 카이제곱 검정\n",
    ": 두 범주(카테고리)형 변수가 서로 상관이 있는지 통계정 검정방법\n",
    "- 예) 학력,성별,직업의 만족도...\n"
   ]
  },
  {
   "cell_type": "markdown",
   "id": "4a66c688",
   "metadata": {},
   "source": [
    "- 가설 = 시나리오\n",
    "- 검정 = 테스트"
   ]
  },
  {
   "cell_type": "markdown",
   "id": "dbc90dfb",
   "metadata": {},
   "source": [
    "#### 가설 : 아동별 장난감 보유 현황\n",
    "- 귀무가설(니가 뭐라고 말하든 변하는거 없어!당연한거! 분석할 가치가 없는것)\n",
    ">child 1 과 child 2의 장난감 보유수에 대한 만족도 차이가 없다.\n",
    "- 대립가설(귀무가설과 완전 반대)\n",
    ">child 1 과 child 2의 장난감 보유수에 대한 만족도 차이가 있다.\n",
    "- 왜 차이가 나는지 이제 분석을 해보자!"
   ]
  },
  {
   "cell_type": "code",
   "execution_count": 2,
   "id": "099a5a09",
   "metadata": {},
   "outputs": [],
   "source": [
    "#child 장난감 보유현황.\n",
    "child1 <- c(5,11,1) \n",
    "child2 <-c(4,7,3)"
   ]
  },
  {
   "cell_type": "code",
   "execution_count": 3,
   "id": "39a8c586",
   "metadata": {},
   "outputs": [
    {
     "data": {
      "text/html": [
       "<table>\n",
       "<thead><tr><th scope=col>child1</th><th scope=col>child2</th></tr></thead>\n",
       "<tbody>\n",
       "\t<tr><td> 5</td><td>4 </td></tr>\n",
       "\t<tr><td>11</td><td>7 </td></tr>\n",
       "\t<tr><td> 1</td><td>3 </td></tr>\n",
       "</tbody>\n",
       "</table>\n"
      ],
      "text/latex": [
       "\\begin{tabular}{ll}\n",
       " child1 & child2\\\\\n",
       "\\hline\n",
       "\t  5 & 4 \\\\\n",
       "\t 11 & 7 \\\\\n",
       "\t  1 & 3 \\\\\n",
       "\\end{tabular}\n"
      ],
      "text/markdown": [
       "\n",
       "| child1 | child2 |\n",
       "|---|---|\n",
       "|  5 | 4  |\n",
       "| 11 | 7  |\n",
       "|  1 | 3  |\n",
       "\n"
      ],
      "text/plain": [
       "     child1 child2\n",
       "[1,]  5     4     \n",
       "[2,] 11     7     \n",
       "[3,]  1     3     "
      ]
     },
     "metadata": {},
     "output_type": "display_data"
    }
   ],
   "source": [
    "#분석을 위해 데이터 합치기\n",
    "Toy <- cbind(child1,child2)\n",
    "Toy"
   ]
  },
  {
   "cell_type": "code",
   "execution_count": 8,
   "id": "43a5fb5d",
   "metadata": {},
   "outputs": [
    {
     "data": {
      "text/html": [
       "<table>\n",
       "<thead><tr><th></th><th scope=col>child1</th><th scope=col>child2</th></tr></thead>\n",
       "<tbody>\n",
       "\t<tr><th scope=row>car</th><td> 5</td><td>4 </td></tr>\n",
       "\t<tr><th scope=row>truck</th><td>11</td><td>7 </td></tr>\n",
       "\t<tr><th scope=row>doll</th><td> 1</td><td>3 </td></tr>\n",
       "</tbody>\n",
       "</table>\n"
      ],
      "text/latex": [
       "\\begin{tabular}{r|ll}\n",
       "  & child1 & child2\\\\\n",
       "\\hline\n",
       "\tcar &  5 & 4 \\\\\n",
       "\ttruck & 11 & 7 \\\\\n",
       "\tdoll &  1 & 3 \\\\\n",
       "\\end{tabular}\n"
      ],
      "text/markdown": [
       "\n",
       "| <!--/--> | child1 | child2 |\n",
       "|---|---|---|\n",
       "| car |  5 | 4  |\n",
       "| truck | 11 | 7  |\n",
       "| doll |  1 | 3  |\n",
       "\n"
      ],
      "text/plain": [
       "      child1 child2\n",
       "car    5     4     \n",
       "truck 11     7     \n",
       "doll   1     3     "
      ]
     },
     "metadata": {},
     "output_type": "display_data"
    }
   ],
   "source": [
    "#장난감 이름 정해주기\n",
    "rownames(Toy) <- c(\"car\",\"truck\", \"doll\")\n",
    "Toy"
   ]
  },
  {
   "cell_type": "code",
   "execution_count": 10,
   "id": "5b7df4ad",
   "metadata": {},
   "outputs": [
    {
     "name": "stderr",
     "output_type": "stream",
     "text": [
      "Warning message in chisq.test(Toy):\n",
      "“Chi-squared approximation may be incorrect”"
     ]
    },
    {
     "data": {
      "text/plain": [
       "\n",
       "\tPearson's Chi-squared test\n",
       "\n",
       "data:  Toy\n",
       "X-squared = 1.7258, df = 2, p-value = 0.4219\n"
      ]
     },
     "metadata": {},
     "output_type": "display_data"
    }
   ],
   "source": [
    "#카이제곱 검정 실시\n",
    "chisq.test(Toy)\n",
    "\n",
    "# 가장 중요한건 : p-value 유의수준?"
   ]
  },
  {
   "cell_type": "markdown",
   "id": "622dff75",
   "metadata": {},
   "source": [
    "### 결론\n",
    "-  p-value = 0.4219 > 0.05(95% 신뢰구간) -> 귀무가설 채택\n",
    "> child1과 child2의 데이터는 통계적으로 큰 차이가 없다.\n",
    "> 저 데이터가지고는 분석할 거리가 안된다!\n",
    "> \n",
    "-  p-value는 0에 가까울수록 좋다.\n",
    "> 미리 정해진 유의수준(일반적으로 R에서는 0.05)보다 작으면 대립가설을 채택하고 유의수준보다 크면 귀무가설을 채택."
   ]
  },
  {
   "cell_type": "code",
   "execution_count": 12,
   "id": "52fb42f8",
   "metadata": {},
   "outputs": [
    {
     "data": {
      "text/html": [
       "0.986241382612456"
      ],
      "text/latex": [
       "0.986241382612456"
      ],
      "text/markdown": [
       "0.986241382612456"
      ],
      "text/plain": [
       "[1] 0.9862414"
      ]
     },
     "metadata": {},
     "output_type": "display_data"
    }
   ],
   "source": [
    "cor(child1,child2)"
   ]
  },
  {
   "cell_type": "markdown",
   "id": "333e7459",
   "metadata": {},
   "source": [
    "### 메세지\n",
    "- “Chi-squared approximation may be incorrect”\n",
    "> 카이제곱의 근사값이 정확하지 않을수도 있다.\n",
    "- 데이터 양이 적은경우 발생"
   ]
  },
  {
   "cell_type": "markdown",
   "id": "4ccb7d8d",
   "metadata": {},
   "source": [
    "---\n",
    "# 피셔 검정\n",
    "> 데이터 양이 적을경우 사용"
   ]
  },
  {
   "cell_type": "markdown",
   "id": "fce3c937",
   "metadata": {},
   "source": [
    "\n",
    "- 원래는 카이제곱을 더 많이 사용"
   ]
  },
  {
   "cell_type": "code",
   "execution_count": 16,
   "id": "51eb7da1",
   "metadata": {},
   "outputs": [
    {
     "data": {
      "text/plain": [
       "\n",
       "\tFisher's Exact Test for Count Data\n",
       "\n",
       "data:  Toy\n",
       "p-value = 0.5165\n",
       "alternative hypothesis: two.sided\n"
      ]
     },
     "metadata": {},
     "output_type": "display_data"
    }
   ],
   "source": [
    "fisher.test(Toy)"
   ]
  },
  {
   "cell_type": "markdown",
   "id": "0f16efde",
   "metadata": {},
   "source": [
    "p-value = 0.5165 > 0.05 --> 귀무가설"
   ]
  },
  {
   "cell_type": "markdown",
   "id": "36d1b62f",
   "metadata": {},
   "source": [
    "---\n",
    "# t-검정\n",
    "- 가설 : 건전지가 1000시간 간다고 했는데 그거보다 짧게 수명이 다되었다!\n",
    "> 다른사람이 한 말이 진짜인이 아닌지를 볼때 사용(평균!)\n"
   ]
  },
  {
   "cell_type": "markdown",
   "id": "21af1773",
   "metadata": {},
   "source": [
    "- 귀무가설 (분석할 필요가 없다) \n",
    "> 건전지 수명은 1000시간이다.\n",
    "- 대립가설\n",
    "> 건전지 수명은 1000시간이 아니다."
   ]
  },
  {
   "cell_type": "code",
   "execution_count": 19,
   "id": "23886f81",
   "metadata": {},
   "outputs": [],
   "source": [
    "bat <- c(980, 1008, 968, 1032, 1012, 1002, 996, 1017)\n",
    "# 진짜인지 아닌지 확인 : 정규 문포도"
   ]
  },
  {
   "cell_type": "markdown",
   "id": "aa5ed9a6",
   "metadata": {},
   "source": [
    "- 데이터의 분포가 정규분포인지 확인 --> Shapiro-Wilk검정을 실시\n",
    "- 귀무가설 : 자료가 정규분포를 따른다.\n",
    "- 대립가설 : 자료가 정규분포를 따르지 않는다.\n"
   ]
  },
  {
   "cell_type": "code",
   "execution_count": 20,
   "id": "71a40e0f",
   "metadata": {},
   "outputs": [
    {
     "data": {
      "text/plain": [
       "\n",
       "\tShapiro-Wilk normality test\n",
       "\n",
       "data:  bat\n",
       "W = 0.97706, p-value = 0.9469\n"
      ]
     },
     "metadata": {},
     "output_type": "display_data"
    }
   ],
   "source": [
    "shapiro.test(bat)"
   ]
  },
  {
   "cell_type": "markdown",
   "id": "1716d42f",
   "metadata": {},
   "source": [
    "p-value = 0.9469 > 0.05 ---> 귀무가설"
   ]
  },
  {
   "cell_type": "code",
   "execution_count": 22,
   "id": "bf0de35e",
   "metadata": {},
   "outputs": [
    {
     "data": {
      "text/plain": [
       "\n",
       "\tOne Sample t-test\n",
       "\n",
       "data:  bat\n",
       "t = 0.25891, df = 7, p-value = 0.8032\n",
       "alternative hypothesis: true mean is not equal to 1000\n",
       "95 percent confidence interval:\n",
       "  984.7508 1018.9992\n",
       "sample estimates:\n",
       "mean of x \n",
       " 1001.875 \n"
      ]
     },
     "metadata": {},
     "output_type": "display_data"
    }
   ],
   "source": [
    "#t검정 실시\n",
    "t.test(bat, mu=1000, alternative = \"two.sided\")\n",
    "\n",
    "#mu : 비교하는 대상의 평균\n",
    "#alternative :\n",
    "#- two.sided : 데이터가 평균과 다르다.\n",
    "#- greater : 데이터가 평균보다 크다.\n",
    "#- less : 데이터가 평균보다 적다."
   ]
  },
  {
   "cell_type": "markdown",
   "id": "c3d5be77",
   "metadata": {},
   "source": [
    "p-value = 0.8032 > 0.05 ---> 귀무가설 : 건전지의 수명은 1000시간이다."
   ]
  },
  {
   "cell_type": "code",
   "execution_count": null,
   "id": "be35d552",
   "metadata": {},
   "outputs": [],
   "source": []
  },
  {
   "cell_type": "code",
   "execution_count": null,
   "id": "39bfc130",
   "metadata": {},
   "outputs": [],
   "source": []
  }
 ],
 "metadata": {
  "kernelspec": {
   "display_name": "R",
   "language": "R",
   "name": "ir"
  },
  "language_info": {
   "codemirror_mode": "r",
   "file_extension": ".r",
   "mimetype": "text/x-r-source",
   "name": "R",
   "pygments_lexer": "r",
   "version": "3.6.1"
  }
 },
 "nbformat": 4,
 "nbformat_minor": 5
}
