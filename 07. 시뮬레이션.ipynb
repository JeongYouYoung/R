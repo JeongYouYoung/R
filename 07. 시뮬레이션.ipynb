{
 "cells": [
  {
   "cell_type": "markdown",
   "id": "6265551a",
   "metadata": {},
   "source": [
    "# 몬테카를로 시뮬레이션"
   ]
  },
  {
   "cell_type": "markdown",
   "id": "5049d8c7",
   "metadata": {},
   "source": [
    "### 동전 앞면과 뒷면 시뮬레이션"
   ]
  },
  {
   "cell_type": "code",
   "execution_count": 22,
   "id": "0677c225",
   "metadata": {},
   "outputs": [
    {
     "name": "stdout",
     "output_type": "stream",
     "text": [
      "[1] 1\n"
     ]
    }
   ],
   "source": [
    "#runif는 1과 1사이 인데!\n",
    "#동전 앞면과 뒷면을 1/2로 나눠서 확인\n",
    "x <- runif(1)\n",
    "\n",
    "#이렇게 할바엔 내가 던져서 확인하지!!\n",
    "if(x <= 1/2){\n",
    "    result = 0 # 앞면\n",
    "}else{\n",
    "    result = 1 #뒷면\n",
    "}\n",
    "print(result)"
   ]
  },
  {
   "cell_type": "code",
   "execution_count": 29,
   "id": "0672f166",
   "metadata": {},
   "outputs": [],
   "source": [
    "coin <- function(n){\n",
    "    count1 = 0 #앞면 \n",
    "    count2 = 0 #뒷면\n",
    "    for(i in 1:n){\n",
    "        if(runif(1) <= 1/2){\n",
    "            count1 = count1 + 1\n",
    "        }else{\n",
    "            count2 = count2 + 1\n",
    "        }\n",
    "    }\n",
    "    cat(\"앞면 : \", count1, \"\\n\")\n",
    "    cat(\"뒷면 : \", count2, \"\\n\")\n",
    "    cat(\"---------------------\\n\")\n",
    "}"
   ]
  },
  {
   "cell_type": "code",
   "execution_count": 30,
   "id": "91a9a1e1",
   "metadata": {},
   "outputs": [
    {
     "name": "stdout",
     "output_type": "stream",
     "text": [
      "앞면 :  3 \n",
      "뒷면 :  7 \n",
      "---------------------\n",
      "앞면 :  55 \n",
      "뒷면 :  45 \n",
      "---------------------\n",
      "앞면 :  499 \n",
      "뒷면 :  501 \n",
      "---------------------\n",
      "앞면 :  4927 \n",
      "뒷면 :  5073 \n",
      "---------------------\n",
      "앞면 :  50072 \n",
      "뒷면 :  49928 \n",
      "---------------------\n",
      "앞면 :  500125 \n",
      "뒷면 :  499875 \n",
      "---------------------\n"
     ]
    }
   ],
   "source": [
    "#이렇게 시뮬레이션 해보겟다.\n",
    "\n",
    "coin(10)\n",
    "coin(100)\n",
    "coin(1000)\n",
    "coin(10000)\n",
    "coin(100000)\n",
    "coin(1000000)"
   ]
  },
  {
   "cell_type": "code",
   "execution_count": 78,
   "id": "5cd4769e",
   "metadata": {},
   "outputs": [],
   "source": [
    "### 가위,바위,보 시뮬레이션\n",
    "\n",
    "rock <- function(n){\n",
    "    roc = 0 #가위\n",
    "    sci = 0 #바위\n",
    "    pap = 0 #보\n",
    "    \n",
    "    for(i in 1:n){\n",
    "        y = runif(1) #변수 지정 해줘야 같은값으로 조건문 가능\n",
    "        if(y <= 1/3){\n",
    "            roc = roc + 1\n",
    "        }else if(y <= 2/3){\n",
    "            sci = sci + 1\n",
    "        }else{\n",
    "            pap = pap + 1\n",
    "        }\n",
    "    }\n",
    "    cat(\"가위 : \", roc, \"\\n\")\n",
    "    cat(\"바위 : \", sci, \"\\n\")\n",
    "     cat(\"보 : \", pap, \"\\n\")\n",
    "    cat(\"---------------------\\n\")\n",
    "}\n",
    "\n",
    "# 선생님 버전\n",
    "rock2 <- function(x){\n",
    "    \n",
    "    roc2 = 0 #가위\n",
    "    sci2 = 0 #바위\n",
    "    pap2 = 0 #보\n",
    "    \n",
    "     for(i in 1:x){\n",
    "        y = trunc(runif(1) * 3) + 1\n",
    "        \n",
    "         if(y == 1) roc2 = roc2 + 1\n",
    "         if(y == 2) sci2 = sci2 + 1\n",
    "         if(y == 2) pap2 = pap2 + 1\n",
    "    }\n",
    "    cat(\"가위 : \", roc2, \"\\n\")\n",
    "    cat(\"바위 : \", sci2, \"\\n\")\n",
    "     cat(\"보 : \", pap2, \"\\n\")\n",
    "    cat(\"---------------------\\n\")\n",
    "}\n",
    "\n",
    "\n"
   ]
  },
  {
   "cell_type": "code",
   "execution_count": 70,
   "id": "7d22a022",
   "metadata": {},
   "outputs": [
    {
     "name": "stdout",
     "output_type": "stream",
     "text": [
      "가위 :  2 \n",
      "바위 :  5 \n",
      "보 :  3 \n",
      "---------------------\n",
      "가위 :  34 \n",
      "바위 :  30 \n",
      "보 :  36 \n",
      "---------------------\n",
      "가위 :  334 \n",
      "바위 :  332 \n",
      "보 :  334 \n",
      "---------------------\n",
      "가위 :  3311 \n",
      "바위 :  3320 \n",
      "보 :  3369 \n",
      "---------------------\n",
      "가위 :  33573 \n",
      "바위 :  33117 \n",
      "보 :  33310 \n",
      "---------------------\n",
      "가위 :  333501 \n",
      "바위 :  333748 \n",
      "보 :  332751 \n",
      "---------------------\n"
     ]
    }
   ],
   "source": [
    "rock(10)\n",
    "rock(100)\n",
    "rock(1000)\n",
    "rock(10000)\n",
    "rock(100000)\n",
    "rock(1000000)"
   ]
  },
  {
   "cell_type": "code",
   "execution_count": 81,
   "id": "302cd0f1",
   "metadata": {},
   "outputs": [
    {
     "name": "stdout",
     "output_type": "stream",
     "text": [
      "가위 :  3 \n",
      "바위 :  3 \n",
      "보 :  3 \n",
      "---------------------\n",
      "가위 :  39 \n",
      "바위 :  33 \n",
      "보 :  33 \n",
      "---------------------\n",
      "가위 :  319 \n",
      "바위 :  330 \n",
      "보 :  330 \n",
      "---------------------\n",
      "가위 :  3408 \n",
      "바위 :  3325 \n",
      "보 :  3325 \n",
      "---------------------\n",
      "가위 :  33527 \n",
      "바위 :  33134 \n",
      "보 :  33134 \n",
      "---------------------\n",
      "가위 :  333469 \n",
      "바위 :  333630 \n",
      "보 :  333630 \n",
      "---------------------\n"
     ]
    }
   ],
   "source": [
    "rock2(10)\n",
    "rock2(100)\n",
    "rock2(1000)\n",
    "rock2(10000)\n",
    "rock2(100000)\n",
    "rock2(1000000)"
   ]
  },
  {
   "cell_type": "markdown",
   "id": "0f72c2ea",
   "metadata": {},
   "source": [
    " ### 주사위 시뮬레이션"
   ]
  },
  {
   "cell_type": "code",
   "execution_count": 150,
   "id": "278c6e34",
   "metadata": {},
   "outputs": [
    {
     "data": {
      "text/html": [
       "1"
      ],
      "text/latex": [
       "1"
      ],
      "text/markdown": [
       "1"
      ],
      "text/plain": [
       "[1] 1"
      ]
     },
     "metadata": {},
     "output_type": "display_data"
    },
    {
     "data": {
      "text/html": [
       "<ol class=list-inline>\n",
       "\t<li>0</li>\n",
       "\t<li>0</li>\n",
       "\t<li>0</li>\n",
       "\t<li>0</li>\n",
       "\t<li>1</li>\n",
       "\t<li>0</li>\n",
       "</ol>\n"
      ],
      "text/latex": [
       "\\begin{enumerate*}\n",
       "\\item 0\n",
       "\\item 0\n",
       "\\item 0\n",
       "\\item 0\n",
       "\\item 1\n",
       "\\item 0\n",
       "\\end{enumerate*}\n"
      ],
      "text/markdown": [
       "1. 0\n",
       "2. 0\n",
       "3. 0\n",
       "4. 0\n",
       "5. 1\n",
       "6. 0\n",
       "\n",
       "\n"
      ],
      "text/plain": [
       "[1] 0 0 0 0 1 0"
      ]
     },
     "metadata": {},
     "output_type": "display_data"
    }
   ],
   "source": [
    "y <- trunc(runif(1) * 6) + 1\n",
    "dice <- c(0,0,0,0,0,0)\n",
    "\n",
    "dice[y] <- dice[y] + 1\n",
    "dice[y]\n",
    "dice"
   ]
  },
  {
   "cell_type": "code",
   "execution_count": 171,
   "id": "c6345aa1",
   "metadata": {},
   "outputs": [],
   "source": [
    "# 지수 지우기\n",
    "options(scipen = 100)"
   ]
  },
  {
   "cell_type": "code",
   "execution_count": 169,
   "id": "0ae5e73c",
   "metadata": {},
   "outputs": [],
   "source": [
    "#dice\n",
    "#지수표현 꼭 알기 : 1e+05 \n",
    "\n",
    "\n",
    "\n",
    "dice <- function(x){ \n",
    "   diceFace <- rep(0, 6)\n",
    "    cat(\"Throe :\" ,x, \"\\n\")\n",
    "    for(i in 1:x){\n",
    "        y <- trunc(runif(1) * 6) + 1\n",
    "        diceFace[y] = diceFace[y] + 1\n",
    "    }\n",
    "    for(i in 1:length(diceFace)){\n",
    "        cat(\"No.\",i,\"=>\",diceFace[i],\"\\n\")\n",
    "    }\n",
    "    cat(\"--------------------------------\\n\")\n",
    "}"
   ]
  },
  {
   "cell_type": "code",
   "execution_count": 170,
   "id": "2742c373",
   "metadata": {},
   "outputs": [
    {
     "name": "stdout",
     "output_type": "stream",
     "text": [
      "Throe : 10 \n",
      "No. 1 => 2 \n",
      "No. 2 => 1 \n",
      "No. 3 => 2 \n",
      "No. 4 => 3 \n",
      "No. 5 => 2 \n",
      "No. 6 => 0 \n",
      "--------------------------------\n",
      "Throe : 100 \n",
      "No. 1 => 16 \n",
      "No. 2 => 17 \n",
      "No. 3 => 27 \n",
      "No. 4 => 14 \n",
      "No. 5 => 12 \n",
      "No. 6 => 14 \n",
      "--------------------------------\n",
      "Throe : 1000 \n",
      "No. 1 => 179 \n",
      "No. 2 => 156 \n",
      "No. 3 => 172 \n",
      "No. 4 => 167 \n",
      "No. 5 => 161 \n",
      "No. 6 => 165 \n",
      "--------------------------------\n",
      "Throe : 100000 \n",
      "No. 1 => 16726 \n",
      "No. 2 => 16586 \n",
      "No. 3 => 16664 \n",
      "No. 4 => 16653 \n",
      "No. 5 => 16592 \n",
      "No. 6 => 16779 \n",
      "--------------------------------\n",
      "Throe : 1000000 \n",
      "No. 1 => 166722 \n",
      "No. 2 => 166381 \n",
      "No. 3 => 166996 \n",
      "No. 4 => 166718 \n",
      "No. 5 => 166543 \n",
      "No. 6 => 166640 \n",
      "--------------------------------\n",
      "Throe : 10000000 \n",
      "No. 1 => 1665228 \n",
      "No. 2 => 1666359 \n",
      "No. 3 => 1666746 \n",
      "No. 4 => 1667619 \n",
      "No. 5 => 1667735 \n",
      "No. 6 => 1666313 \n",
      "--------------------------------\n"
     ]
    }
   ],
   "source": [
    "dice(10)\n",
    "dice(100)\n",
    "dice(1000)\n",
    "dice(100000)\n",
    "dice(1000000)\n",
    "dice(10000000)"
   ]
  },
  {
   "cell_type": "code",
   "execution_count": null,
   "id": "6956f3a2",
   "metadata": {},
   "outputs": [],
   "source": [
    "\n"
   ]
  },
  {
   "cell_type": "code",
   "execution_count": null,
   "id": "5f512fd3",
   "metadata": {},
   "outputs": [],
   "source": []
  },
  {
   "cell_type": "code",
   "execution_count": null,
   "id": "e4ab0dbb",
   "metadata": {},
   "outputs": [],
   "source": []
  },
  {
   "cell_type": "code",
   "execution_count": null,
   "id": "448e2c62",
   "metadata": {},
   "outputs": [],
   "source": []
  },
  {
   "cell_type": "code",
   "execution_count": null,
   "id": "41bd4f32",
   "metadata": {},
   "outputs": [],
   "source": []
  },
  {
   "cell_type": "code",
   "execution_count": null,
   "id": "cb9c750f",
   "metadata": {},
   "outputs": [],
   "source": []
  }
 ],
 "metadata": {
  "kernelspec": {
   "display_name": "R",
   "language": "R",
   "name": "ir"
  },
  "language_info": {
   "codemirror_mode": "r",
   "file_extension": ".r",
   "mimetype": "text/x-r-source",
   "name": "R",
   "pygments_lexer": "r",
   "version": "3.6.1"
  }
 },
 "nbformat": 4,
 "nbformat_minor": 5
}
