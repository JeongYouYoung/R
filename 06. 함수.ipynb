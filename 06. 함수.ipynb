{
 "cells": [
  {
   "cell_type": "markdown",
   "id": "00e2f9ea",
   "metadata": {},
   "source": [
    "# 기술 통계량을 계산하는 함수 정의"
   ]
  },
  {
   "cell_type": "code",
   "execution_count": 1,
   "id": "96dfd855",
   "metadata": {},
   "outputs": [
    {
     "data": {
      "text/html": [
       "<table>\n",
       "<thead><tr><th scope=col>A</th><th scope=col>B</th><th scope=col>C</th><th scope=col>D</th><th scope=col>E</th></tr></thead>\n",
       "<tbody>\n",
       "\t<tr><td>2</td><td>4</td><td>4</td><td>2</td><td>2</td></tr>\n",
       "\t<tr><td>1</td><td>2</td><td>2</td><td>2</td><td>2</td></tr>\n",
       "\t<tr><td>2</td><td>3</td><td>4</td><td>3</td><td>3</td></tr>\n",
       "\t<tr><td>3</td><td>5</td><td>5</td><td>3</td><td>3</td></tr>\n",
       "\t<tr><td>3</td><td>2</td><td>4</td><td>4</td><td>4</td></tr>\n",
       "\t<tr><td>4</td><td>3</td><td>3</td><td>4</td><td>2</td></tr>\n",
       "</tbody>\n",
       "</table>\n"
      ],
      "text/latex": [
       "\\begin{tabular}{r|lllll}\n",
       " A & B & C & D & E\\\\\n",
       "\\hline\n",
       "\t 2 & 4 & 4 & 2 & 2\\\\\n",
       "\t 1 & 2 & 2 & 2 & 2\\\\\n",
       "\t 2 & 3 & 4 & 3 & 3\\\\\n",
       "\t 3 & 5 & 5 & 3 & 3\\\\\n",
       "\t 3 & 2 & 4 & 4 & 4\\\\\n",
       "\t 4 & 3 & 3 & 4 & 2\\\\\n",
       "\\end{tabular}\n"
      ],
      "text/markdown": [
       "\n",
       "| A | B | C | D | E |\n",
       "|---|---|---|---|---|\n",
       "| 2 | 4 | 4 | 2 | 2 |\n",
       "| 1 | 2 | 2 | 2 | 2 |\n",
       "| 2 | 3 | 4 | 3 | 3 |\n",
       "| 3 | 5 | 5 | 3 | 3 |\n",
       "| 3 | 2 | 4 | 4 | 4 |\n",
       "| 4 | 3 | 3 | 4 | 2 |\n",
       "\n"
      ],
      "text/plain": [
       "  A B C D E\n",
       "1 2 4 4 2 2\n",
       "2 1 2 2 2 2\n",
       "3 2 3 4 3 3\n",
       "4 3 5 5 3 3\n",
       "5 3 2 4 4 4\n",
       "6 4 3 3 4 2"
      ]
     },
     "metadata": {},
     "output_type": "display_data"
    }
   ],
   "source": [
    "test <- read.csv(\"Rdata/test.csv\")\n",
    "head(test)"
   ]
  },
  {
   "cell_type": "code",
   "execution_count": 2,
   "id": "fb395dbc",
   "metadata": {},
   "outputs": [
    {
     "data": {
      "text/html": [
       "<table>\n",
       "<thead><tr><th></th><th scope=col>A</th><th scope=col>B</th><th scope=col>C</th><th scope=col>D</th><th scope=col>E</th></tr></thead>\n",
       "<tbody>\n",
       "\t<tr><th scope=row>397</th><td>2</td><td>3</td><td>5</td><td>2</td><td>4</td></tr>\n",
       "\t<tr><th scope=row>398</th><td>4</td><td>3</td><td>3</td><td>2</td><td>4</td></tr>\n",
       "\t<tr><th scope=row>399</th><td>2</td><td>4</td><td>4</td><td>2</td><td>3</td></tr>\n",
       "\t<tr><th scope=row>400</th><td>2</td><td>2</td><td>5</td><td>2</td><td>4</td></tr>\n",
       "\t<tr><th scope=row>401</th><td>2</td><td>3</td><td>4</td><td>2</td><td>4</td></tr>\n",
       "\t<tr><th scope=row>402</th><td>2</td><td>2</td><td>4</td><td>2</td><td>4</td></tr>\n",
       "</tbody>\n",
       "</table>\n"
      ],
      "text/latex": [
       "\\begin{tabular}{r|lllll}\n",
       "  & A & B & C & D & E\\\\\n",
       "\\hline\n",
       "\t397 & 2 & 3 & 5 & 2 & 4\\\\\n",
       "\t398 & 4 & 3 & 3 & 2 & 4\\\\\n",
       "\t399 & 2 & 4 & 4 & 2 & 3\\\\\n",
       "\t400 & 2 & 2 & 5 & 2 & 4\\\\\n",
       "\t401 & 2 & 3 & 4 & 2 & 4\\\\\n",
       "\t402 & 2 & 2 & 4 & 2 & 4\\\\\n",
       "\\end{tabular}\n"
      ],
      "text/markdown": [
       "\n",
       "| <!--/--> | A | B | C | D | E |\n",
       "|---|---|---|---|---|---|\n",
       "| 397 | 2 | 3 | 5 | 2 | 4 |\n",
       "| 398 | 4 | 3 | 3 | 2 | 4 |\n",
       "| 399 | 2 | 4 | 4 | 2 | 3 |\n",
       "| 400 | 2 | 2 | 5 | 2 | 4 |\n",
       "| 401 | 2 | 3 | 4 | 2 | 4 |\n",
       "| 402 | 2 | 2 | 4 | 2 | 4 |\n",
       "\n"
      ],
      "text/plain": [
       "    A B C D E\n",
       "397 2 3 5 2 4\n",
       "398 4 3 3 2 4\n",
       "399 2 4 4 2 3\n",
       "400 2 2 5 2 4\n",
       "401 2 3 4 2 4\n",
       "402 2 2 4 2 4"
      ]
     },
     "metadata": {},
     "output_type": "display_data"
    }
   ],
   "source": [
    "tail(test)"
   ]
  },
  {
   "cell_type": "code",
   "execution_count": 3,
   "id": "9346280d",
   "metadata": {},
   "outputs": [
    {
     "name": "stdout",
     "output_type": "stream",
     "text": [
      "'data.frame':\t402 obs. of  5 variables:\n",
      " $ A: int  2 1 2 3 3 4 3 4 4 4 ...\n",
      " $ B: int  4 2 3 5 2 3 4 2 4 2 ...\n",
      " $ C: int  4 2 4 5 4 3 4 4 5 4 ...\n",
      " $ D: int  2 2 3 3 4 4 2 4 3 2 ...\n",
      " $ E: int  2 2 3 3 4 2 2 4 4 3 ...\n"
     ]
    }
   ],
   "source": [
    "str(test)"
   ]
  },
  {
   "cell_type": "code",
   "execution_count": 4,
   "id": "f7499396",
   "metadata": {},
   "outputs": [
    {
     "data": {
      "text/plain": [
       "       A               B               C               D              E        \n",
       " Min.   :1.000   Min.   :1.000   Min.   :1.000   Min.   :1.00   Min.   :1.000  \n",
       " 1st Qu.:2.000   1st Qu.:2.000   1st Qu.:3.000   1st Qu.:2.00   1st Qu.:3.000  \n",
       " Median :3.000   Median :3.000   Median :4.000   Median :2.00   Median :4.000  \n",
       " Mean   :2.734   Mean   :2.908   Mean   :3.622   Mean   :2.51   Mean   :3.386  \n",
       " 3rd Qu.:3.000   3rd Qu.:4.000   3rd Qu.:4.000   3rd Qu.:3.00   3rd Qu.:4.000  \n",
       " Max.   :5.000   Max.   :5.000   Max.   :5.000   Max.   :4.00   Max.   :5.000  "
      ]
     },
     "metadata": {},
     "output_type": "display_data"
    }
   ],
   "source": [
    "summary(test)"
   ]
  },
  {
   "cell_type": "code",
   "execution_count": 5,
   "id": "2dc7b922",
   "metadata": {},
   "outputs": [
    {
     "data": {
      "text/html": [
       "5"
      ],
      "text/latex": [
       "5"
      ],
      "text/markdown": [
       "5"
      ],
      "text/plain": [
       "[1] 5"
      ]
     },
     "metadata": {},
     "output_type": "display_data"
    },
    {
     "data": {
      "text/html": [
       "1"
      ],
      "text/latex": [
       "1"
      ],
      "text/markdown": [
       "1"
      ],
      "text/plain": [
       "[1] 1"
      ]
     },
     "metadata": {},
     "output_type": "display_data"
    },
    {
     "data": {
      "text/plain": [
       "\n",
       "  1   2   3   4   5 \n",
       " 30 133 156  80   3 "
      ]
     },
     "metadata": {},
     "output_type": "display_data"
    }
   ],
   "source": [
    "# A컬럼의 최댓값, 최솟값, 빈도수(table//프리퀀시?) 구하기\n",
    "max(test$A)\n",
    "min(test$A)\n",
    "table(test$A)"
   ]
  },
  {
   "cell_type": "code",
   "execution_count": 6,
   "id": "65ffdccf",
   "metadata": {},
   "outputs": [
    {
     "name": "stdout",
     "output_type": "stream",
     "text": [
      "1 번째 컬럼의 빈도수 분석 결과\n",
      "  1   2   3   4   5 \n",
      " 30 133 156  80   3 \n",
      "------------------------\n",
      "2 번째 컬럼의 빈도수 분석 결과\n",
      "  1   2   3   4   5 \n",
      " 16 150  98 131   7 \n",
      "------------------------\n",
      "3 번째 컬럼의 빈도수 분석 결과\n",
      "  1   2   3   4   5 \n",
      "  3  74  72 176  77 \n",
      "------------------------\n",
      "4 번째 컬럼의 빈도수 분석 결과\n",
      "  1   2   3   4 \n",
      " 30 178 153  41 \n",
      "------------------------\n",
      "5 번째 컬럼의 빈도수 분석 결과\n",
      "  1   2   3   4   5 \n",
      "  8  81 107 160  46 \n",
      "------------------------\n"
     ]
    }
   ],
   "source": [
    "# 각 컬럼의 빈도수 구하기(다 for문) //내가 한거\n",
    "\n",
    "for(i in 1:5){\n",
    "     cat(i,\"번째 컬럼의 빈도수 분석 결과\")\n",
    "    print(table(test[i]))\n",
    "    cat(\"------------------------\\n\")\n",
    "}\n",
    "\n"
   ]
  },
  {
   "cell_type": "code",
   "execution_count": 7,
   "id": "e460600d",
   "metadata": {},
   "outputs": [
    {
     "name": "stdout",
     "output_type": "stream",
     "text": [
      "A 컬럼의 빈도수 분석 결과\n",
      "  1   2   3   4   5 \n",
      " 30 133 156  80   3 \n",
      "------------------------\n",
      "B 컬럼의 빈도수 분석 결과\n",
      "  1   2   3   4   5 \n",
      " 16 150  98 131   7 \n",
      "------------------------\n",
      "C 컬럼의 빈도수 분석 결과\n",
      "  1   2   3   4   5 \n",
      "  3  74  72 176  77 \n",
      "------------------------\n",
      "D 컬럼의 빈도수 분석 결과\n",
      "  1   2   3   4 \n",
      " 30 178 153  41 \n",
      "------------------------\n",
      "E 컬럼의 빈도수 분석 결과\n",
      "  1   2   3   4   5 \n",
      "  8  81 107 160  46 \n",
      "------------------------\n"
     ]
    }
   ],
   "source": [
    "# 각 컬럼의 빈도수 구하기(다 for문) //선생님\n",
    "\n",
    "#test[ ,1]\n",
    "#ncol(test)\n",
    "#colnames(test)\n",
    "for(i in 1:ncol(test)){\n",
    "   cat(colnames(test)[i], \"컬럼의 빈도수 분석 결과\")\n",
    "    print(table(test[i]))\n",
    "    cat(\"------------------------\\n\")\n",
    "}"
   ]
  },
  {
   "cell_type": "code",
   "execution_count": 8,
   "id": "4c1f0271",
   "metadata": {},
   "outputs": [
    {
     "name": "stdout",
     "output_type": "stream",
     "text": [
      "A 컬럼의 빈도수의 최댓값과 최솟값 \n",
      " 최댓값 : 156 최솟값 : 3 \n",
      "------------------------\n",
      "B 컬럼의 빈도수의 최댓값과 최솟값 \n",
      " 최댓값 : 150 최솟값 : 7 \n",
      "------------------------\n",
      "C 컬럼의 빈도수의 최댓값과 최솟값 \n",
      " 최댓값 : 176 최솟값 : 3 \n",
      "------------------------\n",
      "D 컬럼의 빈도수의 최댓값과 최솟값 \n",
      " 최댓값 : 178 최솟값 : 30 \n",
      "------------------------\n",
      "E 컬럼의 빈도수의 최댓값과 최솟값 \n",
      " 최댓값 : 160 최솟값 : 8 \n",
      "------------------------\n"
     ]
    }
   ],
   "source": [
    "# 각컬럼 빈도수의 최댓값 최솟값 구하기\n",
    "col <- 0\n",
    "for(i in 1:ncol(test)){\n",
    "    col <- table(test[i])\n",
    "    #print(col)\n",
    "    cat(colnames(test)[i], \"컬럼의 빈도수의 최댓값과 최솟값 \\n\",\"최댓값 :\",max(col),\"최솟값 :\", min(col),\"\\n\")\n",
    "    cat(\"------------------------\\n\")\n",
    "\n",
    "}\n",
    "\n"
   ]
  },
  {
   "cell_type": "code",
   "execution_count": 9,
   "id": "cd82630a",
   "metadata": {},
   "outputs": [
    {
     "name": "stdout",
     "output_type": "stream",
     "text": [
      "A 컬럼의 빈도수 분석 결과\n",
      "  1   2   3   4   5 \n",
      " 30 133 156  80   3 \n",
      "------------------------\n",
      "A 컬럼의 빈도수의 최댓값과 최솟값 \n",
      " 최댓값 : 156 최솟값 : 3 \n",
      "========================\n",
      "B 컬럼의 빈도수 분석 결과\n",
      "  1   2   3   4   5 \n",
      " 16 150  98 131   7 \n",
      "------------------------\n",
      "B 컬럼의 빈도수의 최댓값과 최솟값 \n",
      " 최댓값 : 150 최솟값 : 7 \n",
      "========================\n",
      "C 컬럼의 빈도수 분석 결과\n",
      "  1   2   3   4   5 \n",
      "  3  74  72 176  77 \n",
      "------------------------\n",
      "C 컬럼의 빈도수의 최댓값과 최솟값 \n",
      " 최댓값 : 176 최솟값 : 3 \n",
      "========================\n",
      "D 컬럼의 빈도수 분석 결과\n",
      "  1   2   3   4 \n",
      " 30 178 153  41 \n",
      "------------------------\n",
      "D 컬럼의 빈도수의 최댓값과 최솟값 \n",
      " 최댓값 : 178 최솟값 : 30 \n",
      "========================\n",
      "E 컬럼의 빈도수 분석 결과\n",
      "  1   2   3   4   5 \n",
      "  8  81 107 160  46 \n",
      "------------------------\n",
      "E 컬럼의 빈도수의 최댓값과 최솟값 \n",
      " 최댓값 : 160 최솟값 : 8 \n",
      "========================\n"
     ]
    }
   ],
   "source": [
    "# 각 컬럼의 빈도수 구하기와 각 컬럼의 빈도수의 최댓값,최솟값 구하는 함수 만들기\n",
    "# for문의 범위가 같으니까 하나만 있으면 됨\n",
    "\n",
    "\n",
    "tableMaxMin <- function(x){\n",
    "        for(i in 1:ncol(x)){\n",
    "        cat(colnames(x)[i], \"컬럼의 빈도수 분석 결과\")\n",
    "        print(table(x[i]))\n",
    "        cat(\"------------------------\\n\")\n",
    "        col <- table(x[i])\n",
    "        cat(colnames(x)[i], \"컬럼의 빈도수의 최댓값과 최솟값 \\n\",\"최댓값 :\",max(col),\"최솟값 :\", min(col),\"\\n\")\n",
    "        cat(\"========================\\n\")\n",
    "    }\n",
    "}\n",
    "\n",
    "tableMaxMin(test)"
   ]
  },
  {
   "cell_type": "markdown",
   "id": "e813c57a",
   "metadata": {},
   "source": [
    "---\n",
    "# 결측치 (missing value) 자료 평균 계산\n"
   ]
  },
  {
   "cell_type": "code",
   "execution_count": 49,
   "id": "a17cb939",
   "metadata": {},
   "outputs": [],
   "source": [
    "data <- c(1,2,3,4,5,6,7,8,9,NA,11,12,NA,14,15,NA,17,18,19,NA)"
   ]
  },
  {
   "cell_type": "code",
   "execution_count": 15,
   "id": "055d4189",
   "metadata": {},
   "outputs": [
    {
     "data": {
      "text/html": [
       "&lt;NA&gt;"
      ],
      "text/latex": [
       "<NA>"
      ],
      "text/markdown": [
       "&lt;NA&gt;"
      ],
      "text/plain": [
       "[1] NA"
      ]
     },
     "metadata": {},
     "output_type": "display_data"
    }
   ],
   "source": [
    "# NA가 있으면 mean 이 작동을 안함.\n",
    "mean(data)"
   ]
  },
  {
   "cell_type": "code",
   "execution_count": 20,
   "id": "754ff034",
   "metadata": {},
   "outputs": [
    {
     "data": {
      "text/html": [
       "4"
      ],
      "text/latex": [
       "4"
      ],
      "text/markdown": [
       "4"
      ],
      "text/plain": [
       "[1] 4"
      ]
     },
     "metadata": {},
     "output_type": "display_data"
    },
    {
     "data": {
      "text/plain": [
       "\n",
       "FALSE  TRUE \n",
       "   16     4 "
      ]
     },
     "metadata": {},
     "output_type": "display_data"
    }
   ],
   "source": [
    "# NA 갯수 구하기\n",
    "#data 크기에 따라 사용하는 코드가 같아야 잘 만든 코드임.\n",
    "sum(is.na(data))\n",
    "\n",
    "\n",
    "#또는 똑같은것의 갯수를 구하는것  = 빈도수 구하기 : table\n",
    "#사용하기 좋은!!\n",
    "table(is.na(data))"
   ]
  },
  {
   "cell_type": "code",
   "execution_count": 42,
   "id": "c4e027a4",
   "metadata": {},
   "outputs": [
    {
     "data": {
      "text/html": [
       "9.4375"
      ],
      "text/latex": [
       "9.4375"
      ],
      "text/markdown": [
       "9.4375"
      ],
      "text/plain": [
       "[1] 9.4375"
      ]
     },
     "metadata": {},
     "output_type": "display_data"
    },
    {
     "data": {
      "text/html": [
       "7.55"
      ],
      "text/latex": [
       "7.55"
      ],
      "text/markdown": [
       "7.55"
      ],
      "text/plain": [
       "[1] 7.55"
      ]
     },
     "metadata": {},
     "output_type": "display_data"
    }
   ],
   "source": [
    "# NA를 제외하고 평균 구하기\n",
    "# 결측치를 무조건 제거하면 총계량을 얻을 수 없으며, 데이터의 손실로 문제 발생\n",
    "# NA값에 30%이상이면 그 데이터는 못씀..\n",
    "# 수집 > 저징 > 처리 > 분석 : 지금이 처리과정인데 데이터 버리면 다시 > 수집 앞에 과정이 오래걸림.\n",
    "# 수집 >> 처리 까지는 무조건 사람이 관여함. \n",
    "mean(data, na.rm=T)\n",
    "#class(data)"
   ]
  },
  {
   "cell_type": "code",
   "execution_count": 41,
   "id": "71bb9cc1",
   "metadata": {},
   "outputs": [
    {
     "data": {
      "text/html": [
       "7.55"
      ],
      "text/latex": [
       "7.55"
      ],
      "text/markdown": [
       "7.55"
      ],
      "text/plain": [
       "[1] 7.55"
      ]
     },
     "metadata": {},
     "output_type": "display_data"
    }
   ],
   "source": [
    "# 1) NA 를 0으로 대체해서 평균값 구하기.\n",
    "\n",
    "mean(ifelse(is.na(data), 0, data))\n"
   ]
  },
  {
   "cell_type": "code",
   "execution_count": null,
   "id": "433d3e47",
   "metadata": {},
   "outputs": [],
   "source": []
  },
  {
   "cell_type": "code",
   "execution_count": 58,
   "id": "a22e8a1f",
   "metadata": {},
   "outputs": [
    {
     "data": {
      "text/html": [
       "9.4375"
      ],
      "text/latex": [
       "9.4375"
      ],
      "text/markdown": [
       "9.4375"
      ],
      "text/plain": [
       "[1] 9.4375"
      ]
     },
     "metadata": {},
     "output_type": "display_data"
    }
   ],
   "source": [
    "# 2) NA를 평균으로 대체해서 평균값 구하기.\n",
    "# 아무 의미 없는 데이터.\n",
    "# 평균값으로 들어갔더니 평균값이 나옴.\n",
    "library(stringr)\n",
    "mean(ifelse(is.na(data), mean(data, na.rm=T), data))\n"
   ]
  },
  {
   "cell_type": "code",
   "execution_count": 61,
   "id": "75547d56",
   "metadata": {},
   "outputs": [
    {
     "data": {
      "text/html": [
       "9.25"
      ],
      "text/latex": [
       "9.25"
      ],
      "text/markdown": [
       "9.25"
      ],
      "text/plain": [
       "[1] 9.25"
      ]
     },
     "metadata": {},
     "output_type": "display_data"
    }
   ],
   "source": [
    "# 3) NA를 중앙값 으로 대체해서 평균값 구하기.\n",
    "mean(ifelse(is.na(data), median(data, na.rm=T), data))"
   ]
  },
  {
   "cell_type": "code",
   "execution_count": 59,
   "id": "a06b76ff",
   "metadata": {},
   "outputs": [
    {
     "data": {
      "text/html": [
       "11.35"
      ],
      "text/latex": [
       "11.35"
      ],
      "text/markdown": [
       "11.35"
      ],
      "text/plain": [
       "[1] 11.35"
      ]
     },
     "metadata": {},
     "output_type": "display_data"
    }
   ],
   "source": [
    "# 4) NA를 최댓값으로 대체해서 평균값 구하기.\n",
    "mean(ifelse(is.na(data), max(data, na.rm=T), data))\n"
   ]
  },
  {
   "cell_type": "code",
   "execution_count": 60,
   "id": "33759d2c",
   "metadata": {},
   "outputs": [
    {
     "data": {
      "text/html": [
       "7.75"
      ],
      "text/latex": [
       "7.75"
      ],
      "text/markdown": [
       "7.75"
      ],
      "text/plain": [
       "[1] 7.75"
      ]
     },
     "metadata": {},
     "output_type": "display_data"
    }
   ],
   "source": [
    "# 5) NA를 최소값으로 대체해서 평균값 구하기.\n",
    "mean(ifelse(is.na(data), min(data, na.rm=T), data))"
   ]
  },
  {
   "cell_type": "markdown",
   "id": "a5ae395f",
   "metadata": {},
   "source": [
    "> 결측치를 제외한 평균 :9.4375<br>\n",
    "> 0으로 대체 : 7.55 <br>\n",
    "> 평균값으로 대체 : 9.4375<br> // 데이터가 아님. 평균은 수식?\n",
    "> 중앙값으로 대체 : 9.25<br> ***\n",
    "> 최대값으로 대체 : 11.35<br>\n",
    "> 최소값으로 대체 : 7.75"
   ]
  },
  {
   "cell_type": "code",
   "execution_count": null,
   "id": "5c1225fe",
   "metadata": {},
   "outputs": [],
   "source": []
  },
  {
   "cell_type": "code",
   "execution_count": null,
   "id": "8a4220d1",
   "metadata": {},
   "outputs": [],
   "source": []
  }
 ],
 "metadata": {
  "kernelspec": {
   "display_name": "R",
   "language": "R",
   "name": "ir"
  },
  "language_info": {
   "codemirror_mode": "r",
   "file_extension": ".r",
   "mimetype": "text/x-r-source",
   "name": "R",
   "pygments_lexer": "r",
   "version": "3.6.1"
  }
 },
 "nbformat": 4,
 "nbformat_minor": 5
}
