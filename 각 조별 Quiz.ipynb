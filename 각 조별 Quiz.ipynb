{
 "cells": [
  {
   "cell_type": "code",
   "execution_count": 8,
   "id": "e61e5f87",
   "metadata": {},
   "outputs": [
    {
     "data": {
      "text/html": [
       "<table>\n",
       "<thead><tr><th scope=col>광역시도</th><th scope=col>시군구</th><th scope=col>선거인수</th><th scope=col>투표수</th><th scope=col>이재명</th><th scope=col>윤석열</th><th scope=col>심상정</th></tr></thead>\n",
       "<tbody>\n",
       "\t<tr><td>서울특별시</td><td>종로구    </td><td>129968    </td><td>100629    </td><td> 46130    </td><td> 49172    </td><td>3115      </td></tr>\n",
       "\t<tr><td>서울특별시</td><td>중구      </td><td>111448    </td><td> 84998    </td><td> 38244    </td><td> 42906    </td><td>2310      </td></tr>\n",
       "\t<tr><td>서울특별시</td><td>용산구    </td><td>199077    </td><td>152068    </td><td> 60063    </td><td> 85047    </td><td>4374      </td></tr>\n",
       "\t<tr><td>서울특별시</td><td>성동구    </td><td>252087    </td><td>197240    </td><td> 84411    </td><td>103880    </td><td>5365      </td></tr>\n",
       "\t<tr><td>서울특별시</td><td>광진구    </td><td>303582    </td><td>235471    </td><td>109922    </td><td>113733    </td><td>7072      </td></tr>\n",
       "\t<tr><td>서울특별시</td><td>동대문구  </td><td>300928    </td><td>232106    </td><td>108171    </td><td>112890    </td><td>6416      </td></tr>\n",
       "</tbody>\n",
       "</table>\n"
      ],
      "text/latex": [
       "\\begin{tabular}{r|lllllll}\n",
       " 광역시도 & 시군구 & 선거인수 & 투표수 & 이재명 & 윤석열 & 심상정\\\\\n",
       "\\hline\n",
       "\t 서울특별시 & 종로구     & 129968     & 100629     &  46130     &  49172     & 3115      \\\\\n",
       "\t 서울특별시 & 중구       & 111448     &  84998     &  38244     &  42906     & 2310      \\\\\n",
       "\t 서울특별시 & 용산구     & 199077     & 152068     &  60063     &  85047     & 4374      \\\\\n",
       "\t 서울특별시 & 성동구     & 252087     & 197240     &  84411     & 103880     & 5365      \\\\\n",
       "\t 서울특별시 & 광진구     & 303582     & 235471     & 109922     & 113733     & 7072      \\\\\n",
       "\t 서울특별시 & 동대문구   & 300928     & 232106     & 108171     & 112890     & 6416      \\\\\n",
       "\\end{tabular}\n"
      ],
      "text/markdown": [
       "\n",
       "| 광역시도 | 시군구 | 선거인수 | 투표수 | 이재명 | 윤석열 | 심상정 |\n",
       "|---|---|---|---|---|---|---|\n",
       "| 서울특별시 | 종로구     | 129968     | 100629     |  46130     |  49172     | 3115       |\n",
       "| 서울특별시 | 중구       | 111448     |  84998     |  38244     |  42906     | 2310       |\n",
       "| 서울특별시 | 용산구     | 199077     | 152068     |  60063     |  85047     | 4374       |\n",
       "| 서울특별시 | 성동구     | 252087     | 197240     |  84411     | 103880     | 5365       |\n",
       "| 서울특별시 | 광진구     | 303582     | 235471     | 109922     | 113733     | 7072       |\n",
       "| 서울특별시 | 동대문구   | 300928     | 232106     | 108171     | 112890     | 6416       |\n",
       "\n"
      ],
      "text/plain": [
       "  광역시도   시군구   선거인수 투표수 이재명 윤석열 심상정\n",
       "1 서울특별시 종로구   129968   100629  46130  49172 3115  \n",
       "2 서울특별시 중구     111448    84998  38244  42906 2310  \n",
       "3 서울특별시 용산구   199077   152068  60063  85047 4374  \n",
       "4 서울특별시 성동구   252087   197240  84411 103880 5365  \n",
       "5 서울특별시 광진구   303582   235471 109922 113733 7072  \n",
       "6 서울특별시 동대문구 300928   232106 108171 112890 6416  "
      ]
     },
     "metadata": {},
     "output_type": "display_data"
    }
   ],
   "source": [
    "election <- read.csv(\"Rdata/election_2022.csv\")\n",
    "head(election)"
   ]
  },
  {
   "cell_type": "markdown",
   "id": "30519012",
   "metadata": {},
   "source": [
    "---\n",
    "## 20대 대선 권역별 후보 득표율을 꺽은선 그래프로 표현하시요.\n",
    "\n",
    "수도권:<br>\n",
    "('서울특별시','인천광역시','경기도')<br><br>\n",
    "강원도:<br>\n",
    "'강원도'<br><br>\n",
    "영남:<br>\n",
    "('경상북도','경상남도','대구광역시','부산광역시','울산광역시')<br><br>\n",
    "충청:<br>\n",
    "('충청북도','충청남도','세종특별자치시','대전광역시')<br><br>\n",
    "호남:<br>\n",
    "('전라남도','전라북도','제주특별자치도','광주광역시')<br><br>\n",
    "수도권 <- c('서울특별시','인천광역시','경기도')<br>\n",
    "강원권 <- '강원도'<br>\n",
    "영남권 <- c('경상북도','경상남도','대구광역시','부산광역시','울산광역시')<br>\n",
    "충청권 <- c('충청북도','충청남도','세종특별자치시','대전광역시')<br>\n",
    "호남권 <- c('전라남도','전라북도','제주특별자치도','광주광역시')<br>\n",
    "\n",
    "- 제목 : 20대 대선 권역별 후보 득표율"
   ]
  },
  {
   "cell_type": "markdown",
   "id": "c3fc6daa",
   "metadata": {},
   "source": [
    "# 3조 권역별 후보 득표율"
   ]
  },
  {
   "cell_type": "code",
   "execution_count": 9,
   "id": "b9ef4e61",
   "metadata": {},
   "outputs": [
    {
     "ename": "ERROR",
     "evalue": "Error in arrange(elec1, desc(ratio)): 함수 \"arrange\"를 찾을 수 없습니다\n",
     "output_type": "error",
     "traceback": [
      "Error in arrange(elec1, desc(ratio)): 함수 \"arrange\"를 찾을 수 없습니다\nTraceback:\n"
     ]
    }
   ],
   "source": [
    "par(family=\"AppleGothic\")\n",
    "options(warn = -1)\n",
    "\n",
    "수도권 <-c('서울특별시','인천광역시','경기도')\n",
    "강원권 <-'강원도'\n",
    "영남권 <- c('경상북도','경상남도','대구광역시','부산광역시','울산광역시')\n",
    "충청권 <- c('충청북도','충청남도','세종특별자치시','대전광역시')\n",
    "호남권 <- c('전라남도','전라북도','제주특별자치도','광주광역시')\n",
    "\n",
    "election$지역 <- ifelse(election$광역시도 %in% 수도권,'수도권',\n",
    "               ifelse(election$광역시도 %in% 강원권,'강원권',\n",
    "                     ifelse(election$광역시도 %in% 영남권,'영남권',\n",
    "                           ifelse(election$광역시도 %in% 충청권,'충청권','호남권'))))\n",
    "elec1 <- aggregate(cbind(선거인수,투표수,이재명,윤석열,심상정)~지역,election,sum)\n",
    "elec1$ratio <- round(elec1$투표수/elec1$선거인수*100,2)\n",
    "elec1$이ratio <- round(elec1$이재명/elec1$투표수*100,2)\n",
    "elec1$윤ratio <- round(elec1$윤석열/elec1$투표수*100,2)\n",
    "elec1$심ratio <- round(elec1$심상정/elec1$투표수*100,2)\n",
    "arrange(elec1,desc(ratio))\n",
    "elec2 <- t(arrange(elec1,desc(ratio))[1:5,7:10])\n",
    "colnames(elec2)=c('호남권','영남권','수도권','강원권','충청권')\n",
    "이 <- elec2[2,]\n",
    "윤 <- elec2[3,]\n",
    "심 <- elec2[4,]\n",
    "plot(이,\n",
    "     type =\"b\",\n",
    "     ylim=c(0,100),\n",
    "     axes=F,\n",
    "     ann=F,\n",
    "     col=\"sky blue\",\n",
    "     lty=3\n",
    "    )\n",
    "legend(3,100,\n",
    "      c(\"이재명후보\",\"윤석열후보\",\"심상정후보\"),\n",
    "      col=c(\"sky blue\",\"red\",\"yellow\"),\n",
    "      pch=c(21,3,4),\n",
    "      lty=c(3,5,1)\n",
    "      )\n",
    "title(main=\"20대 대선 권역별 후보 득표율\", col.main=\"blue\")\n",
    "title(xlab=\"권역\", col.lab=\"blue\")\n",
    "title(ylab=\"투표율\", col.lab=\"blue\")\n",
    "axis(1,at=1:5,lab=c('호남권','영남권','수도권','강원권','충청권'))\n",
    "axis(2,ylim=c(0,100))\n",
    "lines(윤,\n",
    "      type=\"o\",\n",
    "      pch=3,\n",
    "      col=\"red\",\n",
    "      lty=5\n",
    "     )\n",
    "lines(심,\n",
    "      type=\"o\",\n",
    "      pch=4,\n",
    "      col=\"yellow\",\n",
    "      lty=1\n",
    "     )"
   ]
  },
  {
   "cell_type": "markdown",
   "id": "0bf26be6",
   "metadata": {},
   "source": [
    "## 75% 이상의 투표율을 보이는 시군구 중 각 광역시도별로  이재명,윤석열 후보가 각각 50%이상의 득표율을 보인 시군구들의 개수를 꺽은선 그래프로 나타내고(파랑,빨강)\n",
    "## 투표율 75%이상인 시군구 개수를 검은 점선으로 나타내세요"
   ]
  },
  {
   "cell_type": "code",
   "execution_count": null,
   "id": "c48959f8",
   "metadata": {},
   "outputs": [],
   "source": [
    "library(plotrix)\n",
    "library(dplyr)"
   ]
  },
  {
   "cell_type": "code",
   "execution_count": null,
   "id": "4db60ea4",
   "metadata": {},
   "outputs": [],
   "source": [
    "election_sum <- \n",
    "aggregate(cbind(선거인수,투표수,이재명,윤석열,심상정) ~ 광역시도, election, sum)\n",
    "election_sum "
   ]
  },
  {
   "cell_type": "code",
   "execution_count": null,
   "id": "37a2676d",
   "metadata": {},
   "outputs": [],
   "source": [
    "election_mean <-\n",
    "election_sum[,4:6] / election_sum[,3] * 100\n",
    "\n",
    "colnames(election_mean) <- c('이재명투표율','윤석열투표율','심상정투표율')\n",
    "election_mean$광역시도 <- election_sum$광역시도"
   ]
  },
  {
   "cell_type": "code",
   "execution_count": null,
   "id": "656dfcf9",
   "metadata": {},
   "outputs": [],
   "source": [
    "arrange(election_mean)"
   ]
  },
  {
   "cell_type": "markdown",
   "id": "ac54292b",
   "metadata": {},
   "source": [
    " # 1조 각시군구별 실제 투표율과 가장 유사한 지역 Top5를 뽑아 오차의 합을 막대 그래프로 그려라\n",
    "- 각 후보별 변동 없음\n",
    "- 각 후보별 오차의 합이 최소인 지역 순서대로\n",
    "- 실제 득표율 : 이재명 47.83, 윤석열 48.56, 심상정 2.37"
   ]
  },
  {
   "cell_type": "code",
   "execution_count": null,
   "id": "1c8ed8c5",
   "metadata": {},
   "outputs": [],
   "source": [
    "head(election)\n",
    "\n",
    "election$이재명오차 <- (election[,5] / election[,4] * 100)-47.83\n",
    "election$윤석열오차 <- (election[,6] / election[,4] * 100)-48.56\n",
    "election$심상정오차 <- (election[,7] / election[,4] * 100)-2.37"
   ]
  },
  {
   "cell_type": "code",
   "execution_count": null,
   "id": "9d663784",
   "metadata": {},
   "outputs": [],
   "source": [
    "head(election[,c(2,9:11)])\n"
   ]
  },
  {
   "cell_type": "code",
   "execution_count": null,
   "id": "0b39e31d",
   "metadata": {},
   "outputs": [],
   "source": [
    "abs()"
   ]
  },
  {
   "cell_type": "code",
   "execution_count": null,
   "id": "962da5cc",
   "metadata": {},
   "outputs": [],
   "source": []
  },
  {
   "cell_type": "code",
   "execution_count": null,
   "id": "6cc0cd94",
   "metadata": {},
   "outputs": [],
   "source": []
  },
  {
   "cell_type": "code",
   "execution_count": null,
   "id": "90c9e5db",
   "metadata": {},
   "outputs": [],
   "source": []
  },
  {
   "cell_type": "code",
   "execution_count": null,
   "id": "47442168",
   "metadata": {},
   "outputs": [],
   "source": []
  },
  {
   "cell_type": "code",
   "execution_count": null,
   "id": "86e7992b",
   "metadata": {},
   "outputs": [],
   "source": []
  },
  {
   "cell_type": "code",
   "execution_count": null,
   "id": "307ef10d",
   "metadata": {},
   "outputs": [],
   "source": []
  },
  {
   "cell_type": "code",
   "execution_count": null,
   "id": "b03ba191",
   "metadata": {},
   "outputs": [],
   "source": []
  }
 ],
 "metadata": {
  "kernelspec": {
   "display_name": "R",
   "language": "R",
   "name": "ir"
  },
  "language_info": {
   "codemirror_mode": "r",
   "file_extension": ".r",
   "mimetype": "text/x-r-source",
   "name": "R",
   "pygments_lexer": "r",
   "version": "3.6.1"
  }
 },
 "nbformat": 4,
 "nbformat_minor": 5
}
