{
 "cells": [
  {
   "cell_type": "code",
   "execution_count": 1,
   "id": "c72023f9",
   "metadata": {},
   "outputs": [
    {
     "data": {
      "text/html": [
       "<table>\n",
       "<thead><tr><th scope=col>V1</th><th scope=col>V2</th><th scope=col>V3</th><th scope=col>V4</th><th scope=col>V5</th><th scope=col>V6</th><th scope=col>V7</th><th scope=col>V8</th><th scope=col>V9</th><th scope=col>V10</th><th scope=col>...</th><th scope=col>V14</th><th scope=col>V15</th><th scope=col>V16</th><th scope=col>V17</th><th scope=col>V18</th><th scope=col>V19</th><th scope=col>V20</th><th scope=col>V21</th><th scope=col>V22</th><th scope=col>V23</th></tr></thead>\n",
       "<tbody>\n",
       "\t<tr><td>p  </td><td>x  </td><td>s  </td><td>n  </td><td>t  </td><td>p  </td><td>f  </td><td>c  </td><td>n  </td><td>k  </td><td>...</td><td>s  </td><td>w  </td><td>w  </td><td>p  </td><td>w  </td><td>o  </td><td>p  </td><td>k  </td><td>s  </td><td>u  </td></tr>\n",
       "\t<tr><td>e  </td><td>x  </td><td>s  </td><td>y  </td><td>t  </td><td>a  </td><td>f  </td><td>c  </td><td>b  </td><td>k  </td><td>...</td><td>s  </td><td>w  </td><td>w  </td><td>p  </td><td>w  </td><td>o  </td><td>p  </td><td>n  </td><td>n  </td><td>g  </td></tr>\n",
       "\t<tr><td>e  </td><td>b  </td><td>s  </td><td>w  </td><td>t  </td><td>l  </td><td>f  </td><td>c  </td><td>b  </td><td>n  </td><td>...</td><td>s  </td><td>w  </td><td>w  </td><td>p  </td><td>w  </td><td>o  </td><td>p  </td><td>n  </td><td>n  </td><td>m  </td></tr>\n",
       "\t<tr><td>p  </td><td>x  </td><td>y  </td><td>w  </td><td>t  </td><td>p  </td><td>f  </td><td>c  </td><td>n  </td><td>n  </td><td>...</td><td>s  </td><td>w  </td><td>w  </td><td>p  </td><td>w  </td><td>o  </td><td>p  </td><td>k  </td><td>s  </td><td>u  </td></tr>\n",
       "\t<tr><td>e  </td><td>x  </td><td>s  </td><td>g  </td><td>f  </td><td>n  </td><td>f  </td><td>w  </td><td>b  </td><td>k  </td><td>...</td><td>s  </td><td>w  </td><td>w  </td><td>p  </td><td>w  </td><td>o  </td><td>e  </td><td>n  </td><td>a  </td><td>g  </td></tr>\n",
       "\t<tr><td>e  </td><td>x  </td><td>y  </td><td>y  </td><td>t  </td><td>a  </td><td>f  </td><td>c  </td><td>b  </td><td>n  </td><td>...</td><td>s  </td><td>w  </td><td>w  </td><td>p  </td><td>w  </td><td>o  </td><td>p  </td><td>k  </td><td>n  </td><td>g  </td></tr>\n",
       "</tbody>\n",
       "</table>\n"
      ],
      "text/latex": [
       "\\begin{tabular}{r|lllllllllllllllllllllll}\n",
       " V1 & V2 & V3 & V4 & V5 & V6 & V7 & V8 & V9 & V10 & ... & V14 & V15 & V16 & V17 & V18 & V19 & V20 & V21 & V22 & V23\\\\\n",
       "\\hline\n",
       "\t p   & x   & s   & n   & t   & p   & f   & c   & n   & k   & ... & s   & w   & w   & p   & w   & o   & p   & k   & s   & u  \\\\\n",
       "\t e   & x   & s   & y   & t   & a   & f   & c   & b   & k   & ... & s   & w   & w   & p   & w   & o   & p   & n   & n   & g  \\\\\n",
       "\t e   & b   & s   & w   & t   & l   & f   & c   & b   & n   & ... & s   & w   & w   & p   & w   & o   & p   & n   & n   & m  \\\\\n",
       "\t p   & x   & y   & w   & t   & p   & f   & c   & n   & n   & ... & s   & w   & w   & p   & w   & o   & p   & k   & s   & u  \\\\\n",
       "\t e   & x   & s   & g   & f   & n   & f   & w   & b   & k   & ... & s   & w   & w   & p   & w   & o   & e   & n   & a   & g  \\\\\n",
       "\t e   & x   & y   & y   & t   & a   & f   & c   & b   & n   & ... & s   & w   & w   & p   & w   & o   & p   & k   & n   & g  \\\\\n",
       "\\end{tabular}\n"
      ],
      "text/markdown": [
       "\n",
       "| V1 | V2 | V3 | V4 | V5 | V6 | V7 | V8 | V9 | V10 | ... | V14 | V15 | V16 | V17 | V18 | V19 | V20 | V21 | V22 | V23 |\n",
       "|---|---|---|---|---|---|---|---|---|---|---|---|---|---|---|---|---|---|---|---|---|\n",
       "| p   | x   | s   | n   | t   | p   | f   | c   | n   | k   | ... | s   | w   | w   | p   | w   | o   | p   | k   | s   | u   |\n",
       "| e   | x   | s   | y   | t   | a   | f   | c   | b   | k   | ... | s   | w   | w   | p   | w   | o   | p   | n   | n   | g   |\n",
       "| e   | b   | s   | w   | t   | l   | f   | c   | b   | n   | ... | s   | w   | w   | p   | w   | o   | p   | n   | n   | m   |\n",
       "| p   | x   | y   | w   | t   | p   | f   | c   | n   | n   | ... | s   | w   | w   | p   | w   | o   | p   | k   | s   | u   |\n",
       "| e   | x   | s   | g   | f   | n   | f   | w   | b   | k   | ... | s   | w   | w   | p   | w   | o   | e   | n   | a   | g   |\n",
       "| e   | x   | y   | y   | t   | a   | f   | c   | b   | n   | ... | s   | w   | w   | p   | w   | o   | p   | k   | n   | g   |\n",
       "\n"
      ],
      "text/plain": [
       "  V1 V2 V3 V4 V5 V6 V7 V8 V9 V10 ... V14 V15 V16 V17 V18 V19 V20 V21 V22 V23\n",
       "1 p  x  s  n  t  p  f  c  n  k   ... s   w   w   p   w   o   p   k   s   u  \n",
       "2 e  x  s  y  t  a  f  c  b  k   ... s   w   w   p   w   o   p   n   n   g  \n",
       "3 e  b  s  w  t  l  f  c  b  n   ... s   w   w   p   w   o   p   n   n   m  \n",
       "4 p  x  y  w  t  p  f  c  n  n   ... s   w   w   p   w   o   p   k   s   u  \n",
       "5 e  x  s  g  f  n  f  w  b  k   ... s   w   w   p   w   o   e   n   a   g  \n",
       "6 e  x  y  y  t  a  f  c  b  n   ... s   w   w   p   w   o   p   k   n   g  "
      ]
     },
     "metadata": {},
     "output_type": "display_data"
    }
   ],
   "source": [
    "mr <- read.csv(\"Rdata/mushroom.csv\", header = F)\n",
    "head(mr)"
   ]
  },
  {
   "cell_type": "code",
   "execution_count": 2,
   "id": "d11412f1",
   "metadata": {},
   "outputs": [
    {
     "data": {
      "text/html": [
       "<table>\n",
       "<thead><tr><th scope=col>V1</th><th scope=col>V2</th><th scope=col>V3</th><th scope=col>V4</th><th scope=col>V5</th><th scope=col>V6</th><th scope=col>V7</th><th scope=col>V8</th><th scope=col>V9</th><th scope=col>V10</th><th scope=col>...</th><th scope=col>V14</th><th scope=col>V15</th><th scope=col>V16</th><th scope=col>V17</th><th scope=col>V18</th><th scope=col>V19</th><th scope=col>V20</th><th scope=col>V21</th><th scope=col>V22</th><th scope=col>V23</th></tr></thead>\n",
       "<tbody>\n",
       "\t<tr><td>p  </td><td>6  </td><td>3  </td><td> 5 </td><td>2  </td><td>7  </td><td>2  </td><td>1  </td><td>2  </td><td>5  </td><td>...</td><td>3  </td><td>8  </td><td>8  </td><td>1  </td><td>3  </td><td>2  </td><td>5  </td><td>3  </td><td>4  </td><td>6  </td></tr>\n",
       "\t<tr><td>e  </td><td>6  </td><td>3  </td><td>10 </td><td>2  </td><td>1  </td><td>2  </td><td>1  </td><td>1  </td><td>5  </td><td>...</td><td>3  </td><td>8  </td><td>8  </td><td>1  </td><td>3  </td><td>2  </td><td>5  </td><td>4  </td><td>3  </td><td>2  </td></tr>\n",
       "\t<tr><td>e  </td><td>1  </td><td>3  </td><td> 9 </td><td>2  </td><td>4  </td><td>2  </td><td>1  </td><td>1  </td><td>6  </td><td>...</td><td>3  </td><td>8  </td><td>8  </td><td>1  </td><td>3  </td><td>2  </td><td>5  </td><td>4  </td><td>3  </td><td>4  </td></tr>\n",
       "\t<tr><td>p  </td><td>6  </td><td>4  </td><td> 9 </td><td>2  </td><td>7  </td><td>2  </td><td>1  </td><td>2  </td><td>6  </td><td>...</td><td>3  </td><td>8  </td><td>8  </td><td>1  </td><td>3  </td><td>2  </td><td>5  </td><td>3  </td><td>4  </td><td>6  </td></tr>\n",
       "\t<tr><td>e  </td><td>6  </td><td>3  </td><td> 4 </td><td>1  </td><td>6  </td><td>2  </td><td>2  </td><td>1  </td><td>5  </td><td>...</td><td>3  </td><td>8  </td><td>8  </td><td>1  </td><td>3  </td><td>2  </td><td>1  </td><td>4  </td><td>1  </td><td>2  </td></tr>\n",
       "\t<tr><td>e  </td><td>6  </td><td>4  </td><td>10 </td><td>2  </td><td>1  </td><td>2  </td><td>1  </td><td>1  </td><td>6  </td><td>...</td><td>3  </td><td>8  </td><td>8  </td><td>1  </td><td>3  </td><td>2  </td><td>5  </td><td>3  </td><td>3  </td><td>2  </td></tr>\n",
       "</tbody>\n",
       "</table>\n"
      ],
      "text/latex": [
       "\\begin{tabular}{r|lllllllllllllllllllllll}\n",
       " V1 & V2 & V3 & V4 & V5 & V6 & V7 & V8 & V9 & V10 & ... & V14 & V15 & V16 & V17 & V18 & V19 & V20 & V21 & V22 & V23\\\\\n",
       "\\hline\n",
       "\t p   & 6   & 3   &  5  & 2   & 7   & 2   & 1   & 2   & 5   & ... & 3   & 8   & 8   & 1   & 3   & 2   & 5   & 3   & 4   & 6  \\\\\n",
       "\t e   & 6   & 3   & 10  & 2   & 1   & 2   & 1   & 1   & 5   & ... & 3   & 8   & 8   & 1   & 3   & 2   & 5   & 4   & 3   & 2  \\\\\n",
       "\t e   & 1   & 3   &  9  & 2   & 4   & 2   & 1   & 1   & 6   & ... & 3   & 8   & 8   & 1   & 3   & 2   & 5   & 4   & 3   & 4  \\\\\n",
       "\t p   & 6   & 4   &  9  & 2   & 7   & 2   & 1   & 2   & 6   & ... & 3   & 8   & 8   & 1   & 3   & 2   & 5   & 3   & 4   & 6  \\\\\n",
       "\t e   & 6   & 3   &  4  & 1   & 6   & 2   & 2   & 1   & 5   & ... & 3   & 8   & 8   & 1   & 3   & 2   & 1   & 4   & 1   & 2  \\\\\n",
       "\t e   & 6   & 4   & 10  & 2   & 1   & 2   & 1   & 1   & 6   & ... & 3   & 8   & 8   & 1   & 3   & 2   & 5   & 3   & 3   & 2  \\\\\n",
       "\\end{tabular}\n"
      ],
      "text/markdown": [
       "\n",
       "| V1 | V2 | V3 | V4 | V5 | V6 | V7 | V8 | V9 | V10 | ... | V14 | V15 | V16 | V17 | V18 | V19 | V20 | V21 | V22 | V23 |\n",
       "|---|---|---|---|---|---|---|---|---|---|---|---|---|---|---|---|---|---|---|---|---|\n",
       "| p   | 6   | 3   |  5  | 2   | 7   | 2   | 1   | 2   | 5   | ... | 3   | 8   | 8   | 1   | 3   | 2   | 5   | 3   | 4   | 6   |\n",
       "| e   | 6   | 3   | 10  | 2   | 1   | 2   | 1   | 1   | 5   | ... | 3   | 8   | 8   | 1   | 3   | 2   | 5   | 4   | 3   | 2   |\n",
       "| e   | 1   | 3   |  9  | 2   | 4   | 2   | 1   | 1   | 6   | ... | 3   | 8   | 8   | 1   | 3   | 2   | 5   | 4   | 3   | 4   |\n",
       "| p   | 6   | 4   |  9  | 2   | 7   | 2   | 1   | 2   | 6   | ... | 3   | 8   | 8   | 1   | 3   | 2   | 5   | 3   | 4   | 6   |\n",
       "| e   | 6   | 3   |  4  | 1   | 6   | 2   | 2   | 1   | 5   | ... | 3   | 8   | 8   | 1   | 3   | 2   | 1   | 4   | 1   | 2   |\n",
       "| e   | 6   | 4   | 10  | 2   | 1   | 2   | 1   | 1   | 6   | ... | 3   | 8   | 8   | 1   | 3   | 2   | 5   | 3   | 3   | 2   |\n",
       "\n"
      ],
      "text/plain": [
       "  V1 V2 V3 V4 V5 V6 V7 V8 V9 V10 ... V14 V15 V16 V17 V18 V19 V20 V21 V22 V23\n",
       "1 p  6  3   5 2  7  2  1  2  5   ... 3   8   8   1   3   2   5   3   4   6  \n",
       "2 e  6  3  10 2  1  2  1  1  5   ... 3   8   8   1   3   2   5   4   3   2  \n",
       "3 e  1  3   9 2  4  2  1  1  6   ... 3   8   8   1   3   2   5   4   3   4  \n",
       "4 p  6  4   9 2  7  2  1  2  6   ... 3   8   8   1   3   2   5   3   4   6  \n",
       "5 e  6  3   4 1  6  2  2  1  5   ... 3   8   8   1   3   2   1   4   1   2  \n",
       "6 e  6  4  10 2  1  2  1  1  6   ... 3   8   8   1   3   2   5   3   3   2  "
      ]
     },
     "metadata": {},
     "output_type": "display_data"
    }
   ],
   "source": [
    "#문자를 숫자로 변환\n",
    "\n",
    "for(i in 2:23){\n",
    "    mr[,i] <- as.numeric(mr[,i])# $는 for문을 못쓰니까\n",
    "}\n",
    "head(mr)"
   ]
  },
  {
   "cell_type": "markdown",
   "id": "0392fb58",
   "metadata": {},
   "source": [
    "숫자가 크기로 바뀌었다."
   ]
  },
  {
   "cell_type": "code",
   "execution_count": 3,
   "id": "ad9fae45",
   "metadata": {},
   "outputs": [
    {
     "data": {
      "text/html": [
       "<ol class=list-inline>\n",
       "\t<li>6</li>\n",
       "\t<li>1</li>\n",
       "\t<li>5</li>\n",
       "\t<li>3</li>\n",
       "\t<li>4</li>\n",
       "\t<li>2</li>\n",
       "</ol>\n"
      ],
      "text/latex": [
       "\\begin{enumerate*}\n",
       "\\item 6\n",
       "\\item 1\n",
       "\\item 5\n",
       "\\item 3\n",
       "\\item 4\n",
       "\\item 2\n",
       "\\end{enumerate*}\n"
      ],
      "text/markdown": [
       "1. 6\n",
       "2. 1\n",
       "3. 5\n",
       "4. 3\n",
       "5. 4\n",
       "6. 2\n",
       "\n",
       "\n"
      ],
      "text/plain": [
       "[1] 6 1 5 3 4 2"
      ]
     },
     "metadata": {},
     "output_type": "display_data"
    }
   ],
   "source": [
    "unique(mr$V2)"
   ]
  },
  {
   "cell_type": "markdown",
   "id": "25c73a81",
   "metadata": {},
   "source": [
    "각 컬럼별 Data확인"
   ]
  },
  {
   "cell_type": "code",
   "execution_count": 4,
   "id": "2e7d542a",
   "metadata": {},
   "outputs": [
    {
     "data": {
      "text/plain": [
       "\n",
       "   1    2    3    4    5    6 \n",
       " 452    4 3152  828   32 3656 "
      ]
     },
     "metadata": {},
     "output_type": "display_data"
    }
   ],
   "source": [
    "table(mr$V2)"
   ]
  },
  {
   "cell_type": "markdown",
   "id": "ebcba837",
   "metadata": {},
   "source": [
    "이번엔 한꺼번에 확인하자! for문 사용"
   ]
  },
  {
   "cell_type": "code",
   "execution_count": 5,
   "id": "d5a40c88",
   "metadata": {},
   "outputs": [
    {
     "name": "stdout",
     "output_type": "stream",
     "text": [
      "Column Names V2\n",
      "   1    2    3    4    5    6 \n",
      " 452    4 3152  828   32 3656 \n",
      "------------------------\n",
      "Column Names V3\n",
      "   1    2    3    4 \n",
      "2320    4 2556 3244 \n",
      "------------------------\n",
      "Column Names V4\n",
      "   1    2    3    4    5    6    7    8    9   10 \n",
      " 168   44 1500 1840 2284  144   16   16 1040 1072 \n",
      "------------------------\n",
      "Column Names V5\n",
      "   1    2 \n",
      "4748 3376 \n",
      "------------------------\n",
      "Column Names V6\n",
      "   1    2    3    4    5    6    7    8    9 \n",
      " 400  192 2160  400   36 3528  256  576  576 \n",
      "------------------------\n",
      "Column Names V7\n",
      "   1    2 \n",
      " 210 7914 \n",
      "------------------------\n",
      "Column Names V8\n",
      "   1    2 \n",
      "6812 1312 \n",
      "------------------------\n",
      "Column Names V9\n",
      "   1    2 \n",
      "5612 2512 \n",
      "------------------------\n",
      "Column Names V10\n",
      "   1    2    3    4    5    6    7    8    9   10   11   12 \n",
      "1728   96  752  732  408 1048   64 1492   24  492 1202   86 \n",
      "------------------------\n",
      "Column Names V11\n",
      "   1    2 \n",
      "3516 4608 \n",
      "------------------------\n",
      "Column Names V12\n",
      "   1    2    3    4    5 \n",
      "2480 3776  556 1120  192 \n",
      "------------------------\n",
      "Column Names V13\n",
      "   1    2    3    4 \n",
      " 552 2372 5176   24 \n",
      "------------------------\n",
      "Column Names V14\n",
      "   1    2    3    4 \n",
      " 600 2304 4936  284 \n",
      "------------------------\n",
      "Column Names V15\n",
      "   1    2    3    4    5    6    7    8    9 \n",
      " 432   36   96  576  448  192 1872 4464    8 \n",
      "------------------------\n",
      "Column Names V16\n",
      "   1    2    3    4    5    6    7    8    9 \n",
      " 432   36   96  576  512  192 1872 4384   24 \n",
      "------------------------\n",
      "Column Names V17\n",
      "   1 \n",
      "8124 \n",
      "------------------------\n",
      "Column Names V18\n",
      "   1    2    3    4 \n",
      "  96   96 7924    8 \n",
      "------------------------\n",
      "Column Names V19\n",
      "   1    2    3 \n",
      "  36 7488  600 \n",
      "------------------------\n",
      "Column Names V20\n",
      "   1    2    3    4    5 \n",
      "2776   48 1296   36 3968 \n",
      "------------------------\n",
      "Column Names V21\n",
      "   1    2    3    4    5    6    7    8    9 \n",
      "  48 1632 1872 1968   48   72   48 2388   48 \n",
      "------------------------\n",
      "Column Names V22\n",
      "   1    2    3    4    5    6 \n",
      " 384  340  400 1248 4040 1712 \n",
      "------------------------\n",
      "Column Names V23\n",
      "   1    2    3    4    5    6    7 \n",
      "3148 2148  832  292 1144  368  192 \n",
      "------------------------\n"
     ]
    }
   ],
   "source": [
    "for(i in 2:23){\n",
    "    cat(\"Column Names\",colnames(mr)[i])\n",
    "    print(table(mr[,i]))\n",
    "    cat(\"------------------------\\n\")\n",
    "}"
   ]
  },
  {
   "cell_type": "markdown",
   "id": "04a8b34f",
   "metadata": {},
   "source": [
    "추가되는 컬럼갯수가 몇개나 되는거지?"
   ]
  },
  {
   "cell_type": "code",
   "execution_count": 6,
   "id": "880b228d",
   "metadata": {},
   "outputs": [
    {
     "data": {
      "text/html": [
       "<ol class=list-inline>\n",
       "\t<li>6</li>\n",
       "\t<li>4</li>\n",
       "\t<li>10</li>\n",
       "\t<li>2</li>\n",
       "\t<li>9</li>\n",
       "\t<li>2</li>\n",
       "\t<li>2</li>\n",
       "\t<li>2</li>\n",
       "\t<li>12</li>\n",
       "\t<li>2</li>\n",
       "\t<li>5</li>\n",
       "\t<li>4</li>\n",
       "\t<li>4</li>\n",
       "\t<li>9</li>\n",
       "\t<li>9</li>\n",
       "\t<li>1</li>\n",
       "\t<li>4</li>\n",
       "\t<li>3</li>\n",
       "\t<li>5</li>\n",
       "\t<li>9</li>\n",
       "\t<li>6</li>\n",
       "\t<li>7</li>\n",
       "</ol>\n"
      ],
      "text/latex": [
       "\\begin{enumerate*}\n",
       "\\item 6\n",
       "\\item 4\n",
       "\\item 10\n",
       "\\item 2\n",
       "\\item 9\n",
       "\\item 2\n",
       "\\item 2\n",
       "\\item 2\n",
       "\\item 12\n",
       "\\item 2\n",
       "\\item 5\n",
       "\\item 4\n",
       "\\item 4\n",
       "\\item 9\n",
       "\\item 9\n",
       "\\item 1\n",
       "\\item 4\n",
       "\\item 3\n",
       "\\item 5\n",
       "\\item 9\n",
       "\\item 6\n",
       "\\item 7\n",
       "\\end{enumerate*}\n"
      ],
      "text/markdown": [
       "1. 6\n",
       "2. 4\n",
       "3. 10\n",
       "4. 2\n",
       "5. 9\n",
       "6. 2\n",
       "7. 2\n",
       "8. 2\n",
       "9. 12\n",
       "10. 2\n",
       "11. 5\n",
       "12. 4\n",
       "13. 4\n",
       "14. 9\n",
       "15. 9\n",
       "16. 1\n",
       "17. 4\n",
       "18. 3\n",
       "19. 5\n",
       "20. 9\n",
       "21. 6\n",
       "22. 7\n",
       "\n",
       "\n"
      ],
      "text/plain": [
       " [1]  6  4 10  2  9  2  2  2 12  2  5  4  4  9  9  1  4  3  5  9  6  7"
      ]
     },
     "metadata": {},
     "output_type": "display_data"
    },
    {
     "data": {
      "text/html": [
       "117"
      ],
      "text/latex": [
       "117"
      ],
      "text/markdown": [
       "117"
      ],
      "text/plain": [
       "[1] 117"
      ]
     },
     "metadata": {},
     "output_type": "display_data"
    }
   ],
   "source": [
    "#작업수행후의 컬럼 갯수 파악\n",
    "num <- c()\n",
    "for(i in 2:23){\n",
    "     num = append(num,length(unique(mr[,i])))\n",
    "\n",
    "}\n",
    "\n",
    "num\n",
    "sum(num)"
   ]
  },
  {
   "cell_type": "markdown",
   "id": "cdf8e9d9",
   "metadata": {},
   "source": [
    "117개의 컬럼을 추가해야함"
   ]
  },
  {
   "cell_type": "code",
   "execution_count": 7,
   "id": "111487bc",
   "metadata": {},
   "outputs": [
    {
     "data": {
      "text/html": [
       "<table>\n",
       "<thead><tr><th scope=col>V1</th></tr></thead>\n",
       "<tbody>\n",
       "\t<tr><td>p</td></tr>\n",
       "\t<tr><td>e</td></tr>\n",
       "\t<tr><td>e</td></tr>\n",
       "\t<tr><td>p</td></tr>\n",
       "\t<tr><td>e</td></tr>\n",
       "\t<tr><td>e</td></tr>\n",
       "</tbody>\n",
       "</table>\n"
      ],
      "text/latex": [
       "\\begin{tabular}{r|l}\n",
       " V1\\\\\n",
       "\\hline\n",
       "\t p\\\\\n",
       "\t e\\\\\n",
       "\t e\\\\\n",
       "\t p\\\\\n",
       "\t e\\\\\n",
       "\t e\\\\\n",
       "\\end{tabular}\n"
      ],
      "text/markdown": [
       "\n",
       "| V1 |\n",
       "|---|\n",
       "| p |\n",
       "| e |\n",
       "| e |\n",
       "| p |\n",
       "| e |\n",
       "| e |\n",
       "\n"
      ],
      "text/plain": [
       "  V1\n",
       "1 p \n",
       "2 e \n",
       "3 e \n",
       "4 p \n",
       "5 e \n",
       "6 e "
      ]
     },
     "metadata": {},
     "output_type": "display_data"
    }
   ],
   "source": [
    "# 별도의 DataFrame 생성\n",
    "# 일단은 하나씩\n",
    "\n",
    "mr2 <- data.frame(V1 = mr$V1)\n",
    "head(mr2)"
   ]
  },
  {
   "cell_type": "code",
   "execution_count": 8,
   "id": "f7329058",
   "metadata": {},
   "outputs": [
    {
     "data": {
      "text/html": [
       "<ol class=list-inline>\n",
       "\t<li>1</li>\n",
       "\t<li>2</li>\n",
       "\t<li>3</li>\n",
       "\t<li>4</li>\n",
       "\t<li>5</li>\n",
       "\t<li>6</li>\n",
       "</ol>\n"
      ],
      "text/latex": [
       "\\begin{enumerate*}\n",
       "\\item 1\n",
       "\\item 2\n",
       "\\item 3\n",
       "\\item 4\n",
       "\\item 5\n",
       "\\item 6\n",
       "\\end{enumerate*}\n"
      ],
      "text/markdown": [
       "1. 1\n",
       "2. 2\n",
       "3. 3\n",
       "4. 4\n",
       "5. 5\n",
       "6. 6\n",
       "\n",
       "\n"
      ],
      "text/plain": [
       "[1] 1 2 3 4 5 6"
      ]
     },
     "metadata": {},
     "output_type": "display_data"
    }
   ],
   "source": [
    "# 일단 정럴해서 보자\n",
    "sort(unique(mr$V2))"
   ]
  },
  {
   "cell_type": "markdown",
   "id": "caa562d5",
   "metadata": {},
   "source": [
    "for문 사용하기"
   ]
  },
  {
   "cell_type": "code",
   "execution_count": 9,
   "id": "8fca87b5",
   "metadata": {},
   "outputs": [
    {
     "data": {
      "text/html": [
       "<table>\n",
       "<thead><tr><th scope=col>V1</th><th scope=col>mr[, i] == j</th><th scope=col>mr[, i] == j.1</th><th scope=col>mr[, i] == j.2</th><th scope=col>mr[, i] == j.3</th><th scope=col>mr[, i] == j.4</th><th scope=col>mr[, i] == j.5</th><th scope=col>mr[, i] == j.6</th><th scope=col>mr[, i] == j.7</th><th scope=col>mr[, i] == j.8</th><th scope=col>...</th><th scope=col>mr[, i] == j</th><th scope=col>mr[, i] == j.1</th><th scope=col>mr[, i] == j.2</th><th scope=col>mr[, i] == j.3</th><th scope=col>mr[, i] == j.4</th><th scope=col>mr[, i] == j.5</th><th scope=col>mr[, i] == j.6</th><th scope=col>mr[, i] == j.7</th><th scope=col>mr[, i] == j.8</th><th scope=col>mr[, i] == j.9</th></tr></thead>\n",
       "<tbody>\n",
       "\t<tr><td>p    </td><td>FALSE</td><td>FALSE</td><td>FALSE</td><td>FALSE</td><td>FALSE</td><td> TRUE</td><td>FALSE</td><td>FALSE</td><td> TRUE</td><td>...  </td><td> TRUE</td><td>FALSE</td><td>FALSE</td><td>FALSE</td><td>FALSE</td><td>FALSE</td><td>FALSE</td><td>FALSE</td><td> TRUE</td><td>FALSE</td></tr>\n",
       "\t<tr><td>e    </td><td>FALSE</td><td>FALSE</td><td>FALSE</td><td>FALSE</td><td>FALSE</td><td> TRUE</td><td>FALSE</td><td>FALSE</td><td> TRUE</td><td>...  </td><td>FALSE</td><td>FALSE</td><td>FALSE</td><td>FALSE</td><td> TRUE</td><td>FALSE</td><td>FALSE</td><td>FALSE</td><td>FALSE</td><td>FALSE</td></tr>\n",
       "\t<tr><td>e    </td><td> TRUE</td><td>FALSE</td><td>FALSE</td><td>FALSE</td><td>FALSE</td><td>FALSE</td><td>FALSE</td><td>FALSE</td><td> TRUE</td><td>...  </td><td>FALSE</td><td>FALSE</td><td>FALSE</td><td>FALSE</td><td>FALSE</td><td>FALSE</td><td> TRUE</td><td>FALSE</td><td>FALSE</td><td>FALSE</td></tr>\n",
       "\t<tr><td>p    </td><td>FALSE</td><td>FALSE</td><td>FALSE</td><td>FALSE</td><td>FALSE</td><td> TRUE</td><td>FALSE</td><td>FALSE</td><td>FALSE</td><td>...  </td><td> TRUE</td><td>FALSE</td><td>FALSE</td><td>FALSE</td><td>FALSE</td><td>FALSE</td><td>FALSE</td><td>FALSE</td><td> TRUE</td><td>FALSE</td></tr>\n",
       "\t<tr><td>e    </td><td>FALSE</td><td>FALSE</td><td>FALSE</td><td>FALSE</td><td>FALSE</td><td> TRUE</td><td>FALSE</td><td>FALSE</td><td> TRUE</td><td>...  </td><td>FALSE</td><td>FALSE</td><td>FALSE</td><td>FALSE</td><td> TRUE</td><td>FALSE</td><td>FALSE</td><td>FALSE</td><td>FALSE</td><td>FALSE</td></tr>\n",
       "\t<tr><td>e    </td><td>FALSE</td><td>FALSE</td><td>FALSE</td><td>FALSE</td><td>FALSE</td><td> TRUE</td><td>FALSE</td><td>FALSE</td><td>FALSE</td><td>...  </td><td>FALSE</td><td>FALSE</td><td>FALSE</td><td>FALSE</td><td> TRUE</td><td>FALSE</td><td>FALSE</td><td>FALSE</td><td>FALSE</td><td>FALSE</td></tr>\n",
       "\t<tr><td>e    </td><td> TRUE</td><td>FALSE</td><td>FALSE</td><td>FALSE</td><td>FALSE</td><td>FALSE</td><td>FALSE</td><td>FALSE</td><td> TRUE</td><td>...  </td><td>FALSE</td><td>FALSE</td><td>FALSE</td><td>FALSE</td><td>FALSE</td><td>FALSE</td><td> TRUE</td><td>FALSE</td><td>FALSE</td><td>FALSE</td></tr>\n",
       "\t<tr><td>e    </td><td> TRUE</td><td>FALSE</td><td>FALSE</td><td>FALSE</td><td>FALSE</td><td>FALSE</td><td>FALSE</td><td>FALSE</td><td>FALSE</td><td>...  </td><td> TRUE</td><td>FALSE</td><td>FALSE</td><td>FALSE</td><td>FALSE</td><td>FALSE</td><td> TRUE</td><td>FALSE</td><td>FALSE</td><td>FALSE</td></tr>\n",
       "\t<tr><td>p    </td><td>FALSE</td><td>FALSE</td><td>FALSE</td><td>FALSE</td><td>FALSE</td><td> TRUE</td><td>FALSE</td><td>FALSE</td><td>FALSE</td><td>...  </td><td>FALSE</td><td> TRUE</td><td>FALSE</td><td>FALSE</td><td> TRUE</td><td>FALSE</td><td>FALSE</td><td>FALSE</td><td>FALSE</td><td>FALSE</td></tr>\n",
       "\t<tr><td>e    </td><td> TRUE</td><td>FALSE</td><td>FALSE</td><td>FALSE</td><td>FALSE</td><td>FALSE</td><td>FALSE</td><td>FALSE</td><td> TRUE</td><td>...  </td><td> TRUE</td><td>FALSE</td><td>FALSE</td><td>FALSE</td><td>FALSE</td><td>FALSE</td><td> TRUE</td><td>FALSE</td><td>FALSE</td><td>FALSE</td></tr>\n",
       "\t<tr><td>e    </td><td>FALSE</td><td>FALSE</td><td>FALSE</td><td>FALSE</td><td>FALSE</td><td> TRUE</td><td>FALSE</td><td>FALSE</td><td>FALSE</td><td>...  </td><td>FALSE</td><td>FALSE</td><td>FALSE</td><td>FALSE</td><td> TRUE</td><td>FALSE</td><td>FALSE</td><td>FALSE</td><td>FALSE</td><td>FALSE</td></tr>\n",
       "\t<tr><td>e    </td><td>FALSE</td><td>FALSE</td><td>FALSE</td><td>FALSE</td><td>FALSE</td><td> TRUE</td><td>FALSE</td><td>FALSE</td><td>FALSE</td><td>...  </td><td> TRUE</td><td>FALSE</td><td>FALSE</td><td>FALSE</td><td>FALSE</td><td>FALSE</td><td> TRUE</td><td>FALSE</td><td>FALSE</td><td>FALSE</td></tr>\n",
       "\t<tr><td>e    </td><td> TRUE</td><td>FALSE</td><td>FALSE</td><td>FALSE</td><td>FALSE</td><td>FALSE</td><td>FALSE</td><td>FALSE</td><td> TRUE</td><td>...  </td><td> TRUE</td><td>FALSE</td><td>FALSE</td><td>FALSE</td><td> TRUE</td><td>FALSE</td><td>FALSE</td><td>FALSE</td><td>FALSE</td><td>FALSE</td></tr>\n",
       "\t<tr><td>p    </td><td>FALSE</td><td>FALSE</td><td>FALSE</td><td>FALSE</td><td>FALSE</td><td> TRUE</td><td>FALSE</td><td>FALSE</td><td>FALSE</td><td>...  </td><td>FALSE</td><td> TRUE</td><td>FALSE</td><td>FALSE</td><td>FALSE</td><td>FALSE</td><td>FALSE</td><td>FALSE</td><td> TRUE</td><td>FALSE</td></tr>\n",
       "\t<tr><td>e    </td><td>FALSE</td><td>FALSE</td><td>FALSE</td><td>FALSE</td><td>FALSE</td><td> TRUE</td><td> TRUE</td><td>FALSE</td><td>FALSE</td><td>...  </td><td>FALSE</td><td>FALSE</td><td>FALSE</td><td>FALSE</td><td> TRUE</td><td>FALSE</td><td>FALSE</td><td>FALSE</td><td>FALSE</td><td>FALSE</td></tr>\n",
       "\t<tr><td>e    </td><td>FALSE</td><td>FALSE</td><td>FALSE</td><td>FALSE</td><td> TRUE</td><td>FALSE</td><td> TRUE</td><td>FALSE</td><td>FALSE</td><td>...  </td><td>FALSE</td><td>FALSE</td><td> TRUE</td><td>FALSE</td><td>FALSE</td><td>FALSE</td><td>FALSE</td><td>FALSE</td><td> TRUE</td><td>FALSE</td></tr>\n",
       "\t<tr><td>e    </td><td>FALSE</td><td>FALSE</td><td> TRUE</td><td>FALSE</td><td>FALSE</td><td>FALSE</td><td> TRUE</td><td>FALSE</td><td>FALSE</td><td>...  </td><td>FALSE</td><td>FALSE</td><td>FALSE</td><td>FALSE</td><td> TRUE</td><td>FALSE</td><td>FALSE</td><td>FALSE</td><td>FALSE</td><td>FALSE</td></tr>\n",
       "\t<tr><td>p    </td><td>FALSE</td><td>FALSE</td><td>FALSE</td><td>FALSE</td><td>FALSE</td><td> TRUE</td><td>FALSE</td><td>FALSE</td><td> TRUE</td><td>...  </td><td> TRUE</td><td>FALSE</td><td>FALSE</td><td>FALSE</td><td> TRUE</td><td>FALSE</td><td>FALSE</td><td>FALSE</td><td>FALSE</td><td>FALSE</td></tr>\n",
       "\t<tr><td>p    </td><td>FALSE</td><td>FALSE</td><td>FALSE</td><td>FALSE</td><td>FALSE</td><td> TRUE</td><td>FALSE</td><td>FALSE</td><td>FALSE</td><td>...  </td><td> TRUE</td><td>FALSE</td><td>FALSE</td><td>FALSE</td><td>FALSE</td><td>FALSE</td><td>FALSE</td><td>FALSE</td><td> TRUE</td><td>FALSE</td></tr>\n",
       "\t<tr><td>p    </td><td>FALSE</td><td>FALSE</td><td>FALSE</td><td>FALSE</td><td>FALSE</td><td> TRUE</td><td>FALSE</td><td>FALSE</td><td> TRUE</td><td>...  </td><td> TRUE</td><td>FALSE</td><td>FALSE</td><td>FALSE</td><td>FALSE</td><td>FALSE</td><td>FALSE</td><td>FALSE</td><td> TRUE</td><td>FALSE</td></tr>\n",
       "\t<tr><td>e    </td><td> TRUE</td><td>FALSE</td><td>FALSE</td><td>FALSE</td><td>FALSE</td><td>FALSE</td><td>FALSE</td><td>FALSE</td><td> TRUE</td><td>...  </td><td> TRUE</td><td>FALSE</td><td>FALSE</td><td>FALSE</td><td>FALSE</td><td>FALSE</td><td> TRUE</td><td>FALSE</td><td>FALSE</td><td>FALSE</td></tr>\n",
       "\t<tr><td>p    </td><td>FALSE</td><td>FALSE</td><td>FALSE</td><td>FALSE</td><td>FALSE</td><td> TRUE</td><td>FALSE</td><td>FALSE</td><td>FALSE</td><td>...  </td><td>FALSE</td><td> TRUE</td><td>FALSE</td><td>FALSE</td><td> TRUE</td><td>FALSE</td><td>FALSE</td><td>FALSE</td><td>FALSE</td><td>FALSE</td></tr>\n",
       "\t<tr><td>e    </td><td> TRUE</td><td>FALSE</td><td>FALSE</td><td>FALSE</td><td>FALSE</td><td>FALSE</td><td>FALSE</td><td>FALSE</td><td>FALSE</td><td>...  </td><td> TRUE</td><td>FALSE</td><td>FALSE</td><td>FALSE</td><td>FALSE</td><td>FALSE</td><td> TRUE</td><td>FALSE</td><td>FALSE</td><td>FALSE</td></tr>\n",
       "\t<tr><td>e    </td><td> TRUE</td><td>FALSE</td><td>FALSE</td><td>FALSE</td><td>FALSE</td><td>FALSE</td><td>FALSE</td><td>FALSE</td><td>FALSE</td><td>...  </td><td>FALSE</td><td>FALSE</td><td>FALSE</td><td>FALSE</td><td>FALSE</td><td>FALSE</td><td> TRUE</td><td>FALSE</td><td>FALSE</td><td>FALSE</td></tr>\n",
       "\t<tr><td>e    </td><td> TRUE</td><td>FALSE</td><td>FALSE</td><td>FALSE</td><td>FALSE</td><td>FALSE</td><td>FALSE</td><td>FALSE</td><td> TRUE</td><td>...  </td><td> TRUE</td><td>FALSE</td><td>FALSE</td><td>FALSE</td><td>FALSE</td><td>FALSE</td><td> TRUE</td><td>FALSE</td><td>FALSE</td><td>FALSE</td></tr>\n",
       "\t<tr><td>p    </td><td>FALSE</td><td>FALSE</td><td> TRUE</td><td>FALSE</td><td>FALSE</td><td>FALSE</td><td>FALSE</td><td>FALSE</td><td> TRUE</td><td>...  </td><td>FALSE</td><td> TRUE</td><td>FALSE</td><td>FALSE</td><td> TRUE</td><td>FALSE</td><td>FALSE</td><td>FALSE</td><td>FALSE</td><td>FALSE</td></tr>\n",
       "\t<tr><td>e    </td><td>FALSE</td><td>FALSE</td><td>FALSE</td><td>FALSE</td><td>FALSE</td><td> TRUE</td><td>FALSE</td><td>FALSE</td><td>FALSE</td><td>...  </td><td>FALSE</td><td>FALSE</td><td>FALSE</td><td>FALSE</td><td>FALSE</td><td>FALSE</td><td> TRUE</td><td>FALSE</td><td>FALSE</td><td>FALSE</td></tr>\n",
       "\t<tr><td>e    </td><td>FALSE</td><td>FALSE</td><td>FALSE</td><td>FALSE</td><td>FALSE</td><td> TRUE</td><td>FALSE</td><td>FALSE</td><td>FALSE</td><td>...  </td><td>FALSE</td><td>FALSE</td><td>FALSE</td><td>FALSE</td><td>FALSE</td><td>FALSE</td><td> TRUE</td><td>FALSE</td><td>FALSE</td><td>FALSE</td></tr>\n",
       "\t<tr><td>e    </td><td>FALSE</td><td>FALSE</td><td> TRUE</td><td>FALSE</td><td>FALSE</td><td>FALSE</td><td> TRUE</td><td>FALSE</td><td>FALSE</td><td>...  </td><td>FALSE</td><td>FALSE</td><td> TRUE</td><td>FALSE</td><td>FALSE</td><td>FALSE</td><td>FALSE</td><td>FALSE</td><td> TRUE</td><td>FALSE</td></tr>\n",
       "\t<tr><td>e    </td><td>FALSE</td><td>FALSE</td><td>FALSE</td><td>FALSE</td><td>FALSE</td><td> TRUE</td><td>FALSE</td><td>FALSE</td><td> TRUE</td><td>...  </td><td>FALSE</td><td> TRUE</td><td>FALSE</td><td> TRUE</td><td>FALSE</td><td>FALSE</td><td>FALSE</td><td>FALSE</td><td>FALSE</td><td>FALSE</td></tr>\n",
       "\t<tr><td>...</td><td>...</td><td>...</td><td>...</td><td>...</td><td>...</td><td>...</td><td>...</td><td>...</td><td>...</td><td>   </td><td>...</td><td>...</td><td>...</td><td>...</td><td>...</td><td>...</td><td>...</td><td>...</td><td>...</td><td>...</td></tr>\n",
       "\t<tr><td>e    </td><td> TRUE</td><td>FALSE</td><td>FALSE</td><td>FALSE</td><td>FALSE</td><td>FALSE</td><td>FALSE</td><td>FALSE</td><td> TRUE</td><td>...  </td><td>FALSE</td><td>FALSE</td><td>FALSE</td><td>FALSE</td><td> TRUE</td><td>FALSE</td><td>FALSE</td><td>FALSE</td><td>FALSE</td><td>FALSE</td></tr>\n",
       "\t<tr><td>p    </td><td>FALSE</td><td>FALSE</td><td>FALSE</td><td>FALSE</td><td>FALSE</td><td> TRUE</td><td>FALSE</td><td>FALSE</td><td>FALSE</td><td>...  </td><td>FALSE</td><td>FALSE</td><td>FALSE</td><td> TRUE</td><td>FALSE</td><td>FALSE</td><td>FALSE</td><td>FALSE</td><td>FALSE</td><td>FALSE</td></tr>\n",
       "\t<tr><td>e    </td><td>FALSE</td><td>FALSE</td><td>FALSE</td><td> TRUE</td><td>FALSE</td><td>FALSE</td><td> TRUE</td><td>FALSE</td><td>FALSE</td><td>...  </td><td>FALSE</td><td>FALSE</td><td>FALSE</td><td>FALSE</td><td> TRUE</td><td>FALSE</td><td>FALSE</td><td>FALSE</td><td>FALSE</td><td>FALSE</td></tr>\n",
       "\t<tr><td>p    </td><td>FALSE</td><td>FALSE</td><td>FALSE</td><td> TRUE</td><td>FALSE</td><td>FALSE</td><td>FALSE</td><td>FALSE</td><td>FALSE</td><td>...  </td><td>FALSE</td><td> TRUE</td><td>FALSE</td><td>FALSE</td><td>FALSE</td><td> TRUE</td><td>FALSE</td><td>FALSE</td><td>FALSE</td><td>FALSE</td></tr>\n",
       "\t<tr><td>p    </td><td>FALSE</td><td>FALSE</td><td>FALSE</td><td> TRUE</td><td>FALSE</td><td>FALSE</td><td>FALSE</td><td>FALSE</td><td> TRUE</td><td>...  </td><td>FALSE</td><td> TRUE</td><td>FALSE</td><td> TRUE</td><td>FALSE</td><td>FALSE</td><td>FALSE</td><td>FALSE</td><td>FALSE</td><td>FALSE</td></tr>\n",
       "\t<tr><td>e    </td><td>FALSE</td><td>FALSE</td><td>FALSE</td><td> TRUE</td><td>FALSE</td><td>FALSE</td><td> TRUE</td><td>FALSE</td><td>FALSE</td><td>...  </td><td> TRUE</td><td>FALSE</td><td>FALSE</td><td>FALSE</td><td> TRUE</td><td>FALSE</td><td>FALSE</td><td>FALSE</td><td>FALSE</td><td>FALSE</td></tr>\n",
       "\t<tr><td>e    </td><td>FALSE</td><td>FALSE</td><td> TRUE</td><td>FALSE</td><td>FALSE</td><td>FALSE</td><td>FALSE</td><td>FALSE</td><td> TRUE</td><td>...  </td><td>FALSE</td><td> TRUE</td><td>FALSE</td><td>FALSE</td><td>FALSE</td><td> TRUE</td><td>FALSE</td><td>FALSE</td><td>FALSE</td><td>FALSE</td></tr>\n",
       "\t<tr><td>p    </td><td>FALSE</td><td>FALSE</td><td>FALSE</td><td> TRUE</td><td>FALSE</td><td>FALSE</td><td>FALSE</td><td>FALSE</td><td> TRUE</td><td>...  </td><td>FALSE</td><td> TRUE</td><td>FALSE</td><td>FALSE</td><td>FALSE</td><td>FALSE</td><td>FALSE</td><td> TRUE</td><td>FALSE</td><td>FALSE</td></tr>\n",
       "\t<tr><td>e    </td><td>FALSE</td><td>FALSE</td><td>FALSE</td><td>FALSE</td><td>FALSE</td><td> TRUE</td><td>FALSE</td><td>FALSE</td><td> TRUE</td><td>...  </td><td>FALSE</td><td>FALSE</td><td>FALSE</td><td>FALSE</td><td>FALSE</td><td> TRUE</td><td>FALSE</td><td>FALSE</td><td>FALSE</td><td>FALSE</td></tr>\n",
       "\t<tr><td>e    </td><td>FALSE</td><td>FALSE</td><td>FALSE</td><td> TRUE</td><td>FALSE</td><td>FALSE</td><td>FALSE</td><td>FALSE</td><td> TRUE</td><td>...  </td><td>FALSE</td><td>FALSE</td><td>FALSE</td><td>FALSE</td><td>FALSE</td><td> TRUE</td><td>FALSE</td><td>FALSE</td><td>FALSE</td><td>FALSE</td></tr>\n",
       "\t<tr><td>e    </td><td>FALSE</td><td>FALSE</td><td>FALSE</td><td> TRUE</td><td>FALSE</td><td>FALSE</td><td>FALSE</td><td>FALSE</td><td> TRUE</td><td>...  </td><td>FALSE</td><td> TRUE</td><td>FALSE</td><td>FALSE</td><td>FALSE</td><td> TRUE</td><td>FALSE</td><td>FALSE</td><td>FALSE</td><td>FALSE</td></tr>\n",
       "\t<tr><td>e    </td><td>FALSE</td><td>FALSE</td><td>FALSE</td><td> TRUE</td><td>FALSE</td><td>FALSE</td><td>FALSE</td><td>FALSE</td><td> TRUE</td><td>...  </td><td>FALSE</td><td> TRUE</td><td>FALSE</td><td>FALSE</td><td>FALSE</td><td> TRUE</td><td>FALSE</td><td>FALSE</td><td>FALSE</td><td>FALSE</td></tr>\n",
       "\t<tr><td>e    </td><td>FALSE</td><td>FALSE</td><td>FALSE</td><td> TRUE</td><td>FALSE</td><td>FALSE</td><td>FALSE</td><td>FALSE</td><td> TRUE</td><td>...  </td><td>FALSE</td><td> TRUE</td><td>FALSE</td><td>FALSE</td><td>FALSE</td><td> TRUE</td><td>FALSE</td><td>FALSE</td><td>FALSE</td><td>FALSE</td></tr>\n",
       "\t<tr><td>e    </td><td>FALSE</td><td>FALSE</td><td>FALSE</td><td>FALSE</td><td>FALSE</td><td> TRUE</td><td>FALSE</td><td>FALSE</td><td> TRUE</td><td>...  </td><td>FALSE</td><td>FALSE</td><td>FALSE</td><td>FALSE</td><td>FALSE</td><td> TRUE</td><td>FALSE</td><td>FALSE</td><td>FALSE</td><td>FALSE</td></tr>\n",
       "\t<tr><td>p    </td><td>FALSE</td><td>FALSE</td><td>FALSE</td><td> TRUE</td><td>FALSE</td><td>FALSE</td><td>FALSE</td><td>FALSE</td><td>FALSE</td><td>...  </td><td>FALSE</td><td> TRUE</td><td>FALSE</td><td>FALSE</td><td>FALSE</td><td> TRUE</td><td>FALSE</td><td>FALSE</td><td>FALSE</td><td>FALSE</td></tr>\n",
       "\t<tr><td>e    </td><td> TRUE</td><td>FALSE</td><td>FALSE</td><td>FALSE</td><td>FALSE</td><td>FALSE</td><td>FALSE</td><td>FALSE</td><td> TRUE</td><td>...  </td><td>FALSE</td><td>FALSE</td><td>FALSE</td><td>FALSE</td><td> TRUE</td><td>FALSE</td><td>FALSE</td><td>FALSE</td><td>FALSE</td><td>FALSE</td></tr>\n",
       "\t<tr><td>e    </td><td>FALSE</td><td>FALSE</td><td>FALSE</td><td>FALSE</td><td>FALSE</td><td> TRUE</td><td>FALSE</td><td>FALSE</td><td> TRUE</td><td>...  </td><td>FALSE</td><td> TRUE</td><td>FALSE</td><td>FALSE</td><td>FALSE</td><td> TRUE</td><td>FALSE</td><td>FALSE</td><td>FALSE</td><td>FALSE</td></tr>\n",
       "\t<tr><td>e    </td><td>FALSE</td><td>FALSE</td><td>FALSE</td><td> TRUE</td><td>FALSE</td><td>FALSE</td><td>FALSE</td><td>FALSE</td><td> TRUE</td><td>...  </td><td>FALSE</td><td>FALSE</td><td>FALSE</td><td>FALSE</td><td> TRUE</td><td>FALSE</td><td>FALSE</td><td>FALSE</td><td>FALSE</td><td>FALSE</td></tr>\n",
       "\t<tr><td>e    </td><td>FALSE</td><td>FALSE</td><td>FALSE</td><td> TRUE</td><td>FALSE</td><td>FALSE</td><td>FALSE</td><td>FALSE</td><td> TRUE</td><td>...  </td><td>FALSE</td><td> TRUE</td><td>FALSE</td><td>FALSE</td><td>FALSE</td><td> TRUE</td><td>FALSE</td><td>FALSE</td><td>FALSE</td><td>FALSE</td></tr>\n",
       "\t<tr><td>p    </td><td>FALSE</td><td>FALSE</td><td>FALSE</td><td> TRUE</td><td>FALSE</td><td>FALSE</td><td>FALSE</td><td>FALSE</td><td>FALSE</td><td>...  </td><td>FALSE</td><td> TRUE</td><td>FALSE</td><td> TRUE</td><td>FALSE</td><td>FALSE</td><td>FALSE</td><td>FALSE</td><td>FALSE</td><td>FALSE</td></tr>\n",
       "\t<tr><td>p    </td><td>FALSE</td><td>FALSE</td><td> TRUE</td><td>FALSE</td><td>FALSE</td><td>FALSE</td><td>FALSE</td><td>FALSE</td><td>FALSE</td><td>...  </td><td>FALSE</td><td>FALSE</td><td>FALSE</td><td> TRUE</td><td>FALSE</td><td>FALSE</td><td>FALSE</td><td>FALSE</td><td>FALSE</td><td>FALSE</td></tr>\n",
       "\t<tr><td>e    </td><td>FALSE</td><td>FALSE</td><td>FALSE</td><td>FALSE</td><td>FALSE</td><td> TRUE</td><td>FALSE</td><td>FALSE</td><td> TRUE</td><td>...  </td><td>FALSE</td><td> TRUE</td><td>FALSE</td><td>FALSE</td><td>FALSE</td><td> TRUE</td><td>FALSE</td><td>FALSE</td><td>FALSE</td><td>FALSE</td></tr>\n",
       "\t<tr><td>p    </td><td>FALSE</td><td>FALSE</td><td>FALSE</td><td> TRUE</td><td>FALSE</td><td>FALSE</td><td>FALSE</td><td>FALSE</td><td>FALSE</td><td>...  </td><td>FALSE</td><td> TRUE</td><td>FALSE</td><td>FALSE</td><td>FALSE</td><td> TRUE</td><td>FALSE</td><td>FALSE</td><td>FALSE</td><td>FALSE</td></tr>\n",
       "\t<tr><td>p    </td><td>FALSE</td><td>FALSE</td><td>FALSE</td><td> TRUE</td><td>FALSE</td><td>FALSE</td><td>FALSE</td><td>FALSE</td><td> TRUE</td><td>...  </td><td>FALSE</td><td> TRUE</td><td>FALSE</td><td> TRUE</td><td>FALSE</td><td>FALSE</td><td>FALSE</td><td>FALSE</td><td>FALSE</td><td>FALSE</td></tr>\n",
       "\t<tr><td>p    </td><td>FALSE</td><td>FALSE</td><td>FALSE</td><td> TRUE</td><td>FALSE</td><td>FALSE</td><td>FALSE</td><td>FALSE</td><td>FALSE</td><td>...  </td><td>FALSE</td><td> TRUE</td><td>FALSE</td><td> TRUE</td><td>FALSE</td><td>FALSE</td><td>FALSE</td><td>FALSE</td><td>FALSE</td><td>FALSE</td></tr>\n",
       "\t<tr><td>e    </td><td>FALSE</td><td>FALSE</td><td>FALSE</td><td> TRUE</td><td>FALSE</td><td>FALSE</td><td>FALSE</td><td>FALSE</td><td> TRUE</td><td>...  </td><td>FALSE</td><td>FALSE</td><td>FALSE</td><td>FALSE</td><td>FALSE</td><td> TRUE</td><td>FALSE</td><td>FALSE</td><td>FALSE</td><td>FALSE</td></tr>\n",
       "\t<tr><td>e    </td><td>FALSE</td><td>FALSE</td><td>FALSE</td><td>FALSE</td><td>FALSE</td><td> TRUE</td><td>FALSE</td><td>FALSE</td><td> TRUE</td><td>...  </td><td>FALSE</td><td> TRUE</td><td>FALSE</td><td>FALSE</td><td>FALSE</td><td> TRUE</td><td>FALSE</td><td>FALSE</td><td>FALSE</td><td>FALSE</td></tr>\n",
       "\t<tr><td>e    </td><td>FALSE</td><td>FALSE</td><td> TRUE</td><td>FALSE</td><td>FALSE</td><td>FALSE</td><td>FALSE</td><td>FALSE</td><td> TRUE</td><td>...  </td><td>FALSE</td><td>FALSE</td><td>FALSE</td><td>FALSE</td><td>FALSE</td><td> TRUE</td><td>FALSE</td><td>FALSE</td><td>FALSE</td><td>FALSE</td></tr>\n",
       "\t<tr><td>p    </td><td>FALSE</td><td>FALSE</td><td>FALSE</td><td> TRUE</td><td>FALSE</td><td>FALSE</td><td>FALSE</td><td>FALSE</td><td>FALSE</td><td>...  </td><td>FALSE</td><td> TRUE</td><td>FALSE</td><td>FALSE</td><td>FALSE</td><td> TRUE</td><td>FALSE</td><td>FALSE</td><td>FALSE</td><td>FALSE</td></tr>\n",
       "\t<tr><td>e    </td><td>FALSE</td><td>FALSE</td><td>FALSE</td><td>FALSE</td><td>FALSE</td><td> TRUE</td><td>FALSE</td><td>FALSE</td><td> TRUE</td><td>...  </td><td>FALSE</td><td>FALSE</td><td>FALSE</td><td>FALSE</td><td>FALSE</td><td> TRUE</td><td>FALSE</td><td>FALSE</td><td>FALSE</td><td>FALSE</td></tr>\n",
       "</tbody>\n",
       "</table>\n"
      ],
      "text/latex": [
       "\\begin{tabular}{r|llllllllllllllllllllllllllllllllllllllllllllllllllllllllllllllllllllllllllllllllllllllllllllllllllllllllllllllllllllll}\n",
       " V1 & mr{[}, i{]} == j & mr{[}, i{]} == j.1 & mr{[}, i{]} == j.2 & mr{[}, i{]} == j.3 & mr{[}, i{]} == j.4 & mr{[}, i{]} == j.5 & mr{[}, i{]} == j.6 & mr{[}, i{]} == j.7 & mr{[}, i{]} == j.8 & ... & mr{[}, i{]} == j & mr{[}, i{]} == j.1 & mr{[}, i{]} == j.2 & mr{[}, i{]} == j.3 & mr{[}, i{]} == j.4 & mr{[}, i{]} == j.5 & mr{[}, i{]} == j.6 & mr{[}, i{]} == j.7 & mr{[}, i{]} == j.8 & mr{[}, i{]} == j.9\\\\\n",
       "\\hline\n",
       "\t p     & FALSE & FALSE & FALSE & FALSE & FALSE &  TRUE & FALSE & FALSE &  TRUE & ...   &  TRUE & FALSE & FALSE & FALSE & FALSE & FALSE & FALSE & FALSE &  TRUE & FALSE\\\\\n",
       "\t e     & FALSE & FALSE & FALSE & FALSE & FALSE &  TRUE & FALSE & FALSE &  TRUE & ...   & FALSE & FALSE & FALSE & FALSE &  TRUE & FALSE & FALSE & FALSE & FALSE & FALSE\\\\\n",
       "\t e     &  TRUE & FALSE & FALSE & FALSE & FALSE & FALSE & FALSE & FALSE &  TRUE & ...   & FALSE & FALSE & FALSE & FALSE & FALSE & FALSE &  TRUE & FALSE & FALSE & FALSE\\\\\n",
       "\t p     & FALSE & FALSE & FALSE & FALSE & FALSE &  TRUE & FALSE & FALSE & FALSE & ...   &  TRUE & FALSE & FALSE & FALSE & FALSE & FALSE & FALSE & FALSE &  TRUE & FALSE\\\\\n",
       "\t e     & FALSE & FALSE & FALSE & FALSE & FALSE &  TRUE & FALSE & FALSE &  TRUE & ...   & FALSE & FALSE & FALSE & FALSE &  TRUE & FALSE & FALSE & FALSE & FALSE & FALSE\\\\\n",
       "\t e     & FALSE & FALSE & FALSE & FALSE & FALSE &  TRUE & FALSE & FALSE & FALSE & ...   & FALSE & FALSE & FALSE & FALSE &  TRUE & FALSE & FALSE & FALSE & FALSE & FALSE\\\\\n",
       "\t e     &  TRUE & FALSE & FALSE & FALSE & FALSE & FALSE & FALSE & FALSE &  TRUE & ...   & FALSE & FALSE & FALSE & FALSE & FALSE & FALSE &  TRUE & FALSE & FALSE & FALSE\\\\\n",
       "\t e     &  TRUE & FALSE & FALSE & FALSE & FALSE & FALSE & FALSE & FALSE & FALSE & ...   &  TRUE & FALSE & FALSE & FALSE & FALSE & FALSE &  TRUE & FALSE & FALSE & FALSE\\\\\n",
       "\t p     & FALSE & FALSE & FALSE & FALSE & FALSE &  TRUE & FALSE & FALSE & FALSE & ...   & FALSE &  TRUE & FALSE & FALSE &  TRUE & FALSE & FALSE & FALSE & FALSE & FALSE\\\\\n",
       "\t e     &  TRUE & FALSE & FALSE & FALSE & FALSE & FALSE & FALSE & FALSE &  TRUE & ...   &  TRUE & FALSE & FALSE & FALSE & FALSE & FALSE &  TRUE & FALSE & FALSE & FALSE\\\\\n",
       "\t e     & FALSE & FALSE & FALSE & FALSE & FALSE &  TRUE & FALSE & FALSE & FALSE & ...   & FALSE & FALSE & FALSE & FALSE &  TRUE & FALSE & FALSE & FALSE & FALSE & FALSE\\\\\n",
       "\t e     & FALSE & FALSE & FALSE & FALSE & FALSE &  TRUE & FALSE & FALSE & FALSE & ...   &  TRUE & FALSE & FALSE & FALSE & FALSE & FALSE &  TRUE & FALSE & FALSE & FALSE\\\\\n",
       "\t e     &  TRUE & FALSE & FALSE & FALSE & FALSE & FALSE & FALSE & FALSE &  TRUE & ...   &  TRUE & FALSE & FALSE & FALSE &  TRUE & FALSE & FALSE & FALSE & FALSE & FALSE\\\\\n",
       "\t p     & FALSE & FALSE & FALSE & FALSE & FALSE &  TRUE & FALSE & FALSE & FALSE & ...   & FALSE &  TRUE & FALSE & FALSE & FALSE & FALSE & FALSE & FALSE &  TRUE & FALSE\\\\\n",
       "\t e     & FALSE & FALSE & FALSE & FALSE & FALSE &  TRUE &  TRUE & FALSE & FALSE & ...   & FALSE & FALSE & FALSE & FALSE &  TRUE & FALSE & FALSE & FALSE & FALSE & FALSE\\\\\n",
       "\t e     & FALSE & FALSE & FALSE & FALSE &  TRUE & FALSE &  TRUE & FALSE & FALSE & ...   & FALSE & FALSE &  TRUE & FALSE & FALSE & FALSE & FALSE & FALSE &  TRUE & FALSE\\\\\n",
       "\t e     & FALSE & FALSE &  TRUE & FALSE & FALSE & FALSE &  TRUE & FALSE & FALSE & ...   & FALSE & FALSE & FALSE & FALSE &  TRUE & FALSE & FALSE & FALSE & FALSE & FALSE\\\\\n",
       "\t p     & FALSE & FALSE & FALSE & FALSE & FALSE &  TRUE & FALSE & FALSE &  TRUE & ...   &  TRUE & FALSE & FALSE & FALSE &  TRUE & FALSE & FALSE & FALSE & FALSE & FALSE\\\\\n",
       "\t p     & FALSE & FALSE & FALSE & FALSE & FALSE &  TRUE & FALSE & FALSE & FALSE & ...   &  TRUE & FALSE & FALSE & FALSE & FALSE & FALSE & FALSE & FALSE &  TRUE & FALSE\\\\\n",
       "\t p     & FALSE & FALSE & FALSE & FALSE & FALSE &  TRUE & FALSE & FALSE &  TRUE & ...   &  TRUE & FALSE & FALSE & FALSE & FALSE & FALSE & FALSE & FALSE &  TRUE & FALSE\\\\\n",
       "\t e     &  TRUE & FALSE & FALSE & FALSE & FALSE & FALSE & FALSE & FALSE &  TRUE & ...   &  TRUE & FALSE & FALSE & FALSE & FALSE & FALSE &  TRUE & FALSE & FALSE & FALSE\\\\\n",
       "\t p     & FALSE & FALSE & FALSE & FALSE & FALSE &  TRUE & FALSE & FALSE & FALSE & ...   & FALSE &  TRUE & FALSE & FALSE &  TRUE & FALSE & FALSE & FALSE & FALSE & FALSE\\\\\n",
       "\t e     &  TRUE & FALSE & FALSE & FALSE & FALSE & FALSE & FALSE & FALSE & FALSE & ...   &  TRUE & FALSE & FALSE & FALSE & FALSE & FALSE &  TRUE & FALSE & FALSE & FALSE\\\\\n",
       "\t e     &  TRUE & FALSE & FALSE & FALSE & FALSE & FALSE & FALSE & FALSE & FALSE & ...   & FALSE & FALSE & FALSE & FALSE & FALSE & FALSE &  TRUE & FALSE & FALSE & FALSE\\\\\n",
       "\t e     &  TRUE & FALSE & FALSE & FALSE & FALSE & FALSE & FALSE & FALSE &  TRUE & ...   &  TRUE & FALSE & FALSE & FALSE & FALSE & FALSE &  TRUE & FALSE & FALSE & FALSE\\\\\n",
       "\t p     & FALSE & FALSE &  TRUE & FALSE & FALSE & FALSE & FALSE & FALSE &  TRUE & ...   & FALSE &  TRUE & FALSE & FALSE &  TRUE & FALSE & FALSE & FALSE & FALSE & FALSE\\\\\n",
       "\t e     & FALSE & FALSE & FALSE & FALSE & FALSE &  TRUE & FALSE & FALSE & FALSE & ...   & FALSE & FALSE & FALSE & FALSE & FALSE & FALSE &  TRUE & FALSE & FALSE & FALSE\\\\\n",
       "\t e     & FALSE & FALSE & FALSE & FALSE & FALSE &  TRUE & FALSE & FALSE & FALSE & ...   & FALSE & FALSE & FALSE & FALSE & FALSE & FALSE &  TRUE & FALSE & FALSE & FALSE\\\\\n",
       "\t e     & FALSE & FALSE &  TRUE & FALSE & FALSE & FALSE &  TRUE & FALSE & FALSE & ...   & FALSE & FALSE &  TRUE & FALSE & FALSE & FALSE & FALSE & FALSE &  TRUE & FALSE\\\\\n",
       "\t e     & FALSE & FALSE & FALSE & FALSE & FALSE &  TRUE & FALSE & FALSE &  TRUE & ...   & FALSE &  TRUE & FALSE &  TRUE & FALSE & FALSE & FALSE & FALSE & FALSE & FALSE\\\\\n",
       "\t ... & ... & ... & ... & ... & ... & ... & ... & ... & ... &     & ... & ... & ... & ... & ... & ... & ... & ... & ... & ...\\\\\n",
       "\t e     &  TRUE & FALSE & FALSE & FALSE & FALSE & FALSE & FALSE & FALSE &  TRUE & ...   & FALSE & FALSE & FALSE & FALSE &  TRUE & FALSE & FALSE & FALSE & FALSE & FALSE\\\\\n",
       "\t p     & FALSE & FALSE & FALSE & FALSE & FALSE &  TRUE & FALSE & FALSE & FALSE & ...   & FALSE & FALSE & FALSE &  TRUE & FALSE & FALSE & FALSE & FALSE & FALSE & FALSE\\\\\n",
       "\t e     & FALSE & FALSE & FALSE &  TRUE & FALSE & FALSE &  TRUE & FALSE & FALSE & ...   & FALSE & FALSE & FALSE & FALSE &  TRUE & FALSE & FALSE & FALSE & FALSE & FALSE\\\\\n",
       "\t p     & FALSE & FALSE & FALSE &  TRUE & FALSE & FALSE & FALSE & FALSE & FALSE & ...   & FALSE &  TRUE & FALSE & FALSE & FALSE &  TRUE & FALSE & FALSE & FALSE & FALSE\\\\\n",
       "\t p     & FALSE & FALSE & FALSE &  TRUE & FALSE & FALSE & FALSE & FALSE &  TRUE & ...   & FALSE &  TRUE & FALSE &  TRUE & FALSE & FALSE & FALSE & FALSE & FALSE & FALSE\\\\\n",
       "\t e     & FALSE & FALSE & FALSE &  TRUE & FALSE & FALSE &  TRUE & FALSE & FALSE & ...   &  TRUE & FALSE & FALSE & FALSE &  TRUE & FALSE & FALSE & FALSE & FALSE & FALSE\\\\\n",
       "\t e     & FALSE & FALSE &  TRUE & FALSE & FALSE & FALSE & FALSE & FALSE &  TRUE & ...   & FALSE &  TRUE & FALSE & FALSE & FALSE &  TRUE & FALSE & FALSE & FALSE & FALSE\\\\\n",
       "\t p     & FALSE & FALSE & FALSE &  TRUE & FALSE & FALSE & FALSE & FALSE &  TRUE & ...   & FALSE &  TRUE & FALSE & FALSE & FALSE & FALSE & FALSE &  TRUE & FALSE & FALSE\\\\\n",
       "\t e     & FALSE & FALSE & FALSE & FALSE & FALSE &  TRUE & FALSE & FALSE &  TRUE & ...   & FALSE & FALSE & FALSE & FALSE & FALSE &  TRUE & FALSE & FALSE & FALSE & FALSE\\\\\n",
       "\t e     & FALSE & FALSE & FALSE &  TRUE & FALSE & FALSE & FALSE & FALSE &  TRUE & ...   & FALSE & FALSE & FALSE & FALSE & FALSE &  TRUE & FALSE & FALSE & FALSE & FALSE\\\\\n",
       "\t e     & FALSE & FALSE & FALSE &  TRUE & FALSE & FALSE & FALSE & FALSE &  TRUE & ...   & FALSE &  TRUE & FALSE & FALSE & FALSE &  TRUE & FALSE & FALSE & FALSE & FALSE\\\\\n",
       "\t e     & FALSE & FALSE & FALSE &  TRUE & FALSE & FALSE & FALSE & FALSE &  TRUE & ...   & FALSE &  TRUE & FALSE & FALSE & FALSE &  TRUE & FALSE & FALSE & FALSE & FALSE\\\\\n",
       "\t e     & FALSE & FALSE & FALSE &  TRUE & FALSE & FALSE & FALSE & FALSE &  TRUE & ...   & FALSE &  TRUE & FALSE & FALSE & FALSE &  TRUE & FALSE & FALSE & FALSE & FALSE\\\\\n",
       "\t e     & FALSE & FALSE & FALSE & FALSE & FALSE &  TRUE & FALSE & FALSE &  TRUE & ...   & FALSE & FALSE & FALSE & FALSE & FALSE &  TRUE & FALSE & FALSE & FALSE & FALSE\\\\\n",
       "\t p     & FALSE & FALSE & FALSE &  TRUE & FALSE & FALSE & FALSE & FALSE & FALSE & ...   & FALSE &  TRUE & FALSE & FALSE & FALSE &  TRUE & FALSE & FALSE & FALSE & FALSE\\\\\n",
       "\t e     &  TRUE & FALSE & FALSE & FALSE & FALSE & FALSE & FALSE & FALSE &  TRUE & ...   & FALSE & FALSE & FALSE & FALSE &  TRUE & FALSE & FALSE & FALSE & FALSE & FALSE\\\\\n",
       "\t e     & FALSE & FALSE & FALSE & FALSE & FALSE &  TRUE & FALSE & FALSE &  TRUE & ...   & FALSE &  TRUE & FALSE & FALSE & FALSE &  TRUE & FALSE & FALSE & FALSE & FALSE\\\\\n",
       "\t e     & FALSE & FALSE & FALSE &  TRUE & FALSE & FALSE & FALSE & FALSE &  TRUE & ...   & FALSE & FALSE & FALSE & FALSE &  TRUE & FALSE & FALSE & FALSE & FALSE & FALSE\\\\\n",
       "\t e     & FALSE & FALSE & FALSE &  TRUE & FALSE & FALSE & FALSE & FALSE &  TRUE & ...   & FALSE &  TRUE & FALSE & FALSE & FALSE &  TRUE & FALSE & FALSE & FALSE & FALSE\\\\\n",
       "\t p     & FALSE & FALSE & FALSE &  TRUE & FALSE & FALSE & FALSE & FALSE & FALSE & ...   & FALSE &  TRUE & FALSE &  TRUE & FALSE & FALSE & FALSE & FALSE & FALSE & FALSE\\\\\n",
       "\t p     & FALSE & FALSE &  TRUE & FALSE & FALSE & FALSE & FALSE & FALSE & FALSE & ...   & FALSE & FALSE & FALSE &  TRUE & FALSE & FALSE & FALSE & FALSE & FALSE & FALSE\\\\\n",
       "\t e     & FALSE & FALSE & FALSE & FALSE & FALSE &  TRUE & FALSE & FALSE &  TRUE & ...   & FALSE &  TRUE & FALSE & FALSE & FALSE &  TRUE & FALSE & FALSE & FALSE & FALSE\\\\\n",
       "\t p     & FALSE & FALSE & FALSE &  TRUE & FALSE & FALSE & FALSE & FALSE & FALSE & ...   & FALSE &  TRUE & FALSE & FALSE & FALSE &  TRUE & FALSE & FALSE & FALSE & FALSE\\\\\n",
       "\t p     & FALSE & FALSE & FALSE &  TRUE & FALSE & FALSE & FALSE & FALSE &  TRUE & ...   & FALSE &  TRUE & FALSE &  TRUE & FALSE & FALSE & FALSE & FALSE & FALSE & FALSE\\\\\n",
       "\t p     & FALSE & FALSE & FALSE &  TRUE & FALSE & FALSE & FALSE & FALSE & FALSE & ...   & FALSE &  TRUE & FALSE &  TRUE & FALSE & FALSE & FALSE & FALSE & FALSE & FALSE\\\\\n",
       "\t e     & FALSE & FALSE & FALSE &  TRUE & FALSE & FALSE & FALSE & FALSE &  TRUE & ...   & FALSE & FALSE & FALSE & FALSE & FALSE &  TRUE & FALSE & FALSE & FALSE & FALSE\\\\\n",
       "\t e     & FALSE & FALSE & FALSE & FALSE & FALSE &  TRUE & FALSE & FALSE &  TRUE & ...   & FALSE &  TRUE & FALSE & FALSE & FALSE &  TRUE & FALSE & FALSE & FALSE & FALSE\\\\\n",
       "\t e     & FALSE & FALSE &  TRUE & FALSE & FALSE & FALSE & FALSE & FALSE &  TRUE & ...   & FALSE & FALSE & FALSE & FALSE & FALSE &  TRUE & FALSE & FALSE & FALSE & FALSE\\\\\n",
       "\t p     & FALSE & FALSE & FALSE &  TRUE & FALSE & FALSE & FALSE & FALSE & FALSE & ...   & FALSE &  TRUE & FALSE & FALSE & FALSE &  TRUE & FALSE & FALSE & FALSE & FALSE\\\\\n",
       "\t e     & FALSE & FALSE & FALSE & FALSE & FALSE &  TRUE & FALSE & FALSE &  TRUE & ...   & FALSE & FALSE & FALSE & FALSE & FALSE &  TRUE & FALSE & FALSE & FALSE & FALSE\\\\\n",
       "\\end{tabular}\n"
      ],
      "text/markdown": [
       "\n",
       "| V1 | mr[, i] == j | mr[, i] == j.1 | mr[, i] == j.2 | mr[, i] == j.3 | mr[, i] == j.4 | mr[, i] == j.5 | mr[, i] == j.6 | mr[, i] == j.7 | mr[, i] == j.8 | ... | mr[, i] == j | mr[, i] == j.1 | mr[, i] == j.2 | mr[, i] == j.3 | mr[, i] == j.4 | mr[, i] == j.5 | mr[, i] == j.6 | mr[, i] == j.7 | mr[, i] == j.8 | mr[, i] == j.9 |\n",
       "|---|---|---|---|---|---|---|---|---|---|---|---|---|---|---|---|---|---|---|---|---|\n",
       "| p     | FALSE | FALSE | FALSE | FALSE | FALSE |  TRUE | FALSE | FALSE |  TRUE | ...   |  TRUE | FALSE | FALSE | FALSE | FALSE | FALSE | FALSE | FALSE |  TRUE | FALSE |\n",
       "| e     | FALSE | FALSE | FALSE | FALSE | FALSE |  TRUE | FALSE | FALSE |  TRUE | ...   | FALSE | FALSE | FALSE | FALSE |  TRUE | FALSE | FALSE | FALSE | FALSE | FALSE |\n",
       "| e     |  TRUE | FALSE | FALSE | FALSE | FALSE | FALSE | FALSE | FALSE |  TRUE | ...   | FALSE | FALSE | FALSE | FALSE | FALSE | FALSE |  TRUE | FALSE | FALSE | FALSE |\n",
       "| p     | FALSE | FALSE | FALSE | FALSE | FALSE |  TRUE | FALSE | FALSE | FALSE | ...   |  TRUE | FALSE | FALSE | FALSE | FALSE | FALSE | FALSE | FALSE |  TRUE | FALSE |\n",
       "| e     | FALSE | FALSE | FALSE | FALSE | FALSE |  TRUE | FALSE | FALSE |  TRUE | ...   | FALSE | FALSE | FALSE | FALSE |  TRUE | FALSE | FALSE | FALSE | FALSE | FALSE |\n",
       "| e     | FALSE | FALSE | FALSE | FALSE | FALSE |  TRUE | FALSE | FALSE | FALSE | ...   | FALSE | FALSE | FALSE | FALSE |  TRUE | FALSE | FALSE | FALSE | FALSE | FALSE |\n",
       "| e     |  TRUE | FALSE | FALSE | FALSE | FALSE | FALSE | FALSE | FALSE |  TRUE | ...   | FALSE | FALSE | FALSE | FALSE | FALSE | FALSE |  TRUE | FALSE | FALSE | FALSE |\n",
       "| e     |  TRUE | FALSE | FALSE | FALSE | FALSE | FALSE | FALSE | FALSE | FALSE | ...   |  TRUE | FALSE | FALSE | FALSE | FALSE | FALSE |  TRUE | FALSE | FALSE | FALSE |\n",
       "| p     | FALSE | FALSE | FALSE | FALSE | FALSE |  TRUE | FALSE | FALSE | FALSE | ...   | FALSE |  TRUE | FALSE | FALSE |  TRUE | FALSE | FALSE | FALSE | FALSE | FALSE |\n",
       "| e     |  TRUE | FALSE | FALSE | FALSE | FALSE | FALSE | FALSE | FALSE |  TRUE | ...   |  TRUE | FALSE | FALSE | FALSE | FALSE | FALSE |  TRUE | FALSE | FALSE | FALSE |\n",
       "| e     | FALSE | FALSE | FALSE | FALSE | FALSE |  TRUE | FALSE | FALSE | FALSE | ...   | FALSE | FALSE | FALSE | FALSE |  TRUE | FALSE | FALSE | FALSE | FALSE | FALSE |\n",
       "| e     | FALSE | FALSE | FALSE | FALSE | FALSE |  TRUE | FALSE | FALSE | FALSE | ...   |  TRUE | FALSE | FALSE | FALSE | FALSE | FALSE |  TRUE | FALSE | FALSE | FALSE |\n",
       "| e     |  TRUE | FALSE | FALSE | FALSE | FALSE | FALSE | FALSE | FALSE |  TRUE | ...   |  TRUE | FALSE | FALSE | FALSE |  TRUE | FALSE | FALSE | FALSE | FALSE | FALSE |\n",
       "| p     | FALSE | FALSE | FALSE | FALSE | FALSE |  TRUE | FALSE | FALSE | FALSE | ...   | FALSE |  TRUE | FALSE | FALSE | FALSE | FALSE | FALSE | FALSE |  TRUE | FALSE |\n",
       "| e     | FALSE | FALSE | FALSE | FALSE | FALSE |  TRUE |  TRUE | FALSE | FALSE | ...   | FALSE | FALSE | FALSE | FALSE |  TRUE | FALSE | FALSE | FALSE | FALSE | FALSE |\n",
       "| e     | FALSE | FALSE | FALSE | FALSE |  TRUE | FALSE |  TRUE | FALSE | FALSE | ...   | FALSE | FALSE |  TRUE | FALSE | FALSE | FALSE | FALSE | FALSE |  TRUE | FALSE |\n",
       "| e     | FALSE | FALSE |  TRUE | FALSE | FALSE | FALSE |  TRUE | FALSE | FALSE | ...   | FALSE | FALSE | FALSE | FALSE |  TRUE | FALSE | FALSE | FALSE | FALSE | FALSE |\n",
       "| p     | FALSE | FALSE | FALSE | FALSE | FALSE |  TRUE | FALSE | FALSE |  TRUE | ...   |  TRUE | FALSE | FALSE | FALSE |  TRUE | FALSE | FALSE | FALSE | FALSE | FALSE |\n",
       "| p     | FALSE | FALSE | FALSE | FALSE | FALSE |  TRUE | FALSE | FALSE | FALSE | ...   |  TRUE | FALSE | FALSE | FALSE | FALSE | FALSE | FALSE | FALSE |  TRUE | FALSE |\n",
       "| p     | FALSE | FALSE | FALSE | FALSE | FALSE |  TRUE | FALSE | FALSE |  TRUE | ...   |  TRUE | FALSE | FALSE | FALSE | FALSE | FALSE | FALSE | FALSE |  TRUE | FALSE |\n",
       "| e     |  TRUE | FALSE | FALSE | FALSE | FALSE | FALSE | FALSE | FALSE |  TRUE | ...   |  TRUE | FALSE | FALSE | FALSE | FALSE | FALSE |  TRUE | FALSE | FALSE | FALSE |\n",
       "| p     | FALSE | FALSE | FALSE | FALSE | FALSE |  TRUE | FALSE | FALSE | FALSE | ...   | FALSE |  TRUE | FALSE | FALSE |  TRUE | FALSE | FALSE | FALSE | FALSE | FALSE |\n",
       "| e     |  TRUE | FALSE | FALSE | FALSE | FALSE | FALSE | FALSE | FALSE | FALSE | ...   |  TRUE | FALSE | FALSE | FALSE | FALSE | FALSE |  TRUE | FALSE | FALSE | FALSE |\n",
       "| e     |  TRUE | FALSE | FALSE | FALSE | FALSE | FALSE | FALSE | FALSE | FALSE | ...   | FALSE | FALSE | FALSE | FALSE | FALSE | FALSE |  TRUE | FALSE | FALSE | FALSE |\n",
       "| e     |  TRUE | FALSE | FALSE | FALSE | FALSE | FALSE | FALSE | FALSE |  TRUE | ...   |  TRUE | FALSE | FALSE | FALSE | FALSE | FALSE |  TRUE | FALSE | FALSE | FALSE |\n",
       "| p     | FALSE | FALSE |  TRUE | FALSE | FALSE | FALSE | FALSE | FALSE |  TRUE | ...   | FALSE |  TRUE | FALSE | FALSE |  TRUE | FALSE | FALSE | FALSE | FALSE | FALSE |\n",
       "| e     | FALSE | FALSE | FALSE | FALSE | FALSE |  TRUE | FALSE | FALSE | FALSE | ...   | FALSE | FALSE | FALSE | FALSE | FALSE | FALSE |  TRUE | FALSE | FALSE | FALSE |\n",
       "| e     | FALSE | FALSE | FALSE | FALSE | FALSE |  TRUE | FALSE | FALSE | FALSE | ...   | FALSE | FALSE | FALSE | FALSE | FALSE | FALSE |  TRUE | FALSE | FALSE | FALSE |\n",
       "| e     | FALSE | FALSE |  TRUE | FALSE | FALSE | FALSE |  TRUE | FALSE | FALSE | ...   | FALSE | FALSE |  TRUE | FALSE | FALSE | FALSE | FALSE | FALSE |  TRUE | FALSE |\n",
       "| e     | FALSE | FALSE | FALSE | FALSE | FALSE |  TRUE | FALSE | FALSE |  TRUE | ...   | FALSE |  TRUE | FALSE |  TRUE | FALSE | FALSE | FALSE | FALSE | FALSE | FALSE |\n",
       "| ... | ... | ... | ... | ... | ... | ... | ... | ... | ... |     | ... | ... | ... | ... | ... | ... | ... | ... | ... | ... |\n",
       "| e     |  TRUE | FALSE | FALSE | FALSE | FALSE | FALSE | FALSE | FALSE |  TRUE | ...   | FALSE | FALSE | FALSE | FALSE |  TRUE | FALSE | FALSE | FALSE | FALSE | FALSE |\n",
       "| p     | FALSE | FALSE | FALSE | FALSE | FALSE |  TRUE | FALSE | FALSE | FALSE | ...   | FALSE | FALSE | FALSE |  TRUE | FALSE | FALSE | FALSE | FALSE | FALSE | FALSE |\n",
       "| e     | FALSE | FALSE | FALSE |  TRUE | FALSE | FALSE |  TRUE | FALSE | FALSE | ...   | FALSE | FALSE | FALSE | FALSE |  TRUE | FALSE | FALSE | FALSE | FALSE | FALSE |\n",
       "| p     | FALSE | FALSE | FALSE |  TRUE | FALSE | FALSE | FALSE | FALSE | FALSE | ...   | FALSE |  TRUE | FALSE | FALSE | FALSE |  TRUE | FALSE | FALSE | FALSE | FALSE |\n",
       "| p     | FALSE | FALSE | FALSE |  TRUE | FALSE | FALSE | FALSE | FALSE |  TRUE | ...   | FALSE |  TRUE | FALSE |  TRUE | FALSE | FALSE | FALSE | FALSE | FALSE | FALSE |\n",
       "| e     | FALSE | FALSE | FALSE |  TRUE | FALSE | FALSE |  TRUE | FALSE | FALSE | ...   |  TRUE | FALSE | FALSE | FALSE |  TRUE | FALSE | FALSE | FALSE | FALSE | FALSE |\n",
       "| e     | FALSE | FALSE |  TRUE | FALSE | FALSE | FALSE | FALSE | FALSE |  TRUE | ...   | FALSE |  TRUE | FALSE | FALSE | FALSE |  TRUE | FALSE | FALSE | FALSE | FALSE |\n",
       "| p     | FALSE | FALSE | FALSE |  TRUE | FALSE | FALSE | FALSE | FALSE |  TRUE | ...   | FALSE |  TRUE | FALSE | FALSE | FALSE | FALSE | FALSE |  TRUE | FALSE | FALSE |\n",
       "| e     | FALSE | FALSE | FALSE | FALSE | FALSE |  TRUE | FALSE | FALSE |  TRUE | ...   | FALSE | FALSE | FALSE | FALSE | FALSE |  TRUE | FALSE | FALSE | FALSE | FALSE |\n",
       "| e     | FALSE | FALSE | FALSE |  TRUE | FALSE | FALSE | FALSE | FALSE |  TRUE | ...   | FALSE | FALSE | FALSE | FALSE | FALSE |  TRUE | FALSE | FALSE | FALSE | FALSE |\n",
       "| e     | FALSE | FALSE | FALSE |  TRUE | FALSE | FALSE | FALSE | FALSE |  TRUE | ...   | FALSE |  TRUE | FALSE | FALSE | FALSE |  TRUE | FALSE | FALSE | FALSE | FALSE |\n",
       "| e     | FALSE | FALSE | FALSE |  TRUE | FALSE | FALSE | FALSE | FALSE |  TRUE | ...   | FALSE |  TRUE | FALSE | FALSE | FALSE |  TRUE | FALSE | FALSE | FALSE | FALSE |\n",
       "| e     | FALSE | FALSE | FALSE |  TRUE | FALSE | FALSE | FALSE | FALSE |  TRUE | ...   | FALSE |  TRUE | FALSE | FALSE | FALSE |  TRUE | FALSE | FALSE | FALSE | FALSE |\n",
       "| e     | FALSE | FALSE | FALSE | FALSE | FALSE |  TRUE | FALSE | FALSE |  TRUE | ...   | FALSE | FALSE | FALSE | FALSE | FALSE |  TRUE | FALSE | FALSE | FALSE | FALSE |\n",
       "| p     | FALSE | FALSE | FALSE |  TRUE | FALSE | FALSE | FALSE | FALSE | FALSE | ...   | FALSE |  TRUE | FALSE | FALSE | FALSE |  TRUE | FALSE | FALSE | FALSE | FALSE |\n",
       "| e     |  TRUE | FALSE | FALSE | FALSE | FALSE | FALSE | FALSE | FALSE |  TRUE | ...   | FALSE | FALSE | FALSE | FALSE |  TRUE | FALSE | FALSE | FALSE | FALSE | FALSE |\n",
       "| e     | FALSE | FALSE | FALSE | FALSE | FALSE |  TRUE | FALSE | FALSE |  TRUE | ...   | FALSE |  TRUE | FALSE | FALSE | FALSE |  TRUE | FALSE | FALSE | FALSE | FALSE |\n",
       "| e     | FALSE | FALSE | FALSE |  TRUE | FALSE | FALSE | FALSE | FALSE |  TRUE | ...   | FALSE | FALSE | FALSE | FALSE |  TRUE | FALSE | FALSE | FALSE | FALSE | FALSE |\n",
       "| e     | FALSE | FALSE | FALSE |  TRUE | FALSE | FALSE | FALSE | FALSE |  TRUE | ...   | FALSE |  TRUE | FALSE | FALSE | FALSE |  TRUE | FALSE | FALSE | FALSE | FALSE |\n",
       "| p     | FALSE | FALSE | FALSE |  TRUE | FALSE | FALSE | FALSE | FALSE | FALSE | ...   | FALSE |  TRUE | FALSE |  TRUE | FALSE | FALSE | FALSE | FALSE | FALSE | FALSE |\n",
       "| p     | FALSE | FALSE |  TRUE | FALSE | FALSE | FALSE | FALSE | FALSE | FALSE | ...   | FALSE | FALSE | FALSE |  TRUE | FALSE | FALSE | FALSE | FALSE | FALSE | FALSE |\n",
       "| e     | FALSE | FALSE | FALSE | FALSE | FALSE |  TRUE | FALSE | FALSE |  TRUE | ...   | FALSE |  TRUE | FALSE | FALSE | FALSE |  TRUE | FALSE | FALSE | FALSE | FALSE |\n",
       "| p     | FALSE | FALSE | FALSE |  TRUE | FALSE | FALSE | FALSE | FALSE | FALSE | ...   | FALSE |  TRUE | FALSE | FALSE | FALSE |  TRUE | FALSE | FALSE | FALSE | FALSE |\n",
       "| p     | FALSE | FALSE | FALSE |  TRUE | FALSE | FALSE | FALSE | FALSE |  TRUE | ...   | FALSE |  TRUE | FALSE |  TRUE | FALSE | FALSE | FALSE | FALSE | FALSE | FALSE |\n",
       "| p     | FALSE | FALSE | FALSE |  TRUE | FALSE | FALSE | FALSE | FALSE | FALSE | ...   | FALSE |  TRUE | FALSE |  TRUE | FALSE | FALSE | FALSE | FALSE | FALSE | FALSE |\n",
       "| e     | FALSE | FALSE | FALSE |  TRUE | FALSE | FALSE | FALSE | FALSE |  TRUE | ...   | FALSE | FALSE | FALSE | FALSE | FALSE |  TRUE | FALSE | FALSE | FALSE | FALSE |\n",
       "| e     | FALSE | FALSE | FALSE | FALSE | FALSE |  TRUE | FALSE | FALSE |  TRUE | ...   | FALSE |  TRUE | FALSE | FALSE | FALSE |  TRUE | FALSE | FALSE | FALSE | FALSE |\n",
       "| e     | FALSE | FALSE |  TRUE | FALSE | FALSE | FALSE | FALSE | FALSE |  TRUE | ...   | FALSE | FALSE | FALSE | FALSE | FALSE |  TRUE | FALSE | FALSE | FALSE | FALSE |\n",
       "| p     | FALSE | FALSE | FALSE |  TRUE | FALSE | FALSE | FALSE | FALSE | FALSE | ...   | FALSE |  TRUE | FALSE | FALSE | FALSE |  TRUE | FALSE | FALSE | FALSE | FALSE |\n",
       "| e     | FALSE | FALSE | FALSE | FALSE | FALSE |  TRUE | FALSE | FALSE |  TRUE | ...   | FALSE | FALSE | FALSE | FALSE | FALSE |  TRUE | FALSE | FALSE | FALSE | FALSE |\n",
       "\n"
      ],
      "text/plain": [
       "     V1  mr[, i] == j mr[, i] == j.1 mr[, i] == j.2 mr[, i] == j.3\n",
       "1    p   FALSE        FALSE          FALSE          FALSE         \n",
       "2    e   FALSE        FALSE          FALSE          FALSE         \n",
       "3    e    TRUE        FALSE          FALSE          FALSE         \n",
       "4    p   FALSE        FALSE          FALSE          FALSE         \n",
       "5    e   FALSE        FALSE          FALSE          FALSE         \n",
       "6    e   FALSE        FALSE          FALSE          FALSE         \n",
       "7    e    TRUE        FALSE          FALSE          FALSE         \n",
       "8    e    TRUE        FALSE          FALSE          FALSE         \n",
       "9    p   FALSE        FALSE          FALSE          FALSE         \n",
       "10   e    TRUE        FALSE          FALSE          FALSE         \n",
       "11   e   FALSE        FALSE          FALSE          FALSE         \n",
       "12   e   FALSE        FALSE          FALSE          FALSE         \n",
       "13   e    TRUE        FALSE          FALSE          FALSE         \n",
       "14   p   FALSE        FALSE          FALSE          FALSE         \n",
       "15   e   FALSE        FALSE          FALSE          FALSE         \n",
       "16   e   FALSE        FALSE          FALSE          FALSE         \n",
       "17   e   FALSE        FALSE           TRUE          FALSE         \n",
       "18   p   FALSE        FALSE          FALSE          FALSE         \n",
       "19   p   FALSE        FALSE          FALSE          FALSE         \n",
       "20   p   FALSE        FALSE          FALSE          FALSE         \n",
       "21   e    TRUE        FALSE          FALSE          FALSE         \n",
       "22   p   FALSE        FALSE          FALSE          FALSE         \n",
       "23   e    TRUE        FALSE          FALSE          FALSE         \n",
       "24   e    TRUE        FALSE          FALSE          FALSE         \n",
       "25   e    TRUE        FALSE          FALSE          FALSE         \n",
       "26   p   FALSE        FALSE           TRUE          FALSE         \n",
       "27   e   FALSE        FALSE          FALSE          FALSE         \n",
       "28   e   FALSE        FALSE          FALSE          FALSE         \n",
       "29   e   FALSE        FALSE           TRUE          FALSE         \n",
       "30   e   FALSE        FALSE          FALSE          FALSE         \n",
       "...  ... ...          ...            ...            ...           \n",
       "8095 e    TRUE        FALSE          FALSE          FALSE         \n",
       "8096 p   FALSE        FALSE          FALSE          FALSE         \n",
       "8097 e   FALSE        FALSE          FALSE           TRUE         \n",
       "8098 p   FALSE        FALSE          FALSE           TRUE         \n",
       "8099 p   FALSE        FALSE          FALSE           TRUE         \n",
       "8100 e   FALSE        FALSE          FALSE           TRUE         \n",
       "8101 e   FALSE        FALSE           TRUE          FALSE         \n",
       "8102 p   FALSE        FALSE          FALSE           TRUE         \n",
       "8103 e   FALSE        FALSE          FALSE          FALSE         \n",
       "8104 e   FALSE        FALSE          FALSE           TRUE         \n",
       "8105 e   FALSE        FALSE          FALSE           TRUE         \n",
       "8106 e   FALSE        FALSE          FALSE           TRUE         \n",
       "8107 e   FALSE        FALSE          FALSE           TRUE         \n",
       "8108 e   FALSE        FALSE          FALSE          FALSE         \n",
       "8109 p   FALSE        FALSE          FALSE           TRUE         \n",
       "8110 e    TRUE        FALSE          FALSE          FALSE         \n",
       "8111 e   FALSE        FALSE          FALSE          FALSE         \n",
       "8112 e   FALSE        FALSE          FALSE           TRUE         \n",
       "8113 e   FALSE        FALSE          FALSE           TRUE         \n",
       "8114 p   FALSE        FALSE          FALSE           TRUE         \n",
       "8115 p   FALSE        FALSE           TRUE          FALSE         \n",
       "8116 e   FALSE        FALSE          FALSE          FALSE         \n",
       "8117 p   FALSE        FALSE          FALSE           TRUE         \n",
       "8118 p   FALSE        FALSE          FALSE           TRUE         \n",
       "8119 p   FALSE        FALSE          FALSE           TRUE         \n",
       "8120 e   FALSE        FALSE          FALSE           TRUE         \n",
       "8121 e   FALSE        FALSE          FALSE          FALSE         \n",
       "8122 e   FALSE        FALSE           TRUE          FALSE         \n",
       "8123 p   FALSE        FALSE          FALSE           TRUE         \n",
       "8124 e   FALSE        FALSE          FALSE          FALSE         \n",
       "     mr[, i] == j.4 mr[, i] == j.5 mr[, i] == j.6 mr[, i] == j.7 mr[, i] == j.8\n",
       "1    FALSE           TRUE          FALSE          FALSE           TRUE         \n",
       "2    FALSE           TRUE          FALSE          FALSE           TRUE         \n",
       "3    FALSE          FALSE          FALSE          FALSE           TRUE         \n",
       "4    FALSE           TRUE          FALSE          FALSE          FALSE         \n",
       "5    FALSE           TRUE          FALSE          FALSE           TRUE         \n",
       "6    FALSE           TRUE          FALSE          FALSE          FALSE         \n",
       "7    FALSE          FALSE          FALSE          FALSE           TRUE         \n",
       "8    FALSE          FALSE          FALSE          FALSE          FALSE         \n",
       "9    FALSE           TRUE          FALSE          FALSE          FALSE         \n",
       "10   FALSE          FALSE          FALSE          FALSE           TRUE         \n",
       "11   FALSE           TRUE          FALSE          FALSE          FALSE         \n",
       "12   FALSE           TRUE          FALSE          FALSE          FALSE         \n",
       "13   FALSE          FALSE          FALSE          FALSE           TRUE         \n",
       "14   FALSE           TRUE          FALSE          FALSE          FALSE         \n",
       "15   FALSE           TRUE           TRUE          FALSE          FALSE         \n",
       "16    TRUE          FALSE           TRUE          FALSE          FALSE         \n",
       "17   FALSE          FALSE           TRUE          FALSE          FALSE         \n",
       "18   FALSE           TRUE          FALSE          FALSE           TRUE         \n",
       "19   FALSE           TRUE          FALSE          FALSE          FALSE         \n",
       "20   FALSE           TRUE          FALSE          FALSE           TRUE         \n",
       "21   FALSE          FALSE          FALSE          FALSE           TRUE         \n",
       "22   FALSE           TRUE          FALSE          FALSE          FALSE         \n",
       "23   FALSE          FALSE          FALSE          FALSE          FALSE         \n",
       "24   FALSE          FALSE          FALSE          FALSE          FALSE         \n",
       "25   FALSE          FALSE          FALSE          FALSE           TRUE         \n",
       "26   FALSE          FALSE          FALSE          FALSE           TRUE         \n",
       "27   FALSE           TRUE          FALSE          FALSE          FALSE         \n",
       "28   FALSE           TRUE          FALSE          FALSE          FALSE         \n",
       "29   FALSE          FALSE           TRUE          FALSE          FALSE         \n",
       "30   FALSE           TRUE          FALSE          FALSE           TRUE         \n",
       "...  ...            ...            ...            ...            ...           \n",
       "8095 FALSE          FALSE          FALSE          FALSE           TRUE         \n",
       "8096 FALSE           TRUE          FALSE          FALSE          FALSE         \n",
       "8097 FALSE          FALSE           TRUE          FALSE          FALSE         \n",
       "8098 FALSE          FALSE          FALSE          FALSE          FALSE         \n",
       "8099 FALSE          FALSE          FALSE          FALSE           TRUE         \n",
       "8100 FALSE          FALSE           TRUE          FALSE          FALSE         \n",
       "8101 FALSE          FALSE          FALSE          FALSE           TRUE         \n",
       "8102 FALSE          FALSE          FALSE          FALSE           TRUE         \n",
       "8103 FALSE           TRUE          FALSE          FALSE           TRUE         \n",
       "8104 FALSE          FALSE          FALSE          FALSE           TRUE         \n",
       "8105 FALSE          FALSE          FALSE          FALSE           TRUE         \n",
       "8106 FALSE          FALSE          FALSE          FALSE           TRUE         \n",
       "8107 FALSE          FALSE          FALSE          FALSE           TRUE         \n",
       "8108 FALSE           TRUE          FALSE          FALSE           TRUE         \n",
       "8109 FALSE          FALSE          FALSE          FALSE          FALSE         \n",
       "8110 FALSE          FALSE          FALSE          FALSE           TRUE         \n",
       "8111 FALSE           TRUE          FALSE          FALSE           TRUE         \n",
       "8112 FALSE          FALSE          FALSE          FALSE           TRUE         \n",
       "8113 FALSE          FALSE          FALSE          FALSE           TRUE         \n",
       "8114 FALSE          FALSE          FALSE          FALSE          FALSE         \n",
       "8115 FALSE          FALSE          FALSE          FALSE          FALSE         \n",
       "8116 FALSE           TRUE          FALSE          FALSE           TRUE         \n",
       "8117 FALSE          FALSE          FALSE          FALSE          FALSE         \n",
       "8118 FALSE          FALSE          FALSE          FALSE           TRUE         \n",
       "8119 FALSE          FALSE          FALSE          FALSE          FALSE         \n",
       "8120 FALSE          FALSE          FALSE          FALSE           TRUE         \n",
       "8121 FALSE           TRUE          FALSE          FALSE           TRUE         \n",
       "8122 FALSE          FALSE          FALSE          FALSE           TRUE         \n",
       "8123 FALSE          FALSE          FALSE          FALSE          FALSE         \n",
       "8124 FALSE           TRUE          FALSE          FALSE           TRUE         \n",
       "     ... mr[, i] == j mr[, i] == j.1 mr[, i] == j.2 mr[, i] == j.3\n",
       "1    ...  TRUE        FALSE          FALSE          FALSE         \n",
       "2    ... FALSE        FALSE          FALSE          FALSE         \n",
       "3    ... FALSE        FALSE          FALSE          FALSE         \n",
       "4    ...  TRUE        FALSE          FALSE          FALSE         \n",
       "5    ... FALSE        FALSE          FALSE          FALSE         \n",
       "6    ... FALSE        FALSE          FALSE          FALSE         \n",
       "7    ... FALSE        FALSE          FALSE          FALSE         \n",
       "8    ...  TRUE        FALSE          FALSE          FALSE         \n",
       "9    ... FALSE         TRUE          FALSE          FALSE         \n",
       "10   ...  TRUE        FALSE          FALSE          FALSE         \n",
       "11   ... FALSE        FALSE          FALSE          FALSE         \n",
       "12   ...  TRUE        FALSE          FALSE          FALSE         \n",
       "13   ...  TRUE        FALSE          FALSE          FALSE         \n",
       "14   ... FALSE         TRUE          FALSE          FALSE         \n",
       "15   ... FALSE        FALSE          FALSE          FALSE         \n",
       "16   ... FALSE        FALSE           TRUE          FALSE         \n",
       "17   ... FALSE        FALSE          FALSE          FALSE         \n",
       "18   ...  TRUE        FALSE          FALSE          FALSE         \n",
       "19   ...  TRUE        FALSE          FALSE          FALSE         \n",
       "20   ...  TRUE        FALSE          FALSE          FALSE         \n",
       "21   ...  TRUE        FALSE          FALSE          FALSE         \n",
       "22   ... FALSE         TRUE          FALSE          FALSE         \n",
       "23   ...  TRUE        FALSE          FALSE          FALSE         \n",
       "24   ... FALSE        FALSE          FALSE          FALSE         \n",
       "25   ...  TRUE        FALSE          FALSE          FALSE         \n",
       "26   ... FALSE         TRUE          FALSE          FALSE         \n",
       "27   ... FALSE        FALSE          FALSE          FALSE         \n",
       "28   ... FALSE        FALSE          FALSE          FALSE         \n",
       "29   ... FALSE        FALSE           TRUE          FALSE         \n",
       "30   ... FALSE         TRUE          FALSE           TRUE         \n",
       "...      ...          ...            ...            ...           \n",
       "8095 ... FALSE        FALSE          FALSE          FALSE         \n",
       "8096 ... FALSE        FALSE          FALSE           TRUE         \n",
       "8097 ... FALSE        FALSE          FALSE          FALSE         \n",
       "8098 ... FALSE         TRUE          FALSE          FALSE         \n",
       "8099 ... FALSE         TRUE          FALSE           TRUE         \n",
       "8100 ...  TRUE        FALSE          FALSE          FALSE         \n",
       "8101 ... FALSE         TRUE          FALSE          FALSE         \n",
       "8102 ... FALSE         TRUE          FALSE          FALSE         \n",
       "8103 ... FALSE        FALSE          FALSE          FALSE         \n",
       "8104 ... FALSE        FALSE          FALSE          FALSE         \n",
       "8105 ... FALSE         TRUE          FALSE          FALSE         \n",
       "8106 ... FALSE         TRUE          FALSE          FALSE         \n",
       "8107 ... FALSE         TRUE          FALSE          FALSE         \n",
       "8108 ... FALSE        FALSE          FALSE          FALSE         \n",
       "8109 ... FALSE         TRUE          FALSE          FALSE         \n",
       "8110 ... FALSE        FALSE          FALSE          FALSE         \n",
       "8111 ... FALSE         TRUE          FALSE          FALSE         \n",
       "8112 ... FALSE        FALSE          FALSE          FALSE         \n",
       "8113 ... FALSE         TRUE          FALSE          FALSE         \n",
       "8114 ... FALSE         TRUE          FALSE           TRUE         \n",
       "8115 ... FALSE        FALSE          FALSE           TRUE         \n",
       "8116 ... FALSE         TRUE          FALSE          FALSE         \n",
       "8117 ... FALSE         TRUE          FALSE          FALSE         \n",
       "8118 ... FALSE         TRUE          FALSE           TRUE         \n",
       "8119 ... FALSE         TRUE          FALSE           TRUE         \n",
       "8120 ... FALSE        FALSE          FALSE          FALSE         \n",
       "8121 ... FALSE         TRUE          FALSE          FALSE         \n",
       "8122 ... FALSE        FALSE          FALSE          FALSE         \n",
       "8123 ... FALSE         TRUE          FALSE          FALSE         \n",
       "8124 ... FALSE        FALSE          FALSE          FALSE         \n",
       "     mr[, i] == j.4 mr[, i] == j.5 mr[, i] == j.6 mr[, i] == j.7 mr[, i] == j.8\n",
       "1    FALSE          FALSE          FALSE          FALSE           TRUE         \n",
       "2     TRUE          FALSE          FALSE          FALSE          FALSE         \n",
       "3    FALSE          FALSE           TRUE          FALSE          FALSE         \n",
       "4    FALSE          FALSE          FALSE          FALSE           TRUE         \n",
       "5     TRUE          FALSE          FALSE          FALSE          FALSE         \n",
       "6     TRUE          FALSE          FALSE          FALSE          FALSE         \n",
       "7    FALSE          FALSE           TRUE          FALSE          FALSE         \n",
       "8    FALSE          FALSE           TRUE          FALSE          FALSE         \n",
       "9     TRUE          FALSE          FALSE          FALSE          FALSE         \n",
       "10   FALSE          FALSE           TRUE          FALSE          FALSE         \n",
       "11    TRUE          FALSE          FALSE          FALSE          FALSE         \n",
       "12   FALSE          FALSE           TRUE          FALSE          FALSE         \n",
       "13    TRUE          FALSE          FALSE          FALSE          FALSE         \n",
       "14   FALSE          FALSE          FALSE          FALSE           TRUE         \n",
       "15    TRUE          FALSE          FALSE          FALSE          FALSE         \n",
       "16   FALSE          FALSE          FALSE          FALSE           TRUE         \n",
       "17    TRUE          FALSE          FALSE          FALSE          FALSE         \n",
       "18    TRUE          FALSE          FALSE          FALSE          FALSE         \n",
       "19   FALSE          FALSE          FALSE          FALSE           TRUE         \n",
       "20   FALSE          FALSE          FALSE          FALSE           TRUE         \n",
       "21   FALSE          FALSE           TRUE          FALSE          FALSE         \n",
       "22    TRUE          FALSE          FALSE          FALSE          FALSE         \n",
       "23   FALSE          FALSE           TRUE          FALSE          FALSE         \n",
       "24   FALSE          FALSE           TRUE          FALSE          FALSE         \n",
       "25   FALSE          FALSE           TRUE          FALSE          FALSE         \n",
       "26    TRUE          FALSE          FALSE          FALSE          FALSE         \n",
       "27   FALSE          FALSE           TRUE          FALSE          FALSE         \n",
       "28   FALSE          FALSE           TRUE          FALSE          FALSE         \n",
       "29   FALSE          FALSE          FALSE          FALSE           TRUE         \n",
       "30   FALSE          FALSE          FALSE          FALSE          FALSE         \n",
       "...  ...            ...            ...            ...            ...           \n",
       "8095  TRUE          FALSE          FALSE          FALSE          FALSE         \n",
       "8096 FALSE          FALSE          FALSE          FALSE          FALSE         \n",
       "8097  TRUE          FALSE          FALSE          FALSE          FALSE         \n",
       "8098 FALSE           TRUE          FALSE          FALSE          FALSE         \n",
       "8099 FALSE          FALSE          FALSE          FALSE          FALSE         \n",
       "8100  TRUE          FALSE          FALSE          FALSE          FALSE         \n",
       "8101 FALSE           TRUE          FALSE          FALSE          FALSE         \n",
       "8102 FALSE          FALSE          FALSE           TRUE          FALSE         \n",
       "8103 FALSE           TRUE          FALSE          FALSE          FALSE         \n",
       "8104 FALSE           TRUE          FALSE          FALSE          FALSE         \n",
       "8105 FALSE           TRUE          FALSE          FALSE          FALSE         \n",
       "8106 FALSE           TRUE          FALSE          FALSE          FALSE         \n",
       "8107 FALSE           TRUE          FALSE          FALSE          FALSE         \n",
       "8108 FALSE           TRUE          FALSE          FALSE          FALSE         \n",
       "8109 FALSE           TRUE          FALSE          FALSE          FALSE         \n",
       "8110  TRUE          FALSE          FALSE          FALSE          FALSE         \n",
       "8111 FALSE           TRUE          FALSE          FALSE          FALSE         \n",
       "8112  TRUE          FALSE          FALSE          FALSE          FALSE         \n",
       "8113 FALSE           TRUE          FALSE          FALSE          FALSE         \n",
       "8114 FALSE          FALSE          FALSE          FALSE          FALSE         \n",
       "8115 FALSE          FALSE          FALSE          FALSE          FALSE         \n",
       "8116 FALSE           TRUE          FALSE          FALSE          FALSE         \n",
       "8117 FALSE           TRUE          FALSE          FALSE          FALSE         \n",
       "8118 FALSE          FALSE          FALSE          FALSE          FALSE         \n",
       "8119 FALSE          FALSE          FALSE          FALSE          FALSE         \n",
       "8120 FALSE           TRUE          FALSE          FALSE          FALSE         \n",
       "8121 FALSE           TRUE          FALSE          FALSE          FALSE         \n",
       "8122 FALSE           TRUE          FALSE          FALSE          FALSE         \n",
       "8123 FALSE           TRUE          FALSE          FALSE          FALSE         \n",
       "8124 FALSE           TRUE          FALSE          FALSE          FALSE         \n",
       "     mr[, i] == j.9\n",
       "1    FALSE         \n",
       "2    FALSE         \n",
       "3    FALSE         \n",
       "4    FALSE         \n",
       "5    FALSE         \n",
       "6    FALSE         \n",
       "7    FALSE         \n",
       "8    FALSE         \n",
       "9    FALSE         \n",
       "10   FALSE         \n",
       "11   FALSE         \n",
       "12   FALSE         \n",
       "13   FALSE         \n",
       "14   FALSE         \n",
       "15   FALSE         \n",
       "16   FALSE         \n",
       "17   FALSE         \n",
       "18   FALSE         \n",
       "19   FALSE         \n",
       "20   FALSE         \n",
       "21   FALSE         \n",
       "22   FALSE         \n",
       "23   FALSE         \n",
       "24   FALSE         \n",
       "25   FALSE         \n",
       "26   FALSE         \n",
       "27   FALSE         \n",
       "28   FALSE         \n",
       "29   FALSE         \n",
       "30   FALSE         \n",
       "...  ...           \n",
       "8095 FALSE         \n",
       "8096 FALSE         \n",
       "8097 FALSE         \n",
       "8098 FALSE         \n",
       "8099 FALSE         \n",
       "8100 FALSE         \n",
       "8101 FALSE         \n",
       "8102 FALSE         \n",
       "8103 FALSE         \n",
       "8104 FALSE         \n",
       "8105 FALSE         \n",
       "8106 FALSE         \n",
       "8107 FALSE         \n",
       "8108 FALSE         \n",
       "8109 FALSE         \n",
       "8110 FALSE         \n",
       "8111 FALSE         \n",
       "8112 FALSE         \n",
       "8113 FALSE         \n",
       "8114 FALSE         \n",
       "8115 FALSE         \n",
       "8116 FALSE         \n",
       "8117 FALSE         \n",
       "8118 FALSE         \n",
       "8119 FALSE         \n",
       "8120 FALSE         \n",
       "8121 FALSE         \n",
       "8122 FALSE         \n",
       "8123 FALSE         \n",
       "8124 FALSE         "
      ]
     },
     "metadata": {},
     "output_type": "display_data"
    }
   ],
   "source": [
    "for(i in 2:23){#이건 컬럼에 대한내용\n",
    "    for(j in sort(unique(mr[,i]))){#data\n",
    "        \n",
    "        mr2 = cbind(mr2, mr[,i] == j)    \n",
    "        }\n",
    "}\n",
    "mr2"
   ]
  },
  {
   "cell_type": "code",
   "execution_count": 10,
   "id": "25afc7a1",
   "metadata": {},
   "outputs": [
    {
     "data": {
      "text/html": [
       "118"
      ],
      "text/latex": [
       "118"
      ],
      "text/markdown": [
       "118"
      ],
      "text/plain": [
       "[1] 118"
      ]
     },
     "metadata": {},
     "output_type": "display_data"
    }
   ],
   "source": [
    "ncol(mr2)"
   ]
  },
  {
   "cell_type": "code",
   "execution_count": 11,
   "id": "b1bd91c9",
   "metadata": {},
   "outputs": [
    {
     "name": "stdout",
     "output_type": "stream",
     "text": [
      "'data.frame':\t8124 obs. of  118 variables:\n",
      " $ V1          : Factor w/ 2 levels \"e\",\"p\": 2 1 1 2 1 1 1 1 2 1 ...\n",
      " $ mr[, i] == j: logi  FALSE FALSE TRUE FALSE FALSE FALSE ...\n",
      " $ mr[, i] == j: logi  FALSE FALSE FALSE FALSE FALSE FALSE ...\n",
      " $ mr[, i] == j: logi  FALSE FALSE FALSE FALSE FALSE FALSE ...\n",
      " $ mr[, i] == j: logi  FALSE FALSE FALSE FALSE FALSE FALSE ...\n",
      " $ mr[, i] == j: logi  FALSE FALSE FALSE FALSE FALSE FALSE ...\n",
      " $ mr[, i] == j: logi  TRUE TRUE FALSE TRUE TRUE TRUE ...\n",
      " $ mr[, i] == j: logi  FALSE FALSE FALSE FALSE FALSE FALSE ...\n",
      " $ mr[, i] == j: logi  FALSE FALSE FALSE FALSE FALSE FALSE ...\n",
      " $ mr[, i] == j: logi  TRUE TRUE TRUE FALSE TRUE FALSE ...\n",
      " $ mr[, i] == j: logi  FALSE FALSE FALSE TRUE FALSE TRUE ...\n",
      " $ mr[, i] == j: logi  FALSE FALSE FALSE FALSE FALSE FALSE ...\n",
      " $ mr[, i] == j: logi  FALSE FALSE FALSE FALSE FALSE FALSE ...\n",
      " $ mr[, i] == j: logi  FALSE FALSE FALSE FALSE FALSE FALSE ...\n",
      " $ mr[, i] == j: logi  FALSE FALSE FALSE FALSE TRUE FALSE ...\n",
      " $ mr[, i] == j: logi  TRUE FALSE FALSE FALSE FALSE FALSE ...\n",
      " $ mr[, i] == j: logi  FALSE FALSE FALSE FALSE FALSE FALSE ...\n",
      " $ mr[, i] == j: logi  FALSE FALSE FALSE FALSE FALSE FALSE ...\n",
      " $ mr[, i] == j: logi  FALSE FALSE FALSE FALSE FALSE FALSE ...\n",
      " $ mr[, i] == j: logi  FALSE FALSE TRUE TRUE FALSE FALSE ...\n",
      " $ mr[, i] == j: logi  FALSE TRUE FALSE FALSE FALSE TRUE ...\n",
      " $ mr[, i] == j: logi  FALSE FALSE FALSE FALSE TRUE FALSE ...\n",
      " $ mr[, i] == j: logi  TRUE TRUE TRUE TRUE FALSE TRUE ...\n",
      " $ mr[, i] == j: logi  FALSE TRUE FALSE FALSE FALSE TRUE ...\n",
      " $ mr[, i] == j: logi  FALSE FALSE FALSE FALSE FALSE FALSE ...\n",
      " $ mr[, i] == j: logi  FALSE FALSE FALSE FALSE FALSE FALSE ...\n",
      " $ mr[, i] == j: logi  FALSE FALSE TRUE FALSE FALSE FALSE ...\n",
      " $ mr[, i] == j: logi  FALSE FALSE FALSE FALSE FALSE FALSE ...\n",
      " $ mr[, i] == j: logi  FALSE FALSE FALSE FALSE TRUE FALSE ...\n",
      " $ mr[, i] == j: logi  TRUE FALSE FALSE TRUE FALSE FALSE ...\n",
      " $ mr[, i] == j: logi  FALSE FALSE FALSE FALSE FALSE FALSE ...\n",
      " $ mr[, i] == j: logi  FALSE FALSE FALSE FALSE FALSE FALSE ...\n",
      " $ mr[, i] == j: logi  FALSE FALSE FALSE FALSE FALSE FALSE ...\n",
      " $ mr[, i] == j: logi  TRUE TRUE TRUE TRUE TRUE TRUE ...\n",
      " $ mr[, i] == j: logi  TRUE TRUE TRUE TRUE FALSE TRUE ...\n",
      " $ mr[, i] == j: logi  FALSE FALSE FALSE FALSE TRUE FALSE ...\n",
      " $ mr[, i] == j: logi  FALSE TRUE TRUE FALSE TRUE TRUE ...\n",
      " $ mr[, i] == j: logi  TRUE FALSE FALSE TRUE FALSE FALSE ...\n",
      " $ mr[, i] == j: logi  FALSE FALSE FALSE FALSE FALSE FALSE ...\n",
      " $ mr[, i] == j: logi  FALSE FALSE FALSE FALSE FALSE FALSE ...\n",
      " $ mr[, i] == j: logi  FALSE FALSE FALSE FALSE FALSE FALSE ...\n",
      " $ mr[, i] == j: logi  FALSE FALSE FALSE FALSE FALSE FALSE ...\n",
      " $ mr[, i] == j: logi  TRUE TRUE FALSE FALSE TRUE FALSE ...\n",
      " $ mr[, i] == j: logi  FALSE FALSE TRUE TRUE FALSE TRUE ...\n",
      " $ mr[, i] == j: logi  FALSE FALSE FALSE FALSE FALSE FALSE ...\n",
      " $ mr[, i] == j: logi  FALSE FALSE FALSE FALSE FALSE FALSE ...\n",
      " $ mr[, i] == j: logi  FALSE FALSE FALSE FALSE FALSE FALSE ...\n",
      " $ mr[, i] == j: logi  FALSE FALSE FALSE FALSE FALSE FALSE ...\n",
      " $ mr[, i] == j: logi  FALSE FALSE FALSE FALSE FALSE FALSE ...\n",
      " $ mr[, i] == j: logi  FALSE FALSE FALSE FALSE FALSE FALSE ...\n",
      " $ mr[, i] == j: logi  TRUE TRUE TRUE TRUE FALSE TRUE ...\n",
      " $ mr[, i] == j: logi  FALSE FALSE FALSE FALSE TRUE FALSE ...\n",
      " $ mr[, i] == j: logi  FALSE FALSE FALSE FALSE FALSE FALSE ...\n",
      " $ mr[, i] == j: logi  FALSE FALSE FALSE FALSE FALSE FALSE ...\n",
      " $ mr[, i] == j: logi  FALSE TRUE TRUE FALSE FALSE TRUE ...\n",
      " $ mr[, i] == j: logi  TRUE FALSE FALSE TRUE TRUE FALSE ...\n",
      " $ mr[, i] == j: logi  FALSE FALSE FALSE FALSE FALSE FALSE ...\n",
      " $ mr[, i] == j: logi  FALSE FALSE FALSE FALSE FALSE FALSE ...\n",
      " $ mr[, i] == j: logi  FALSE FALSE FALSE FALSE FALSE FALSE ...\n",
      " $ mr[, i] == j: logi  TRUE TRUE TRUE TRUE TRUE TRUE ...\n",
      " $ mr[, i] == j: logi  FALSE FALSE FALSE FALSE FALSE FALSE ...\n",
      " $ mr[, i] == j: logi  FALSE FALSE FALSE FALSE FALSE FALSE ...\n",
      " $ mr[, i] == j: logi  FALSE FALSE FALSE FALSE FALSE FALSE ...\n",
      " $ mr[, i] == j: logi  TRUE TRUE TRUE TRUE TRUE TRUE ...\n",
      " $ mr[, i] == j: logi  FALSE FALSE FALSE FALSE FALSE FALSE ...\n",
      " $ mr[, i] == j: logi  FALSE FALSE FALSE FALSE FALSE FALSE ...\n",
      " $ mr[, i] == j: logi  FALSE FALSE FALSE FALSE FALSE FALSE ...\n",
      " $ mr[, i] == j: logi  FALSE FALSE FALSE FALSE FALSE FALSE ...\n",
      " $ mr[, i] == j: logi  FALSE FALSE FALSE FALSE FALSE FALSE ...\n",
      " $ mr[, i] == j: logi  FALSE FALSE FALSE FALSE FALSE FALSE ...\n",
      " $ mr[, i] == j: logi  FALSE FALSE FALSE FALSE FALSE FALSE ...\n",
      " $ mr[, i] == j: logi  FALSE FALSE FALSE FALSE FALSE FALSE ...\n",
      " $ mr[, i] == j: logi  TRUE TRUE TRUE TRUE TRUE TRUE ...\n",
      " $ mr[, i] == j: logi  FALSE FALSE FALSE FALSE FALSE FALSE ...\n",
      " $ mr[, i] == j: logi  FALSE FALSE FALSE FALSE FALSE FALSE ...\n",
      " $ mr[, i] == j: logi  FALSE FALSE FALSE FALSE FALSE FALSE ...\n",
      " $ mr[, i] == j: logi  FALSE FALSE FALSE FALSE FALSE FALSE ...\n",
      " $ mr[, i] == j: logi  FALSE FALSE FALSE FALSE FALSE FALSE ...\n",
      " $ mr[, i] == j: logi  FALSE FALSE FALSE FALSE FALSE FALSE ...\n",
      " $ mr[, i] == j: logi  FALSE FALSE FALSE FALSE FALSE FALSE ...\n",
      " $ mr[, i] == j: logi  FALSE FALSE FALSE FALSE FALSE FALSE ...\n",
      " $ mr[, i] == j: logi  TRUE TRUE TRUE TRUE TRUE TRUE ...\n",
      " $ mr[, i] == j: logi  FALSE FALSE FALSE FALSE FALSE FALSE ...\n",
      " $ mr[, i] == j: logi  TRUE TRUE TRUE TRUE TRUE TRUE ...\n",
      " $ mr[, i] == j: logi  FALSE FALSE FALSE FALSE FALSE FALSE ...\n",
      " $ mr[, i] == j: logi  FALSE FALSE FALSE FALSE FALSE FALSE ...\n",
      " $ mr[, i] == j: logi  TRUE TRUE TRUE TRUE TRUE TRUE ...\n",
      " $ mr[, i] == j: logi  FALSE FALSE FALSE FALSE FALSE FALSE ...\n",
      " $ mr[, i] == j: logi  FALSE FALSE FALSE FALSE FALSE FALSE ...\n",
      " $ mr[, i] == j: logi  TRUE TRUE TRUE TRUE TRUE TRUE ...\n",
      " $ mr[, i] == j: logi  FALSE FALSE FALSE FALSE FALSE FALSE ...\n",
      " $ mr[, i] == j: logi  FALSE FALSE FALSE FALSE TRUE FALSE ...\n",
      " $ mr[, i] == j: logi  FALSE FALSE FALSE FALSE FALSE FALSE ...\n",
      " $ mr[, i] == j: logi  FALSE FALSE FALSE FALSE FALSE FALSE ...\n",
      " $ mr[, i] == j: logi  FALSE FALSE FALSE FALSE FALSE FALSE ...\n",
      " $ mr[, i] == j: logi  TRUE TRUE TRUE TRUE FALSE TRUE ...\n",
      " $ mr[, i] == j: logi  FALSE FALSE FALSE FALSE FALSE FALSE ...\n",
      " $ mr[, i] == j: logi  FALSE FALSE FALSE FALSE FALSE FALSE ...\n",
      " $ mr[, i] == j: logi  TRUE FALSE FALSE TRUE FALSE TRUE ...\n",
      "  [list output truncated]\n"
     ]
    }
   ],
   "source": [
    "# 전부 로지스틱으로 해서 나옴\n",
    "\n",
    "str(mr2)"
   ]
  },
  {
   "cell_type": "markdown",
   "id": "f70670da",
   "metadata": {},
   "source": [
    "** 컬럼 갯수가 많아서 structure를 다 못보는 경우  \n",
    "100번부터 끝까지 보기\n",
    ": <- 슬라이스 (용어)"
   ]
  },
  {
   "cell_type": "code",
   "execution_count": 12,
   "id": "2eea51b5",
   "metadata": {},
   "outputs": [
    {
     "name": "stdout",
     "output_type": "stream",
     "text": [
      "'data.frame':\t8124 obs. of  19 variables:\n",
      " $ mr[, i] == j   : logi  FALSE TRUE TRUE FALSE TRUE FALSE ...\n",
      " $ mr[, i] == j.1 : logi  FALSE FALSE FALSE FALSE FALSE FALSE ...\n",
      " $ mr[, i] == j.2 : logi  FALSE FALSE FALSE FALSE FALSE FALSE ...\n",
      " $ mr[, i] == j.3 : logi  FALSE FALSE FALSE FALSE FALSE FALSE ...\n",
      " $ mr[, i] == j.4 : logi  FALSE FALSE FALSE FALSE FALSE FALSE ...\n",
      " $ mr[, i] == j.5 : logi  FALSE FALSE FALSE FALSE FALSE FALSE ...\n",
      " $ mr[, i] == j.6 : logi  FALSE FALSE FALSE FALSE TRUE FALSE ...\n",
      " $ mr[, i] == j.7 : logi  FALSE FALSE FALSE FALSE FALSE FALSE ...\n",
      " $ mr[, i] == j.8 : logi  FALSE TRUE TRUE FALSE FALSE TRUE ...\n",
      " $ mr[, i] == j.9 : logi  TRUE FALSE FALSE TRUE FALSE FALSE ...\n",
      " $ mr[, i] == j.10: logi  FALSE FALSE FALSE FALSE FALSE FALSE ...\n",
      " $ mr[, i] == j.11: logi  FALSE FALSE FALSE FALSE FALSE FALSE ...\n",
      " $ mr[, i] == j.12: logi  FALSE FALSE FALSE FALSE FALSE FALSE ...\n",
      " $ mr[, i] == j.13: logi  FALSE TRUE FALSE FALSE TRUE TRUE ...\n",
      " $ mr[, i] == j.14: logi  FALSE FALSE FALSE FALSE FALSE FALSE ...\n",
      " $ mr[, i] == j.15: logi  FALSE FALSE TRUE FALSE FALSE FALSE ...\n",
      " $ mr[, i] == j.16: logi  FALSE FALSE FALSE FALSE FALSE FALSE ...\n",
      " $ mr[, i] == j.17: logi  TRUE FALSE FALSE TRUE FALSE FALSE ...\n",
      " $ mr[, i] == j.18: logi  FALSE FALSE FALSE FALSE FALSE FALSE ...\n"
     ]
    }
   ],
   "source": [
    "str(mr2[,100:ncol(mr2)])"
   ]
  },
  {
   "cell_type": "code",
   "execution_count": 13,
   "id": "a5de3720",
   "metadata": {},
   "outputs": [
    {
     "name": "stderr",
     "output_type": "stream",
     "text": [
      "\n",
      "Attaching package: ‘dplyr’\n",
      "\n",
      "The following objects are masked from ‘package:stats’:\n",
      "\n",
      "    filter, lag\n",
      "\n",
      "The following objects are masked from ‘package:base’:\n",
      "\n",
      "    intersect, setdiff, setequal, union\n",
      "\n"
     ]
    }
   ],
   "source": [
    "# 정렬\n",
    "library(dplyr)"
   ]
  },
  {
   "cell_type": "markdown",
   "id": "389f7a0e",
   "metadata": {},
   "source": [
    "정렬 하려고 하면 column name때문에 정렬이 안됨."
   ]
  },
  {
   "cell_type": "code",
   "execution_count": 14,
   "id": "d9e47074",
   "metadata": {},
   "outputs": [
    {
     "data": {
      "text/html": [
       "<table>\n",
       "<thead><tr><th scope=col>V1</th><th scope=col>V2</th><th scope=col>V3</th><th scope=col>V4</th><th scope=col>V5</th><th scope=col>V6</th><th scope=col>V7</th><th scope=col>V8</th><th scope=col>V9</th><th scope=col>V10</th><th scope=col>...</th><th scope=col>V109</th><th scope=col>V110</th><th scope=col>V111</th><th scope=col>V112</th><th scope=col>V113</th><th scope=col>V114</th><th scope=col>V115</th><th scope=col>V116</th><th scope=col>V117</th><th scope=col>V118</th></tr></thead>\n",
       "<tbody>\n",
       "\t<tr><td>p    </td><td>FALSE</td><td>FALSE</td><td>FALSE</td><td>FALSE</td><td>FALSE</td><td> TRUE</td><td>FALSE</td><td>FALSE</td><td> TRUE</td><td>...  </td><td> TRUE</td><td>FALSE</td><td>FALSE</td><td>FALSE</td><td>FALSE</td><td>FALSE</td><td>FALSE</td><td>FALSE</td><td> TRUE</td><td>FALSE</td></tr>\n",
       "\t<tr><td>e    </td><td>FALSE</td><td>FALSE</td><td>FALSE</td><td>FALSE</td><td>FALSE</td><td> TRUE</td><td>FALSE</td><td>FALSE</td><td> TRUE</td><td>...  </td><td>FALSE</td><td>FALSE</td><td>FALSE</td><td>FALSE</td><td> TRUE</td><td>FALSE</td><td>FALSE</td><td>FALSE</td><td>FALSE</td><td>FALSE</td></tr>\n",
       "\t<tr><td>e    </td><td> TRUE</td><td>FALSE</td><td>FALSE</td><td>FALSE</td><td>FALSE</td><td>FALSE</td><td>FALSE</td><td>FALSE</td><td> TRUE</td><td>...  </td><td>FALSE</td><td>FALSE</td><td>FALSE</td><td>FALSE</td><td>FALSE</td><td>FALSE</td><td> TRUE</td><td>FALSE</td><td>FALSE</td><td>FALSE</td></tr>\n",
       "\t<tr><td>p    </td><td>FALSE</td><td>FALSE</td><td>FALSE</td><td>FALSE</td><td>FALSE</td><td> TRUE</td><td>FALSE</td><td>FALSE</td><td>FALSE</td><td>...  </td><td> TRUE</td><td>FALSE</td><td>FALSE</td><td>FALSE</td><td>FALSE</td><td>FALSE</td><td>FALSE</td><td>FALSE</td><td> TRUE</td><td>FALSE</td></tr>\n",
       "\t<tr><td>e    </td><td>FALSE</td><td>FALSE</td><td>FALSE</td><td>FALSE</td><td>FALSE</td><td> TRUE</td><td>FALSE</td><td>FALSE</td><td> TRUE</td><td>...  </td><td>FALSE</td><td>FALSE</td><td>FALSE</td><td>FALSE</td><td> TRUE</td><td>FALSE</td><td>FALSE</td><td>FALSE</td><td>FALSE</td><td>FALSE</td></tr>\n",
       "\t<tr><td>e    </td><td>FALSE</td><td>FALSE</td><td>FALSE</td><td>FALSE</td><td>FALSE</td><td> TRUE</td><td>FALSE</td><td>FALSE</td><td>FALSE</td><td>...  </td><td>FALSE</td><td>FALSE</td><td>FALSE</td><td>FALSE</td><td> TRUE</td><td>FALSE</td><td>FALSE</td><td>FALSE</td><td>FALSE</td><td>FALSE</td></tr>\n",
       "</tbody>\n",
       "</table>\n"
      ],
      "text/latex": [
       "\\begin{tabular}{r|llllllllllllllllllllllllllllllllllllllllllllllllllllllllllllllllllllllllllllllllllllllllllllllllllllllllllllllllllllll}\n",
       " V1 & V2 & V3 & V4 & V5 & V6 & V7 & V8 & V9 & V10 & ... & V109 & V110 & V111 & V112 & V113 & V114 & V115 & V116 & V117 & V118\\\\\n",
       "\\hline\n",
       "\t p     & FALSE & FALSE & FALSE & FALSE & FALSE &  TRUE & FALSE & FALSE &  TRUE & ...   &  TRUE & FALSE & FALSE & FALSE & FALSE & FALSE & FALSE & FALSE &  TRUE & FALSE\\\\\n",
       "\t e     & FALSE & FALSE & FALSE & FALSE & FALSE &  TRUE & FALSE & FALSE &  TRUE & ...   & FALSE & FALSE & FALSE & FALSE &  TRUE & FALSE & FALSE & FALSE & FALSE & FALSE\\\\\n",
       "\t e     &  TRUE & FALSE & FALSE & FALSE & FALSE & FALSE & FALSE & FALSE &  TRUE & ...   & FALSE & FALSE & FALSE & FALSE & FALSE & FALSE &  TRUE & FALSE & FALSE & FALSE\\\\\n",
       "\t p     & FALSE & FALSE & FALSE & FALSE & FALSE &  TRUE & FALSE & FALSE & FALSE & ...   &  TRUE & FALSE & FALSE & FALSE & FALSE & FALSE & FALSE & FALSE &  TRUE & FALSE\\\\\n",
       "\t e     & FALSE & FALSE & FALSE & FALSE & FALSE &  TRUE & FALSE & FALSE &  TRUE & ...   & FALSE & FALSE & FALSE & FALSE &  TRUE & FALSE & FALSE & FALSE & FALSE & FALSE\\\\\n",
       "\t e     & FALSE & FALSE & FALSE & FALSE & FALSE &  TRUE & FALSE & FALSE & FALSE & ...   & FALSE & FALSE & FALSE & FALSE &  TRUE & FALSE & FALSE & FALSE & FALSE & FALSE\\\\\n",
       "\\end{tabular}\n"
      ],
      "text/markdown": [
       "\n",
       "| V1 | V2 | V3 | V4 | V5 | V6 | V7 | V8 | V9 | V10 | ... | V109 | V110 | V111 | V112 | V113 | V114 | V115 | V116 | V117 | V118 |\n",
       "|---|---|---|---|---|---|---|---|---|---|---|---|---|---|---|---|---|---|---|---|---|\n",
       "| p     | FALSE | FALSE | FALSE | FALSE | FALSE |  TRUE | FALSE | FALSE |  TRUE | ...   |  TRUE | FALSE | FALSE | FALSE | FALSE | FALSE | FALSE | FALSE |  TRUE | FALSE |\n",
       "| e     | FALSE | FALSE | FALSE | FALSE | FALSE |  TRUE | FALSE | FALSE |  TRUE | ...   | FALSE | FALSE | FALSE | FALSE |  TRUE | FALSE | FALSE | FALSE | FALSE | FALSE |\n",
       "| e     |  TRUE | FALSE | FALSE | FALSE | FALSE | FALSE | FALSE | FALSE |  TRUE | ...   | FALSE | FALSE | FALSE | FALSE | FALSE | FALSE |  TRUE | FALSE | FALSE | FALSE |\n",
       "| p     | FALSE | FALSE | FALSE | FALSE | FALSE |  TRUE | FALSE | FALSE | FALSE | ...   |  TRUE | FALSE | FALSE | FALSE | FALSE | FALSE | FALSE | FALSE |  TRUE | FALSE |\n",
       "| e     | FALSE | FALSE | FALSE | FALSE | FALSE |  TRUE | FALSE | FALSE |  TRUE | ...   | FALSE | FALSE | FALSE | FALSE |  TRUE | FALSE | FALSE | FALSE | FALSE | FALSE |\n",
       "| e     | FALSE | FALSE | FALSE | FALSE | FALSE |  TRUE | FALSE | FALSE | FALSE | ...   | FALSE | FALSE | FALSE | FALSE |  TRUE | FALSE | FALSE | FALSE | FALSE | FALSE |\n",
       "\n"
      ],
      "text/plain": [
       "  V1 V2    V3    V4    V5    V6    V7    V8    V9    V10   ... V109  V110 \n",
       "1 p  FALSE FALSE FALSE FALSE FALSE  TRUE FALSE FALSE  TRUE ...  TRUE FALSE\n",
       "2 e  FALSE FALSE FALSE FALSE FALSE  TRUE FALSE FALSE  TRUE ... FALSE FALSE\n",
       "3 e   TRUE FALSE FALSE FALSE FALSE FALSE FALSE FALSE  TRUE ... FALSE FALSE\n",
       "4 p  FALSE FALSE FALSE FALSE FALSE  TRUE FALSE FALSE FALSE ...  TRUE FALSE\n",
       "5 e  FALSE FALSE FALSE FALSE FALSE  TRUE FALSE FALSE  TRUE ... FALSE FALSE\n",
       "6 e  FALSE FALSE FALSE FALSE FALSE  TRUE FALSE FALSE FALSE ... FALSE FALSE\n",
       "  V111  V112  V113  V114  V115  V116  V117  V118 \n",
       "1 FALSE FALSE FALSE FALSE FALSE FALSE  TRUE FALSE\n",
       "2 FALSE FALSE  TRUE FALSE FALSE FALSE FALSE FALSE\n",
       "3 FALSE FALSE FALSE FALSE  TRUE FALSE FALSE FALSE\n",
       "4 FALSE FALSE FALSE FALSE FALSE FALSE  TRUE FALSE\n",
       "5 FALSE FALSE  TRUE FALSE FALSE FALSE FALSE FALSE\n",
       "6 FALSE FALSE  TRUE FALSE FALSE FALSE FALSE FALSE"
      ]
     },
     "metadata": {},
     "output_type": "display_data"
    }
   ],
   "source": [
    "colnames(mr2) <- paste(\"V\",1:118,sep=\"\")\n",
    "head(mr2)"
   ]
  },
  {
   "cell_type": "markdown",
   "id": "65ff4a46",
   "metadata": {},
   "source": [
    "# Column이름과 one-hot encoding을 한번에 처리하기"
   ]
  },
  {
   "cell_type": "code",
   "execution_count": 15,
   "id": "3e31394c",
   "metadata": {
    "scrolled": true
   },
   "outputs": [
    {
     "data": {
      "text/html": [
       "<table>\n",
       "<thead><tr><th scope=col>V1</th></tr></thead>\n",
       "<tbody>\n",
       "\t<tr><td>p</td></tr>\n",
       "\t<tr><td>e</td></tr>\n",
       "\t<tr><td>e</td></tr>\n",
       "\t<tr><td>p</td></tr>\n",
       "\t<tr><td>e</td></tr>\n",
       "\t<tr><td>e</td></tr>\n",
       "</tbody>\n",
       "</table>\n"
      ],
      "text/latex": [
       "\\begin{tabular}{r|l}\n",
       " V1\\\\\n",
       "\\hline\n",
       "\t p\\\\\n",
       "\t e\\\\\n",
       "\t e\\\\\n",
       "\t p\\\\\n",
       "\t e\\\\\n",
       "\t e\\\\\n",
       "\\end{tabular}\n"
      ],
      "text/markdown": [
       "\n",
       "| V1 |\n",
       "|---|\n",
       "| p |\n",
       "| e |\n",
       "| e |\n",
       "| p |\n",
       "| e |\n",
       "| e |\n",
       "\n"
      ],
      "text/plain": [
       "  V1\n",
       "1 p \n",
       "2 e \n",
       "3 e \n",
       "4 p \n",
       "5 e \n",
       "6 e "
      ]
     },
     "metadata": {},
     "output_type": "display_data"
    }
   ],
   "source": [
    "mr3 <- data.frame(V1 = mr$V1)\n",
    "head(mr3)"
   ]
  },
  {
   "cell_type": "code",
   "execution_count": 16,
   "id": "60fdcca2",
   "metadata": {},
   "outputs": [
    {
     "data": {
      "text/html": [
       "<table>\n",
       "<thead><tr><th scope=col>V1</th><th scope=col>V2-1</th><th scope=col>V2-2</th><th scope=col>V2-3</th><th scope=col>V2-4</th><th scope=col>V2-5</th><th scope=col>V2-6</th><th scope=col>V3-1</th><th scope=col>V3-2</th><th scope=col>V3-3</th><th scope=col>...</th><th scope=col>V22-4</th><th scope=col>V22-5</th><th scope=col>V22-6</th><th scope=col>V23-1</th><th scope=col>V23-2</th><th scope=col>V23-3</th><th scope=col>V23-4</th><th scope=col>V23-5</th><th scope=col>V23-6</th><th scope=col>V23-7</th></tr></thead>\n",
       "<tbody>\n",
       "\t<tr><td>p    </td><td>FALSE</td><td>FALSE</td><td>FALSE</td><td>FALSE</td><td>FALSE</td><td> TRUE</td><td>FALSE</td><td>FALSE</td><td> TRUE</td><td>...  </td><td> TRUE</td><td>FALSE</td><td>FALSE</td><td>FALSE</td><td>FALSE</td><td>FALSE</td><td>FALSE</td><td>FALSE</td><td> TRUE</td><td>FALSE</td></tr>\n",
       "\t<tr><td>e    </td><td>FALSE</td><td>FALSE</td><td>FALSE</td><td>FALSE</td><td>FALSE</td><td> TRUE</td><td>FALSE</td><td>FALSE</td><td> TRUE</td><td>...  </td><td>FALSE</td><td>FALSE</td><td>FALSE</td><td>FALSE</td><td> TRUE</td><td>FALSE</td><td>FALSE</td><td>FALSE</td><td>FALSE</td><td>FALSE</td></tr>\n",
       "\t<tr><td>e    </td><td> TRUE</td><td>FALSE</td><td>FALSE</td><td>FALSE</td><td>FALSE</td><td>FALSE</td><td>FALSE</td><td>FALSE</td><td> TRUE</td><td>...  </td><td>FALSE</td><td>FALSE</td><td>FALSE</td><td>FALSE</td><td>FALSE</td><td>FALSE</td><td> TRUE</td><td>FALSE</td><td>FALSE</td><td>FALSE</td></tr>\n",
       "\t<tr><td>p    </td><td>FALSE</td><td>FALSE</td><td>FALSE</td><td>FALSE</td><td>FALSE</td><td> TRUE</td><td>FALSE</td><td>FALSE</td><td>FALSE</td><td>...  </td><td> TRUE</td><td>FALSE</td><td>FALSE</td><td>FALSE</td><td>FALSE</td><td>FALSE</td><td>FALSE</td><td>FALSE</td><td> TRUE</td><td>FALSE</td></tr>\n",
       "\t<tr><td>e    </td><td>FALSE</td><td>FALSE</td><td>FALSE</td><td>FALSE</td><td>FALSE</td><td> TRUE</td><td>FALSE</td><td>FALSE</td><td> TRUE</td><td>...  </td><td>FALSE</td><td>FALSE</td><td>FALSE</td><td>FALSE</td><td> TRUE</td><td>FALSE</td><td>FALSE</td><td>FALSE</td><td>FALSE</td><td>FALSE</td></tr>\n",
       "\t<tr><td>e    </td><td>FALSE</td><td>FALSE</td><td>FALSE</td><td>FALSE</td><td>FALSE</td><td> TRUE</td><td>FALSE</td><td>FALSE</td><td>FALSE</td><td>...  </td><td>FALSE</td><td>FALSE</td><td>FALSE</td><td>FALSE</td><td> TRUE</td><td>FALSE</td><td>FALSE</td><td>FALSE</td><td>FALSE</td><td>FALSE</td></tr>\n",
       "</tbody>\n",
       "</table>\n"
      ],
      "text/latex": [
       "\\begin{tabular}{r|llllllllllllllllllllllllllllllllllllllllllllllllllllllllllllllllllllllllllllllllllllllllllllllllllllllllllllllllllllll}\n",
       " V1 & V2-1 & V2-2 & V2-3 & V2-4 & V2-5 & V2-6 & V3-1 & V3-2 & V3-3 & ... & V22-4 & V22-5 & V22-6 & V23-1 & V23-2 & V23-3 & V23-4 & V23-5 & V23-6 & V23-7\\\\\n",
       "\\hline\n",
       "\t p     & FALSE & FALSE & FALSE & FALSE & FALSE &  TRUE & FALSE & FALSE &  TRUE & ...   &  TRUE & FALSE & FALSE & FALSE & FALSE & FALSE & FALSE & FALSE &  TRUE & FALSE\\\\\n",
       "\t e     & FALSE & FALSE & FALSE & FALSE & FALSE &  TRUE & FALSE & FALSE &  TRUE & ...   & FALSE & FALSE & FALSE & FALSE &  TRUE & FALSE & FALSE & FALSE & FALSE & FALSE\\\\\n",
       "\t e     &  TRUE & FALSE & FALSE & FALSE & FALSE & FALSE & FALSE & FALSE &  TRUE & ...   & FALSE & FALSE & FALSE & FALSE & FALSE & FALSE &  TRUE & FALSE & FALSE & FALSE\\\\\n",
       "\t p     & FALSE & FALSE & FALSE & FALSE & FALSE &  TRUE & FALSE & FALSE & FALSE & ...   &  TRUE & FALSE & FALSE & FALSE & FALSE & FALSE & FALSE & FALSE &  TRUE & FALSE\\\\\n",
       "\t e     & FALSE & FALSE & FALSE & FALSE & FALSE &  TRUE & FALSE & FALSE &  TRUE & ...   & FALSE & FALSE & FALSE & FALSE &  TRUE & FALSE & FALSE & FALSE & FALSE & FALSE\\\\\n",
       "\t e     & FALSE & FALSE & FALSE & FALSE & FALSE &  TRUE & FALSE & FALSE & FALSE & ...   & FALSE & FALSE & FALSE & FALSE &  TRUE & FALSE & FALSE & FALSE & FALSE & FALSE\\\\\n",
       "\\end{tabular}\n"
      ],
      "text/markdown": [
       "\n",
       "| V1 | V2-1 | V2-2 | V2-3 | V2-4 | V2-5 | V2-6 | V3-1 | V3-2 | V3-3 | ... | V22-4 | V22-5 | V22-6 | V23-1 | V23-2 | V23-3 | V23-4 | V23-5 | V23-6 | V23-7 |\n",
       "|---|---|---|---|---|---|---|---|---|---|---|---|---|---|---|---|---|---|---|---|---|\n",
       "| p     | FALSE | FALSE | FALSE | FALSE | FALSE |  TRUE | FALSE | FALSE |  TRUE | ...   |  TRUE | FALSE | FALSE | FALSE | FALSE | FALSE | FALSE | FALSE |  TRUE | FALSE |\n",
       "| e     | FALSE | FALSE | FALSE | FALSE | FALSE |  TRUE | FALSE | FALSE |  TRUE | ...   | FALSE | FALSE | FALSE | FALSE |  TRUE | FALSE | FALSE | FALSE | FALSE | FALSE |\n",
       "| e     |  TRUE | FALSE | FALSE | FALSE | FALSE | FALSE | FALSE | FALSE |  TRUE | ...   | FALSE | FALSE | FALSE | FALSE | FALSE | FALSE |  TRUE | FALSE | FALSE | FALSE |\n",
       "| p     | FALSE | FALSE | FALSE | FALSE | FALSE |  TRUE | FALSE | FALSE | FALSE | ...   |  TRUE | FALSE | FALSE | FALSE | FALSE | FALSE | FALSE | FALSE |  TRUE | FALSE |\n",
       "| e     | FALSE | FALSE | FALSE | FALSE | FALSE |  TRUE | FALSE | FALSE |  TRUE | ...   | FALSE | FALSE | FALSE | FALSE |  TRUE | FALSE | FALSE | FALSE | FALSE | FALSE |\n",
       "| e     | FALSE | FALSE | FALSE | FALSE | FALSE |  TRUE | FALSE | FALSE | FALSE | ...   | FALSE | FALSE | FALSE | FALSE |  TRUE | FALSE | FALSE | FALSE | FALSE | FALSE |\n",
       "\n"
      ],
      "text/plain": [
       "  V1 V2-1  V2-2  V2-3  V2-4  V2-5  V2-6  V3-1  V3-2  V3-3  ... V22-4 V22-5\n",
       "1 p  FALSE FALSE FALSE FALSE FALSE  TRUE FALSE FALSE  TRUE ...  TRUE FALSE\n",
       "2 e  FALSE FALSE FALSE FALSE FALSE  TRUE FALSE FALSE  TRUE ... FALSE FALSE\n",
       "3 e   TRUE FALSE FALSE FALSE FALSE FALSE FALSE FALSE  TRUE ... FALSE FALSE\n",
       "4 p  FALSE FALSE FALSE FALSE FALSE  TRUE FALSE FALSE FALSE ...  TRUE FALSE\n",
       "5 e  FALSE FALSE FALSE FALSE FALSE  TRUE FALSE FALSE  TRUE ... FALSE FALSE\n",
       "6 e  FALSE FALSE FALSE FALSE FALSE  TRUE FALSE FALSE FALSE ... FALSE FALSE\n",
       "  V22-6 V23-1 V23-2 V23-3 V23-4 V23-5 V23-6 V23-7\n",
       "1 FALSE FALSE FALSE FALSE FALSE FALSE  TRUE FALSE\n",
       "2 FALSE FALSE  TRUE FALSE FALSE FALSE FALSE FALSE\n",
       "3 FALSE FALSE FALSE FALSE  TRUE FALSE FALSE FALSE\n",
       "4 FALSE FALSE FALSE FALSE FALSE FALSE  TRUE FALSE\n",
       "5 FALSE FALSE  TRUE FALSE FALSE FALSE FALSE FALSE\n",
       "6 FALSE FALSE  TRUE FALSE FALSE FALSE FALSE FALSE"
      ]
     },
     "metadata": {},
     "output_type": "display_data"
    }
   ],
   "source": [
    "count = 2 #2번 컬럼부터 표시\n",
    "\n",
    "for(i in 2:23){\n",
    "    \n",
    "    for(j in sort(unique(mr[,i]))){\n",
    "        mr3 = cbind(mr3, mr[,i] == j)\n",
    "        colnames(mr3)[count] <- paste(\"V\",i,\"-\",j,sep=\"\")\n",
    "        count = count + 1\n",
    "        \n",
    "    }\n",
    "}\n",
    "head(mr3)"
   ]
  },
  {
   "cell_type": "code",
   "execution_count": 19,
   "id": "fc528f01",
   "metadata": {},
   "outputs": [
    {
     "data": {
      "text/html": [
       "<table>\n",
       "<thead><tr><th scope=col>V1</th><th scope=col>V2-1</th><th scope=col>V2-2</th><th scope=col>V2-3</th><th scope=col>V2-4</th><th scope=col>V2-5</th><th scope=col>V2-6</th><th scope=col>V3-1</th><th scope=col>V3-2</th><th scope=col>V3-3</th><th scope=col>...</th><th scope=col>V22-4</th><th scope=col>V22-5</th><th scope=col>V22-6</th><th scope=col>V23-1</th><th scope=col>V23-2</th><th scope=col>V23-3</th><th scope=col>V23-4</th><th scope=col>V23-5</th><th scope=col>V23-6</th><th scope=col>V23-7</th></tr></thead>\n",
       "<tbody>\n",
       "\t<tr><td>e    </td><td>FALSE</td><td>FALSE</td><td>FALSE</td><td>FALSE</td><td>FALSE</td><td> TRUE</td><td>FALSE</td><td>FALSE</td><td> TRUE</td><td>...  </td><td>FALSE</td><td>FALSE</td><td>FALSE</td><td>FALSE</td><td> TRUE</td><td>FALSE</td><td>FALSE</td><td>FALSE</td><td>FALSE</td><td>FALSE</td></tr>\n",
       "\t<tr><td>e    </td><td> TRUE</td><td>FALSE</td><td>FALSE</td><td>FALSE</td><td>FALSE</td><td>FALSE</td><td>FALSE</td><td>FALSE</td><td> TRUE</td><td>...  </td><td>FALSE</td><td>FALSE</td><td>FALSE</td><td>FALSE</td><td>FALSE</td><td>FALSE</td><td> TRUE</td><td>FALSE</td><td>FALSE</td><td>FALSE</td></tr>\n",
       "\t<tr><td>e    </td><td>FALSE</td><td>FALSE</td><td>FALSE</td><td>FALSE</td><td>FALSE</td><td> TRUE</td><td>FALSE</td><td>FALSE</td><td> TRUE</td><td>...  </td><td>FALSE</td><td>FALSE</td><td>FALSE</td><td>FALSE</td><td> TRUE</td><td>FALSE</td><td>FALSE</td><td>FALSE</td><td>FALSE</td><td>FALSE</td></tr>\n",
       "\t<tr><td>e    </td><td>FALSE</td><td>FALSE</td><td>FALSE</td><td>FALSE</td><td>FALSE</td><td> TRUE</td><td>FALSE</td><td>FALSE</td><td>FALSE</td><td>...  </td><td>FALSE</td><td>FALSE</td><td>FALSE</td><td>FALSE</td><td> TRUE</td><td>FALSE</td><td>FALSE</td><td>FALSE</td><td>FALSE</td><td>FALSE</td></tr>\n",
       "\t<tr><td>e    </td><td> TRUE</td><td>FALSE</td><td>FALSE</td><td>FALSE</td><td>FALSE</td><td>FALSE</td><td>FALSE</td><td>FALSE</td><td> TRUE</td><td>...  </td><td>FALSE</td><td>FALSE</td><td>FALSE</td><td>FALSE</td><td>FALSE</td><td>FALSE</td><td> TRUE</td><td>FALSE</td><td>FALSE</td><td>FALSE</td></tr>\n",
       "\t<tr><td>e    </td><td> TRUE</td><td>FALSE</td><td>FALSE</td><td>FALSE</td><td>FALSE</td><td>FALSE</td><td>FALSE</td><td>FALSE</td><td>FALSE</td><td>...  </td><td> TRUE</td><td>FALSE</td><td>FALSE</td><td>FALSE</td><td>FALSE</td><td>FALSE</td><td> TRUE</td><td>FALSE</td><td>FALSE</td><td>FALSE</td></tr>\n",
       "</tbody>\n",
       "</table>\n"
      ],
      "text/latex": [
       "\\begin{tabular}{r|llllllllllllllllllllllllllllllllllllllllllllllllllllllllllllllllllllllllllllllllllllllllllllllllllllllllllllllllllllll}\n",
       " V1 & V2-1 & V2-2 & V2-3 & V2-4 & V2-5 & V2-6 & V3-1 & V3-2 & V3-3 & ... & V22-4 & V22-5 & V22-6 & V23-1 & V23-2 & V23-3 & V23-4 & V23-5 & V23-6 & V23-7\\\\\n",
       "\\hline\n",
       "\t e     & FALSE & FALSE & FALSE & FALSE & FALSE &  TRUE & FALSE & FALSE &  TRUE & ...   & FALSE & FALSE & FALSE & FALSE &  TRUE & FALSE & FALSE & FALSE & FALSE & FALSE\\\\\n",
       "\t e     &  TRUE & FALSE & FALSE & FALSE & FALSE & FALSE & FALSE & FALSE &  TRUE & ...   & FALSE & FALSE & FALSE & FALSE & FALSE & FALSE &  TRUE & FALSE & FALSE & FALSE\\\\\n",
       "\t e     & FALSE & FALSE & FALSE & FALSE & FALSE &  TRUE & FALSE & FALSE &  TRUE & ...   & FALSE & FALSE & FALSE & FALSE &  TRUE & FALSE & FALSE & FALSE & FALSE & FALSE\\\\\n",
       "\t e     & FALSE & FALSE & FALSE & FALSE & FALSE &  TRUE & FALSE & FALSE & FALSE & ...   & FALSE & FALSE & FALSE & FALSE &  TRUE & FALSE & FALSE & FALSE & FALSE & FALSE\\\\\n",
       "\t e     &  TRUE & FALSE & FALSE & FALSE & FALSE & FALSE & FALSE & FALSE &  TRUE & ...   & FALSE & FALSE & FALSE & FALSE & FALSE & FALSE &  TRUE & FALSE & FALSE & FALSE\\\\\n",
       "\t e     &  TRUE & FALSE & FALSE & FALSE & FALSE & FALSE & FALSE & FALSE & FALSE & ...   &  TRUE & FALSE & FALSE & FALSE & FALSE & FALSE &  TRUE & FALSE & FALSE & FALSE\\\\\n",
       "\\end{tabular}\n"
      ],
      "text/markdown": [
       "\n",
       "| V1 | V2-1 | V2-2 | V2-3 | V2-4 | V2-5 | V2-6 | V3-1 | V3-2 | V3-3 | ... | V22-4 | V22-5 | V22-6 | V23-1 | V23-2 | V23-3 | V23-4 | V23-5 | V23-6 | V23-7 |\n",
       "|---|---|---|---|---|---|---|---|---|---|---|---|---|---|---|---|---|---|---|---|---|\n",
       "| e     | FALSE | FALSE | FALSE | FALSE | FALSE |  TRUE | FALSE | FALSE |  TRUE | ...   | FALSE | FALSE | FALSE | FALSE |  TRUE | FALSE | FALSE | FALSE | FALSE | FALSE |\n",
       "| e     |  TRUE | FALSE | FALSE | FALSE | FALSE | FALSE | FALSE | FALSE |  TRUE | ...   | FALSE | FALSE | FALSE | FALSE | FALSE | FALSE |  TRUE | FALSE | FALSE | FALSE |\n",
       "| e     | FALSE | FALSE | FALSE | FALSE | FALSE |  TRUE | FALSE | FALSE |  TRUE | ...   | FALSE | FALSE | FALSE | FALSE |  TRUE | FALSE | FALSE | FALSE | FALSE | FALSE |\n",
       "| e     | FALSE | FALSE | FALSE | FALSE | FALSE |  TRUE | FALSE | FALSE | FALSE | ...   | FALSE | FALSE | FALSE | FALSE |  TRUE | FALSE | FALSE | FALSE | FALSE | FALSE |\n",
       "| e     |  TRUE | FALSE | FALSE | FALSE | FALSE | FALSE | FALSE | FALSE |  TRUE | ...   | FALSE | FALSE | FALSE | FALSE | FALSE | FALSE |  TRUE | FALSE | FALSE | FALSE |\n",
       "| e     |  TRUE | FALSE | FALSE | FALSE | FALSE | FALSE | FALSE | FALSE | FALSE | ...   |  TRUE | FALSE | FALSE | FALSE | FALSE | FALSE |  TRUE | FALSE | FALSE | FALSE |\n",
       "\n"
      ],
      "text/plain": [
       "  V1 V2-1  V2-2  V2-3  V2-4  V2-5  V2-6  V3-1  V3-2  V3-3  ... V22-4 V22-5\n",
       "1 e  FALSE FALSE FALSE FALSE FALSE  TRUE FALSE FALSE  TRUE ... FALSE FALSE\n",
       "2 e   TRUE FALSE FALSE FALSE FALSE FALSE FALSE FALSE  TRUE ... FALSE FALSE\n",
       "3 e  FALSE FALSE FALSE FALSE FALSE  TRUE FALSE FALSE  TRUE ... FALSE FALSE\n",
       "4 e  FALSE FALSE FALSE FALSE FALSE  TRUE FALSE FALSE FALSE ... FALSE FALSE\n",
       "5 e   TRUE FALSE FALSE FALSE FALSE FALSE FALSE FALSE  TRUE ... FALSE FALSE\n",
       "6 e   TRUE FALSE FALSE FALSE FALSE FALSE FALSE FALSE FALSE ...  TRUE FALSE\n",
       "  V22-6 V23-1 V23-2 V23-3 V23-4 V23-5 V23-6 V23-7\n",
       "1 FALSE FALSE  TRUE FALSE FALSE FALSE FALSE FALSE\n",
       "2 FALSE FALSE FALSE FALSE  TRUE FALSE FALSE FALSE\n",
       "3 FALSE FALSE  TRUE FALSE FALSE FALSE FALSE FALSE\n",
       "4 FALSE FALSE  TRUE FALSE FALSE FALSE FALSE FALSE\n",
       "5 FALSE FALSE FALSE FALSE  TRUE FALSE FALSE FALSE\n",
       "6 FALSE FALSE FALSE FALSE  TRUE FALSE FALSE FALSE"
      ]
     },
     "metadata": {},
     "output_type": "display_data"
    }
   ],
   "source": [
    "mr3 <- arrange(mr3, V1)\n",
    "head(mr3)"
   ]
  },
  {
   "cell_type": "code",
   "execution_count": 23,
   "id": "4c46cb99",
   "metadata": {},
   "outputs": [
    {
     "data": {
      "text/plain": [
       " V1          V2-1            V2-2            V2-3            V2-4        \n",
       " e:4208   Mode :logical   Mode :logical   Mode :logical   Mode :logical  \n",
       " p:3916   FALSE:7672      FALSE:8120      FALSE:4972      FALSE:7296     \n",
       "          TRUE :452       TRUE :4         TRUE :3152      TRUE :828      \n",
       "    V2-5            V2-6            V3-1            V3-2        \n",
       " Mode :logical   Mode :logical   Mode :logical   Mode :logical  \n",
       " FALSE:8092      FALSE:4468      FALSE:5804      FALSE:8120     \n",
       " TRUE :32        TRUE :3656      TRUE :2320      TRUE :4        \n",
       "    V3-3            V3-4            V4-1            V4-2        \n",
       " Mode :logical   Mode :logical   Mode :logical   Mode :logical  \n",
       " FALSE:5568      FALSE:4880      FALSE:7956      FALSE:8080     \n",
       " TRUE :2556      TRUE :3244      TRUE :168       TRUE :44       \n",
       "    V4-3            V4-4            V4-5            V4-6        \n",
       " Mode :logical   Mode :logical   Mode :logical   Mode :logical  \n",
       " FALSE:6624      FALSE:6284      FALSE:5840      FALSE:7980     \n",
       " TRUE :1500      TRUE :1840      TRUE :2284      TRUE :144      \n",
       "    V4-7            V4-8            V4-9           V4-10        \n",
       " Mode :logical   Mode :logical   Mode :logical   Mode :logical  \n",
       " FALSE:8108      FALSE:8108      FALSE:7084      FALSE:7052     \n",
       " TRUE :16        TRUE :16        TRUE :1040      TRUE :1072     \n",
       "    V5-1            V5-2            V6-1            V6-2        \n",
       " Mode :logical   Mode :logical   Mode :logical   Mode :logical  \n",
       " FALSE:3376      FALSE:4748      FALSE:7724      FALSE:7932     \n",
       " TRUE :4748      TRUE :3376      TRUE :400       TRUE :192      \n",
       "    V6-3            V6-4            V6-5            V6-6        \n",
       " Mode :logical   Mode :logical   Mode :logical   Mode :logical  \n",
       " FALSE:5964      FALSE:7724      FALSE:8088      FALSE:4596     \n",
       " TRUE :2160      TRUE :400       TRUE :36        TRUE :3528     \n",
       "    V6-7            V6-8            V6-9            V7-1        \n",
       " Mode :logical   Mode :logical   Mode :logical   Mode :logical  \n",
       " FALSE:7868      FALSE:7548      FALSE:7548      FALSE:7914     \n",
       " TRUE :256       TRUE :576       TRUE :576       TRUE :210      \n",
       "    V7-2            V8-1            V8-2            V9-1        \n",
       " Mode :logical   Mode :logical   Mode :logical   Mode :logical  \n",
       " FALSE:210       FALSE:1312      FALSE:6812      FALSE:2512     \n",
       " TRUE :7914      TRUE :6812      TRUE :1312      TRUE :5612     \n",
       "    V9-2           V10-1           V10-2           V10-3        \n",
       " Mode :logical   Mode :logical   Mode :logical   Mode :logical  \n",
       " FALSE:5612      FALSE:6396      FALSE:8028      FALSE:7372     \n",
       " TRUE :2512      TRUE :1728      TRUE :96        TRUE :752      \n",
       "   V10-4           V10-5           V10-6           V10-7        \n",
       " Mode :logical   Mode :logical   Mode :logical   Mode :logical  \n",
       " FALSE:7392      FALSE:7716      FALSE:7076      FALSE:8060     \n",
       " TRUE :732       TRUE :408       TRUE :1048      TRUE :64       \n",
       "   V10-8           V10-9           V10-10          V10-11       \n",
       " Mode :logical   Mode :logical   Mode :logical   Mode :logical  \n",
       " FALSE:6632      FALSE:8100      FALSE:7632      FALSE:6922     \n",
       " TRUE :1492      TRUE :24        TRUE :492       TRUE :1202     \n",
       "   V10-12          V11-1           V11-2           V12-1        \n",
       " Mode :logical   Mode :logical   Mode :logical   Mode :logical  \n",
       " FALSE:8038      FALSE:4608      FALSE:3516      FALSE:5644     \n",
       " TRUE :86        TRUE :3516      TRUE :4608      TRUE :2480     \n",
       "   V12-2           V12-3           V12-4           V12-5        \n",
       " Mode :logical   Mode :logical   Mode :logical   Mode :logical  \n",
       " FALSE:4348      FALSE:7568      FALSE:7004      FALSE:7932     \n",
       " TRUE :3776      TRUE :556       TRUE :1120      TRUE :192      \n",
       "   V13-1           V13-2           V13-3           V13-4        \n",
       " Mode :logical   Mode :logical   Mode :logical   Mode :logical  \n",
       " FALSE:7572      FALSE:5752      FALSE:2948      FALSE:8100     \n",
       " TRUE :552       TRUE :2372      TRUE :5176      TRUE :24       \n",
       "   V14-1           V14-2           V14-3           V14-4        \n",
       " Mode :logical   Mode :logical   Mode :logical   Mode :logical  \n",
       " FALSE:7524      FALSE:5820      FALSE:3188      FALSE:7840     \n",
       " TRUE :600       TRUE :2304      TRUE :4936      TRUE :284      \n",
       "   V15-1           V15-2           V15-3           V15-4        \n",
       " Mode :logical   Mode :logical   Mode :logical   Mode :logical  \n",
       " FALSE:7692      FALSE:8088      FALSE:8028      FALSE:7548     \n",
       " TRUE :432       TRUE :36        TRUE :96        TRUE :576      \n",
       "   V15-5           V15-6           V15-7           V15-8        \n",
       " Mode :logical   Mode :logical   Mode :logical   Mode :logical  \n",
       " FALSE:7676      FALSE:7932      FALSE:6252      FALSE:3660     \n",
       " TRUE :448       TRUE :192       TRUE :1872      TRUE :4464     \n",
       "   V15-9           V16-1           V16-2           V16-3        \n",
       " Mode :logical   Mode :logical   Mode :logical   Mode :logical  \n",
       " FALSE:8116      FALSE:7692      FALSE:8088      FALSE:8028     \n",
       " TRUE :8         TRUE :432       TRUE :36        TRUE :96       \n",
       "   V16-4           V16-5           V16-6           V16-7        \n",
       " Mode :logical   Mode :logical   Mode :logical   Mode :logical  \n",
       " FALSE:7548      FALSE:7612      FALSE:7932      FALSE:6252     \n",
       " TRUE :576       TRUE :512       TRUE :192       TRUE :1872     \n",
       "   V16-8           V16-9          V17-1           V18-1           V18-2        \n",
       " Mode :logical   Mode :logical   Mode:logical   Mode :logical   Mode :logical  \n",
       " FALSE:3740      FALSE:8100      TRUE:8124      FALSE:8028      FALSE:8028     \n",
       " TRUE :4384      TRUE :24                       TRUE :96        TRUE :96       \n",
       "   V18-3           V18-4           V19-1           V19-2        \n",
       " Mode :logical   Mode :logical   Mode :logical   Mode :logical  \n",
       " FALSE:200       FALSE:8116      FALSE:8088      FALSE:636      \n",
       " TRUE :7924      TRUE :8         TRUE :36        TRUE :7488     \n",
       "   V19-3           V20-1           V20-2           V20-3        \n",
       " Mode :logical   Mode :logical   Mode :logical   Mode :logical  \n",
       " FALSE:7524      FALSE:5348      FALSE:8076      FALSE:6828     \n",
       " TRUE :600       TRUE :2776      TRUE :48        TRUE :1296     \n",
       "   V20-4           V20-5           V21-1           V21-2        \n",
       " Mode :logical   Mode :logical   Mode :logical   Mode :logical  \n",
       " FALSE:8088      FALSE:4156      FALSE:8076      FALSE:6492     \n",
       " TRUE :36        TRUE :3968      TRUE :48        TRUE :1632     \n",
       "   V21-3           V21-4           V21-5           V21-6        \n",
       " Mode :logical   Mode :logical   Mode :logical   Mode :logical  \n",
       " FALSE:6252      FALSE:6156      FALSE:8076      FALSE:8052     \n",
       " TRUE :1872      TRUE :1968      TRUE :48        TRUE :72       \n",
       "   V21-7           V21-8           V21-9           V22-1        \n",
       " Mode :logical   Mode :logical   Mode :logical   Mode :logical  \n",
       " FALSE:8076      FALSE:5736      FALSE:8076      FALSE:7740     \n",
       " TRUE :48        TRUE :2388      TRUE :48        TRUE :384      \n",
       "   V22-2           V22-3           V22-4           V22-5        \n",
       " Mode :logical   Mode :logical   Mode :logical   Mode :logical  \n",
       " FALSE:7784      FALSE:7724      FALSE:6876      FALSE:4084     \n",
       " TRUE :340       TRUE :400       TRUE :1248      TRUE :4040     \n",
       "   V22-6           V23-1           V23-2           V23-3        \n",
       " Mode :logical   Mode :logical   Mode :logical   Mode :logical  \n",
       " FALSE:6412      FALSE:4976      FALSE:5976      FALSE:7292     \n",
       " TRUE :1712      TRUE :3148      TRUE :2148      TRUE :832      \n",
       "   V23-4           V23-5           V23-6           V23-7        \n",
       " Mode :logical   Mode :logical   Mode :logical   Mode :logical  \n",
       " FALSE:7832      FALSE:6980      FALSE:7756      FALSE:7932     \n",
       " TRUE :292       TRUE :1144      TRUE :368       TRUE :192      "
      ]
     },
     "metadata": {},
     "output_type": "display_data"
    }
   ],
   "source": [
    "summary(mr3)"
   ]
  },
  {
   "cell_type": "markdown",
   "id": "fcc214b2",
   "metadata": {},
   "source": [
    "Target 컬럼이 6:4가 넘어가면 안좋다.  \n",
    "3916/4208 = 0.930608365019011  \n",
    "이건 좋은 데이터! 확률로 확인하기!  \n",
    "버섯은 생물학자가...  \n",
    "타이타닉에서 추려냈던것처럼 다 되어있다고 생각하고 예측률 계산하기  "
   ]
  },
  {
   "cell_type": "code",
   "execution_count": 25,
   "id": "2d969682",
   "metadata": {},
   "outputs": [
    {
     "data": {
      "text/html": [
       "<table>\n",
       "<thead><tr><th scope=col>Resample1</th></tr></thead>\n",
       "<tbody>\n",
       "\t<tr><td>2</td></tr>\n",
       "\t<tr><td>3</td></tr>\n",
       "\t<tr><td>4</td></tr>\n",
       "\t<tr><td>5</td></tr>\n",
       "\t<tr><td>6</td></tr>\n",
       "\t<tr><td>7</td></tr>\n",
       "</tbody>\n",
       "</table>\n"
      ],
      "text/latex": [
       "\\begin{tabular}{l}\n",
       " Resample1\\\\\n",
       "\\hline\n",
       "\t 2\\\\\n",
       "\t 3\\\\\n",
       "\t 4\\\\\n",
       "\t 5\\\\\n",
       "\t 6\\\\\n",
       "\t 7\\\\\n",
       "\\end{tabular}\n"
      ],
      "text/markdown": [
       "\n",
       "| Resample1 |\n",
       "|---|\n",
       "| 2 |\n",
       "| 3 |\n",
       "| 4 |\n",
       "| 5 |\n",
       "| 6 |\n",
       "| 7 |\n",
       "\n"
      ],
      "text/plain": [
       "     Resample1\n",
       "[1,] 2        \n",
       "[2,] 3        \n",
       "[3,] 4        \n",
       "[4,] 5        \n",
       "[5,] 6        \n",
       "[6,] 7        "
      ]
     },
     "metadata": {},
     "output_type": "display_data"
    }
   ],
   "source": [
    "#Sampling\n",
    "library(caret)\n",
    "set.seed(1234)\n",
    "samp <- createDataPartition(mr3$V1, p=0.7,list=F)\n",
    "head(samp)"
   ]
  },
  {
   "cell_type": "code",
   "execution_count": 32,
   "id": "7c47e20b",
   "metadata": {},
   "outputs": [],
   "source": [
    "#학습용\n",
    "mr3.tr <-mr3[samp,]\n",
    "#검증용\n",
    "mr3.test <-mr3[-samp,]"
   ]
  },
  {
   "cell_type": "code",
   "execution_count": 27,
   "id": "d5c26919",
   "metadata": {},
   "outputs": [],
   "source": [
    "# 예측률계산에 사용할 라이브러리\n",
    "library(nnet)\n",
    "library(party)\n",
    "library(randomForest)\n",
    "library(e1071)"
   ]
  },
  {
   "cell_type": "code",
   "execution_count": 33,
   "id": "d9fe5bc1",
   "metadata": {},
   "outputs": [
    {
     "name": "stdout",
     "output_type": "stream",
     "text": [
      "# weights:  358\n",
      "initial  value 3968.355213 \n",
      "iter  10 value 110.110472\n",
      "iter  20 value 4.044862\n",
      "iter  30 value 0.028733\n",
      "iter  40 value 0.001970\n",
      "iter  50 value 0.001018\n",
      "iter  60 value 0.000256\n",
      "iter  70 value 0.000167\n",
      "final  value 0.000091 \n",
      "converged\n"
     ]
    },
    {
     "data": {
      "text/html": [
       "1"
      ],
      "text/latex": [
       "1"
      ],
      "text/markdown": [
       "1"
      ],
      "text/plain": [
       "[1] 1"
      ]
     },
     "metadata": {},
     "output_type": "display_data"
    },
    {
     "data": {
      "text/plain": [
       "      y\n",
       "인pred    e    p\n",
       "     e 1262    0\n",
       "     p    0 1174"
      ]
     },
     "metadata": {},
     "output_type": "display_data"
    }
   ],
   "source": [
    "x <- subset(mr3.test, select = -V1)\n",
    "y <- mr3.test$V1\n",
    "model.nnet <- nnet(V1 ~ ., data=mr3.tr, size=3)\n",
    "인pred <- predict(model.nnet, x, type = \"class\")\n",
    "mean(인pred == y)\n",
    "table(인pred, y)"
   ]
  },
  {
   "cell_type": "code",
   "execution_count": null,
   "id": "0cdbd127",
   "metadata": {},
   "outputs": [],
   "source": []
  },
  {
   "cell_type": "code",
   "execution_count": null,
   "id": "673487d6",
   "metadata": {},
   "outputs": [],
   "source": []
  },
  {
   "cell_type": "code",
   "execution_count": null,
   "id": "b5630dfd",
   "metadata": {},
   "outputs": [],
   "source": []
  },
  {
   "cell_type": "code",
   "execution_count": null,
   "id": "93aa9b21",
   "metadata": {},
   "outputs": [],
   "source": []
  },
  {
   "cell_type": "code",
   "execution_count": null,
   "id": "6fb2772c",
   "metadata": {},
   "outputs": [],
   "source": []
  },
  {
   "cell_type": "code",
   "execution_count": null,
   "id": "f0e5bc9e",
   "metadata": {},
   "outputs": [],
   "source": []
  },
  {
   "cell_type": "code",
   "execution_count": null,
   "id": "1b0e1ef2",
   "metadata": {},
   "outputs": [],
   "source": []
  }
 ],
 "metadata": {
  "kernelspec": {
   "display_name": "R",
   "language": "R",
   "name": "ir"
  },
  "language_info": {
   "codemirror_mode": "r",
   "file_extension": ".r",
   "mimetype": "text/x-r-source",
   "name": "R",
   "pygments_lexer": "r",
   "version": "3.6.1"
  }
 },
 "nbformat": 4,
 "nbformat_minor": 5
}
