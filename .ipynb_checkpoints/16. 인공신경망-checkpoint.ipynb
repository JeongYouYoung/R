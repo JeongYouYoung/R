{
 "cells": [
  {
   "cell_type": "markdown",
   "id": "2f4943b8",
   "metadata": {},
   "source": [
    "# 인공신경망\n",
    "> 머신러닝(Machine Learning)\n",
    "- R에서는 딥러닝 구현을 못해. 이건 통계위주의 프로그램\n",
    "- 딥러닝은 파이썬으로 진행. <br>\n",
    "\n",
    "#### 데이터를 보고 어떤걸 사용하는게 좋을지를 아는게 좋다.\n",
    "- 비정형 데이터 : 딥러닝이 좋아.\n",
    "- 정형 데이터 : 머신러닝이 좋아."
   ]
  },
  {
   "cell_type": "markdown",
   "id": "ec205f3d",
   "metadata": {},
   "source": [
    "---"
   ]
  },
  {
   "cell_type": "markdown",
   "id": "ae0accbf",
   "metadata": {},
   "source": [
    "# Machine Learning"
   ]
  },
  {
   "cell_type": "markdown",
   "id": "57ccc2f6",
   "metadata": {},
   "source": [
    "### 인공신경망\n",
    "- 인공신경망은 Python 에서 Deep Learning으로 발전됨\n"
   ]
  },
  {
   "cell_type": "code",
   "execution_count": 8,
   "id": "7e7dd2f6",
   "metadata": {},
   "outputs": [
    {
     "name": "stdout",
     "output_type": "stream",
     "text": [
      "  Sepal.Length Sepal.Width Petal.Length Petal.Width Species\n",
      "1          5.1         3.5          1.4         0.2  setosa\n",
      "2          4.9         3.0          1.4         0.2  setosa\n",
      "3          4.7         3.2          1.3         0.2  setosa\n",
      "4          4.6         3.1          1.5         0.2  setosa\n",
      "5          5.0         3.6          1.4         0.2  setosa\n",
      "6          5.4         3.9          1.7         0.4  setosa\n"
     ]
    }
   ],
   "source": [
    "#rownames가 중요\n",
    "print(head(iris))"
   ]
  },
  {
   "cell_type": "markdown",
   "id": "c29c76c6",
   "metadata": {},
   "source": [
    "##### 학습용 데이터와 검증용 데이터의 분리"
   ]
  },
  {
   "cell_type": "code",
   "execution_count": 11,
   "id": "95b7c7bf",
   "metadata": {},
   "outputs": [
    {
     "data": {
      "text/html": [
       "<ol class=list-inline>\n",
       "\t<li>28</li>\n",
       "\t<li>16</li>\n",
       "\t<li>22</li>\n",
       "\t<li>37</li>\n",
       "\t<li>44</li>\n",
       "\t<li>9</li>\n",
       "\t<li>5</li>\n",
       "\t<li>38</li>\n",
       "\t<li>49</li>\n",
       "\t<li>4</li>\n",
       "\t<li>34</li>\n",
       "\t<li>39</li>\n",
       "\t<li>48</li>\n",
       "\t<li>26</li>\n",
       "\t<li>6</li>\n",
       "\t<li>15</li>\n",
       "\t<li>14</li>\n",
       "\t<li>40</li>\n",
       "\t<li>30</li>\n",
       "\t<li>24</li>\n",
       "\t<li>32</li>\n",
       "\t<li>41</li>\n",
       "\t<li>29</li>\n",
       "\t<li>21</li>\n",
       "\t<li>8</li>\n",
       "\t<li>20</li>\n",
       "\t<li>31</li>\n",
       "\t<li>3</li>\n",
       "\t<li>50</li>\n",
       "\t<li>46</li>\n",
       "\t<li>2</li>\n",
       "\t<li>35</li>\n",
       "\t<li>47</li>\n",
       "\t<li>42</li>\n",
       "\t<li>12</li>\n",
       "\t<li>53</li>\n",
       "\t<li>73</li>\n",
       "\t<li>91</li>\n",
       "\t<li>86</li>\n",
       "\t<li>58</li>\n",
       "\t<li>82</li>\n",
       "\t<li>92</li>\n",
       "\t<li>93</li>\n",
       "\t<li>52</li>\n",
       "\t<li>65</li>\n",
       "\t<li>88</li>\n",
       "\t<li>56</li>\n",
       "\t<li>79</li>\n",
       "\t<li>95</li>\n",
       "\t<li>96</li>\n",
       "\t<li>76</li>\n",
       "\t<li>67</li>\n",
       "\t<li>97</li>\n",
       "\t<li>60</li>\n",
       "\t<li>98</li>\n",
       "\t<li>72</li>\n",
       "\t<li>100</li>\n",
       "\t<li>59</li>\n",
       "\t<li>66</li>\n",
       "\t<li>90</li>\n",
       "\t<li>80</li>\n",
       "\t<li>87</li>\n",
       "\t<li>99</li>\n",
       "\t<li>75</li>\n",
       "\t<li>63</li>\n",
       "\t<li>85</li>\n",
       "\t<li>69</li>\n",
       "\t<li>68</li>\n",
       "\t<li>89</li>\n",
       "\t<li>62</li>\n",
       "\t<li>120</li>\n",
       "\t<li>141</li>\n",
       "\t<li>107</li>\n",
       "\t<li>132</li>\n",
       "\t<li>106</li>\n",
       "\t<li>137</li>\n",
       "\t<li>127</li>\n",
       "\t<li>112</li>\n",
       "\t<li>108</li>\n",
       "\t<li>101</li>\n",
       "\t<li>136</li>\n",
       "\t<li>128</li>\n",
       "\t<li>119</li>\n",
       "\t<li>109</li>\n",
       "\t<li>130</li>\n",
       "\t<li>117</li>\n",
       "\t<li>122</li>\n",
       "\t<li>146</li>\n",
       "\t<li>121</li>\n",
       "\t<li>147</li>\n",
       "\t<li>113</li>\n",
       "\t<li>135</li>\n",
       "\t<li>102</li>\n",
       "\t<li>133</li>\n",
       "\t<li>126</li>\n",
       "\t<li>139</li>\n",
       "\t<li>131</li>\n",
       "\t<li>116</li>\n",
       "\t<li>111</li>\n",
       "\t<li>104</li>\n",
       "\t<li>103</li>\n",
       "\t<li>124</li>\n",
       "\t<li>110</li>\n",
       "\t<li>144</li>\n",
       "\t<li>129</li>\n",
       "</ol>\n"
      ],
      "text/latex": [
       "\\begin{enumerate*}\n",
       "\\item 28\n",
       "\\item 16\n",
       "\\item 22\n",
       "\\item 37\n",
       "\\item 44\n",
       "\\item 9\n",
       "\\item 5\n",
       "\\item 38\n",
       "\\item 49\n",
       "\\item 4\n",
       "\\item 34\n",
       "\\item 39\n",
       "\\item 48\n",
       "\\item 26\n",
       "\\item 6\n",
       "\\item 15\n",
       "\\item 14\n",
       "\\item 40\n",
       "\\item 30\n",
       "\\item 24\n",
       "\\item 32\n",
       "\\item 41\n",
       "\\item 29\n",
       "\\item 21\n",
       "\\item 8\n",
       "\\item 20\n",
       "\\item 31\n",
       "\\item 3\n",
       "\\item 50\n",
       "\\item 46\n",
       "\\item 2\n",
       "\\item 35\n",
       "\\item 47\n",
       "\\item 42\n",
       "\\item 12\n",
       "\\item 53\n",
       "\\item 73\n",
       "\\item 91\n",
       "\\item 86\n",
       "\\item 58\n",
       "\\item 82\n",
       "\\item 92\n",
       "\\item 93\n",
       "\\item 52\n",
       "\\item 65\n",
       "\\item 88\n",
       "\\item 56\n",
       "\\item 79\n",
       "\\item 95\n",
       "\\item 96\n",
       "\\item 76\n",
       "\\item 67\n",
       "\\item 97\n",
       "\\item 60\n",
       "\\item 98\n",
       "\\item 72\n",
       "\\item 100\n",
       "\\item 59\n",
       "\\item 66\n",
       "\\item 90\n",
       "\\item 80\n",
       "\\item 87\n",
       "\\item 99\n",
       "\\item 75\n",
       "\\item 63\n",
       "\\item 85\n",
       "\\item 69\n",
       "\\item 68\n",
       "\\item 89\n",
       "\\item 62\n",
       "\\item 120\n",
       "\\item 141\n",
       "\\item 107\n",
       "\\item 132\n",
       "\\item 106\n",
       "\\item 137\n",
       "\\item 127\n",
       "\\item 112\n",
       "\\item 108\n",
       "\\item 101\n",
       "\\item 136\n",
       "\\item 128\n",
       "\\item 119\n",
       "\\item 109\n",
       "\\item 130\n",
       "\\item 117\n",
       "\\item 122\n",
       "\\item 146\n",
       "\\item 121\n",
       "\\item 147\n",
       "\\item 113\n",
       "\\item 135\n",
       "\\item 102\n",
       "\\item 133\n",
       "\\item 126\n",
       "\\item 139\n",
       "\\item 131\n",
       "\\item 116\n",
       "\\item 111\n",
       "\\item 104\n",
       "\\item 103\n",
       "\\item 124\n",
       "\\item 110\n",
       "\\item 144\n",
       "\\item 129\n",
       "\\end{enumerate*}\n"
      ],
      "text/markdown": [
       "1. 28\n",
       "2. 16\n",
       "3. 22\n",
       "4. 37\n",
       "5. 44\n",
       "6. 9\n",
       "7. 5\n",
       "8. 38\n",
       "9. 49\n",
       "10. 4\n",
       "11. 34\n",
       "12. 39\n",
       "13. 48\n",
       "14. 26\n",
       "15. 6\n",
       "16. 15\n",
       "17. 14\n",
       "18. 40\n",
       "19. 30\n",
       "20. 24\n",
       "21. 32\n",
       "22. 41\n",
       "23. 29\n",
       "24. 21\n",
       "25. 8\n",
       "26. 20\n",
       "27. 31\n",
       "28. 3\n",
       "29. 50\n",
       "30. 46\n",
       "31. 2\n",
       "32. 35\n",
       "33. 47\n",
       "34. 42\n",
       "35. 12\n",
       "36. 53\n",
       "37. 73\n",
       "38. 91\n",
       "39. 86\n",
       "40. 58\n",
       "41. 82\n",
       "42. 92\n",
       "43. 93\n",
       "44. 52\n",
       "45. 65\n",
       "46. 88\n",
       "47. 56\n",
       "48. 79\n",
       "49. 95\n",
       "50. 96\n",
       "51. 76\n",
       "52. 67\n",
       "53. 97\n",
       "54. 60\n",
       "55. 98\n",
       "56. 72\n",
       "57. 100\n",
       "58. 59\n",
       "59. 66\n",
       "60. 90\n",
       "61. 80\n",
       "62. 87\n",
       "63. 99\n",
       "64. 75\n",
       "65. 63\n",
       "66. 85\n",
       "67. 69\n",
       "68. 68\n",
       "69. 89\n",
       "70. 62\n",
       "71. 120\n",
       "72. 141\n",
       "73. 107\n",
       "74. 132\n",
       "75. 106\n",
       "76. 137\n",
       "77. 127\n",
       "78. 112\n",
       "79. 108\n",
       "80. 101\n",
       "81. 136\n",
       "82. 128\n",
       "83. 119\n",
       "84. 109\n",
       "85. 130\n",
       "86. 117\n",
       "87. 122\n",
       "88. 146\n",
       "89. 121\n",
       "90. 147\n",
       "91. 113\n",
       "92. 135\n",
       "93. 102\n",
       "94. 133\n",
       "95. 126\n",
       "96. 139\n",
       "97. 131\n",
       "98. 116\n",
       "99. 111\n",
       "100. 104\n",
       "101. 103\n",
       "102. 124\n",
       "103. 110\n",
       "104. 144\n",
       "105. 129\n",
       "\n",
       "\n"
      ],
      "text/plain": [
       "  [1]  28  16  22  37  44   9   5  38  49   4  34  39  48  26   6  15  14  40\n",
       " [19]  30  24  32  41  29  21   8  20  31   3  50  46   2  35  47  42  12  53\n",
       " [37]  73  91  86  58  82  92  93  52  65  88  56  79  95  96  76  67  97  60\n",
       " [55]  98  72 100  59  66  90  80  87  99  75  63  85  69  68  89  62 120 141\n",
       " [73] 107 132 106 137 127 112 108 101 136 128 119 109 130 117 122 146 121 147\n",
       " [91] 113 135 102 133 126 139 131 116 111 104 103 124 110 144 129"
      ]
     },
     "metadata": {},
     "output_type": "display_data"
    }
   ],
   "source": [
    "set.seed(1234) # 수업에서만 쓸수 있는것\n",
    "samp <- c(sample(1:50, 35),sample(51:100, 35),sample(101:150, 35))\n",
    "samp"
   ]
  },
  {
   "cell_type": "markdown",
   "id": "169a6670",
   "metadata": {},
   "source": [
    "#### 학습용 데이터셋 만들기"
   ]
  },
  {
   "cell_type": "code",
   "execution_count": 15,
   "id": "2ccec3f3",
   "metadata": {},
   "outputs": [],
   "source": [
    "data.tr <- iris[samp,]"
   ]
  },
  {
   "cell_type": "markdown",
   "id": "b6572561",
   "metadata": {},
   "source": [
    "#### 검증용 데이터 셋 만들기\n",
    "- 셈플링한게 겹치면 안되니까"
   ]
  },
  {
   "cell_type": "code",
   "execution_count": 18,
   "id": "97b312c7",
   "metadata": {},
   "outputs": [],
   "source": [
    "data.test <- iris[-samp,]"
   ]
  },
  {
   "cell_type": "code",
   "execution_count": 20,
   "id": "20a1aa60",
   "metadata": {},
   "outputs": [
    {
     "data": {
      "text/plain": [
       "  Sepal.Length    Sepal.Width     Petal.Length    Petal.Width         Species  \n",
       " Min.   :4.300   Min.   :2.200   Min.   :1.100   Min.   :0.10   setosa    :35  \n",
       " 1st Qu.:5.100   1st Qu.:2.800   1st Qu.:1.600   1st Qu.:0.30   versicolor:35  \n",
       " Median :5.800   Median :3.000   Median :4.300   Median :1.30   virginica :35  \n",
       " Mean   :5.847   Mean   :3.042   Mean   :3.749   Mean   :1.19                  \n",
       " 3rd Qu.:6.400   3rd Qu.:3.300   3rd Qu.:5.100   3rd Qu.:1.80                  \n",
       " Max.   :7.900   Max.   :4.400   Max.   :6.900   Max.   :2.50                  "
      ]
     },
     "metadata": {},
     "output_type": "display_data"
    },
    {
     "data": {
      "text/plain": [
       "  Sepal.Length    Sepal.Width     Petal.Length   Petal.Width          Species  \n",
       " Min.   :4.400   Min.   :2.000   Min.   :1.00   Min.   :0.100   setosa    :15  \n",
       " 1st Qu.:5.100   1st Qu.:2.800   1st Qu.:1.60   1st Qu.:0.300   versicolor:15  \n",
       " Median :5.800   Median :3.100   Median :4.70   Median :1.400   virginica :15  \n",
       " Mean   :5.836   Mean   :3.093   Mean   :3.78   Mean   :1.222                  \n",
       " 3rd Qu.:6.500   3rd Qu.:3.400   3rd Qu.:5.10   3rd Qu.:1.900                  \n",
       " Max.   :7.700   Max.   :4.100   Max.   :6.70   Max.   :2.500                  "
      ]
     },
     "metadata": {},
     "output_type": "display_data"
    }
   ],
   "source": [
    "summary(data.tr)\n",
    "summary(data.test)\n",
    "#Median,Mean 이거 둘이 차이가 많이 나면 안됨. 트레이닝이랑 테스트가"
   ]
  },
  {
   "cell_type": "markdown",
   "id": "ec794752",
   "metadata": {},
   "source": [
    "## 학습시키기"
   ]
  },
  {
   "cell_type": "markdown",
   "id": "c183533c",
   "metadata": {},
   "source": [
    "#### 인공신경망 모델 사용"
   ]
  },
  {
   "cell_type": "code",
   "execution_count": 24,
   "id": "0cbd0f13",
   "metadata": {},
   "outputs": [],
   "source": [
    "# 인공신경망 라이브러리\n",
    "library(nnet)"
   ]
  },
  {
   "cell_type": "markdown",
   "id": "80af2da8",
   "metadata": {},
   "source": [
    "#### 모델만들기"
   ]
  },
  {
   "cell_type": "code",
   "execution_count": 48,
   "id": "6cc59f37",
   "metadata": {},
   "outputs": [
    {
     "name": "stdout",
     "output_type": "stream",
     "text": [
      "# weights:  27\n",
      "initial  value 116.028830 \n",
      "iter  10 value 48.742224\n",
      "iter  20 value 46.758058\n",
      "iter  30 value 0.310621\n",
      "iter  40 value 0.000558\n",
      "final  value 0.000055 \n",
      "converged\n"
     ]
    },
    {
     "data": {
      "text/plain": [
       "a 4-3-3 network with 27 weights\n",
       "inputs: Sepal.Length Sepal.Width Petal.Length Petal.Width \n",
       "output(s): Species \n",
       "options were - softmax modelling "
      ]
     },
     "metadata": {},
     "output_type": "display_data"
    }
   ],
   "source": [
    "#size 은닉층 갯수로 sample수보다 작아야함.(Hyper Parameter)\n",
    "model.nnet <- nnet(Species ~ . , data = data.tr, size = 3) \n",
    "model.nnet"
   ]
  },
  {
   "cell_type": "markdown",
   "id": "82ff275e",
   "metadata": {},
   "source": [
    "#### 문제및 정답 만들기\n",
    "\n",
    "- data.tr 가지고 공부 다했으니까\n",
    "- 시험보는건 셈플값을 제외한값으로 테스트"
   ]
  },
  {
   "cell_type": "code",
   "execution_count": 71,
   "id": "a57b4a78",
   "metadata": {},
   "outputs": [
    {
     "data": {
      "text/html": [
       "<table>\n",
       "<thead><tr><th></th><th scope=col>Sepal.Length</th><th scope=col>Sepal.Width</th><th scope=col>Petal.Length</th><th scope=col>Petal.Width</th></tr></thead>\n",
       "<tbody>\n",
       "\t<tr><th scope=row>1</th><td>5.1</td><td>3.5</td><td>1.4</td><td>0.2</td></tr>\n",
       "\t<tr><th scope=row>7</th><td>4.6</td><td>3.4</td><td>1.4</td><td>0.3</td></tr>\n",
       "\t<tr><th scope=row>10</th><td>4.9</td><td>3.1</td><td>1.5</td><td>0.1</td></tr>\n",
       "\t<tr><th scope=row>11</th><td>5.4</td><td>3.7</td><td>1.5</td><td>0.2</td></tr>\n",
       "\t<tr><th scope=row>13</th><td>4.8</td><td>3.0</td><td>1.4</td><td>0.1</td></tr>\n",
       "\t<tr><th scope=row>17</th><td>5.4</td><td>3.9</td><td>1.3</td><td>0.4</td></tr>\n",
       "</tbody>\n",
       "</table>\n"
      ],
      "text/latex": [
       "\\begin{tabular}{r|llll}\n",
       "  & Sepal.Length & Sepal.Width & Petal.Length & Petal.Width\\\\\n",
       "\\hline\n",
       "\t1 & 5.1 & 3.5 & 1.4 & 0.2\\\\\n",
       "\t7 & 4.6 & 3.4 & 1.4 & 0.3\\\\\n",
       "\t10 & 4.9 & 3.1 & 1.5 & 0.1\\\\\n",
       "\t11 & 5.4 & 3.7 & 1.5 & 0.2\\\\\n",
       "\t13 & 4.8 & 3.0 & 1.4 & 0.1\\\\\n",
       "\t17 & 5.4 & 3.9 & 1.3 & 0.4\\\\\n",
       "\\end{tabular}\n"
      ],
      "text/markdown": [
       "\n",
       "| <!--/--> | Sepal.Length | Sepal.Width | Petal.Length | Petal.Width |\n",
       "|---|---|---|---|---|\n",
       "| 1 | 5.1 | 3.5 | 1.4 | 0.2 |\n",
       "| 7 | 4.6 | 3.4 | 1.4 | 0.3 |\n",
       "| 10 | 4.9 | 3.1 | 1.5 | 0.1 |\n",
       "| 11 | 5.4 | 3.7 | 1.5 | 0.2 |\n",
       "| 13 | 4.8 | 3.0 | 1.4 | 0.1 |\n",
       "| 17 | 5.4 | 3.9 | 1.3 | 0.4 |\n",
       "\n"
      ],
      "text/plain": [
       "   Sepal.Length Sepal.Width Petal.Length Petal.Width\n",
       "1  5.1          3.5         1.4          0.2        \n",
       "7  4.6          3.4         1.4          0.3        \n",
       "10 4.9          3.1         1.5          0.1        \n",
       "11 5.4          3.7         1.5          0.2        \n",
       "13 4.8          3.0         1.4          0.1        \n",
       "17 5.4          3.9         1.3          0.4        "
      ]
     },
     "metadata": {},
     "output_type": "display_data"
    },
    {
     "name": "stdout",
     "output_type": "stream",
     "text": [
      " [1] setosa     setosa     setosa     setosa     setosa     setosa    \n",
      " [7] setosa     setosa     setosa     setosa     setosa     setosa    \n",
      "[13] setosa     setosa     setosa     versicolor versicolor versicolor\n",
      "[19] versicolor versicolor versicolor versicolor versicolor versicolor\n",
      "[25] versicolor versicolor versicolor versicolor versicolor versicolor\n",
      "[31] virginica  virginica  virginica  virginica  virginica  virginica \n",
      "[37] virginica  virginica  virginica  virginica  virginica  virginica \n",
      "[43] virginica  virginica  virginica \n",
      "Levels: setosa versicolor virginica\n"
     ]
    }
   ],
   "source": [
    "x <- subset(data.test , select = -Species)\n",
    "y <- data.test$Species\n",
    "head(x)\n",
    "print(y)"
   ]
  },
  {
   "cell_type": "markdown",
   "id": "f1d23eae",
   "metadata": {},
   "source": [
    "#### 검증(시험)"
   ]
  },
  {
   "cell_type": "code",
   "execution_count": 67,
   "id": "a0dac908",
   "metadata": {},
   "outputs": [
    {
     "ename": "ERROR",
     "evalue": "Error in as.data.frame(newdata): 객체 'z'를 찾을 수 없습니다\n",
     "output_type": "error",
     "traceback": [
      "Error in as.data.frame(newdata): 객체 'z'를 찾을 수 없습니다\nTraceback:\n",
      "1. predict(model.nnet, z, type = \"class\")",
      "2. predict.nnet(model.nnet, z, type = \"class\")",
      "3. as.data.frame(newdata)"
     ]
    }
   ],
   "source": [
    "# predict : 예측하다\n",
    "# class : 분류된것(객관식) ,raw : 주관식\n",
    "pred <- predict(model.nnet, z, type = \"class\")\n",
    "head(pred)"
   ]
  },
  {
   "cell_type": "markdown",
   "id": "21226d02",
   "metadata": {},
   "source": [
    "#### * 정확도"
   ]
  },
  {
   "cell_type": "code",
   "execution_count": 51,
   "id": "c6a58e9f",
   "metadata": {},
   "outputs": [
    {
     "data": {
      "text/html": [
       "0.933333333333333"
      ],
      "text/latex": [
       "0.933333333333333"
      ],
      "text/markdown": [
       "0.933333333333333"
      ],
      "text/plain": [
       "[1] 0.9333333"
      ]
     },
     "metadata": {},
     "output_type": "display_data"
    }
   ],
   "source": [
    "mean(pred == y)"
   ]
  },
  {
   "cell_type": "markdown",
   "id": "07778462",
   "metadata": {},
   "source": [
    "####  * * 정오표 확인\n",
    "- 정확도 퍼센트가 높은것보다 80점이 나와도 공평하게 틀린게 더 좋은거임\n",
    "- ML은 공평한게 중요함."
   ]
  },
  {
   "cell_type": "code",
   "execution_count": 52,
   "id": "43cbea2f",
   "metadata": {},
   "outputs": [
    {
     "data": {
      "text/plain": [
       "            y\n",
       "pred         setosa versicolor virginica\n",
       "  setosa         15          0         0\n",
       "  versicolor      0         13         1\n",
       "  virginica       0          2        14"
      ]
     },
     "metadata": {},
     "output_type": "display_data"
    }
   ],
   "source": [
    "table(pred, y)"
   ]
  },
  {
   "cell_type": "markdown",
   "id": "f39150b0",
   "metadata": {},
   "source": [
    "##### 공주님 왔다 감 ^_^*"
   ]
  },
  {
   "cell_type": "markdown",
   "id": "868eefa8",
   "metadata": {},
   "source": [
    "---\n",
    "# 학습시킨 머신러닝 사용하기"
   ]
  },
  {
   "cell_type": "markdown",
   "id": "118d170d",
   "metadata": {},
   "source": [
    "- 얘는 무슨 품종일까요?\n",
    "- Sepal.Length = 5.3\n",
    "- Sepal.Width = 3.3\n",
    "- Petal.Length = 1.6\n",
    "- Petal.Width = 0.3"
   ]
  },
  {
   "cell_type": "markdown",
   "id": "47544f62",
   "metadata": {},
   "source": [
    "#### 현재 AI는 105개의 데이터로 공부한 모델임.\n",
    "- Training과 Test를 통해서 정확도가 입증 되었다면, 전체 DataSet으로 AI를 구성하여 사용"
   ]
  },
  {
   "cell_type": "markdown",
   "id": "0c425c32",
   "metadata": {},
   "source": [
    "#### 사용가능하다고 판단되면 모든 데이터를 기준으로 학습"
   ]
  },
  {
   "cell_type": "code",
   "execution_count": 98,
   "id": "4bf7bed2",
   "metadata": {},
   "outputs": [
    {
     "name": "stdout",
     "output_type": "stream",
     "text": [
      "# weights:  123\n",
      "initial  value 299.320141 \n",
      "iter  10 value 68.086102\n",
      "iter  20 value 12.203625\n",
      "iter  30 value 5.679649\n",
      "iter  40 value 4.800134\n",
      "iter  50 value 2.861941\n",
      "iter  60 value 0.015670\n",
      "final  value 0.000036 \n",
      "converged\n"
     ]
    }
   ],
   "source": [
    "# iris Species연습 시킨것\n",
    "model.nnet <- nnet(Species ~ ., data=iris, size =15)"
   ]
  },
  {
   "cell_type": "code",
   "execution_count": 95,
   "id": "a5357aa1",
   "metadata": {},
   "outputs": [
    {
     "data": {
      "text/html": [
       "'setosa'"
      ],
      "text/latex": [
       "'setosa'"
      ],
      "text/markdown": [
       "'setosa'"
      ],
      "text/plain": [
       "[1] \"setosa\""
      ]
     },
     "metadata": {},
     "output_type": "display_data"
    }
   ],
   "source": [
    "#data.farme 는 여러개 할때 사용하면되고\n",
    "#list도 사용가능 = dataframe의 한줄\n",
    "df = data.frame(Sepal.Length = 5.3,Sepal.Width = 3.3,Petal.Length = 1.6,Petal.Width = 0.3)\n",
    "predict(model.nnet, df , type = \"class\")"
   ]
  },
  {
   "cell_type": "markdown",
   "id": "7f3a9dd6",
   "metadata": {},
   "source": [
    "- 얘는 무슨 품종일까요?\n",
    "> 공부한 범위랑 달라서 결국 크니까 max값인 'virginica'가 나오게 된거였음.<br>\n",
    "> 데이터 보는걸 잘해야함..(범위라던가..)\n",
    "- Sepal.Length = 9.3\n",
    "- Sepal.Width = 2.2\n",
    "- Petal.Length = 7.5\n",
    "- Petal.Width = 3.5"
   ]
  },
  {
   "cell_type": "code",
   "execution_count": 94,
   "id": "6751750f",
   "metadata": {},
   "outputs": [
    {
     "data": {
      "text/html": [
       "'virginica'"
      ],
      "text/latex": [
       "'virginica'"
      ],
      "text/markdown": [
       "'virginica'"
      ],
      "text/plain": [
       "[1] \"virginica\""
      ]
     },
     "metadata": {},
     "output_type": "display_data"
    }
   ],
   "source": [
    "list1 = list(Sepal.Length = 9.3,Sepal.Width = 2.2,Petal.Length = 7.5,Petal.Width = 3.5)\n",
    "predict(model.nnet, list1 , type = \"class\")"
   ]
  },
  {
   "cell_type": "code",
   "execution_count": 99,
   "id": "c42d042b",
   "metadata": {},
   "outputs": [
    {
     "data": {
      "text/html": [
       "<table>\n",
       "<thead><tr><th></th><th scope=col>Sepal.Length</th><th scope=col>Sepal.Width</th><th scope=col>Petal.Length</th><th scope=col>Petal.Width</th><th scope=col>Species</th></tr></thead>\n",
       "<tbody>\n",
       "\t<tr><th scope=row>145</th><td>6.7      </td><td>3.3      </td><td>5.7      </td><td>2.5      </td><td>virginica</td></tr>\n",
       "\t<tr><th scope=row>146</th><td>6.7      </td><td>3.0      </td><td>5.2      </td><td>2.3      </td><td>virginica</td></tr>\n",
       "\t<tr><th scope=row>147</th><td>6.3      </td><td>2.5      </td><td>5.0      </td><td>1.9      </td><td>virginica</td></tr>\n",
       "\t<tr><th scope=row>148</th><td>6.5      </td><td>3.0      </td><td>5.2      </td><td>2.0      </td><td>virginica</td></tr>\n",
       "\t<tr><th scope=row>149</th><td>6.2      </td><td>3.4      </td><td>5.4      </td><td>2.3      </td><td>virginica</td></tr>\n",
       "\t<tr><th scope=row>150</th><td>5.9      </td><td>3.0      </td><td>5.1      </td><td>1.8      </td><td>virginica</td></tr>\n",
       "</tbody>\n",
       "</table>\n"
      ],
      "text/latex": [
       "\\begin{tabular}{r|lllll}\n",
       "  & Sepal.Length & Sepal.Width & Petal.Length & Petal.Width & Species\\\\\n",
       "\\hline\n",
       "\t145 & 6.7       & 3.3       & 5.7       & 2.5       & virginica\\\\\n",
       "\t146 & 6.7       & 3.0       & 5.2       & 2.3       & virginica\\\\\n",
       "\t147 & 6.3       & 2.5       & 5.0       & 1.9       & virginica\\\\\n",
       "\t148 & 6.5       & 3.0       & 5.2       & 2.0       & virginica\\\\\n",
       "\t149 & 6.2       & 3.4       & 5.4       & 2.3       & virginica\\\\\n",
       "\t150 & 5.9       & 3.0       & 5.1       & 1.8       & virginica\\\\\n",
       "\\end{tabular}\n"
      ],
      "text/markdown": [
       "\n",
       "| <!--/--> | Sepal.Length | Sepal.Width | Petal.Length | Petal.Width | Species |\n",
       "|---|---|---|---|---|---|\n",
       "| 145 | 6.7       | 3.3       | 5.7       | 2.5       | virginica |\n",
       "| 146 | 6.7       | 3.0       | 5.2       | 2.3       | virginica |\n",
       "| 147 | 6.3       | 2.5       | 5.0       | 1.9       | virginica |\n",
       "| 148 | 6.5       | 3.0       | 5.2       | 2.0       | virginica |\n",
       "| 149 | 6.2       | 3.4       | 5.4       | 2.3       | virginica |\n",
       "| 150 | 5.9       | 3.0       | 5.1       | 1.8       | virginica |\n",
       "\n"
      ],
      "text/plain": [
       "    Sepal.Length Sepal.Width Petal.Length Petal.Width Species  \n",
       "145 6.7          3.3         5.7          2.5         virginica\n",
       "146 6.7          3.0         5.2          2.3         virginica\n",
       "147 6.3          2.5         5.0          1.9         virginica\n",
       "148 6.5          3.0         5.2          2.0         virginica\n",
       "149 6.2          3.4         5.4          2.3         virginica\n",
       "150 5.9          3.0         5.1          1.8         virginica"
      ]
     },
     "metadata": {},
     "output_type": "display_data"
    }
   ],
   "source": []
  },
  {
   "cell_type": "code",
   "execution_count": null,
   "id": "6e22b5fe",
   "metadata": {},
   "outputs": [],
   "source": []
  },
  {
   "cell_type": "code",
   "execution_count": null,
   "id": "b1ee225c",
   "metadata": {},
   "outputs": [],
   "source": []
  },
  {
   "cell_type": "code",
   "execution_count": null,
   "id": "d32f63e1",
   "metadata": {},
   "outputs": [],
   "source": []
  },
  {
   "cell_type": "code",
   "execution_count": null,
   "id": "71a80068",
   "metadata": {},
   "outputs": [],
   "source": []
  },
  {
   "cell_type": "code",
   "execution_count": null,
   "id": "f16d46d2",
   "metadata": {},
   "outputs": [],
   "source": []
  }
 ],
 "metadata": {
  "kernelspec": {
   "display_name": "R",
   "language": "R",
   "name": "ir"
  },
  "language_info": {
   "codemirror_mode": "r",
   "file_extension": ".r",
   "mimetype": "text/x-r-source",
   "name": "R",
   "pygments_lexer": "r",
   "version": "3.6.1"
  }
 },
 "nbformat": 4,
 "nbformat_minor": 5
}
