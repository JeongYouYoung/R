{
 "cells": [
  {
   "cell_type": "code",
   "execution_count": 1,
   "id": "ce1752a0",
   "metadata": {},
   "outputs": [
    {
     "name": "stderr",
     "output_type": "stream",
     "text": [
      "Warning message in file(file, \"rt\"):\n",
      "“파일 'Rdata/election_2022.csv'를 여는데 실패했습니다: No such file or directory”"
     ]
    },
    {
     "ename": "ERROR",
     "evalue": "Error in file(file, \"rt\"): 커넥션을 열 수 없습니다\n",
     "output_type": "error",
     "traceback": [
      "Error in file(file, \"rt\"): 커넥션을 열 수 없습니다\nTraceback:\n",
      "1. read.csv(\"Rdata/election_2022.csv\")",
      "2. read.table(file = file, header = header, sep = sep, quote = quote, \n .     dec = dec, fill = fill, comment.char = comment.char, ...)",
      "3. file(file, \"rt\")"
     ]
    }
   ],
   "source": [
    "#데이터불러오기\n",
    "election <- read.csv(\"Rdata/election_2022.csv\")\n",
    "head(election)"
   ]
  },
  {
   "cell_type": "code",
   "execution_count": null,
   "id": "abe68b13",
   "metadata": {},
   "outputs": [],
   "source": [
    "colnames(election)"
   ]
  },
  {
   "cell_type": "code",
   "execution_count": null,
   "id": "12f296fd",
   "metadata": {},
   "outputs": [],
   "source": [
    "table(election$광역시도)\n",
    "voter_sum <- aggregate(투표수 ~ 광역시도, election, sum) #투표인\n",
    "voter_sum\n"
   ]
  },
  {
   "cell_type": "code",
   "execution_count": null,
   "id": "78cf9728",
   "metadata": {},
   "outputs": [],
   "source": [
    "tail(election)"
   ]
  },
  {
   "cell_type": "code",
   "execution_count": null,
   "id": "49cdcdfe",
   "metadata": {},
   "outputs": [],
   "source": [
    "str(election)\n",
    "# 시군구는 248개인데 factor은 226이네! "
   ]
  },
  {
   "cell_type": "code",
   "execution_count": null,
   "id": "51c672d0",
   "metadata": {},
   "outputs": [],
   "source": [
    "summary(election)"
   ]
  },
  {
   "cell_type": "markdown",
   "id": "22990c96",
   "metadata": {},
   "source": [
    "---\n",
    "## 광역시도 투표율 구하기"
   ]
  },
  {
   "cell_type": "code",
   "execution_count": null,
   "id": "8d973286",
   "metadata": {},
   "outputs": [],
   "source": [
    "# 라이브러리 불러오기\n",
    "library(plotrix)\n",
    "library(dplyr)"
   ]
  },
  {
   "cell_type": "code",
   "execution_count": null,
   "id": "647aa5c9",
   "metadata": {},
   "outputs": [],
   "source": [
    "turnout <- round(voter_sum$투표수 / sum(voter_sum$투표수) * 100,2)\n",
    "turnout"
   ]
  },
  {
   "cell_type": "code",
   "execution_count": null,
   "id": "57195128",
   "metadata": {},
   "outputs": [],
   "source": [
    "voter_sum$투표율 <- turnout\n",
    "voter_sum<- arrange(voter_sum,desc(투표율))\n",
    "voter_sum"
   ]
  },
  {
   "cell_type": "code",
   "execution_count": null,
   "id": "ff550a72",
   "metadata": {},
   "outputs": [],
   "source": [
    "turnout_ratio <- voter_sum[,c(1,3)]\n",
    "turnout_ratio "
   ]
  },
  {
   "cell_type": "code",
   "execution_count": null,
   "id": "a31d27d4",
   "metadata": {},
   "outputs": [],
   "source": [
    "#label 만들기\n",
    "투표율 <- paste(turnout_ratio$광역시도,\"\\n\",turnout_ratio$투표율,\"%\")\n",
    "투표율"
   ]
  },
  {
   "cell_type": "code",
   "execution_count": null,
   "id": "41696f8f",
   "metadata": {},
   "outputs": [],
   "source": [
    "par(family = \"AppleGothic\")\n",
    "options(warn = -1)\n",
    "pie3D( turnout_ratio$투표율,\n",
    "        main = \"광역시도별 투표율\",\n",
    "        labels = 투표율,\n",
    "        explode = 0.05,\n",
    "        labelcex = 0.6,\n",
    "        #radius = 0.8\n",
    "     )"
   ]
  },
  {
   "cell_type": "code",
   "execution_count": null,
   "id": "9276b994",
   "metadata": {},
   "outputs": [],
   "source": []
  },
  {
   "cell_type": "code",
   "execution_count": null,
   "id": "121314d2",
   "metadata": {},
   "outputs": [],
   "source": [
    "# electionSum = 이재명 + 윤석열 + 심상정\n",
    "election$electionSum <- apply(election[, 5:7], 1,sum)\n",
    "head(election)"
   ]
  },
  {
   "cell_type": "code",
   "execution_count": null,
   "id": "da90d400",
   "metadata": {},
   "outputs": [],
   "source": [
    "# electionRation <- 투표수대비 electionSum의 퍼센트 구해서 넣기\n",
    "election$electionRatio <- election$electionSum / election$투표수 * 100\n",
    "head(election)"
   ]
  },
  {
   "cell_type": "code",
   "execution_count": null,
   "id": "7ff2e776",
   "metadata": {},
   "outputs": [],
   "source": [
    "# 3명의 후보를 가장 많이 선택한 지역과 가장 적게 선택한 지역 구하기\n",
    "# 1) 정렬\n",
    "library(dplyr)"
   ]
  },
  {
   "cell_type": "code",
   "execution_count": null,
   "id": "bc1dadba",
   "metadata": {},
   "outputs": [],
   "source": [
    "arrange(election, desc(electionRatio))[1,]\n",
    "arrange(election, desc(electionRatio))[nrow(election),]"
   ]
  },
  {
   "cell_type": "code",
   "execution_count": null,
   "id": "8f4c036c",
   "metadata": {},
   "outputs": [],
   "source": [
    "#2) subset\n",
    "subset(election, electionRatio == max(election$electionRatio))\n",
    "subset(election, electionRatio == min(election$electionRatio))"
   ]
  },
  {
   "cell_type": "code",
   "execution_count": null,
   "id": "5a6b3262",
   "metadata": {},
   "outputs": [],
   "source": [
    "# election_2022_job1.csv로 저장하기\n",
    "write.csv(election,\"Rdata/election_2022_job1.csv\", row.names = F)"
   ]
  },
  {
   "cell_type": "markdown",
   "id": "dc51f75c",
   "metadata": {},
   "source": [
    "## 각 후보(윤,이,심)의 광역시도별 득표율을 3D Pie Chart로 표현하기\n",
    "## (단, 득표율이 3% 미만인 광역시도는 광역시도 명만 출력하고 퍼센트는 출력하지 않는다./퍼센트 단위는 소수 한자리)"
   ]
  },
  {
   "cell_type": "code",
   "execution_count": null,
   "id": "0d2c7185",
   "metadata": {},
   "outputs": [],
   "source": [
    "head(election)"
   ]
  },
  {
   "cell_type": "code",
   "execution_count": null,
   "id": "a85c3951",
   "metadata": {},
   "outputs": [],
   "source": []
  },
  {
   "cell_type": "code",
   "execution_count": null,
   "id": "33b1da16",
   "metadata": {},
   "outputs": [],
   "source": [
    "electionSim <-\n",
    "aggregate(심상정 ~ 광역시도, election, sum)\n",
    "electionSim"
   ]
  },
  {
   "cell_type": "code",
   "execution_count": null,
   "id": "50debc31",
   "metadata": {},
   "outputs": [],
   "source": [
    "#Ratio 값 구하기\n",
    "electionSim$득표율 <-\n",
    "round(electionSim$심상정 / sum(electionSim$심상정) *100,2)     \n",
    "electionSim"
   ]
  },
  {
   "cell_type": "code",
   "execution_count": null,
   "id": "bfeb580e",
   "metadata": {},
   "outputs": [],
   "source": [
    "electionSim_ratio <-\n",
    "electionSim[,c(1,3)]\n",
    "electionSim_ratio"
   ]
  },
  {
   "cell_type": "code",
   "execution_count": null,
   "id": "9a14a694",
   "metadata": {},
   "outputs": [],
   "source": [
    "# label 구하기\n",
    "#electionSim_ratio$광역시도 Index 값이 나온건 Fector이기 떄문에 그래서 형변환을 해줘야함.\n",
    "Sim투표율 <-\n",
    "ifelse(electionSim_ratio$득표율>3,\n",
    "        paste(electionSim_ratio$광역시도,\"\\n\",electionSim_ratio$득표율,\"%\"),\n",
    "        as.character(electionSim_ratio$광역시도))\n",
    "Sim투표율 "
   ]
  },
  {
   "cell_type": "code",
   "execution_count": null,
   "id": "df4c9fed",
   "metadata": {},
   "outputs": [],
   "source": [
    "par(family = \"AppleGothic\")\n",
    "options(warn = -1)\n",
    "pie3D( electionSim_ratio$득표율,\n",
    "        main = \"심상정 득표율\",\n",
    "        labels = Sim투표율,\n",
    "        explode = 0.05,\n",
    "        labelcex = 0.8,\n",
    "        #radius = 0.8\n",
    "     )"
   ]
  },
  {
   "cell_type": "code",
   "execution_count": null,
   "id": "6fe46560",
   "metadata": {},
   "outputs": [],
   "source": [
    "# 수도권(경기도, 서울, 인천)의 투표인구수의 퍼센트?\n",
    "sum(voter_sum$투표수[c(2,9,12),])/sum(voter_sum$투표수)"
   ]
  },
  {
   "cell_type": "code",
   "execution_count": null,
   "id": "20410692",
   "metadata": {},
   "outputs": [],
   "source": []
  },
  {
   "cell_type": "code",
   "execution_count": null,
   "id": "ce00ee5f",
   "metadata": {},
   "outputs": [],
   "source": [
    "# 윤석열 후보의 서울득표 top5를 구하고 나머지 지역은 기타로 합치기\n",
    "head(election)\n",
    "election_seoul <- arrange(subset(election, 광역시도 == '서울특별시'),desc(윤석열))\n",
    "#election_seoul\n",
    "election_seoul$윤석열득표 <-round(election_seoul$윤석열 / sum(election_seoul$윤석열) * 100, 2)\n",
    "head(election_seoul)\n",
    "#election_seoul[1:5,]\n",
    "\n",
    "\n",
    "#election_seoul[6:nrow(election_seoul),]"
   ]
  },
  {
   "cell_type": "code",
   "execution_count": null,
   "id": "c583c3be",
   "metadata": {},
   "outputs": [],
   "source": [
    "par(family = \"AppleGothic\")\n",
    "pie3D(election_seoul$윤석열득표,\n",
    "      main = \"윤석열 후보 서울 득표 Top5\",\n",
    "      \n",
    "     )"
   ]
  },
  {
   "cell_type": "markdown",
   "id": "7b391fe6",
   "metadata": {},
   "source": [
    "### 윤석렬 후보의 서울 특표 Top5만 득표율로 표시하고 나머지 지역은 기타로 합치기\n"
   ]
  },
  {
   "cell_type": "code",
   "execution_count": null,
   "id": "bf408cf6",
   "metadata": {},
   "outputs": [],
   "source": [
    "#서울특별시 Data만 발췌하기\n",
    "#subset(election, 광역시도 == \"서울특별시\")\n",
    "\n",
    "election_seoul2 <- election[election$광역시도 == \"서울특별시\",] # 파이썬에선 이걸 많이씀.\n",
    "election_seoul2_윤석열 <- arrange(election_seoul2, desc(윤석열))[, c(2,6)]\n",
    "head(election_seoul2_윤석열)"
   ]
  },
  {
   "cell_type": "code",
   "execution_count": null,
   "id": "7883c9a4",
   "metadata": {},
   "outputs": [],
   "source": [
    "#Ratio 구하기\n",
    "election_seoul2_윤석열_ratio <- \n",
    "    round(c(election_seoul2_윤석열[1:5, 2], sum(election_seoul2_윤석열[-c(1:5), 2])) /\n",
    "    sum(election_seoul2_윤석열$윤석열) * 100, 2)\n",
    "election_seoul2_윤석열_ratio"
   ]
  },
  {
   "cell_type": "code",
   "execution_count": null,
   "id": "dedbf566",
   "metadata": {},
   "outputs": [],
   "source": [
    "#Label만들기\n",
    "election_seoul2_윤석열_label <- c(as.character(election_seoul2_윤석열$시군구[1:5]),\"기타\")\n",
    "election_seoul2_윤석열_label"
   ]
  },
  {
   "cell_type": "code",
   "execution_count": null,
   "id": "f8b1f823",
   "metadata": {},
   "outputs": [],
   "source": [
    "election_seoul2_윤석열_label<- \n",
    "paste(election_seoul2_윤석열_label,\"\\n\",election_seoul2_윤석열_ratio,\"%\")\n",
    "\n",
    "#election_seoul2_윤석열_label"
   ]
  },
  {
   "cell_type": "code",
   "execution_count": null,
   "id": "44002679",
   "metadata": {},
   "outputs": [],
   "source": [
    "par(family = \"AppleGothic\")\n",
    "options(warn = -1)\n",
    "pie3D(election_seoul2_윤석열_ratio,\n",
    "      labels = election_seoul2_윤석열_label,\n",
    "      explode = 0.05,\n",
    "      labelcex = 0.8,\n",
    "      main = \"윤석열 후보 서울 득표 Top5\"\n",
    "     )"
   ]
  },
  {
   "cell_type": "code",
   "execution_count": null,
   "id": "bbc8e00b",
   "metadata": {},
   "outputs": [],
   "source": [
    "#대선주자 출생자별 득표율 분석\n",
    "#서울시 성북구의 후보별 득표율\n",
    "election_seoul3 <- election[c(election$광역시도 == \"서울특별시\" & election$시군구==\"성북구\"),]\n",
    "election_seoul3"
   ]
  },
  {
   "cell_type": "code",
   "execution_count": null,
   "id": "271124a5",
   "metadata": {},
   "outputs": [],
   "source": [
    "# ratio 구하기\n",
    "election_seoul3_ratio <- round(election_seoul3[5:7] / election_seoul3$투표수 * 100,2)\n",
    "election_seoul3_ratio"
   ]
  },
  {
   "cell_type": "code",
   "execution_count": null,
   "id": "7e2ce6e8",
   "metadata": {},
   "outputs": [],
   "source": [
    "#label 만들기\n",
    "election_seoul3_ratio"
   ]
  },
  {
   "cell_type": "code",
   "execution_count": null,
   "id": "6ebb89ac",
   "metadata": {},
   "outputs": [],
   "source": [
    "par(family = \"AppleGothic\")\n",
    "pie3Delection_seoul3_ratio)"
   ]
  },
  {
   "cell_type": "code",
   "execution_count": null,
   "id": "6fd9927a",
   "metadata": {},
   "outputs": [],
   "source": []
  },
  {
   "cell_type": "code",
   "execution_count": null,
   "id": "18183664",
   "metadata": {},
   "outputs": [],
   "source": [
    "pob_윤석열 <- subset(election, 시군구 == \"성북구\")\n",
    "pob_윤석열"
   ]
  },
  {
   "cell_type": "code",
   "execution_count": null,
   "id": "495a0d9e",
   "metadata": {},
   "outputs": [],
   "source": [
    "#백터로 합쳐보자\n",
    "pob_윤석열_num <-\n",
    "as.numeric(c(pob_윤석열[, 5:7], pob_윤석열[,4] - sum(pob_윤석열[, 5:7])))\n",
    "pob_윤석열_num"
   ]
  },
  {
   "cell_type": "code",
   "execution_count": null,
   "id": "8d1208ea",
   "metadata": {},
   "outputs": [],
   "source": [
    "colnames(pob_윤석열)[5:7]"
   ]
  },
  {
   "cell_type": "code",
   "execution_count": null,
   "id": "a16dbe44",
   "metadata": {},
   "outputs": [],
   "source": [
    "#label\n",
    "pob_윤석열_label <-\n",
    "paste(c(colnames(pob_윤석열)[5:7],\"기타\"),round(pob_윤석열_num/pob_윤석열$투표수*100,2))"
   ]
  },
  {
   "cell_type": "code",
   "execution_count": null,
   "id": "c7dc8b9d",
   "metadata": {},
   "outputs": [],
   "source": [
    "par(family = \"AppleGothic\")\n",
    "options(warn = -1)\n",
    "pie3D(pob_윤석열_num,\n",
    "     labels = pob_윤석열_label,\n",
    "      explode = 0.05,\n",
    "      labelcex = 0.8,\n",
    "      col = c(\"skyblue\",\"red\",\"yellow\",\"grey\"),\n",
    "      main = \"서울시 성북구의 후보별 득표율\"\n",
    "     )"
   ]
  },
  {
   "cell_type": "code",
   "execution_count": null,
   "id": "607c0953",
   "metadata": {},
   "outputs": [],
   "source": []
  },
  {
   "cell_type": "code",
   "execution_count": null,
   "id": "8db30f8a",
   "metadata": {},
   "outputs": [],
   "source": []
  },
  {
   "cell_type": "code",
   "execution_count": null,
   "id": "4d68b3a3",
   "metadata": {},
   "outputs": [],
   "source": []
  },
  {
   "cell_type": "code",
   "execution_count": null,
   "id": "08606712",
   "metadata": {},
   "outputs": [],
   "source": []
  },
  {
   "cell_type": "code",
   "execution_count": null,
   "id": "de406e24",
   "metadata": {},
   "outputs": [],
   "source": []
  }
 ],
 "metadata": {
  "kernelspec": {
   "display_name": "R",
   "language": "R",
   "name": "ir"
  },
  "language_info": {
   "codemirror_mode": "r",
   "file_extension": ".r",
   "mimetype": "text/x-r-source",
   "name": "R",
   "pygments_lexer": "r",
   "version": "3.6.1"
  }
 },
 "nbformat": 4,
 "nbformat_minor": 5
}
