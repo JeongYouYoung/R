{
 "cells": [
  {
   "cell_type": "markdown",
   "id": "f0a284f7",
   "metadata": {},
   "source": [
    "> class 분류해주는애\n",
    "- 표준화 된애랑 안한애 둘다 해보고 같으면 표준화 안한애로 하는게 좋아.\n",
    "- 얘도 선형회귀식 predict 사용"
   ]
  },
  {
   "cell_type": "code",
   "execution_count": 1,
   "id": "767e3c16",
   "metadata": {},
   "outputs": [
    {
     "name": "stderr",
     "output_type": "stream",
     "text": [
      "Loading required package: lattice\n",
      "Loading required package: ggplot2\n",
      "Registered S3 methods overwritten by 'ggplot2':\n",
      "  method         from \n",
      "  [.quosures     rlang\n",
      "  c.quosures     rlang\n",
      "  print.quosures rlang\n"
     ]
    }
   ],
   "source": [
    "library(nnet)\n",
    "library(caret)"
   ]
  },
  {
   "cell_type": "code",
   "execution_count": 2,
   "id": "3c0da597",
   "metadata": {},
   "outputs": [
    {
     "data": {
      "text/plain": [
       "  Sepal.Length    Sepal.Width     Petal.Length    Petal.Width   \n",
       " Min.   :4.300   Min.   :2.000   Min.   :1.000   Min.   :0.100  \n",
       " 1st Qu.:5.100   1st Qu.:2.800   1st Qu.:1.600   1st Qu.:0.300  \n",
       " Median :5.800   Median :3.000   Median :4.350   Median :1.300  \n",
       " Mean   :5.843   Mean   :3.057   Mean   :3.758   Mean   :1.199  \n",
       " 3rd Qu.:6.400   3rd Qu.:3.300   3rd Qu.:5.100   3rd Qu.:1.800  \n",
       " Max.   :7.900   Max.   :4.400   Max.   :6.900   Max.   :2.500  \n",
       "       Species  \n",
       " setosa    :50  \n",
       " versicolor:50  \n",
       " virginica :50  \n",
       "                \n",
       "                \n",
       "                "
      ]
     },
     "metadata": {},
     "output_type": "display_data"
    },
    {
     "data": {
      "text/plain": [
       "  Sepal.Length       Sepal.Width       Petal.Length      Petal.Width     \n",
       " Min.   :-1.86378   Min.   :-2.4258   Min.   :-1.5623   Min.   :-1.4422  \n",
       " 1st Qu.:-0.89767   1st Qu.:-0.5904   1st Qu.:-1.2225   1st Qu.:-1.1799  \n",
       " Median :-0.05233   Median :-0.1315   Median : 0.3354   Median : 0.1321  \n",
       " Mean   : 0.00000   Mean   : 0.0000   Mean   : 0.0000   Mean   : 0.0000  \n",
       " 3rd Qu.: 0.67225   3rd Qu.: 0.5567   3rd Qu.: 0.7602   3rd Qu.: 0.7880  \n",
       " Max.   : 2.48370   Max.   : 3.0805   Max.   : 1.7799   Max.   : 1.7064  \n",
       "       Species  \n",
       " setosa    :50  \n",
       " versicolor:50  \n",
       " virginica :50  \n",
       "                \n",
       "                \n",
       "                "
      ]
     },
     "metadata": {},
     "output_type": "display_data"
    }
   ],
   "source": [
    "# 표준화 작업하기\n",
    "summary(iris)\n",
    "iris2 <- as.data.frame(scale(iris[,-5]))\n",
    "iris2$Species <- iris$Species\n",
    "summary(iris2)"
   ]
  },
  {
   "cell_type": "code",
   "execution_count": 3,
   "id": "93d4f264",
   "metadata": {},
   "outputs": [],
   "source": [
    "# iris Sampling, 학습용, 검증용 만들기\n",
    "\n",
    "set.seed(1234)\n",
    "\n",
    "# Sampling(library(caret) 사용)\n",
    "samp <- createDataPartition(iris2$Species, p=0.7, list=F)\n",
    "\n",
    "# 학습용 데이터 만들기\n",
    "data.tr <- iris2[samp,]\n",
    "\n",
    "# 검증용 데이터 만들기\n",
    "data.test <- iris2[-samp,]\n"
   ]
  },
  {
   "cell_type": "code",
   "execution_count": 4,
   "id": "e1276df7",
   "metadata": {},
   "outputs": [],
   "source": [
    "# 문제와 정답 만들기\n",
    "x <- subset(data.test, select = -Species)\n",
    "y <- data.test$Species"
   ]
  },
  {
   "cell_type": "code",
   "execution_count": 5,
   "id": "852b064e",
   "metadata": {},
   "outputs": [
    {
     "name": "stdout",
     "output_type": "stream",
     "text": [
      "# weights:  18 (10 variable)\n",
      "initial  value 115.354290 \n",
      "iter  10 value 7.556637\n",
      "iter  20 value 0.042347\n",
      "iter  30 value 0.009210\n",
      "iter  40 value 0.006761\n",
      "iter  50 value 0.003904\n",
      "iter  60 value 0.003512\n",
      "iter  70 value 0.003095\n",
      "iter  80 value 0.002826\n",
      "iter  90 value 0.002781\n",
      "iter 100 value 0.002705\n",
      "final  value 0.002705 \n",
      "stopped after 100 iterations\n"
     ]
    }
   ],
   "source": [
    "# 학습시키기\n",
    "model <- multinom(Species ~., data=data.tr)"
   ]
  },
  {
   "cell_type": "code",
   "execution_count": 6,
   "id": "3eaf5ca6",
   "metadata": {},
   "outputs": [],
   "source": [
    "# 검증하기\n",
    "pred <- predict(model, x)"
   ]
  },
  {
   "cell_type": "code",
   "execution_count": 7,
   "id": "7405f97c",
   "metadata": {},
   "outputs": [
    {
     "data": {
      "text/html": [
       "0.933333333333333"
      ],
      "text/latex": [
       "0.933333333333333"
      ],
      "text/markdown": [
       "0.933333333333333"
      ],
      "text/plain": [
       "[1] 0.9333333"
      ]
     },
     "metadata": {},
     "output_type": "display_data"
    },
    {
     "data": {
      "text/plain": [
       "            y\n",
       "pred         setosa versicolor virginica\n",
       "  setosa         15          0         0\n",
       "  versicolor      0         13         1\n",
       "  virginica       0          2        14"
      ]
     },
     "metadata": {},
     "output_type": "display_data"
    }
   ],
   "source": [
    "# 예측율 및 오분류표\n",
    "mean(pred == y)\n",
    "table(pred, y)"
   ]
  },
  {
   "cell_type": "markdown",
   "id": "0a18e445",
   "metadata": {},
   "source": [
    "---\n",
    "표준화 안하고 해보기"
   ]
  },
  {
   "cell_type": "code",
   "execution_count": 8,
   "id": "c8821fc0",
   "metadata": {},
   "outputs": [],
   "source": [
    "# iris Sampling, 학습용, 검증용 만들기\n",
    "\n",
    "set.seed(1234)\n",
    "\n",
    "# Sampling(library(caret) 사용)\n",
    "samp2 <- createDataPartition(iris$Species, p=0.7, list=F)\n",
    "\n",
    "# 학습용 데이터 만들기\n",
    "data.tr2 <- iris[samp2,]\n",
    "\n",
    "# 검증용 데이터 만들기\n",
    "data.test2 <- iris[-samp2,]\n"
   ]
  },
  {
   "cell_type": "code",
   "execution_count": 9,
   "id": "5119cdb1",
   "metadata": {},
   "outputs": [],
   "source": [
    "# 문제와 정답 만들기\n",
    "x <- subset(data.test2, select = -Species)\n",
    "y <- data.test2$Species"
   ]
  },
  {
   "cell_type": "code",
   "execution_count": 10,
   "id": "6cc9e7c3",
   "metadata": {},
   "outputs": [
    {
     "name": "stdout",
     "output_type": "stream",
     "text": [
      "# weights:  18 (10 variable)\n",
      "initial  value 115.354290 \n",
      "iter  10 value 10.451001\n",
      "iter  20 value 0.395906\n",
      "iter  30 value 0.063643\n",
      "iter  40 value 0.032814\n",
      "iter  50 value 0.023376\n",
      "iter  60 value 0.021200\n",
      "iter  70 value 0.019040\n",
      "iter  80 value 0.017101\n",
      "iter  90 value 0.012218\n",
      "iter 100 value 0.011383\n",
      "final  value 0.011383 \n",
      "stopped after 100 iterations\n"
     ]
    }
   ],
   "source": [
    "# 학습시키기\n",
    "model2 <- multinom(Species ~., data=data.tr2)"
   ]
  },
  {
   "cell_type": "code",
   "execution_count": 11,
   "id": "a96588c2",
   "metadata": {},
   "outputs": [],
   "source": [
    "# 검증하기\n",
    "pred2 <- predict(model2, x)"
   ]
  },
  {
   "cell_type": "code",
   "execution_count": 12,
   "id": "af62bf90",
   "metadata": {},
   "outputs": [
    {
     "data": {
      "text/html": [
       "0.933333333333333"
      ],
      "text/latex": [
       "0.933333333333333"
      ],
      "text/markdown": [
       "0.933333333333333"
      ],
      "text/plain": [
       "[1] 0.9333333"
      ]
     },
     "metadata": {},
     "output_type": "display_data"
    },
    {
     "data": {
      "text/plain": [
       "            y\n",
       "pred2        setosa versicolor virginica\n",
       "  setosa         15          0         0\n",
       "  versicolor      0         13         1\n",
       "  virginica       0          2        14"
      ]
     },
     "metadata": {},
     "output_type": "display_data"
    }
   ],
   "source": [
    "# 예측율 및 오분류표\n",
    "mean(pred2 == y)\n",
    "table(pred2, y)"
   ]
  }
 ],
 "metadata": {
  "kernelspec": {
   "display_name": "R",
   "language": "R",
   "name": "ir"
  },
  "language_info": {
   "codemirror_mode": "r",
   "file_extension": ".r",
   "mimetype": "text/x-r-source",
   "name": "R",
   "pygments_lexer": "r",
   "version": "3.6.1"
  }
 },
 "nbformat": 4,
 "nbformat_minor": 5
}
