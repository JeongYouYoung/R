{
 "cells": [
  {
   "cell_type": "markdown",
   "id": "0cbfca14",
   "metadata": {},
   "source": [
    "---\n",
    "# 패키지 불러오기\n",
    "\n",
    "- java의 import처럼 매번 불러와야 함."
   ]
  },
  {
   "cell_type": "code",
   "execution_count": 6,
   "id": "2dae7f18",
   "metadata": {},
   "outputs": [],
   "source": [
    "# 패키지 불러오기\n",
    "library(stringr)"
   ]
  },
  {
   "cell_type": "markdown",
   "id": "8c65370c",
   "metadata": {},
   "source": [
    "---\n",
    "# 문자열 처리\n",
    "수집한 데이터의 필요한 문자열을 자르고, 교체하고, 추출하는 작업\n",
    "java에서 import 랑 같음.\n",
    "\n",
    "### stringr package사용\n",
    "- str_length() : 문자열 길이\n",
    "- str_c() : 문자열 연결\n",
    "- str_sub() : 범위에 해당하는 문자열 생성\n",
    "- str_split() : 구분자를 기준으로 문자열은 분리하여 부분 생성\n",
    "- str_replace() : 문자열에서 기존 문자열을 특정 문자열로 변환시키는것\n",
    "-- (exe. 123,456 ','를 빈공간으로 만들고 as.~ 를 써서 123456을 숫자로 바꿔)/str_replace_all()\n",
    "- str_extract() : 문자열에서 특정 문자열 패턴의 첫번째 문자열 추출 \n",
    "-- (exe.영어만 가져와,숫자만 가져와, 등등등 정규식을 통해서 가져옴)/str_extract_all()\n",
    "-str_locate() : 문자열에서 특정 문자열 패턴의 첫번째 위치 추출 /str_locate_all()"
   ]
  },
  {
   "cell_type": "code",
   "execution_count": 7,
   "id": "16736bf9",
   "metadata": {},
   "outputs": [
    {
     "data": {
      "text/html": [
       "<ol>\n",
       "\t<li><ol class=list-inline>\n",
       "\t<li>'hon'</li>\n",
       "\t<li>'gki'</li>\n",
       "\t<li>'ldo'</li>\n",
       "\t<li>'you'</li>\n",
       "\t<li>'kaw'</li>\n",
       "\t<li>'anw'</li>\n",
       "</ol>\n",
       "</li>\n",
       "</ol>\n"
      ],
      "text/latex": [
       "\\begin{enumerate}\n",
       "\\item \\begin{enumerate*}\n",
       "\\item 'hon'\n",
       "\\item 'gki'\n",
       "\\item 'ldo'\n",
       "\\item 'you'\n",
       "\\item 'kaw'\n",
       "\\item 'anw'\n",
       "\\end{enumerate*}\n",
       "\n",
       "\\end{enumerate}\n"
      ],
      "text/markdown": [
       "1. 1. 'hon'\n",
       "2. 'gki'\n",
       "3. 'ldo'\n",
       "4. 'you'\n",
       "5. 'kaw'\n",
       "6. 'anw'\n",
       "\n",
       "\n",
       "\n",
       "\n",
       "\n"
      ],
      "text/plain": [
       "[[1]]\n",
       "[1] \"hon\" \"gki\" \"ldo\" \"you\" \"kaw\" \"anw\"\n"
      ]
     },
     "metadata": {},
     "output_type": "display_data"
    },
    {
     "data": {
      "text/html": [
       "<ol>\n",
       "\t<li><ol class=list-inline>\n",
       "\t<li>'hon'</li>\n",
       "\t<li>'gki'</li>\n",
       "\t<li>'ldo'</li>\n",
       "\t<li>'you'</li>\n",
       "\t<li>'kaw'</li>\n",
       "\t<li>'anw'</li>\n",
       "</ol>\n",
       "</li>\n",
       "</ol>\n"
      ],
      "text/latex": [
       "\\begin{enumerate}\n",
       "\\item \\begin{enumerate*}\n",
       "\\item 'hon'\n",
       "\\item 'gki'\n",
       "\\item 'ldo'\n",
       "\\item 'you'\n",
       "\\item 'kaw'\n",
       "\\item 'anw'\n",
       "\\end{enumerate*}\n",
       "\n",
       "\\end{enumerate}\n"
      ],
      "text/markdown": [
       "1. 1. 'hon'\n",
       "2. 'gki'\n",
       "3. 'ldo'\n",
       "4. 'you'\n",
       "5. 'kaw'\n",
       "6. 'anw'\n",
       "\n",
       "\n",
       "\n",
       "\n",
       "\n"
      ],
      "text/plain": [
       "[[1]]\n",
       "[1] \"hon\" \"gki\" \"ldo\" \"you\" \"kaw\" \"anw\"\n"
      ]
     },
     "metadata": {},
     "output_type": "display_data"
    },
    {
     "data": {
      "text/html": [
       "<ol>\n",
       "\t<li><ol class=list-inline>\n",
       "\t<li>'hongk'</li>\n",
       "\t<li>'ildon'</li>\n",
       "\t<li>'yoube'</li>\n",
       "\t<li>'kawan'</li>\n",
       "\t<li>'woo'</li>\n",
       "</ol>\n",
       "</li>\n",
       "</ol>\n"
      ],
      "text/latex": [
       "\\begin{enumerate}\n",
       "\\item \\begin{enumerate*}\n",
       "\\item 'hongk'\n",
       "\\item 'ildon'\n",
       "\\item 'yoube'\n",
       "\\item 'kawan'\n",
       "\\item 'woo'\n",
       "\\end{enumerate*}\n",
       "\n",
       "\\end{enumerate}\n"
      ],
      "text/markdown": [
       "1. 1. 'hongk'\n",
       "2. 'ildon'\n",
       "3. 'yoube'\n",
       "4. 'kawan'\n",
       "5. 'woo'\n",
       "\n",
       "\n",
       "\n",
       "\n",
       "\n"
      ],
      "text/plain": [
       "[[1]]\n",
       "[1] \"hongk\" \"ildon\" \"yoube\" \"kawan\" \"woo\"  \n"
      ]
     },
     "metadata": {},
     "output_type": "display_data"
    },
    {
     "data": {
      "text/html": [
       "<ol>\n",
       "\t<li><ol class=list-inline>\n",
       "\t<li>'hongkildong'</li>\n",
       "\t<li>'yoube'</li>\n",
       "\t<li>'kawanwoo'</li>\n",
       "</ol>\n",
       "</li>\n",
       "</ol>\n"
      ],
      "text/latex": [
       "\\begin{enumerate}\n",
       "\\item \\begin{enumerate*}\n",
       "\\item 'hongkildong'\n",
       "\\item 'yoube'\n",
       "\\item 'kawanwoo'\n",
       "\\end{enumerate*}\n",
       "\n",
       "\\end{enumerate}\n"
      ],
      "text/markdown": [
       "1. 1. 'hongkildong'\n",
       "2. 'yoube'\n",
       "3. 'kawanwoo'\n",
       "\n",
       "\n",
       "\n",
       "\n",
       "\n"
      ],
      "text/plain": [
       "[[1]]\n",
       "[1] \"hongkildong\" \"yoube\"       \"kawanwoo\"   \n"
      ]
     },
     "metadata": {},
     "output_type": "display_data"
    },
    {
     "data": {
      "text/html": [
       "'list'"
      ],
      "text/latex": [
       "'list'"
      ],
      "text/markdown": [
       "'list'"
      ],
      "text/plain": [
       "[1] \"list\""
      ]
     },
     "metadata": {},
     "output_type": "display_data"
    },
    {
     "data": {
      "text/html": [
       "'hongkildong'"
      ],
      "text/latex": [
       "'hongkildong'"
      ],
      "text/markdown": [
       "'hongkildong'"
      ],
      "text/plain": [
       "[1] \"hongkildong\""
      ]
     },
     "metadata": {},
     "output_type": "display_data"
    }
   ],
   "source": [
    "string <- \"hongkildong105yoube1002kawanwoo20장비2005\"\n",
    "\n",
    "#a-z까지의 영문자가 연속으로 3개 발견된 문자열 추출 (3글자 씩 뽑아오고 싶은거임)\n",
    "#정규식\n",
    "str_extract_all(string, \"[a-z]{3}\") # list네!\n",
    "str_extract_all(string, \"[a-z]{3}\")[1]\n",
    "\n",
    "#a-z까지의 영문자가 연속으로 3개-5개 발견된 문자열 추출\n",
    "#최솟값 3, 최댓값 5\n",
    "str_extract_all(string, \"[a-z]{3,5}\")\n",
    "\n",
    "#a-z까지의 영문자가 연속으로 1개이상 발견된 문자열 추출\n",
    "#{1,} = 1개 이상\n",
    "str_extract_all(string, \"[a-z]{1,}\")\n",
    "\n",
    "#홍길동만 뽑고 싶은데!\n",
    "aaa <- str_extract_all(string, \"[a-z]{1,}\")\n",
    "class(aaa)\n",
    "\n",
    "#list네! list를 없애고 싶어 unlist() 사용\n",
    "bbb <- unlist(aaa)\n",
    "bbb[1]\n",
    "\n",
    "# string에서 숫자만 출력하여 합계 구하기\n",
    "\n",
    "string\n",
    "str_extract_all(string , \"[0-9]{1,}\")\n",
    "sum(as.numeric(unlist(str_extract_all(string , \"[0-9]{1,}\"))))\n",
    "\n",
    "\n",
    "#한글만 추출하기\n",
    "string\n",
    "str_extract_all(string , \"[가-힣]{1,}\")\n",
    "\n",
    "#영문자를 제와한 문자출력하기.(여집합 = ^(not))\n",
    "#정규식은 모든 프로그래밍 언어에서 다 동일함.\n",
    "str_extract_all(string , \"[^a-z]{1,}\")"
   ]
  },
  {
   "cell_type": "code",
   "execution_count": null,
   "id": "0567d75b",
   "metadata": {},
   "outputs": [],
   "source": [
    "#문자열 길이 구하기.\n",
    "str_length(string)\n",
    "\n",
    "#문자열 위치 구하기.\n",
    "#특정 단어의 위치를 알고있어면 구분을 해줄수 있음. \n",
    "#데이터의 위치가 계속 바뀌니까 기준점을 잡을수 있게 도와줌.\n",
    "str_locate(string, '장비')\n",
    "#'matrix'\n",
    "class(str_locate(string, '장비'))\n",
    "\n",
    "#부분 문자열 추출\n",
    "str_sub(string, 1, 32)\n",
    "str_sub(string, 1, str_locate(string, '장비')[1]-1)\n",
    "# 대문자, 소문자 변경하기\n",
    "\n",
    "#대문자로 바꾸기\n",
    "str_to_upper(string)\n",
    "#소문자로 바꾸기\n",
    "str_to_lower(string)\n"
   ]
  },
  {
   "cell_type": "code",
   "execution_count": null,
   "id": "6504c886",
   "metadata": {},
   "outputs": [],
   "source": [
    "#문자열 교체하기(한번에 해야함 교체한걸 다시 교체하면 에러!)\n",
    "\n",
    "string <- str_replace(string, \"hongkildong105\", '홍길동35,')\n",
    "string <- str_replace(string, 'yoube1002', '유비45,')\n",
    "string <- str_replace(string, '2005', '20')\n",
    "string"
   ]
  },
  {
   "cell_type": "code",
   "execution_count": null,
   "id": "91804f10",
   "metadata": {},
   "outputs": [],
   "source": [
    "#문자열 분리하기\n",
    "str_split(string, \",\")"
   ]
  },
  {
   "cell_type": "code",
   "execution_count": null,
   "id": "fd05ec85",
   "metadata": {},
   "outputs": [],
   "source": [
    "#천단위 쉼표가 들어간 문자열을 숫자로 변경하기1\n",
    "#data에 \",\" 로 구분된것들이 많아서 꼭 알아야함.\n",
    "\n",
    "price <- \"123,456,789\"\n",
    "price <- as.numeric(str_replace_all(price, ',' , ''))\n",
    "price\n",
    "class(price)\n"
   ]
  },
  {
   "cell_type": "code",
   "execution_count": null,
   "id": "3e29bfb8",
   "metadata": {},
   "outputs": [],
   "source": [
    "#천단위 쉼표가 들어간 문자열을 숫자로 변경하기2\n",
    "#이게더 쉬운거 같은데..? 선생님은 이거 많이 쓰신대!\n",
    "price <- \"123,456,789\"\n",
    "as.numeric(str_remove_all(price,\",\"))"
   ]
  },
  {
   "cell_type": "code",
   "execution_count": 4,
   "id": "66c3fcaf",
   "metadata": {},
   "outputs": [
    {
     "data": {
      "text/html": [
       "<ol class=list-inline>\n",
       "\t<li>1</li>\n",
       "\t<li>2</li>\n",
       "\t<li>&lt;NA&gt;</li>\n",
       "\t<li>4</li>\n",
       "</ol>\n"
      ],
      "text/latex": [
       "\\begin{enumerate*}\n",
       "\\item 1\n",
       "\\item 2\n",
       "\\item <NA>\n",
       "\\item 4\n",
       "\\end{enumerate*}\n"
      ],
      "text/markdown": [
       "1. 1\n",
       "2. 2\n",
       "3. &lt;NA&gt;\n",
       "4. 4\n",
       "\n",
       "\n"
      ],
      "text/plain": [
       "[1]  1  2 NA  4"
      ]
     },
     "metadata": {},
     "output_type": "display_data"
    },
    {
     "data": {
      "text/html": [
       "<ol class=list-inline>\n",
       "\t<li>'1'</li>\n",
       "\t<li>'2'</li>\n",
       "\t<li>'10'</li>\n",
       "\t<li>'4'</li>\n",
       "</ol>\n"
      ],
      "text/latex": [
       "\\begin{enumerate*}\n",
       "\\item '1'\n",
       "\\item '2'\n",
       "\\item '10'\n",
       "\\item '4'\n",
       "\\end{enumerate*}\n"
      ],
      "text/markdown": [
       "1. '1'\n",
       "2. '2'\n",
       "3. '10'\n",
       "4. '4'\n",
       "\n",
       "\n"
      ],
      "text/plain": [
       "[1] \"1\"  \"2\"  \"10\" \"4\" "
      ]
     },
     "metadata": {},
     "output_type": "display_data"
    },
    {
     "data": {
      "text/html": [
       "<ol class=list-inline>\n",
       "\t<li>1</li>\n",
       "\t<li>2</li>\n",
       "\t<li>10</li>\n",
       "\t<li>4</li>\n",
       "</ol>\n"
      ],
      "text/latex": [
       "\\begin{enumerate*}\n",
       "\\item 1\n",
       "\\item 2\n",
       "\\item 10\n",
       "\\item 4\n",
       "\\end{enumerate*}\n"
      ],
      "text/markdown": [
       "1. 1\n",
       "2. 2\n",
       "3. 10\n",
       "4. 4\n",
       "\n",
       "\n"
      ],
      "text/plain": [
       "[1]  1  2 10  4"
      ]
     },
     "metadata": {},
     "output_type": "display_data"
    }
   ],
   "source": [
    "# Na 변경하기\n",
    "temp <- c(1, 2, NA, 4)\n",
    "temp\n",
    "str_replace_na(temp, 10)\n",
    "as.numeric(str_replace_na(temp, 10))"
   ]
  },
  {
   "cell_type": "code",
   "execution_count": null,
   "id": "ba3755be",
   "metadata": {},
   "outputs": [],
   "source": []
  }
 ],
 "metadata": {
  "kernelspec": {
   "display_name": "R",
   "language": "R",
   "name": "ir"
  },
  "language_info": {
   "codemirror_mode": "r",
   "file_extension": ".r",
   "mimetype": "text/x-r-source",
   "name": "R",
   "pygments_lexer": "r",
   "version": "3.6.1"
  }
 },
 "nbformat": 4,
 "nbformat_minor": 5
}
