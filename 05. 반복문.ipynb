{
 "cells": [
  {
   "cell_type": "markdown",
   "id": "1345a69e",
   "metadata": {},
   "source": [
    "## for문"
   ]
  },
  {
   "cell_type": "code",
   "execution_count": 1,
   "id": "35c8ea3f",
   "metadata": {},
   "outputs": [
    {
     "data": {
      "text/html": [
       "<ol class=list-inline>\n",
       "\t<li>1</li>\n",
       "\t<li>2</li>\n",
       "\t<li>3</li>\n",
       "\t<li>4</li>\n",
       "\t<li>5</li>\n",
       "\t<li>6</li>\n",
       "\t<li>7</li>\n",
       "\t<li>8</li>\n",
       "\t<li>9</li>\n",
       "\t<li>10</li>\n",
       "</ol>\n"
      ],
      "text/latex": [
       "\\begin{enumerate*}\n",
       "\\item 1\n",
       "\\item 2\n",
       "\\item 3\n",
       "\\item 4\n",
       "\\item 5\n",
       "\\item 6\n",
       "\\item 7\n",
       "\\item 8\n",
       "\\item 9\n",
       "\\item 10\n",
       "\\end{enumerate*}\n"
      ],
      "text/markdown": [
       "1. 1\n",
       "2. 2\n",
       "3. 3\n",
       "4. 4\n",
       "5. 5\n",
       "6. 6\n",
       "7. 7\n",
       "8. 8\n",
       "9. 9\n",
       "10. 10\n",
       "\n",
       "\n"
      ],
      "text/plain": [
       " [1]  1  2  3  4  5  6  7  8  9 10"
      ]
     },
     "metadata": {},
     "output_type": "display_data"
    },
    {
     "name": "stdout",
     "output_type": "stream",
     "text": [
      "[1] 1\n",
      "[1] 2\n",
      "[1] 3\n",
      "[1] 4\n",
      "[1] 5\n",
      "[1] 6\n",
      "[1] 7\n",
      "[1] 8\n",
      "[1] 9\n",
      "[1] 10\n"
     ]
    }
   ],
   "source": [
    "# 1 - 10까지의 숫자 출력\n",
    "\n",
    "1:10\n",
    "for(i in 1:10){\n",
    "    print(i)\n",
    "}"
   ]
  },
  {
   "cell_type": "code",
   "execution_count": 2,
   "id": "b631360c",
   "metadata": {},
   "outputs": [
    {
     "name": "stdout",
     "output_type": "stream",
     "text": [
      "[1] 1\n",
      "[1] 3\n",
      "[1] 5\n"
     ]
    }
   ],
   "source": [
    "for(i in c(1, 3, 5)){\n",
    "    print(i)\n",
    "}"
   ]
  },
  {
   "cell_type": "code",
   "execution_count": 3,
   "id": "dac64918",
   "metadata": {},
   "outputs": [
    {
     "name": "stdout",
     "output_type": "stream",
     "text": [
      "[1] 1\n",
      "[1] 3\n",
      "[1] 5\n",
      "[1] 7\n",
      "[1] 9\n"
     ]
    }
   ],
   "source": [
    "for(i in seq(1, 10, 2)){\n",
    "    print(i)\n",
    "}"
   ]
  },
  {
   "cell_type": "code",
   "execution_count": 4,
   "id": "338ab54f",
   "metadata": {},
   "outputs": [
    {
     "data": {
      "text/html": [
       "1"
      ],
      "text/latex": [
       "1"
      ],
      "text/markdown": [
       "1"
      ],
      "text/plain": [
       "[1] 1"
      ]
     },
     "metadata": {},
     "output_type": "display_data"
    },
    {
     "data": {
      "text/html": [
       "1.4142135623731"
      ],
      "text/latex": [
       "1.4142135623731"
      ],
      "text/markdown": [
       "1.4142135623731"
      ],
      "text/plain": [
       "[1] 1.414214"
      ]
     },
     "metadata": {},
     "output_type": "display_data"
    },
    {
     "data": {
      "text/html": [
       "1.73205080756888"
      ],
      "text/latex": [
       "1.73205080756888"
      ],
      "text/markdown": [
       "1.73205080756888"
      ],
      "text/plain": [
       "[1] 1.732051"
      ]
     },
     "metadata": {},
     "output_type": "display_data"
    },
    {
     "data": {
      "text/html": [
       "2"
      ],
      "text/latex": [
       "2"
      ],
      "text/markdown": [
       "2"
      ],
      "text/plain": [
       "[1] 2"
      ]
     },
     "metadata": {},
     "output_type": "display_data"
    }
   ],
   "source": [
    "# 1 - 10까지의 제곱근 구하기\n",
    "sqrt(1)\n",
    "sqrt(2)\n",
    "sqrt(3)\n",
    "sqrt(4)"
   ]
  },
  {
   "cell_type": "code",
   "execution_count": 5,
   "id": "d233326a",
   "metadata": {},
   "outputs": [
    {
     "name": "stdout",
     "output_type": "stream",
     "text": [
      "[1] 1\n",
      "[1] 1.414214\n",
      "[1] 1.732051\n",
      "[1] 2\n",
      "[1] 2.236068\n",
      "[1] 2.44949\n",
      "[1] 2.645751\n",
      "[1] 2.828427\n",
      "[1] 3\n",
      "[1] 3.162278\n"
     ]
    }
   ],
   "source": [
    "for (i in 1:10){\n",
    "    print(sqrt(i))\n",
    "}"
   ]
  },
  {
   "cell_type": "code",
   "execution_count": 6,
   "id": "1680983d",
   "metadata": {},
   "outputs": [
    {
     "name": "stdout",
     "output_type": "stream",
     "text": [
      "1  =>  1 \n",
      "2  =>  1.414214 \n",
      "3  =>  1.732051 \n",
      "4  =>  2 \n",
      "5  =>  2.236068 \n",
      "6  =>  2.44949 \n",
      "7  =>  2.645751 \n",
      "8  =>  2.828427 \n",
      "9  =>  3 \n",
      "10  =>  3.162278 \n"
     ]
    }
   ],
   "source": [
    "for (i in 1:10){\n",
    "    cat(i,\" => \",sqrt(i),\"\\n\")\n",
    "}"
   ]
  },
  {
   "cell_type": "code",
   "execution_count": 7,
   "id": "81a28fd8",
   "metadata": {},
   "outputs": [
    {
     "data": {
      "text/html": [
       "<table>\n",
       "<thead><tr><th scope=col>q1</th><th scope=col>q2</th><th scope=col>q3</th><th scope=col>q4</th><th scope=col>q5</th></tr></thead>\n",
       "<tbody>\n",
       "\t<tr><td>2</td><td>4</td><td>4</td><td>2</td><td>2</td></tr>\n",
       "\t<tr><td>1</td><td>2</td><td>2</td><td>2</td><td>2</td></tr>\n",
       "\t<tr><td>2</td><td>3</td><td>4</td><td>3</td><td>3</td></tr>\n",
       "\t<tr><td>3</td><td>5</td><td>5</td><td>3</td><td>3</td></tr>\n",
       "\t<tr><td>3</td><td>2</td><td>4</td><td>4</td><td>4</td></tr>\n",
       "\t<tr><td>4</td><td>3</td><td>3</td><td>4</td><td>2</td></tr>\n",
       "</tbody>\n",
       "</table>\n"
      ],
      "text/latex": [
       "\\begin{tabular}{r|lllll}\n",
       " q1 & q2 & q3 & q4 & q5\\\\\n",
       "\\hline\n",
       "\t 2 & 4 & 4 & 2 & 2\\\\\n",
       "\t 1 & 2 & 2 & 2 & 2\\\\\n",
       "\t 2 & 3 & 4 & 3 & 3\\\\\n",
       "\t 3 & 5 & 5 & 3 & 3\\\\\n",
       "\t 3 & 2 & 4 & 4 & 4\\\\\n",
       "\t 4 & 3 & 3 & 4 & 2\\\\\n",
       "\\end{tabular}\n"
      ],
      "text/markdown": [
       "\n",
       "| q1 | q2 | q3 | q4 | q5 |\n",
       "|---|---|---|---|---|\n",
       "| 2 | 4 | 4 | 2 | 2 |\n",
       "| 1 | 2 | 2 | 2 | 2 |\n",
       "| 2 | 3 | 4 | 3 | 3 |\n",
       "| 3 | 5 | 5 | 3 | 3 |\n",
       "| 3 | 2 | 4 | 4 | 4 |\n",
       "| 4 | 3 | 3 | 4 | 2 |\n",
       "\n"
      ],
      "text/plain": [
       "  q1 q2 q3 q4 q5\n",
       "1 2  4  4  2  2 \n",
       "2 1  2  2  2  2 \n",
       "3 2  3  4  3  3 \n",
       "4 3  5  5  3  3 \n",
       "5 3  2  4  4  4 \n",
       "6 4  3  3  4  2 "
      ]
     },
     "metadata": {},
     "output_type": "display_data"
    }
   ],
   "source": [
    "excel <- read.csv(\"Rdata/excel.csv\")\n",
    "head(excel)"
   ]
  },
  {
   "cell_type": "code",
   "execution_count": 8,
   "id": "96580e81",
   "metadata": {},
   "outputs": [
    {
     "name": "stdout",
     "output_type": "stream",
     "text": [
      "홀수의 합은 604 이고 짝수의 합은 852 입니다."
     ]
    }
   ],
   "source": [
    "#excel 에서 q3 컬럼 데이터의 홀수의 합과 짝수의 합 구하기\n",
    "#'홀수의 합은 604 이고  짝수의 합은 852 입니다.'\n",
    "\n",
    "sumEven <- 0; sumOdd <- 0;\n",
    "for (i in excel$q3){\n",
    "   if(i %% 2 == 0){\n",
    "       sumEven  = sumEven + i\n",
    "   }else{\n",
    "       sumOdd = sumOdd + i\n",
    "   }\n",
    "}\n",
    "cat(\"홀수의 합은\", sumOdd, \"이고 짝수의 합은\", sumEven, \"입니다.\")\n"
   ]
  },
  {
   "cell_type": "code",
   "execution_count": 9,
   "id": "5a26e8bb",
   "metadata": {},
   "outputs": [
    {
     "data": {
      "text/html": [
       "216"
      ],
      "text/latex": [
       "216"
      ],
      "text/markdown": [
       "216"
      ],
      "text/plain": [
       "[1] 216"
      ]
     },
     "metadata": {},
     "output_type": "display_data"
    }
   ],
   "source": [
    "# excel에서 q3 컬럼 데이터중 3의 배수 합계 구하기\n",
    "\n",
    "sum <- 0;\n",
    "for (i in excel$q3){\n",
    "    if(i %% 3 == 0){\n",
    "        sum = sum + i\n",
    "    }\n",
    "}\n",
    "\n",
    "sum"
   ]
  },
  {
   "cell_type": "code",
   "execution_count": 10,
   "id": "3d3b1188",
   "metadata": {},
   "outputs": [
    {
     "data": {
      "text/html": [
       "0"
      ],
      "text/latex": [
       "0"
      ],
      "text/markdown": [
       "0"
      ],
      "text/plain": [
       "[1] 0"
      ]
     },
     "metadata": {},
     "output_type": "display_data"
    }
   ],
   "source": [
    "# excel에서 q3 컬럼 데이터중 3의 배수도 되고 4의 배수도 되는 수의 합계 구하기\n",
    "\n",
    "sum1 <- 0;\n",
    "for (i in excel$q3){\n",
    "    if(i %% 3 == 0 & i %% 4 ==0){\n",
    "        sum1 = sum1 + i\n",
    "    }\n",
    "}\n",
    "sum1"
   ]
  },
  {
   "cell_type": "code",
   "execution_count": 11,
   "id": "b8a74ddb",
   "metadata": {},
   "outputs": [
    {
     "name": "stdout",
     "output_type": "stream",
     "text": [
      "2 x 1 = 2 \n",
      "2 x 2 = 4 \n",
      "2 x 3 = 6 \n",
      "2 x 4 = 8 \n",
      "2 x 5 = 10 \n",
      "2 x 6 = 12 \n",
      "2 x 7 = 14 \n",
      "2 x 8 = 16 \n",
      "2 x 9 = 18 \n"
     ]
    }
   ],
   "source": [
    "#구구단 2단 출력하기\n",
    "\n",
    "for(i in 1:9){\n",
    "    cat(\"2 x\",i,\"=\",2*i,\"\\n\")\n",
    "}\n"
   ]
  },
  {
   "cell_type": "code",
   "execution_count": 12,
   "id": "8770d7b0",
   "metadata": {},
   "outputs": [
    {
     "name": "stdout",
     "output_type": "stream",
     "text": [
      "단을 입력하세요! 5\n",
      "5 x 1 = 5 \n",
      "5 x 2 = 10 \n",
      "5 x 3 = 15 \n",
      "5 x 4 = 20 \n",
      "5 x 5 = 25 \n",
      "5 x 6 = 30 \n",
      "5 x 7 = 35 \n",
      "5 x 8 = 40 \n",
      "5 x 9 = 45 \n"
     ]
    }
   ],
   "source": [
    "#사용자로부터 몇단을 출력학지 단수를 입력받아 구구단 출력하기\n",
    "num1 <- as.integer(readline(\"단을 입력하세요! \"))\n",
    "for(i in 1:9){\n",
    "    cat(num1 ,\"x\",i,\"=\",num1*i,\"\\n\")\n",
    "}"
   ]
  },
  {
   "cell_type": "markdown",
   "id": "9083352a",
   "metadata": {},
   "source": [
    "### 구구단 함수 만들기 - 1"
   ]
  },
  {
   "cell_type": "code",
   "execution_count": 13,
   "id": "412ff62d",
   "metadata": {},
   "outputs": [],
   "source": [
    "# 함수 만드는건 java에서 class 만드는거랑 똑같음!\n",
    "\n",
    "gugu <- function(){\n",
    "    num1 <- as.integer(readline(\"단을 입력하세요! \"))\n",
    "    for(i in 1:9){\n",
    "        cat(num1 ,\"x\",i,\"=\",num1*i,\"\\n\")\n",
    "    }\n",
    "}"
   ]
  },
  {
   "cell_type": "code",
   "execution_count": 14,
   "id": "1eab13fa",
   "metadata": {},
   "outputs": [
    {
     "name": "stdout",
     "output_type": "stream",
     "text": [
      "단을 입력하세요! 5\n",
      "5 x 1 = 5 \n",
      "5 x 2 = 10 \n",
      "5 x 3 = 15 \n",
      "5 x 4 = 20 \n",
      "5 x 5 = 25 \n",
      "5 x 6 = 30 \n",
      "5 x 7 = 35 \n",
      "5 x 8 = 40 \n",
      "5 x 9 = 45 \n"
     ]
    }
   ],
   "source": [
    "gugu()"
   ]
  },
  {
   "cell_type": "markdown",
   "id": "766242f4",
   "metadata": {},
   "source": [
    "### 구구단 함수 만들기 -2"
   ]
  },
  {
   "cell_type": "code",
   "execution_count": 15,
   "id": "9334008f",
   "metadata": {},
   "outputs": [
    {
     "name": "stdout",
     "output_type": "stream",
     "text": [
      "3 X 1 = 3 \n",
      "3 X 2 = 6 \n",
      "3 X 3 = 9 \n",
      "3 X 4 = 12 \n",
      "3 X 5 = 15 \n",
      "3 X 6 = 18 \n",
      "3 X 7 = 21 \n",
      "3 X 8 = 24 \n",
      "3 X 9 = 27 \n"
     ]
    }
   ],
   "source": [
    "gugu <- function(x){\n",
    "    for(i in 1:9){\n",
    "        cat(x,\"X\",i,\"=\",x*i,\"\\n\")\n",
    "    }\n",
    "}\n",
    "gugu(3)"
   ]
  },
  {
   "cell_type": "markdown",
   "id": "ce5a1144",
   "metadata": {},
   "source": [
    "### 구구단 함수 만들기 -3"
   ]
  },
  {
   "cell_type": "code",
   "execution_count": 16,
   "id": "4600afdb",
   "metadata": {},
   "outputs": [
    {
     "name": "stdout",
     "output_type": "stream",
     "text": [
      "2 X 1 = 2 \n",
      "2 X 2 = 4 \n",
      "2 X 3 = 6 \n",
      "2 X 4 = 8 \n",
      "2 X 5 = 10 \n",
      "2 X 6 = 12 \n",
      "2 X 7 = 14 \n",
      "2 X 8 = 16 \n",
      "2 X 9 = 18 \n",
      "2 X 10 = 20 \n",
      "2 X 11 = 22 \n",
      "2 X 12 = 24 \n"
     ]
    }
   ],
   "source": [
    "gugu <- function(x,y){\n",
    "    for(i in 1:y){\n",
    "        cat(x,\"X\",i,\"=\",x*i,\"\\n\")\n",
    "    }\n",
    "}\n",
    "gugu(2,12)"
   ]
  },
  {
   "cell_type": "code",
   "execution_count": 17,
   "id": "29c6d971",
   "metadata": {},
   "outputs": [
    {
     "name": "stdout",
     "output_type": "stream",
     "text": [
      "2 x 1 = 2 \n",
      "2 x 2 = 4 \n",
      "2 x 3 = 6 \n",
      "2 x 4 = 8 \n",
      "2 x 5 = 10 \n",
      "2 x 6 = 12 \n",
      "2 x 7 = 14 \n",
      "2 x 8 = 16 \n",
      "2 x 9 = 18 \n",
      "--------------------\n",
      "3 x 1 = 3 \n",
      "3 x 2 = 6 \n",
      "3 x 3 = 9 \n",
      "3 x 4 = 12 \n",
      "3 x 5 = 15 \n",
      "3 x 6 = 18 \n",
      "3 x 7 = 21 \n",
      "3 x 8 = 24 \n",
      "3 x 9 = 27 \n",
      "--------------------\n",
      "4 x 1 = 4 \n",
      "4 x 2 = 8 \n",
      "4 x 3 = 12 \n",
      "4 x 4 = 16 \n",
      "4 x 5 = 20 \n",
      "4 x 6 = 24 \n",
      "4 x 7 = 28 \n",
      "4 x 8 = 32 \n",
      "4 x 9 = 36 \n",
      "--------------------\n",
      "5 x 1 = 5 \n",
      "5 x 2 = 10 \n",
      "5 x 3 = 15 \n",
      "5 x 4 = 20 \n",
      "5 x 5 = 25 \n",
      "5 x 6 = 30 \n",
      "5 x 7 = 35 \n",
      "5 x 8 = 40 \n",
      "5 x 9 = 45 \n",
      "--------------------\n"
     ]
    }
   ],
   "source": [
    "# 구구단 전체 출력하기\n",
    "for(i in 2:5){\n",
    "     for(j in 1:9){\n",
    "        cat(i, \"x\",j,\"=\",i*j,\"\\n\")\n",
    "    } \n",
    "     cat(\"--------------------\\n\")\n",
    "}"
   ]
  },
  {
   "cell_type": "code",
   "execution_count": 18,
   "id": "483494c7",
   "metadata": {},
   "outputs": [
    {
     "name": "stdout",
     "output_type": "stream",
     "text": [
      "2 x 2 = 4 \n",
      "2 x 4 = 8 \n",
      "2 x 6 = 12 \n",
      "2 x 8 = 16 \n",
      "--------------------\n",
      "4 x 2 = 8 \n",
      "4 x 4 = 16 \n",
      "4 x 6 = 24 \n",
      "4 x 8 = 32 \n",
      "--------------------\n",
      "6 x 2 = 12 \n",
      "6 x 4 = 24 \n",
      "6 x 6 = 36 \n",
      "6 x 8 = 48 \n",
      "--------------------\n",
      "8 x 2 = 16 \n",
      "8 x 4 = 32 \n",
      "8 x 6 = 48 \n",
      "8 x 8 = 64 \n",
      "--------------------\n"
     ]
    }
   ],
   "source": [
    "# 구구단 짝수만 출력하기\n",
    "#seq 만들어서 출력하기! if 문.. 너무 어렵게 생각하지마!\n",
    "for(i in seq(2,9,2)){\n",
    "     for(j in seq(2,9,2)){\n",
    "        cat(i, \"x\",j,\"=\",i*j,\"\\n\")\n",
    "    } \n",
    "     cat(\"--------------------\\n\")\n",
    "}"
   ]
  },
  {
   "cell_type": "code",
   "execution_count": 19,
   "id": "e45a8217",
   "metadata": {},
   "outputs": [
    {
     "name": "stdout",
     "output_type": "stream",
     "text": [
      "유비 : 85 \n",
      "관우 : 95 \n",
      "장비 : 89 \n",
      "유비 : 85 \n",
      "관우 : 95 \n",
      "장비 : 89 \n",
      "유비 : 85 \n",
      "관우 : 95 \n",
      "장비 : 89 \n"
     ]
    }
   ],
   "source": [
    "# 2개의 백터 자료를 함께 출력하기\n",
    "score <- c(85, 95, 89)\n",
    "name <- c(\"유비\", \"관우\", \"장비\")\n",
    "for(i in 1:3){\n",
    "    cat(name[i],\":\", score[i],\"\\n\")\n",
    "}\n",
    "\n",
    "j <- 1\n",
    "for(i in score){\n",
    "    cat(name[j],\":\",i,\"\\n\")\n",
    "    j=j+1\n",
    "}\n",
    "\n",
    "#sep = \"\" 띄어쓰기 제거 해주는것\n",
    "cat(paste(name,\":\",score, \"\\n\"), sep = \"\")"
   ]
  },
  {
   "cell_type": "markdown",
   "id": "e94024cd",
   "metadata": {},
   "source": [
    "### while\n",
    "- 많이 사용 안하는데 시험에 자주 나옴"
   ]
  },
  {
   "cell_type": "code",
   "execution_count": 20,
   "id": "9696dafa",
   "metadata": {},
   "outputs": [
    {
     "name": "stdout",
     "output_type": "stream",
     "text": [
      "[1] 1\n",
      "[1] 2\n",
      "[1] 3\n",
      "[1] 4\n",
      "[1] 5\n",
      "[1] 6\n",
      "[1] 7\n",
      "[1] 8\n",
      "[1] 9\n",
      "[1] 10\n"
     ]
    }
   ],
   "source": [
    "i <- 0\n",
    "while(i < 10){\n",
    "    i = i+1\n",
    "    print(i)\n",
    "}"
   ]
  },
  {
   "cell_type": "code",
   "execution_count": null,
   "id": "4a5be9d5",
   "metadata": {},
   "outputs": [],
   "source": [
    "# repeat 유일하게 괄호가 없는 함수라서 시험에 자주 나옴\n",
    "i <- 0\n",
    "repeat{\n",
    "i = i + 1\n",
    "    if(1 > 10){\n",
    "        break\n",
    "    }\n",
    "    print(i)\n",
    "}"
   ]
  },
  {
   "cell_type": "code",
   "execution_count": null,
   "id": "63b90e29",
   "metadata": {},
   "outputs": [],
   "source": []
  },
  {
   "cell_type": "code",
   "execution_count": null,
   "id": "3aa8dfe1",
   "metadata": {},
   "outputs": [],
   "source": []
  }
 ],
 "metadata": {
  "kernelspec": {
   "display_name": "R",
   "language": "R",
   "name": "ir"
  },
  "language_info": {
   "codemirror_mode": "r",
   "file_extension": ".r",
   "mimetype": "text/x-r-source",
   "name": "R",
   "pygments_lexer": "r",
   "version": "3.6.1"
  }
 },
 "nbformat": 4,
 "nbformat_minor": 5
}
