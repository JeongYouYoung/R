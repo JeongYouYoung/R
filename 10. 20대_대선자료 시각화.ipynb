{
 "cells": [
  {
   "cell_type": "code",
   "execution_count": 1,
   "id": "ce1752a0",
   "metadata": {},
   "outputs": [
    {
     "data": {
      "text/html": [
       "<table>\n",
       "<thead><tr><th scope=col>광역시도</th><th scope=col>시군구</th><th scope=col>선거인수</th><th scope=col>투표수</th><th scope=col>이재명</th><th scope=col>윤석열</th><th scope=col>심상정</th></tr></thead>\n",
       "<tbody>\n",
       "\t<tr><td>서울특별시</td><td>종로구    </td><td>129968    </td><td>100629    </td><td> 46130    </td><td> 49172    </td><td>3115      </td></tr>\n",
       "\t<tr><td>서울특별시</td><td>중구      </td><td>111448    </td><td> 84998    </td><td> 38244    </td><td> 42906    </td><td>2310      </td></tr>\n",
       "\t<tr><td>서울특별시</td><td>용산구    </td><td>199077    </td><td>152068    </td><td> 60063    </td><td> 85047    </td><td>4374      </td></tr>\n",
       "\t<tr><td>서울특별시</td><td>성동구    </td><td>252087    </td><td>197240    </td><td> 84411    </td><td>103880    </td><td>5365      </td></tr>\n",
       "\t<tr><td>서울특별시</td><td>광진구    </td><td>303582    </td><td>235471    </td><td>109922    </td><td>113733    </td><td>7072      </td></tr>\n",
       "\t<tr><td>서울특별시</td><td>동대문구  </td><td>300928    </td><td>232106    </td><td>108171    </td><td>112890    </td><td>6416      </td></tr>\n",
       "</tbody>\n",
       "</table>\n"
      ],
      "text/latex": [
       "\\begin{tabular}{r|lllllll}\n",
       " 광역시도 & 시군구 & 선거인수 & 투표수 & 이재명 & 윤석열 & 심상정\\\\\n",
       "\\hline\n",
       "\t 서울특별시 & 종로구     & 129968     & 100629     &  46130     &  49172     & 3115      \\\\\n",
       "\t 서울특별시 & 중구       & 111448     &  84998     &  38244     &  42906     & 2310      \\\\\n",
       "\t 서울특별시 & 용산구     & 199077     & 152068     &  60063     &  85047     & 4374      \\\\\n",
       "\t 서울특별시 & 성동구     & 252087     & 197240     &  84411     & 103880     & 5365      \\\\\n",
       "\t 서울특별시 & 광진구     & 303582     & 235471     & 109922     & 113733     & 7072      \\\\\n",
       "\t 서울특별시 & 동대문구   & 300928     & 232106     & 108171     & 112890     & 6416      \\\\\n",
       "\\end{tabular}\n"
      ],
      "text/markdown": [
       "\n",
       "| 광역시도 | 시군구 | 선거인수 | 투표수 | 이재명 | 윤석열 | 심상정 |\n",
       "|---|---|---|---|---|---|---|\n",
       "| 서울특별시 | 종로구     | 129968     | 100629     |  46130     |  49172     | 3115       |\n",
       "| 서울특별시 | 중구       | 111448     |  84998     |  38244     |  42906     | 2310       |\n",
       "| 서울특별시 | 용산구     | 199077     | 152068     |  60063     |  85047     | 4374       |\n",
       "| 서울특별시 | 성동구     | 252087     | 197240     |  84411     | 103880     | 5365       |\n",
       "| 서울특별시 | 광진구     | 303582     | 235471     | 109922     | 113733     | 7072       |\n",
       "| 서울특별시 | 동대문구   | 300928     | 232106     | 108171     | 112890     | 6416       |\n",
       "\n"
      ],
      "text/plain": [
       "  광역시도   시군구   선거인수 투표수 이재명 윤석열 심상정\n",
       "1 서울특별시 종로구   129968   100629  46130  49172 3115  \n",
       "2 서울특별시 중구     111448    84998  38244  42906 2310  \n",
       "3 서울특별시 용산구   199077   152068  60063  85047 4374  \n",
       "4 서울특별시 성동구   252087   197240  84411 103880 5365  \n",
       "5 서울특별시 광진구   303582   235471 109922 113733 7072  \n",
       "6 서울특별시 동대문구 300928   232106 108171 112890 6416  "
      ]
     },
     "metadata": {},
     "output_type": "display_data"
    }
   ],
   "source": [
    "#데이터불러오기\n",
    "election <- read.csv(\"Rdata/election_2022.csv\")\n",
    "head(election)"
   ]
  },
  {
   "cell_type": "code",
   "execution_count": 2,
   "id": "abe68b13",
   "metadata": {},
   "outputs": [
    {
     "data": {
      "text/html": [
       "<ol class=list-inline>\n",
       "\t<li>'광역시도'</li>\n",
       "\t<li>'시군구'</li>\n",
       "\t<li>'선거인수'</li>\n",
       "\t<li>'투표수'</li>\n",
       "\t<li>'이재명'</li>\n",
       "\t<li>'윤석열'</li>\n",
       "\t<li>'심상정'</li>\n",
       "</ol>\n"
      ],
      "text/latex": [
       "\\begin{enumerate*}\n",
       "\\item '광역시도'\n",
       "\\item '시군구'\n",
       "\\item '선거인수'\n",
       "\\item '투표수'\n",
       "\\item '이재명'\n",
       "\\item '윤석열'\n",
       "\\item '심상정'\n",
       "\\end{enumerate*}\n"
      ],
      "text/markdown": [
       "1. '광역시도'\n",
       "2. '시군구'\n",
       "3. '선거인수'\n",
       "4. '투표수'\n",
       "5. '이재명'\n",
       "6. '윤석열'\n",
       "7. '심상정'\n",
       "\n",
       "\n"
      ],
      "text/plain": [
       "[1] \"광역시도\" \"시군구\"   \"선거인수\" \"투표수\"   \"이재명\"   \"윤석열\"   \"심상정\"  "
      ]
     },
     "metadata": {},
     "output_type": "display_data"
    }
   ],
   "source": [
    "colnames(election)"
   ]
  },
  {
   "cell_type": "code",
   "execution_count": 3,
   "id": "12f296fd",
   "metadata": {},
   "outputs": [
    {
     "data": {
      "text/plain": [
       "\n",
       "        강원도         경기도       경상남도       경상북도     광주광역시 \n",
       "            18             41             22             24              5 \n",
       "    대구광역시     대전광역시     부산광역시     서울특별시 세종특별자치시 \n",
       "             8              5             16             25              1 \n",
       "    울산광역시     인천광역시       전라남도       전라북도 제주특별자치도 \n",
       "             5             10             22             15              2 \n",
       "      충청남도       충청북도 \n",
       "            16             13 "
      ]
     },
     "metadata": {},
     "output_type": "display_data"
    },
    {
     "data": {
      "text/html": [
       "<table>\n",
       "<thead><tr><th scope=col>광역시도</th><th scope=col>투표수</th></tr></thead>\n",
       "<tbody>\n",
       "\t<tr><td>강원도        </td><td>1015458       </td></tr>\n",
       "\t<tr><td>경기도        </td><td>8518854       </td></tr>\n",
       "\t<tr><td>경상남도      </td><td>2146882       </td></tr>\n",
       "\t<tr><td>경상북도      </td><td>1774284       </td></tr>\n",
       "\t<tr><td>광주광역시    </td><td> 985492       </td></tr>\n",
       "\t<tr><td>대구광역시    </td><td>1611512       </td></tr>\n",
       "\t<tr><td>대전광역시    </td><td> 945308       </td></tr>\n",
       "\t<tr><td>부산광역시    </td><td>2200224       </td></tr>\n",
       "\t<tr><td>서울특별시    </td><td>6501831       </td></tr>\n",
       "\t<tr><td>세종특별자치시</td><td> 231832       </td></tr>\n",
       "\t<tr><td>울산광역시    </td><td> 735461       </td></tr>\n",
       "\t<tr><td>인천광역시    </td><td>1883504       </td></tr>\n",
       "\t<tr><td>전라남도      </td><td>1282168       </td></tr>\n",
       "\t<tr><td>전라북도      </td><td>1235212       </td></tr>\n",
       "\t<tr><td>제주특별자치도</td><td> 409649       </td></tr>\n",
       "\t<tr><td>충청남도      </td><td>1324660       </td></tr>\n",
       "\t<tr><td>충청북도      </td><td> 962333       </td></tr>\n",
       "</tbody>\n",
       "</table>\n"
      ],
      "text/latex": [
       "\\begin{tabular}{r|ll}\n",
       " 광역시도 & 투표수\\\\\n",
       "\\hline\n",
       "\t 강원도         & 1015458       \\\\\n",
       "\t 경기도         & 8518854       \\\\\n",
       "\t 경상남도       & 2146882       \\\\\n",
       "\t 경상북도       & 1774284       \\\\\n",
       "\t 광주광역시     &  985492       \\\\\n",
       "\t 대구광역시     & 1611512       \\\\\n",
       "\t 대전광역시     &  945308       \\\\\n",
       "\t 부산광역시     & 2200224       \\\\\n",
       "\t 서울특별시     & 6501831       \\\\\n",
       "\t 세종특별자치시 &  231832       \\\\\n",
       "\t 울산광역시     &  735461       \\\\\n",
       "\t 인천광역시     & 1883504       \\\\\n",
       "\t 전라남도       & 1282168       \\\\\n",
       "\t 전라북도       & 1235212       \\\\\n",
       "\t 제주특별자치도 &  409649       \\\\\n",
       "\t 충청남도       & 1324660       \\\\\n",
       "\t 충청북도       &  962333       \\\\\n",
       "\\end{tabular}\n"
      ],
      "text/markdown": [
       "\n",
       "| 광역시도 | 투표수 |\n",
       "|---|---|\n",
       "| 강원도         | 1015458        |\n",
       "| 경기도         | 8518854        |\n",
       "| 경상남도       | 2146882        |\n",
       "| 경상북도       | 1774284        |\n",
       "| 광주광역시     |  985492        |\n",
       "| 대구광역시     | 1611512        |\n",
       "| 대전광역시     |  945308        |\n",
       "| 부산광역시     | 2200224        |\n",
       "| 서울특별시     | 6501831        |\n",
       "| 세종특별자치시 |  231832        |\n",
       "| 울산광역시     |  735461        |\n",
       "| 인천광역시     | 1883504        |\n",
       "| 전라남도       | 1282168        |\n",
       "| 전라북도       | 1235212        |\n",
       "| 제주특별자치도 |  409649        |\n",
       "| 충청남도       | 1324660        |\n",
       "| 충청북도       |  962333        |\n",
       "\n"
      ],
      "text/plain": [
       "   광역시도       투표수 \n",
       "1  강원도         1015458\n",
       "2  경기도         8518854\n",
       "3  경상남도       2146882\n",
       "4  경상북도       1774284\n",
       "5  광주광역시      985492\n",
       "6  대구광역시     1611512\n",
       "7  대전광역시      945308\n",
       "8  부산광역시     2200224\n",
       "9  서울특별시     6501831\n",
       "10 세종특별자치시  231832\n",
       "11 울산광역시      735461\n",
       "12 인천광역시     1883504\n",
       "13 전라남도       1282168\n",
       "14 전라북도       1235212\n",
       "15 제주특별자치도  409649\n",
       "16 충청남도       1324660\n",
       "17 충청북도        962333"
      ]
     },
     "metadata": {},
     "output_type": "display_data"
    }
   ],
   "source": [
    "table(election$광역시도)\n",
    "voter_sum <- aggregate(투표수 ~ 광역시도, election, sum) #투표인\n",
    "voter_sum\n"
   ]
  },
  {
   "cell_type": "code",
   "execution_count": 4,
   "id": "78cf9728",
   "metadata": {},
   "outputs": [
    {
     "data": {
      "text/html": [
       "<table>\n",
       "<thead><tr><th></th><th scope=col>광역시도</th><th scope=col>시군구</th><th scope=col>선거인수</th><th scope=col>투표수</th><th scope=col>이재명</th><th scope=col>윤석열</th><th scope=col>심상정</th></tr></thead>\n",
       "<tbody>\n",
       "\t<tr><th scope=row>243</th><td>경상남도      </td><td>함양군        </td><td> 34459        </td><td> 26955        </td><td>  8526        </td><td> 16957        </td><td>  528         </td></tr>\n",
       "\t<tr><th scope=row>244</th><td>경상남도      </td><td>산청군        </td><td> 31645        </td><td> 24913        </td><td>  7125        </td><td> 16607        </td><td>  464         </td></tr>\n",
       "\t<tr><th scope=row>245</th><td>경상남도      </td><td>거창군        </td><td> 53049        </td><td> 41399        </td><td> 11963        </td><td> 27254        </td><td>  895         </td></tr>\n",
       "\t<tr><th scope=row>246</th><td>경상남도      </td><td>합천군        </td><td> 39768        </td><td> 31270        </td><td>  6911        </td><td> 22742        </td><td>  511         </td></tr>\n",
       "\t<tr><th scope=row>247</th><td>제주특별자치도</td><td>제주시        </td><td>408552        </td><td>296826        </td><td>157695        </td><td>122084        </td><td>10007         </td></tr>\n",
       "\t<tr><th scope=row>248</th><td>제주특별자치도</td><td>서귀포시      </td><td>155802        </td><td>112823        </td><td> 55435        </td><td> 50930        </td><td> 3591         </td></tr>\n",
       "</tbody>\n",
       "</table>\n"
      ],
      "text/latex": [
       "\\begin{tabular}{r|lllllll}\n",
       "  & 광역시도 & 시군구 & 선거인수 & 투표수 & 이재명 & 윤석열 & 심상정\\\\\n",
       "\\hline\n",
       "\t243 & 경상남도       & 함양군         &  34459         &  26955         &   8526         &  16957         &   528         \\\\\n",
       "\t244 & 경상남도       & 산청군         &  31645         &  24913         &   7125         &  16607         &   464         \\\\\n",
       "\t245 & 경상남도       & 거창군         &  53049         &  41399         &  11963         &  27254         &   895         \\\\\n",
       "\t246 & 경상남도       & 합천군         &  39768         &  31270         &   6911         &  22742         &   511         \\\\\n",
       "\t247 & 제주특별자치도 & 제주시         & 408552         & 296826         & 157695         & 122084         & 10007         \\\\\n",
       "\t248 & 제주특별자치도 & 서귀포시       & 155802         & 112823         &  55435         &  50930         &  3591         \\\\\n",
       "\\end{tabular}\n"
      ],
      "text/markdown": [
       "\n",
       "| <!--/--> | 광역시도 | 시군구 | 선거인수 | 투표수 | 이재명 | 윤석열 | 심상정 |\n",
       "|---|---|---|---|---|---|---|---|\n",
       "| 243 | 경상남도       | 함양군         |  34459         |  26955         |   8526         |  16957         |   528          |\n",
       "| 244 | 경상남도       | 산청군         |  31645         |  24913         |   7125         |  16607         |   464          |\n",
       "| 245 | 경상남도       | 거창군         |  53049         |  41399         |  11963         |  27254         |   895          |\n",
       "| 246 | 경상남도       | 합천군         |  39768         |  31270         |   6911         |  22742         |   511          |\n",
       "| 247 | 제주특별자치도 | 제주시         | 408552         | 296826         | 157695         | 122084         | 10007          |\n",
       "| 248 | 제주특별자치도 | 서귀포시       | 155802         | 112823         |  55435         |  50930         |  3591          |\n",
       "\n"
      ],
      "text/plain": [
       "    광역시도       시군구   선거인수 투표수 이재명 윤석열 심상정\n",
       "243 경상남도       함양군    34459    26955   8526  16957   528 \n",
       "244 경상남도       산청군    31645    24913   7125  16607   464 \n",
       "245 경상남도       거창군    53049    41399  11963  27254   895 \n",
       "246 경상남도       합천군    39768    31270   6911  22742   511 \n",
       "247 제주특별자치도 제주시   408552   296826 157695 122084 10007 \n",
       "248 제주특별자치도 서귀포시 155802   112823  55435  50930  3591 "
      ]
     },
     "metadata": {},
     "output_type": "display_data"
    }
   ],
   "source": [
    "tail(election)"
   ]
  },
  {
   "cell_type": "code",
   "execution_count": 5,
   "id": "49cdcdfe",
   "metadata": {},
   "outputs": [
    {
     "name": "stdout",
     "output_type": "stream",
     "text": [
      "'data.frame':\t248 obs. of  7 variables:\n",
      " $ 광역시도: Factor w/ 17 levels \"강원도\",\"경기도\",..: 9 9 9 9 9 9 9 9 9 9 ...\n",
      " $ 시군구  : Factor w/ 226 levels \"가평군\",\"강남구\",..: 177 178 150 99 29 62 179 100 5 60 ...\n",
      " $ 선거인수: int  129968 111448 199077 252087 303582 300928 347108 375880 268974 281812 ...\n",
      " $ 투표수  : int  100629 84998 152068 197240 235471 232106 260862 292187 199448 216036 ...\n",
      " $ 이재명  : int  46130 38244 60063 84411 109922 108171 130381 142702 103333 106546 ...\n",
      " $ 윤석열  : int  49172 42906 85047 103880 113733 112890 118201 135044 86540 99780 ...\n",
      " $ 심상정  : int  3115 2310 4374 5365 7072 6416 6899 8952 5245 5605 ...\n"
     ]
    }
   ],
   "source": [
    "str(election)\n",
    "# 시군구는 248개인데 factor은 226이네! "
   ]
  },
  {
   "cell_type": "code",
   "execution_count": 6,
   "id": "51c672d0",
   "metadata": {},
   "outputs": [
    {
     "data": {
      "text/plain": [
       "       광역시도      시군구       선거인수          투표수      \n",
       " 경기도    :41   동구   :  6   Min.   :  8141   Min.   :  6653  \n",
       " 서울특별시:25   중구   :  6   1st Qu.: 47672   1st Qu.: 39216  \n",
       " 경상북도  :24   서구   :  5   Median :154354   Median :114654  \n",
       " 경상남도  :22   남구   :  4   Mean   :176570   Mean   :136148  \n",
       " 전라남도  :22   북구   :  4   3rd Qu.:265099   3rd Qu.:204189  \n",
       " 강원도    :18   강서구 :  2   Max.   :703896   Max.   :542027  \n",
       " (Other)   :96   (Other):221                                    \n",
       "     이재명           윤석열           심상정     \n",
       " Min.   :  1590   Min.   :  2052   Min.   :  109  \n",
       " 1st Qu.: 17363   1st Qu.: 18223   1st Qu.:  709  \n",
       " Median : 48797   Median : 50341   Median : 2618  \n",
       " Mean   : 64479   Mean   : 65566   Mean   : 3216  \n",
       " 3rd Qu.: 99831   3rd Qu.:101950   3rd Qu.: 5041  \n",
       " Max.   :285227   Max.   :275155   Max.   :13249  \n",
       "                                                  "
      ]
     },
     "metadata": {},
     "output_type": "display_data"
    }
   ],
   "source": [
    "summary(election)"
   ]
  },
  {
   "cell_type": "markdown",
   "id": "22990c96",
   "metadata": {},
   "source": [
    "---\n",
    "## 광역시도 투표율 구하기"
   ]
  },
  {
   "cell_type": "code",
   "execution_count": 7,
   "id": "8d973286",
   "metadata": {},
   "outputs": [
    {
     "ename": "ERROR",
     "evalue": "Error in library(plotrix): there is no package called ‘plotrix’\n",
     "output_type": "error",
     "traceback": [
      "Error in library(plotrix): there is no package called ‘plotrix’\nTraceback:\n",
      "1. library(plotrix)"
     ]
    }
   ],
   "source": [
    "# 라이브러리 불러오기\n",
    "library(plotrix)\n",
    "library(dplyr)"
   ]
  },
  {
   "cell_type": "code",
   "execution_count": 8,
   "id": "647aa5c9",
   "metadata": {},
   "outputs": [
    {
     "data": {
      "text/html": [
       "<ol class=list-inline>\n",
       "\t<li>3.01</li>\n",
       "\t<li>25.23</li>\n",
       "\t<li>6.36</li>\n",
       "\t<li>5.25</li>\n",
       "\t<li>2.92</li>\n",
       "\t<li>4.77</li>\n",
       "\t<li>2.8</li>\n",
       "\t<li>6.52</li>\n",
       "\t<li>19.26</li>\n",
       "\t<li>0.69</li>\n",
       "\t<li>2.18</li>\n",
       "\t<li>5.58</li>\n",
       "\t<li>3.8</li>\n",
       "\t<li>3.66</li>\n",
       "\t<li>1.21</li>\n",
       "\t<li>3.92</li>\n",
       "\t<li>2.85</li>\n",
       "</ol>\n"
      ],
      "text/latex": [
       "\\begin{enumerate*}\n",
       "\\item 3.01\n",
       "\\item 25.23\n",
       "\\item 6.36\n",
       "\\item 5.25\n",
       "\\item 2.92\n",
       "\\item 4.77\n",
       "\\item 2.8\n",
       "\\item 6.52\n",
       "\\item 19.26\n",
       "\\item 0.69\n",
       "\\item 2.18\n",
       "\\item 5.58\n",
       "\\item 3.8\n",
       "\\item 3.66\n",
       "\\item 1.21\n",
       "\\item 3.92\n",
       "\\item 2.85\n",
       "\\end{enumerate*}\n"
      ],
      "text/markdown": [
       "1. 3.01\n",
       "2. 25.23\n",
       "3. 6.36\n",
       "4. 5.25\n",
       "5. 2.92\n",
       "6. 4.77\n",
       "7. 2.8\n",
       "8. 6.52\n",
       "9. 19.26\n",
       "10. 0.69\n",
       "11. 2.18\n",
       "12. 5.58\n",
       "13. 3.8\n",
       "14. 3.66\n",
       "15. 1.21\n",
       "16. 3.92\n",
       "17. 2.85\n",
       "\n",
       "\n"
      ],
      "text/plain": [
       " [1]  3.01 25.23  6.36  5.25  2.92  4.77  2.80  6.52 19.26  0.69  2.18  5.58\n",
       "[13]  3.80  3.66  1.21  3.92  2.85"
      ]
     },
     "metadata": {},
     "output_type": "display_data"
    }
   ],
   "source": [
    "turnout <- round(voter_sum$투표수 / sum(voter_sum$투표수) * 100,2)\n",
    "turnout"
   ]
  },
  {
   "cell_type": "code",
   "execution_count": 9,
   "id": "57195128",
   "metadata": {},
   "outputs": [
    {
     "ename": "ERROR",
     "evalue": "Error in arrange(voter_sum, desc(투표율)): 함수 \"arrange\"를 찾을 수 없습니다\n",
     "output_type": "error",
     "traceback": [
      "Error in arrange(voter_sum, desc(투표율)): 함수 \"arrange\"를 찾을 수 없습니다\nTraceback:\n"
     ]
    }
   ],
   "source": [
    "voter_sum$투표율 <- turnout\n",
    "voter_sum<- arrange(voter_sum,desc(투표율))\n",
    "voter_sum"
   ]
  },
  {
   "cell_type": "code",
   "execution_count": 10,
   "id": "ff550a72",
   "metadata": {},
   "outputs": [
    {
     "data": {
      "text/html": [
       "<table>\n",
       "<thead><tr><th scope=col>광역시도</th><th scope=col>투표율</th></tr></thead>\n",
       "<tbody>\n",
       "\t<tr><td>강원도        </td><td> 3.01         </td></tr>\n",
       "\t<tr><td>경기도        </td><td>25.23         </td></tr>\n",
       "\t<tr><td>경상남도      </td><td> 6.36         </td></tr>\n",
       "\t<tr><td>경상북도      </td><td> 5.25         </td></tr>\n",
       "\t<tr><td>광주광역시    </td><td> 2.92         </td></tr>\n",
       "\t<tr><td>대구광역시    </td><td> 4.77         </td></tr>\n",
       "\t<tr><td>대전광역시    </td><td> 2.80         </td></tr>\n",
       "\t<tr><td>부산광역시    </td><td> 6.52         </td></tr>\n",
       "\t<tr><td>서울특별시    </td><td>19.26         </td></tr>\n",
       "\t<tr><td>세종특별자치시</td><td> 0.69         </td></tr>\n",
       "\t<tr><td>울산광역시    </td><td> 2.18         </td></tr>\n",
       "\t<tr><td>인천광역시    </td><td> 5.58         </td></tr>\n",
       "\t<tr><td>전라남도      </td><td> 3.80         </td></tr>\n",
       "\t<tr><td>전라북도      </td><td> 3.66         </td></tr>\n",
       "\t<tr><td>제주특별자치도</td><td> 1.21         </td></tr>\n",
       "\t<tr><td>충청남도      </td><td> 3.92         </td></tr>\n",
       "\t<tr><td>충청북도      </td><td> 2.85         </td></tr>\n",
       "</tbody>\n",
       "</table>\n"
      ],
      "text/latex": [
       "\\begin{tabular}{r|ll}\n",
       " 광역시도 & 투표율\\\\\n",
       "\\hline\n",
       "\t 강원도         &  3.01         \\\\\n",
       "\t 경기도         & 25.23         \\\\\n",
       "\t 경상남도       &  6.36         \\\\\n",
       "\t 경상북도       &  5.25         \\\\\n",
       "\t 광주광역시     &  2.92         \\\\\n",
       "\t 대구광역시     &  4.77         \\\\\n",
       "\t 대전광역시     &  2.80         \\\\\n",
       "\t 부산광역시     &  6.52         \\\\\n",
       "\t 서울특별시     & 19.26         \\\\\n",
       "\t 세종특별자치시 &  0.69         \\\\\n",
       "\t 울산광역시     &  2.18         \\\\\n",
       "\t 인천광역시     &  5.58         \\\\\n",
       "\t 전라남도       &  3.80         \\\\\n",
       "\t 전라북도       &  3.66         \\\\\n",
       "\t 제주특별자치도 &  1.21         \\\\\n",
       "\t 충청남도       &  3.92         \\\\\n",
       "\t 충청북도       &  2.85         \\\\\n",
       "\\end{tabular}\n"
      ],
      "text/markdown": [
       "\n",
       "| 광역시도 | 투표율 |\n",
       "|---|---|\n",
       "| 강원도         |  3.01          |\n",
       "| 경기도         | 25.23          |\n",
       "| 경상남도       |  6.36          |\n",
       "| 경상북도       |  5.25          |\n",
       "| 광주광역시     |  2.92          |\n",
       "| 대구광역시     |  4.77          |\n",
       "| 대전광역시     |  2.80          |\n",
       "| 부산광역시     |  6.52          |\n",
       "| 서울특별시     | 19.26          |\n",
       "| 세종특별자치시 |  0.69          |\n",
       "| 울산광역시     |  2.18          |\n",
       "| 인천광역시     |  5.58          |\n",
       "| 전라남도       |  3.80          |\n",
       "| 전라북도       |  3.66          |\n",
       "| 제주특별자치도 |  1.21          |\n",
       "| 충청남도       |  3.92          |\n",
       "| 충청북도       |  2.85          |\n",
       "\n"
      ],
      "text/plain": [
       "   광역시도       투표율\n",
       "1  강원도          3.01 \n",
       "2  경기도         25.23 \n",
       "3  경상남도        6.36 \n",
       "4  경상북도        5.25 \n",
       "5  광주광역시      2.92 \n",
       "6  대구광역시      4.77 \n",
       "7  대전광역시      2.80 \n",
       "8  부산광역시      6.52 \n",
       "9  서울특별시     19.26 \n",
       "10 세종특별자치시  0.69 \n",
       "11 울산광역시      2.18 \n",
       "12 인천광역시      5.58 \n",
       "13 전라남도        3.80 \n",
       "14 전라북도        3.66 \n",
       "15 제주특별자치도  1.21 \n",
       "16 충청남도        3.92 \n",
       "17 충청북도        2.85 "
      ]
     },
     "metadata": {},
     "output_type": "display_data"
    }
   ],
   "source": [
    "turnout_ratio <- voter_sum[,c(1,3)]\n",
    "turnout_ratio "
   ]
  },
  {
   "cell_type": "code",
   "execution_count": 11,
   "id": "a31d27d4",
   "metadata": {},
   "outputs": [
    {
     "data": {
      "text/html": [
       "<ol class=list-inline>\n",
       "\t<li>'강원도 \\n 3.01 %'</li>\n",
       "\t<li>'경기도 \\n 25.23 %'</li>\n",
       "\t<li>'경상남도 \\n 6.36 %'</li>\n",
       "\t<li>'경상북도 \\n 5.25 %'</li>\n",
       "\t<li>'광주광역시 \\n 2.92 %'</li>\n",
       "\t<li>'대구광역시 \\n 4.77 %'</li>\n",
       "\t<li>'대전광역시 \\n 2.8 %'</li>\n",
       "\t<li>'부산광역시 \\n 6.52 %'</li>\n",
       "\t<li>'서울특별시 \\n 19.26 %'</li>\n",
       "\t<li>'세종특별자치시 \\n 0.69 %'</li>\n",
       "\t<li>'울산광역시 \\n 2.18 %'</li>\n",
       "\t<li>'인천광역시 \\n 5.58 %'</li>\n",
       "\t<li>'전라남도 \\n 3.8 %'</li>\n",
       "\t<li>'전라북도 \\n 3.66 %'</li>\n",
       "\t<li>'제주특별자치도 \\n 1.21 %'</li>\n",
       "\t<li>'충청남도 \\n 3.92 %'</li>\n",
       "\t<li>'충청북도 \\n 2.85 %'</li>\n",
       "</ol>\n"
      ],
      "text/latex": [
       "\\begin{enumerate*}\n",
       "\\item '강원도 \\textbackslash{}n 3.01 \\%'\n",
       "\\item '경기도 \\textbackslash{}n 25.23 \\%'\n",
       "\\item '경상남도 \\textbackslash{}n 6.36 \\%'\n",
       "\\item '경상북도 \\textbackslash{}n 5.25 \\%'\n",
       "\\item '광주광역시 \\textbackslash{}n 2.92 \\%'\n",
       "\\item '대구광역시 \\textbackslash{}n 4.77 \\%'\n",
       "\\item '대전광역시 \\textbackslash{}n 2.8 \\%'\n",
       "\\item '부산광역시 \\textbackslash{}n 6.52 \\%'\n",
       "\\item '서울특별시 \\textbackslash{}n 19.26 \\%'\n",
       "\\item '세종특별자치시 \\textbackslash{}n 0.69 \\%'\n",
       "\\item '울산광역시 \\textbackslash{}n 2.18 \\%'\n",
       "\\item '인천광역시 \\textbackslash{}n 5.58 \\%'\n",
       "\\item '전라남도 \\textbackslash{}n 3.8 \\%'\n",
       "\\item '전라북도 \\textbackslash{}n 3.66 \\%'\n",
       "\\item '제주특별자치도 \\textbackslash{}n 1.21 \\%'\n",
       "\\item '충청남도 \\textbackslash{}n 3.92 \\%'\n",
       "\\item '충청북도 \\textbackslash{}n 2.85 \\%'\n",
       "\\end{enumerate*}\n"
      ],
      "text/markdown": [
       "1. '강원도 \\n 3.01 %'\n",
       "2. '경기도 \\n 25.23 %'\n",
       "3. '경상남도 \\n 6.36 %'\n",
       "4. '경상북도 \\n 5.25 %'\n",
       "5. '광주광역시 \\n 2.92 %'\n",
       "6. '대구광역시 \\n 4.77 %'\n",
       "7. '대전광역시 \\n 2.8 %'\n",
       "8. '부산광역시 \\n 6.52 %'\n",
       "9. '서울특별시 \\n 19.26 %'\n",
       "10. '세종특별자치시 \\n 0.69 %'\n",
       "11. '울산광역시 \\n 2.18 %'\n",
       "12. '인천광역시 \\n 5.58 %'\n",
       "13. '전라남도 \\n 3.8 %'\n",
       "14. '전라북도 \\n 3.66 %'\n",
       "15. '제주특별자치도 \\n 1.21 %'\n",
       "16. '충청남도 \\n 3.92 %'\n",
       "17. '충청북도 \\n 2.85 %'\n",
       "\n",
       "\n"
      ],
      "text/plain": [
       " [1] \"강원도 \\n 3.01 %\"         \"경기도 \\n 25.23 %\"       \n",
       " [3] \"경상남도 \\n 6.36 %\"       \"경상북도 \\n 5.25 %\"      \n",
       " [5] \"광주광역시 \\n 2.92 %\"     \"대구광역시 \\n 4.77 %\"    \n",
       " [7] \"대전광역시 \\n 2.8 %\"      \"부산광역시 \\n 6.52 %\"    \n",
       " [9] \"서울특별시 \\n 19.26 %\"    \"세종특별자치시 \\n 0.69 %\"\n",
       "[11] \"울산광역시 \\n 2.18 %\"     \"인천광역시 \\n 5.58 %\"    \n",
       "[13] \"전라남도 \\n 3.8 %\"        \"전라북도 \\n 3.66 %\"      \n",
       "[15] \"제주특별자치도 \\n 1.21 %\" \"충청남도 \\n 3.92 %\"      \n",
       "[17] \"충청북도 \\n 2.85 %\"      "
      ]
     },
     "metadata": {},
     "output_type": "display_data"
    }
   ],
   "source": [
    "#label 만들기\n",
    "투표율 <- paste(turnout_ratio$광역시도,\"\\n\",turnout_ratio$투표율,\"%\")\n",
    "투표율"
   ]
  },
  {
   "cell_type": "code",
   "execution_count": 12,
   "id": "41696f8f",
   "metadata": {},
   "outputs": [
    {
     "ename": "ERROR",
     "evalue": "Error in pie3D(turnout_ratio$투표율, main = \"광역시도별 투표율\", : 함수 \"pie3D\"를 찾을 수 없습니다\n",
     "output_type": "error",
     "traceback": [
      "Error in pie3D(turnout_ratio$투표율, main = \"광역시도별 투표율\", : 함수 \"pie3D\"를 찾을 수 없습니다\nTraceback:\n"
     ]
    }
   ],
   "source": [
    "par(family = \"AppleGothic\")\n",
    "options(warn = -1)\n",
    "pie3D( turnout_ratio$투표율,\n",
    "        main = \"광역시도별 투표율\",\n",
    "        labels = 투표율,\n",
    "        explode = 0.05,\n",
    "        labelcex = 0.6,\n",
    "        #radius = 0.8\n",
    "     )"
   ]
  },
  {
   "cell_type": "code",
   "execution_count": 13,
   "id": "121314d2",
   "metadata": {},
   "outputs": [
    {
     "data": {
      "text/html": [
       "<table>\n",
       "<thead><tr><th scope=col>광역시도</th><th scope=col>시군구</th><th scope=col>선거인수</th><th scope=col>투표수</th><th scope=col>이재명</th><th scope=col>윤석열</th><th scope=col>심상정</th><th scope=col>electionSum</th></tr></thead>\n",
       "<tbody>\n",
       "\t<tr><td>서울특별시</td><td>종로구    </td><td>129968    </td><td>100629    </td><td> 46130    </td><td> 49172    </td><td>3115      </td><td> 98417    </td></tr>\n",
       "\t<tr><td>서울특별시</td><td>중구      </td><td>111448    </td><td> 84998    </td><td> 38244    </td><td> 42906    </td><td>2310      </td><td> 83460    </td></tr>\n",
       "\t<tr><td>서울특별시</td><td>용산구    </td><td>199077    </td><td>152068    </td><td> 60063    </td><td> 85047    </td><td>4374      </td><td>149484    </td></tr>\n",
       "\t<tr><td>서울특별시</td><td>성동구    </td><td>252087    </td><td>197240    </td><td> 84411    </td><td>103880    </td><td>5365      </td><td>193656    </td></tr>\n",
       "\t<tr><td>서울특별시</td><td>광진구    </td><td>303582    </td><td>235471    </td><td>109922    </td><td>113733    </td><td>7072      </td><td>230727    </td></tr>\n",
       "\t<tr><td>서울특별시</td><td>동대문구  </td><td>300928    </td><td>232106    </td><td>108171    </td><td>112890    </td><td>6416      </td><td>227477    </td></tr>\n",
       "</tbody>\n",
       "</table>\n"
      ],
      "text/latex": [
       "\\begin{tabular}{r|llllllll}\n",
       " 광역시도 & 시군구 & 선거인수 & 투표수 & 이재명 & 윤석열 & 심상정 & electionSum\\\\\n",
       "\\hline\n",
       "\t 서울특별시 & 종로구     & 129968     & 100629     &  46130     &  49172     & 3115       &  98417    \\\\\n",
       "\t 서울특별시 & 중구       & 111448     &  84998     &  38244     &  42906     & 2310       &  83460    \\\\\n",
       "\t 서울특별시 & 용산구     & 199077     & 152068     &  60063     &  85047     & 4374       & 149484    \\\\\n",
       "\t 서울특별시 & 성동구     & 252087     & 197240     &  84411     & 103880     & 5365       & 193656    \\\\\n",
       "\t 서울특별시 & 광진구     & 303582     & 235471     & 109922     & 113733     & 7072       & 230727    \\\\\n",
       "\t 서울특별시 & 동대문구   & 300928     & 232106     & 108171     & 112890     & 6416       & 227477    \\\\\n",
       "\\end{tabular}\n"
      ],
      "text/markdown": [
       "\n",
       "| 광역시도 | 시군구 | 선거인수 | 투표수 | 이재명 | 윤석열 | 심상정 | electionSum |\n",
       "|---|---|---|---|---|---|---|---|\n",
       "| 서울특별시 | 종로구     | 129968     | 100629     |  46130     |  49172     | 3115       |  98417     |\n",
       "| 서울특별시 | 중구       | 111448     |  84998     |  38244     |  42906     | 2310       |  83460     |\n",
       "| 서울특별시 | 용산구     | 199077     | 152068     |  60063     |  85047     | 4374       | 149484     |\n",
       "| 서울특별시 | 성동구     | 252087     | 197240     |  84411     | 103880     | 5365       | 193656     |\n",
       "| 서울특별시 | 광진구     | 303582     | 235471     | 109922     | 113733     | 7072       | 230727     |\n",
       "| 서울특별시 | 동대문구   | 300928     | 232106     | 108171     | 112890     | 6416       | 227477     |\n",
       "\n"
      ],
      "text/plain": [
       "  광역시도   시군구   선거인수 투표수 이재명 윤석열 심상정 electionSum\n",
       "1 서울특별시 종로구   129968   100629  46130  49172 3115    98417     \n",
       "2 서울특별시 중구     111448    84998  38244  42906 2310    83460     \n",
       "3 서울특별시 용산구   199077   152068  60063  85047 4374   149484     \n",
       "4 서울특별시 성동구   252087   197240  84411 103880 5365   193656     \n",
       "5 서울특별시 광진구   303582   235471 109922 113733 7072   230727     \n",
       "6 서울특별시 동대문구 300928   232106 108171 112890 6416   227477     "
      ]
     },
     "metadata": {},
     "output_type": "display_data"
    }
   ],
   "source": [
    "# electionSum = 이재명 + 윤석열 + 심상정\n",
    "election$electionSum <- apply(election[, 5:7], 1,sum)\n",
    "head(election)"
   ]
  },
  {
   "cell_type": "code",
   "execution_count": 14,
   "id": "da90d400",
   "metadata": {},
   "outputs": [
    {
     "data": {
      "text/html": [
       "<table>\n",
       "<thead><tr><th scope=col>광역시도</th><th scope=col>시군구</th><th scope=col>선거인수</th><th scope=col>투표수</th><th scope=col>이재명</th><th scope=col>윤석열</th><th scope=col>심상정</th><th scope=col>electionSum</th><th scope=col>electionRatio</th></tr></thead>\n",
       "<tbody>\n",
       "\t<tr><td>서울특별시</td><td>종로구    </td><td>129968    </td><td>100629    </td><td> 46130    </td><td> 49172    </td><td>3115      </td><td> 98417    </td><td>97.80183  </td></tr>\n",
       "\t<tr><td>서울특별시</td><td>중구      </td><td>111448    </td><td> 84998    </td><td> 38244    </td><td> 42906    </td><td>2310      </td><td> 83460    </td><td>98.19055  </td></tr>\n",
       "\t<tr><td>서울특별시</td><td>용산구    </td><td>199077    </td><td>152068    </td><td> 60063    </td><td> 85047    </td><td>4374      </td><td>149484    </td><td>98.30076  </td></tr>\n",
       "\t<tr><td>서울특별시</td><td>성동구    </td><td>252087    </td><td>197240    </td><td> 84411    </td><td>103880    </td><td>5365      </td><td>193656    </td><td>98.18292  </td></tr>\n",
       "\t<tr><td>서울특별시</td><td>광진구    </td><td>303582    </td><td>235471    </td><td>109922    </td><td>113733    </td><td>7072      </td><td>230727    </td><td>97.98531  </td></tr>\n",
       "\t<tr><td>서울특별시</td><td>동대문구  </td><td>300928    </td><td>232106    </td><td>108171    </td><td>112890    </td><td>6416      </td><td>227477    </td><td>98.00565  </td></tr>\n",
       "</tbody>\n",
       "</table>\n"
      ],
      "text/latex": [
       "\\begin{tabular}{r|lllllllll}\n",
       " 광역시도 & 시군구 & 선거인수 & 투표수 & 이재명 & 윤석열 & 심상정 & electionSum & electionRatio\\\\\n",
       "\\hline\n",
       "\t 서울특별시 & 종로구     & 129968     & 100629     &  46130     &  49172     & 3115       &  98417     & 97.80183  \\\\\n",
       "\t 서울특별시 & 중구       & 111448     &  84998     &  38244     &  42906     & 2310       &  83460     & 98.19055  \\\\\n",
       "\t 서울특별시 & 용산구     & 199077     & 152068     &  60063     &  85047     & 4374       & 149484     & 98.30076  \\\\\n",
       "\t 서울특별시 & 성동구     & 252087     & 197240     &  84411     & 103880     & 5365       & 193656     & 98.18292  \\\\\n",
       "\t 서울특별시 & 광진구     & 303582     & 235471     & 109922     & 113733     & 7072       & 230727     & 97.98531  \\\\\n",
       "\t 서울특별시 & 동대문구   & 300928     & 232106     & 108171     & 112890     & 6416       & 227477     & 98.00565  \\\\\n",
       "\\end{tabular}\n"
      ],
      "text/markdown": [
       "\n",
       "| 광역시도 | 시군구 | 선거인수 | 투표수 | 이재명 | 윤석열 | 심상정 | electionSum | electionRatio |\n",
       "|---|---|---|---|---|---|---|---|---|\n",
       "| 서울특별시 | 종로구     | 129968     | 100629     |  46130     |  49172     | 3115       |  98417     | 97.80183   |\n",
       "| 서울특별시 | 중구       | 111448     |  84998     |  38244     |  42906     | 2310       |  83460     | 98.19055   |\n",
       "| 서울특별시 | 용산구     | 199077     | 152068     |  60063     |  85047     | 4374       | 149484     | 98.30076   |\n",
       "| 서울특별시 | 성동구     | 252087     | 197240     |  84411     | 103880     | 5365       | 193656     | 98.18292   |\n",
       "| 서울특별시 | 광진구     | 303582     | 235471     | 109922     | 113733     | 7072       | 230727     | 97.98531   |\n",
       "| 서울특별시 | 동대문구   | 300928     | 232106     | 108171     | 112890     | 6416       | 227477     | 98.00565   |\n",
       "\n"
      ],
      "text/plain": [
       "  광역시도   시군구   선거인수 투표수 이재명 윤석열 심상정 electionSum\n",
       "1 서울특별시 종로구   129968   100629  46130  49172 3115    98417     \n",
       "2 서울특별시 중구     111448    84998  38244  42906 2310    83460     \n",
       "3 서울특별시 용산구   199077   152068  60063  85047 4374   149484     \n",
       "4 서울특별시 성동구   252087   197240  84411 103880 5365   193656     \n",
       "5 서울특별시 광진구   303582   235471 109922 113733 7072   230727     \n",
       "6 서울특별시 동대문구 300928   232106 108171 112890 6416   227477     \n",
       "  electionRatio\n",
       "1 97.80183     \n",
       "2 98.19055     \n",
       "3 98.30076     \n",
       "4 98.18292     \n",
       "5 97.98531     \n",
       "6 98.00565     "
      ]
     },
     "metadata": {},
     "output_type": "display_data"
    }
   ],
   "source": [
    "# electionRation <- 투표수대비 electionSum의 퍼센트 구해서 넣기\n",
    "election$electionRatio <- election$electionSum / election$투표수 * 100\n",
    "head(election)"
   ]
  },
  {
   "cell_type": "code",
   "execution_count": 15,
   "id": "7ff2e776",
   "metadata": {},
   "outputs": [
    {
     "name": "stderr",
     "output_type": "stream",
     "text": [
      "\n",
      "Attaching package: ‘dplyr’\n",
      "\n",
      "The following objects are masked from ‘package:stats’:\n",
      "\n",
      "    filter, lag\n",
      "\n",
      "The following objects are masked from ‘package:base’:\n",
      "\n",
      "    intersect, setdiff, setequal, union\n",
      "\n"
     ]
    }
   ],
   "source": [
    "# 3명의 후보를 가장 많이 선택한 지역과 가장 적게 선택한 지역 구하기\n",
    "# 1) 정렬\n",
    "library(dplyr)"
   ]
  },
  {
   "cell_type": "code",
   "execution_count": 16,
   "id": "bc1dadba",
   "metadata": {},
   "outputs": [
    {
     "data": {
      "text/html": [
       "<table>\n",
       "<thead><tr><th scope=col>광역시도</th><th scope=col>시군구</th><th scope=col>선거인수</th><th scope=col>투표수</th><th scope=col>이재명</th><th scope=col>윤석열</th><th scope=col>심상정</th><th scope=col>electionSum</th><th scope=col>electionRatio</th></tr></thead>\n",
       "<tbody>\n",
       "\t<tr><td>경기도      </td><td>성남시분당구</td><td>404493      </td><td>335434      </td><td>140966      </td><td>183094      </td><td>7005        </td><td>331065      </td><td>98.69751    </td></tr>\n",
       "</tbody>\n",
       "</table>\n"
      ],
      "text/latex": [
       "\\begin{tabular}{r|lllllllll}\n",
       " 광역시도 & 시군구 & 선거인수 & 투표수 & 이재명 & 윤석열 & 심상정 & electionSum & electionRatio\\\\\n",
       "\\hline\n",
       "\t 경기도       & 성남시분당구 & 404493       & 335434       & 140966       & 183094       & 7005         & 331065       & 98.69751    \\\\\n",
       "\\end{tabular}\n"
      ],
      "text/markdown": [
       "\n",
       "| 광역시도 | 시군구 | 선거인수 | 투표수 | 이재명 | 윤석열 | 심상정 | electionSum | electionRatio |\n",
       "|---|---|---|---|---|---|---|---|---|\n",
       "| 경기도       | 성남시분당구 | 404493       | 335434       | 140966       | 183094       | 7005         | 331065       | 98.69751     |\n",
       "\n"
      ],
      "text/plain": [
       "  광역시도 시군구       선거인수 투표수 이재명 윤석열 심상정 electionSum\n",
       "1 경기도   성남시분당구 404493   335434 140966 183094 7005   331065     \n",
       "  electionRatio\n",
       "1 98.69751     "
      ]
     },
     "metadata": {},
     "output_type": "display_data"
    },
    {
     "data": {
      "text/html": [
       "<table>\n",
       "<thead><tr><th></th><th scope=col>광역시도</th><th scope=col>시군구</th><th scope=col>선거인수</th><th scope=col>투표수</th><th scope=col>이재명</th><th scope=col>윤석열</th><th scope=col>심상정</th><th scope=col>electionSum</th><th scope=col>electionRatio</th></tr></thead>\n",
       "<tbody>\n",
       "\t<tr><th scope=row>248</th><td>인천광역시</td><td>옹진군    </td><td>18659     </td><td>14912     </td><td>5218      </td><td>8797      </td><td>304       </td><td>14319     </td><td>96.02334  </td></tr>\n",
       "</tbody>\n",
       "</table>\n"
      ],
      "text/latex": [
       "\\begin{tabular}{r|lllllllll}\n",
       "  & 광역시도 & 시군구 & 선거인수 & 투표수 & 이재명 & 윤석열 & 심상정 & electionSum & electionRatio\\\\\n",
       "\\hline\n",
       "\t248 & 인천광역시 & 옹진군     & 18659      & 14912      & 5218       & 8797       & 304        & 14319      & 96.02334  \\\\\n",
       "\\end{tabular}\n"
      ],
      "text/markdown": [
       "\n",
       "| <!--/--> | 광역시도 | 시군구 | 선거인수 | 투표수 | 이재명 | 윤석열 | 심상정 | electionSum | electionRatio |\n",
       "|---|---|---|---|---|---|---|---|---|---|\n",
       "| 248 | 인천광역시 | 옹진군     | 18659      | 14912      | 5218       | 8797       | 304        | 14319      | 96.02334   |\n",
       "\n"
      ],
      "text/plain": [
       "    광역시도   시군구 선거인수 투표수 이재명 윤석열 심상정 electionSum\n",
       "248 인천광역시 옹진군 18659    14912  5218   8797   304    14319      \n",
       "    electionRatio\n",
       "248 96.02334     "
      ]
     },
     "metadata": {},
     "output_type": "display_data"
    }
   ],
   "source": [
    "arrange(election, desc(electionRatio))[1,]\n",
    "arrange(election, desc(electionRatio))[nrow(election),]"
   ]
  },
  {
   "cell_type": "code",
   "execution_count": 17,
   "id": "8f4c036c",
   "metadata": {},
   "outputs": [
    {
     "data": {
      "text/html": [
       "<table>\n",
       "<thead><tr><th></th><th scope=col>광역시도</th><th scope=col>시군구</th><th scope=col>선거인수</th><th scope=col>투표수</th><th scope=col>이재명</th><th scope=col>윤석열</th><th scope=col>심상정</th><th scope=col>electionSum</th><th scope=col>electionRatio</th></tr></thead>\n",
       "<tbody>\n",
       "\t<tr><th scope=row>82</th><td>경기도      </td><td>성남시분당구</td><td>404493      </td><td>335434      </td><td>140966      </td><td>183094      </td><td>7005        </td><td>331065      </td><td>98.69751    </td></tr>\n",
       "</tbody>\n",
       "</table>\n"
      ],
      "text/latex": [
       "\\begin{tabular}{r|lllllllll}\n",
       "  & 광역시도 & 시군구 & 선거인수 & 투표수 & 이재명 & 윤석열 & 심상정 & electionSum & electionRatio\\\\\n",
       "\\hline\n",
       "\t82 & 경기도       & 성남시분당구 & 404493       & 335434       & 140966       & 183094       & 7005         & 331065       & 98.69751    \\\\\n",
       "\\end{tabular}\n"
      ],
      "text/markdown": [
       "\n",
       "| <!--/--> | 광역시도 | 시군구 | 선거인수 | 투표수 | 이재명 | 윤석열 | 심상정 | electionSum | electionRatio |\n",
       "|---|---|---|---|---|---|---|---|---|---|\n",
       "| 82 | 경기도       | 성남시분당구 | 404493       | 335434       | 140966       | 183094       | 7005         | 331065       | 98.69751     |\n",
       "\n"
      ],
      "text/plain": [
       "   광역시도 시군구       선거인수 투표수 이재명 윤석열 심상정 electionSum\n",
       "82 경기도   성남시분당구 404493   335434 140966 183094 7005   331065     \n",
       "   electionRatio\n",
       "82 98.69751     "
      ]
     },
     "metadata": {},
     "output_type": "display_data"
    },
    {
     "data": {
      "text/html": [
       "<table>\n",
       "<thead><tr><th></th><th scope=col>광역시도</th><th scope=col>시군구</th><th scope=col>선거인수</th><th scope=col>투표수</th><th scope=col>이재명</th><th scope=col>윤석열</th><th scope=col>심상정</th><th scope=col>electionSum</th><th scope=col>electionRatio</th></tr></thead>\n",
       "<tbody>\n",
       "\t<tr><th scope=row>59</th><td>인천광역시</td><td>옹진군    </td><td>18659     </td><td>14912     </td><td>5218      </td><td>8797      </td><td>304       </td><td>14319     </td><td>96.02334  </td></tr>\n",
       "</tbody>\n",
       "</table>\n"
      ],
      "text/latex": [
       "\\begin{tabular}{r|lllllllll}\n",
       "  & 광역시도 & 시군구 & 선거인수 & 투표수 & 이재명 & 윤석열 & 심상정 & electionSum & electionRatio\\\\\n",
       "\\hline\n",
       "\t59 & 인천광역시 & 옹진군     & 18659      & 14912      & 5218       & 8797       & 304        & 14319      & 96.02334  \\\\\n",
       "\\end{tabular}\n"
      ],
      "text/markdown": [
       "\n",
       "| <!--/--> | 광역시도 | 시군구 | 선거인수 | 투표수 | 이재명 | 윤석열 | 심상정 | electionSum | electionRatio |\n",
       "|---|---|---|---|---|---|---|---|---|---|\n",
       "| 59 | 인천광역시 | 옹진군     | 18659      | 14912      | 5218       | 8797       | 304        | 14319      | 96.02334   |\n",
       "\n"
      ],
      "text/plain": [
       "   광역시도   시군구 선거인수 투표수 이재명 윤석열 심상정 electionSum\n",
       "59 인천광역시 옹진군 18659    14912  5218   8797   304    14319      \n",
       "   electionRatio\n",
       "59 96.02334     "
      ]
     },
     "metadata": {},
     "output_type": "display_data"
    }
   ],
   "source": [
    "#2) subset\n",
    "subset(election, electionRatio == max(election$electionRatio))\n",
    "subset(election, electionRatio == min(election$electionRatio))"
   ]
  },
  {
   "cell_type": "code",
   "execution_count": 18,
   "id": "5a6b3262",
   "metadata": {},
   "outputs": [],
   "source": [
    "# election_2022_job1.csv로 저장하기\n",
    "write.csv(election,\"Rdata/election_2022_job1.csv\", row.names = F)"
   ]
  },
  {
   "cell_type": "markdown",
   "id": "dc51f75c",
   "metadata": {},
   "source": [
    "## 각 후보(윤,이,심)의 광역시도별 득표율을 3D Pie Chart로 표현하기\n",
    "## (단, 득표율이 3% 미만인 광역시도는 광역시도 명만 출력하고 퍼센트는 출력하지 않는다./퍼센트 단위는 소수 한자리)"
   ]
  },
  {
   "cell_type": "code",
   "execution_count": 19,
   "id": "0d2c7185",
   "metadata": {},
   "outputs": [
    {
     "data": {
      "text/html": [
       "<table>\n",
       "<thead><tr><th scope=col>광역시도</th><th scope=col>시군구</th><th scope=col>선거인수</th><th scope=col>투표수</th><th scope=col>이재명</th><th scope=col>윤석열</th><th scope=col>심상정</th><th scope=col>electionSum</th><th scope=col>electionRatio</th></tr></thead>\n",
       "<tbody>\n",
       "\t<tr><td>서울특별시</td><td>종로구    </td><td>129968    </td><td>100629    </td><td> 46130    </td><td> 49172    </td><td>3115      </td><td> 98417    </td><td>97.80183  </td></tr>\n",
       "\t<tr><td>서울특별시</td><td>중구      </td><td>111448    </td><td> 84998    </td><td> 38244    </td><td> 42906    </td><td>2310      </td><td> 83460    </td><td>98.19055  </td></tr>\n",
       "\t<tr><td>서울특별시</td><td>용산구    </td><td>199077    </td><td>152068    </td><td> 60063    </td><td> 85047    </td><td>4374      </td><td>149484    </td><td>98.30076  </td></tr>\n",
       "\t<tr><td>서울특별시</td><td>성동구    </td><td>252087    </td><td>197240    </td><td> 84411    </td><td>103880    </td><td>5365      </td><td>193656    </td><td>98.18292  </td></tr>\n",
       "\t<tr><td>서울특별시</td><td>광진구    </td><td>303582    </td><td>235471    </td><td>109922    </td><td>113733    </td><td>7072      </td><td>230727    </td><td>97.98531  </td></tr>\n",
       "\t<tr><td>서울특별시</td><td>동대문구  </td><td>300928    </td><td>232106    </td><td>108171    </td><td>112890    </td><td>6416      </td><td>227477    </td><td>98.00565  </td></tr>\n",
       "</tbody>\n",
       "</table>\n"
      ],
      "text/latex": [
       "\\begin{tabular}{r|lllllllll}\n",
       " 광역시도 & 시군구 & 선거인수 & 투표수 & 이재명 & 윤석열 & 심상정 & electionSum & electionRatio\\\\\n",
       "\\hline\n",
       "\t 서울특별시 & 종로구     & 129968     & 100629     &  46130     &  49172     & 3115       &  98417     & 97.80183  \\\\\n",
       "\t 서울특별시 & 중구       & 111448     &  84998     &  38244     &  42906     & 2310       &  83460     & 98.19055  \\\\\n",
       "\t 서울특별시 & 용산구     & 199077     & 152068     &  60063     &  85047     & 4374       & 149484     & 98.30076  \\\\\n",
       "\t 서울특별시 & 성동구     & 252087     & 197240     &  84411     & 103880     & 5365       & 193656     & 98.18292  \\\\\n",
       "\t 서울특별시 & 광진구     & 303582     & 235471     & 109922     & 113733     & 7072       & 230727     & 97.98531  \\\\\n",
       "\t 서울특별시 & 동대문구   & 300928     & 232106     & 108171     & 112890     & 6416       & 227477     & 98.00565  \\\\\n",
       "\\end{tabular}\n"
      ],
      "text/markdown": [
       "\n",
       "| 광역시도 | 시군구 | 선거인수 | 투표수 | 이재명 | 윤석열 | 심상정 | electionSum | electionRatio |\n",
       "|---|---|---|---|---|---|---|---|---|\n",
       "| 서울특별시 | 종로구     | 129968     | 100629     |  46130     |  49172     | 3115       |  98417     | 97.80183   |\n",
       "| 서울특별시 | 중구       | 111448     |  84998     |  38244     |  42906     | 2310       |  83460     | 98.19055   |\n",
       "| 서울특별시 | 용산구     | 199077     | 152068     |  60063     |  85047     | 4374       | 149484     | 98.30076   |\n",
       "| 서울특별시 | 성동구     | 252087     | 197240     |  84411     | 103880     | 5365       | 193656     | 98.18292   |\n",
       "| 서울특별시 | 광진구     | 303582     | 235471     | 109922     | 113733     | 7072       | 230727     | 97.98531   |\n",
       "| 서울특별시 | 동대문구   | 300928     | 232106     | 108171     | 112890     | 6416       | 227477     | 98.00565   |\n",
       "\n"
      ],
      "text/plain": [
       "  광역시도   시군구   선거인수 투표수 이재명 윤석열 심상정 electionSum\n",
       "1 서울특별시 종로구   129968   100629  46130  49172 3115    98417     \n",
       "2 서울특별시 중구     111448    84998  38244  42906 2310    83460     \n",
       "3 서울특별시 용산구   199077   152068  60063  85047 4374   149484     \n",
       "4 서울특별시 성동구   252087   197240  84411 103880 5365   193656     \n",
       "5 서울특별시 광진구   303582   235471 109922 113733 7072   230727     \n",
       "6 서울특별시 동대문구 300928   232106 108171 112890 6416   227477     \n",
       "  electionRatio\n",
       "1 97.80183     \n",
       "2 98.19055     \n",
       "3 98.30076     \n",
       "4 98.18292     \n",
       "5 97.98531     \n",
       "6 98.00565     "
      ]
     },
     "metadata": {},
     "output_type": "display_data"
    }
   ],
   "source": [
    "head(election)"
   ]
  },
  {
   "cell_type": "code",
   "execution_count": null,
   "id": "a85c3951",
   "metadata": {},
   "outputs": [],
   "source": []
  },
  {
   "cell_type": "code",
   "execution_count": 20,
   "id": "33b1da16",
   "metadata": {},
   "outputs": [
    {
     "data": {
      "text/html": [
       "<table>\n",
       "<thead><tr><th scope=col>광역시도</th><th scope=col>심상정</th></tr></thead>\n",
       "<tbody>\n",
       "\t<tr><td>강원도        </td><td> 25031        </td></tr>\n",
       "\t<tr><td>경기도        </td><td>201113        </td></tr>\n",
       "\t<tr><td>경상남도      </td><td> 52591        </td></tr>\n",
       "\t<tr><td>경상북도      </td><td> 33123        </td></tr>\n",
       "\t<tr><td>광주광역시    </td><td> 14865        </td></tr>\n",
       "\t<tr><td>대구광역시    </td><td> 31131        </td></tr>\n",
       "\t<tr><td>대전광역시    </td><td> 25445        </td></tr>\n",
       "\t<tr><td>부산광역시    </td><td> 47541        </td></tr>\n",
       "\t<tr><td>서울특별시    </td><td>180324        </td></tr>\n",
       "\t<tr><td>세종특별자치시</td><td>  6780        </td></tr>\n",
       "\t<tr><td>울산광역시    </td><td> 21292        </td></tr>\n",
       "\t<tr><td>인천광역시    </td><td> 51852        </td></tr>\n",
       "\t<tr><td>전라남도      </td><td> 16279        </td></tr>\n",
       "\t<tr><td>전라북도      </td><td> 19451        </td></tr>\n",
       "\t<tr><td>제주특별자치도</td><td> 13598        </td></tr>\n",
       "\t<tr><td>충청남도      </td><td> 31789        </td></tr>\n",
       "\t<tr><td>충청북도      </td><td> 25247        </td></tr>\n",
       "</tbody>\n",
       "</table>\n"
      ],
      "text/latex": [
       "\\begin{tabular}{r|ll}\n",
       " 광역시도 & 심상정\\\\\n",
       "\\hline\n",
       "\t 강원도         &  25031        \\\\\n",
       "\t 경기도         & 201113        \\\\\n",
       "\t 경상남도       &  52591        \\\\\n",
       "\t 경상북도       &  33123        \\\\\n",
       "\t 광주광역시     &  14865        \\\\\n",
       "\t 대구광역시     &  31131        \\\\\n",
       "\t 대전광역시     &  25445        \\\\\n",
       "\t 부산광역시     &  47541        \\\\\n",
       "\t 서울특별시     & 180324        \\\\\n",
       "\t 세종특별자치시 &   6780        \\\\\n",
       "\t 울산광역시     &  21292        \\\\\n",
       "\t 인천광역시     &  51852        \\\\\n",
       "\t 전라남도       &  16279        \\\\\n",
       "\t 전라북도       &  19451        \\\\\n",
       "\t 제주특별자치도 &  13598        \\\\\n",
       "\t 충청남도       &  31789        \\\\\n",
       "\t 충청북도       &  25247        \\\\\n",
       "\\end{tabular}\n"
      ],
      "text/markdown": [
       "\n",
       "| 광역시도 | 심상정 |\n",
       "|---|---|\n",
       "| 강원도         |  25031         |\n",
       "| 경기도         | 201113         |\n",
       "| 경상남도       |  52591         |\n",
       "| 경상북도       |  33123         |\n",
       "| 광주광역시     |  14865         |\n",
       "| 대구광역시     |  31131         |\n",
       "| 대전광역시     |  25445         |\n",
       "| 부산광역시     |  47541         |\n",
       "| 서울특별시     | 180324         |\n",
       "| 세종특별자치시 |   6780         |\n",
       "| 울산광역시     |  21292         |\n",
       "| 인천광역시     |  51852         |\n",
       "| 전라남도       |  16279         |\n",
       "| 전라북도       |  19451         |\n",
       "| 제주특별자치도 |  13598         |\n",
       "| 충청남도       |  31789         |\n",
       "| 충청북도       |  25247         |\n",
       "\n"
      ],
      "text/plain": [
       "   광역시도       심상정\n",
       "1  강원도          25031\n",
       "2  경기도         201113\n",
       "3  경상남도        52591\n",
       "4  경상북도        33123\n",
       "5  광주광역시      14865\n",
       "6  대구광역시      31131\n",
       "7  대전광역시      25445\n",
       "8  부산광역시      47541\n",
       "9  서울특별시     180324\n",
       "10 세종특별자치시   6780\n",
       "11 울산광역시      21292\n",
       "12 인천광역시      51852\n",
       "13 전라남도        16279\n",
       "14 전라북도        19451\n",
       "15 제주특별자치도  13598\n",
       "16 충청남도        31789\n",
       "17 충청북도        25247"
      ]
     },
     "metadata": {},
     "output_type": "display_data"
    }
   ],
   "source": [
    "electionSim <-\n",
    "aggregate(심상정 ~ 광역시도, election, sum)\n",
    "electionSim"
   ]
  },
  {
   "cell_type": "code",
   "execution_count": 21,
   "id": "50debc31",
   "metadata": {},
   "outputs": [
    {
     "data": {
      "text/html": [
       "<table>\n",
       "<thead><tr><th scope=col>광역시도</th><th scope=col>심상정</th><th scope=col>득표율</th></tr></thead>\n",
       "<tbody>\n",
       "\t<tr><td>강원도        </td><td> 25031        </td><td> 3.14         </td></tr>\n",
       "\t<tr><td>경기도        </td><td>201113        </td><td>25.22         </td></tr>\n",
       "\t<tr><td>경상남도      </td><td> 52591        </td><td> 6.59         </td></tr>\n",
       "\t<tr><td>경상북도      </td><td> 33123        </td><td> 4.15         </td></tr>\n",
       "\t<tr><td>광주광역시    </td><td> 14865        </td><td> 1.86         </td></tr>\n",
       "\t<tr><td>대구광역시    </td><td> 31131        </td><td> 3.90         </td></tr>\n",
       "\t<tr><td>대전광역시    </td><td> 25445        </td><td> 3.19         </td></tr>\n",
       "\t<tr><td>부산광역시    </td><td> 47541        </td><td> 5.96         </td></tr>\n",
       "\t<tr><td>서울특별시    </td><td>180324        </td><td>22.61         </td></tr>\n",
       "\t<tr><td>세종특별자치시</td><td>  6780        </td><td> 0.85         </td></tr>\n",
       "\t<tr><td>울산광역시    </td><td> 21292        </td><td> 2.67         </td></tr>\n",
       "\t<tr><td>인천광역시    </td><td> 51852        </td><td> 6.50         </td></tr>\n",
       "\t<tr><td>전라남도      </td><td> 16279        </td><td> 2.04         </td></tr>\n",
       "\t<tr><td>전라북도      </td><td> 19451        </td><td> 2.44         </td></tr>\n",
       "\t<tr><td>제주특별자치도</td><td> 13598        </td><td> 1.71         </td></tr>\n",
       "\t<tr><td>충청남도      </td><td> 31789        </td><td> 3.99         </td></tr>\n",
       "\t<tr><td>충청북도      </td><td> 25247        </td><td> 3.17         </td></tr>\n",
       "</tbody>\n",
       "</table>\n"
      ],
      "text/latex": [
       "\\begin{tabular}{r|lll}\n",
       " 광역시도 & 심상정 & 득표율\\\\\n",
       "\\hline\n",
       "\t 강원도         &  25031         &  3.14         \\\\\n",
       "\t 경기도         & 201113         & 25.22         \\\\\n",
       "\t 경상남도       &  52591         &  6.59         \\\\\n",
       "\t 경상북도       &  33123         &  4.15         \\\\\n",
       "\t 광주광역시     &  14865         &  1.86         \\\\\n",
       "\t 대구광역시     &  31131         &  3.90         \\\\\n",
       "\t 대전광역시     &  25445         &  3.19         \\\\\n",
       "\t 부산광역시     &  47541         &  5.96         \\\\\n",
       "\t 서울특별시     & 180324         & 22.61         \\\\\n",
       "\t 세종특별자치시 &   6780         &  0.85         \\\\\n",
       "\t 울산광역시     &  21292         &  2.67         \\\\\n",
       "\t 인천광역시     &  51852         &  6.50         \\\\\n",
       "\t 전라남도       &  16279         &  2.04         \\\\\n",
       "\t 전라북도       &  19451         &  2.44         \\\\\n",
       "\t 제주특별자치도 &  13598         &  1.71         \\\\\n",
       "\t 충청남도       &  31789         &  3.99         \\\\\n",
       "\t 충청북도       &  25247         &  3.17         \\\\\n",
       "\\end{tabular}\n"
      ],
      "text/markdown": [
       "\n",
       "| 광역시도 | 심상정 | 득표율 |\n",
       "|---|---|---|\n",
       "| 강원도         |  25031         |  3.14          |\n",
       "| 경기도         | 201113         | 25.22          |\n",
       "| 경상남도       |  52591         |  6.59          |\n",
       "| 경상북도       |  33123         |  4.15          |\n",
       "| 광주광역시     |  14865         |  1.86          |\n",
       "| 대구광역시     |  31131         |  3.90          |\n",
       "| 대전광역시     |  25445         |  3.19          |\n",
       "| 부산광역시     |  47541         |  5.96          |\n",
       "| 서울특별시     | 180324         | 22.61          |\n",
       "| 세종특별자치시 |   6780         |  0.85          |\n",
       "| 울산광역시     |  21292         |  2.67          |\n",
       "| 인천광역시     |  51852         |  6.50          |\n",
       "| 전라남도       |  16279         |  2.04          |\n",
       "| 전라북도       |  19451         |  2.44          |\n",
       "| 제주특별자치도 |  13598         |  1.71          |\n",
       "| 충청남도       |  31789         |  3.99          |\n",
       "| 충청북도       |  25247         |  3.17          |\n",
       "\n"
      ],
      "text/plain": [
       "   광역시도       심상정 득표율\n",
       "1  강원도          25031  3.14 \n",
       "2  경기도         201113 25.22 \n",
       "3  경상남도        52591  6.59 \n",
       "4  경상북도        33123  4.15 \n",
       "5  광주광역시      14865  1.86 \n",
       "6  대구광역시      31131  3.90 \n",
       "7  대전광역시      25445  3.19 \n",
       "8  부산광역시      47541  5.96 \n",
       "9  서울특별시     180324 22.61 \n",
       "10 세종특별자치시   6780  0.85 \n",
       "11 울산광역시      21292  2.67 \n",
       "12 인천광역시      51852  6.50 \n",
       "13 전라남도        16279  2.04 \n",
       "14 전라북도        19451  2.44 \n",
       "15 제주특별자치도  13598  1.71 \n",
       "16 충청남도        31789  3.99 \n",
       "17 충청북도        25247  3.17 "
      ]
     },
     "metadata": {},
     "output_type": "display_data"
    }
   ],
   "source": [
    "#Ratio 값 구하기\n",
    "electionSim$득표율 <-\n",
    "round(electionSim$심상정 / sum(electionSim$심상정) *100,2)     \n",
    "electionSim"
   ]
  },
  {
   "cell_type": "code",
   "execution_count": 22,
   "id": "bfeb580e",
   "metadata": {},
   "outputs": [
    {
     "data": {
      "text/html": [
       "<table>\n",
       "<thead><tr><th scope=col>광역시도</th><th scope=col>득표율</th></tr></thead>\n",
       "<tbody>\n",
       "\t<tr><td>강원도        </td><td> 3.14         </td></tr>\n",
       "\t<tr><td>경기도        </td><td>25.22         </td></tr>\n",
       "\t<tr><td>경상남도      </td><td> 6.59         </td></tr>\n",
       "\t<tr><td>경상북도      </td><td> 4.15         </td></tr>\n",
       "\t<tr><td>광주광역시    </td><td> 1.86         </td></tr>\n",
       "\t<tr><td>대구광역시    </td><td> 3.90         </td></tr>\n",
       "\t<tr><td>대전광역시    </td><td> 3.19         </td></tr>\n",
       "\t<tr><td>부산광역시    </td><td> 5.96         </td></tr>\n",
       "\t<tr><td>서울특별시    </td><td>22.61         </td></tr>\n",
       "\t<tr><td>세종특별자치시</td><td> 0.85         </td></tr>\n",
       "\t<tr><td>울산광역시    </td><td> 2.67         </td></tr>\n",
       "\t<tr><td>인천광역시    </td><td> 6.50         </td></tr>\n",
       "\t<tr><td>전라남도      </td><td> 2.04         </td></tr>\n",
       "\t<tr><td>전라북도      </td><td> 2.44         </td></tr>\n",
       "\t<tr><td>제주특별자치도</td><td> 1.71         </td></tr>\n",
       "\t<tr><td>충청남도      </td><td> 3.99         </td></tr>\n",
       "\t<tr><td>충청북도      </td><td> 3.17         </td></tr>\n",
       "</tbody>\n",
       "</table>\n"
      ],
      "text/latex": [
       "\\begin{tabular}{r|ll}\n",
       " 광역시도 & 득표율\\\\\n",
       "\\hline\n",
       "\t 강원도         &  3.14         \\\\\n",
       "\t 경기도         & 25.22         \\\\\n",
       "\t 경상남도       &  6.59         \\\\\n",
       "\t 경상북도       &  4.15         \\\\\n",
       "\t 광주광역시     &  1.86         \\\\\n",
       "\t 대구광역시     &  3.90         \\\\\n",
       "\t 대전광역시     &  3.19         \\\\\n",
       "\t 부산광역시     &  5.96         \\\\\n",
       "\t 서울특별시     & 22.61         \\\\\n",
       "\t 세종특별자치시 &  0.85         \\\\\n",
       "\t 울산광역시     &  2.67         \\\\\n",
       "\t 인천광역시     &  6.50         \\\\\n",
       "\t 전라남도       &  2.04         \\\\\n",
       "\t 전라북도       &  2.44         \\\\\n",
       "\t 제주특별자치도 &  1.71         \\\\\n",
       "\t 충청남도       &  3.99         \\\\\n",
       "\t 충청북도       &  3.17         \\\\\n",
       "\\end{tabular}\n"
      ],
      "text/markdown": [
       "\n",
       "| 광역시도 | 득표율 |\n",
       "|---|---|\n",
       "| 강원도         |  3.14          |\n",
       "| 경기도         | 25.22          |\n",
       "| 경상남도       |  6.59          |\n",
       "| 경상북도       |  4.15          |\n",
       "| 광주광역시     |  1.86          |\n",
       "| 대구광역시     |  3.90          |\n",
       "| 대전광역시     |  3.19          |\n",
       "| 부산광역시     |  5.96          |\n",
       "| 서울특별시     | 22.61          |\n",
       "| 세종특별자치시 |  0.85          |\n",
       "| 울산광역시     |  2.67          |\n",
       "| 인천광역시     |  6.50          |\n",
       "| 전라남도       |  2.04          |\n",
       "| 전라북도       |  2.44          |\n",
       "| 제주특별자치도 |  1.71          |\n",
       "| 충청남도       |  3.99          |\n",
       "| 충청북도       |  3.17          |\n",
       "\n"
      ],
      "text/plain": [
       "   광역시도       득표율\n",
       "1  강원도          3.14 \n",
       "2  경기도         25.22 \n",
       "3  경상남도        6.59 \n",
       "4  경상북도        4.15 \n",
       "5  광주광역시      1.86 \n",
       "6  대구광역시      3.90 \n",
       "7  대전광역시      3.19 \n",
       "8  부산광역시      5.96 \n",
       "9  서울특별시     22.61 \n",
       "10 세종특별자치시  0.85 \n",
       "11 울산광역시      2.67 \n",
       "12 인천광역시      6.50 \n",
       "13 전라남도        2.04 \n",
       "14 전라북도        2.44 \n",
       "15 제주특별자치도  1.71 \n",
       "16 충청남도        3.99 \n",
       "17 충청북도        3.17 "
      ]
     },
     "metadata": {},
     "output_type": "display_data"
    }
   ],
   "source": [
    "electionSim_ratio <-\n",
    "electionSim[,c(1,3)]\n",
    "electionSim_ratio"
   ]
  },
  {
   "cell_type": "code",
   "execution_count": 23,
   "id": "9a14a694",
   "metadata": {},
   "outputs": [
    {
     "data": {
      "text/html": [
       "<ol class=list-inline>\n",
       "\t<li>'강원도 \\n 3.14 %'</li>\n",
       "\t<li>'경기도 \\n 25.22 %'</li>\n",
       "\t<li>'경상남도 \\n 6.59 %'</li>\n",
       "\t<li>'경상북도 \\n 4.15 %'</li>\n",
       "\t<li>'광주광역시'</li>\n",
       "\t<li>'대구광역시 \\n 3.9 %'</li>\n",
       "\t<li>'대전광역시 \\n 3.19 %'</li>\n",
       "\t<li>'부산광역시 \\n 5.96 %'</li>\n",
       "\t<li>'서울특별시 \\n 22.61 %'</li>\n",
       "\t<li>'세종특별자치시'</li>\n",
       "\t<li>'울산광역시'</li>\n",
       "\t<li>'인천광역시 \\n 6.5 %'</li>\n",
       "\t<li>'전라남도'</li>\n",
       "\t<li>'전라북도'</li>\n",
       "\t<li>'제주특별자치도'</li>\n",
       "\t<li>'충청남도 \\n 3.99 %'</li>\n",
       "\t<li>'충청북도 \\n 3.17 %'</li>\n",
       "</ol>\n"
      ],
      "text/latex": [
       "\\begin{enumerate*}\n",
       "\\item '강원도 \\textbackslash{}n 3.14 \\%'\n",
       "\\item '경기도 \\textbackslash{}n 25.22 \\%'\n",
       "\\item '경상남도 \\textbackslash{}n 6.59 \\%'\n",
       "\\item '경상북도 \\textbackslash{}n 4.15 \\%'\n",
       "\\item '광주광역시'\n",
       "\\item '대구광역시 \\textbackslash{}n 3.9 \\%'\n",
       "\\item '대전광역시 \\textbackslash{}n 3.19 \\%'\n",
       "\\item '부산광역시 \\textbackslash{}n 5.96 \\%'\n",
       "\\item '서울특별시 \\textbackslash{}n 22.61 \\%'\n",
       "\\item '세종특별자치시'\n",
       "\\item '울산광역시'\n",
       "\\item '인천광역시 \\textbackslash{}n 6.5 \\%'\n",
       "\\item '전라남도'\n",
       "\\item '전라북도'\n",
       "\\item '제주특별자치도'\n",
       "\\item '충청남도 \\textbackslash{}n 3.99 \\%'\n",
       "\\item '충청북도 \\textbackslash{}n 3.17 \\%'\n",
       "\\end{enumerate*}\n"
      ],
      "text/markdown": [
       "1. '강원도 \\n 3.14 %'\n",
       "2. '경기도 \\n 25.22 %'\n",
       "3. '경상남도 \\n 6.59 %'\n",
       "4. '경상북도 \\n 4.15 %'\n",
       "5. '광주광역시'\n",
       "6. '대구광역시 \\n 3.9 %'\n",
       "7. '대전광역시 \\n 3.19 %'\n",
       "8. '부산광역시 \\n 5.96 %'\n",
       "9. '서울특별시 \\n 22.61 %'\n",
       "10. '세종특별자치시'\n",
       "11. '울산광역시'\n",
       "12. '인천광역시 \\n 6.5 %'\n",
       "13. '전라남도'\n",
       "14. '전라북도'\n",
       "15. '제주특별자치도'\n",
       "16. '충청남도 \\n 3.99 %'\n",
       "17. '충청북도 \\n 3.17 %'\n",
       "\n",
       "\n"
      ],
      "text/plain": [
       " [1] \"강원도 \\n 3.14 %\"      \"경기도 \\n 25.22 %\"     \"경상남도 \\n 6.59 %\"   \n",
       " [4] \"경상북도 \\n 4.15 %\"    \"광주광역시\"            \"대구광역시 \\n 3.9 %\"  \n",
       " [7] \"대전광역시 \\n 3.19 %\"  \"부산광역시 \\n 5.96 %\"  \"서울특별시 \\n 22.61 %\"\n",
       "[10] \"세종특별자치시\"        \"울산광역시\"            \"인천광역시 \\n 6.5 %\"  \n",
       "[13] \"전라남도\"              \"전라북도\"              \"제주특별자치도\"       \n",
       "[16] \"충청남도 \\n 3.99 %\"    \"충청북도 \\n 3.17 %\"   "
      ]
     },
     "metadata": {},
     "output_type": "display_data"
    }
   ],
   "source": [
    "# label 구하기\n",
    "#electionSim_ratio$광역시도 Index 값이 나온건 Fector이기 떄문에 그래서 형변환을 해줘야함.\n",
    "Sim투표율 <-\n",
    "ifelse(electionSim_ratio$득표율>3,\n",
    "        paste(electionSim_ratio$광역시도,\"\\n\",electionSim_ratio$득표율,\"%\"),\n",
    "        as.character(electionSim_ratio$광역시도))\n",
    "Sim투표율 "
   ]
  },
  {
   "cell_type": "code",
   "execution_count": 24,
   "id": "df4c9fed",
   "metadata": {},
   "outputs": [
    {
     "ename": "ERROR",
     "evalue": "Error in pie3D(electionSim_ratio$득표율, main = \"심상정 득표율\", : 함수 \"pie3D\"를 찾을 수 없습니다\n",
     "output_type": "error",
     "traceback": [
      "Error in pie3D(electionSim_ratio$득표율, main = \"심상정 득표율\", : 함수 \"pie3D\"를 찾을 수 없습니다\nTraceback:\n"
     ]
    }
   ],
   "source": [
    "par(family = \"AppleGothic\")\n",
    "options(warn = -1)\n",
    "pie3D( electionSim_ratio$득표율,\n",
    "        main = \"심상정 득표율\",\n",
    "        labels = Sim투표율,\n",
    "        explode = 0.05,\n",
    "        labelcex = 0.8,\n",
    "        #radius = 0.8\n",
    "     )"
   ]
  },
  {
   "cell_type": "code",
   "execution_count": 25,
   "id": "6fe46560",
   "metadata": {},
   "outputs": [
    {
     "ename": "ERROR",
     "evalue": "Error in voter_sum$투표수[c(2, 9, 12), ]: incorrect number of dimensions\n",
     "output_type": "error",
     "traceback": [
      "Error in voter_sum$투표수[c(2, 9, 12), ]: incorrect number of dimensions\nTraceback:\n"
     ]
    }
   ],
   "source": [
    "# 수도권(경기도, 서울, 인천)의 투표인구수의 퍼센트?\n",
    "sum(voter_sum$투표수[c(2,9,12),])/sum(voter_sum$투표수)"
   ]
  },
  {
   "cell_type": "code",
   "execution_count": 26,
   "id": "ce00ee5f",
   "metadata": {},
   "outputs": [
    {
     "data": {
      "text/html": [
       "<table>\n",
       "<thead><tr><th scope=col>광역시도</th><th scope=col>시군구</th><th scope=col>선거인수</th><th scope=col>투표수</th><th scope=col>이재명</th><th scope=col>윤석열</th><th scope=col>심상정</th><th scope=col>electionSum</th><th scope=col>electionRatio</th></tr></thead>\n",
       "<tbody>\n",
       "\t<tr><td>서울특별시</td><td>종로구    </td><td>129968    </td><td>100629    </td><td> 46130    </td><td> 49172    </td><td>3115      </td><td> 98417    </td><td>97.80183  </td></tr>\n",
       "\t<tr><td>서울특별시</td><td>중구      </td><td>111448    </td><td> 84998    </td><td> 38244    </td><td> 42906    </td><td>2310      </td><td> 83460    </td><td>98.19055  </td></tr>\n",
       "\t<tr><td>서울특별시</td><td>용산구    </td><td>199077    </td><td>152068    </td><td> 60063    </td><td> 85047    </td><td>4374      </td><td>149484    </td><td>98.30076  </td></tr>\n",
       "\t<tr><td>서울특별시</td><td>성동구    </td><td>252087    </td><td>197240    </td><td> 84411    </td><td>103880    </td><td>5365      </td><td>193656    </td><td>98.18292  </td></tr>\n",
       "\t<tr><td>서울특별시</td><td>광진구    </td><td>303582    </td><td>235471    </td><td>109922    </td><td>113733    </td><td>7072      </td><td>230727    </td><td>97.98531  </td></tr>\n",
       "\t<tr><td>서울특별시</td><td>동대문구  </td><td>300928    </td><td>232106    </td><td>108171    </td><td>112890    </td><td>6416      </td><td>227477    </td><td>98.00565  </td></tr>\n",
       "</tbody>\n",
       "</table>\n"
      ],
      "text/latex": [
       "\\begin{tabular}{r|lllllllll}\n",
       " 광역시도 & 시군구 & 선거인수 & 투표수 & 이재명 & 윤석열 & 심상정 & electionSum & electionRatio\\\\\n",
       "\\hline\n",
       "\t 서울특별시 & 종로구     & 129968     & 100629     &  46130     &  49172     & 3115       &  98417     & 97.80183  \\\\\n",
       "\t 서울특별시 & 중구       & 111448     &  84998     &  38244     &  42906     & 2310       &  83460     & 98.19055  \\\\\n",
       "\t 서울특별시 & 용산구     & 199077     & 152068     &  60063     &  85047     & 4374       & 149484     & 98.30076  \\\\\n",
       "\t 서울특별시 & 성동구     & 252087     & 197240     &  84411     & 103880     & 5365       & 193656     & 98.18292  \\\\\n",
       "\t 서울특별시 & 광진구     & 303582     & 235471     & 109922     & 113733     & 7072       & 230727     & 97.98531  \\\\\n",
       "\t 서울특별시 & 동대문구   & 300928     & 232106     & 108171     & 112890     & 6416       & 227477     & 98.00565  \\\\\n",
       "\\end{tabular}\n"
      ],
      "text/markdown": [
       "\n",
       "| 광역시도 | 시군구 | 선거인수 | 투표수 | 이재명 | 윤석열 | 심상정 | electionSum | electionRatio |\n",
       "|---|---|---|---|---|---|---|---|---|\n",
       "| 서울특별시 | 종로구     | 129968     | 100629     |  46130     |  49172     | 3115       |  98417     | 97.80183   |\n",
       "| 서울특별시 | 중구       | 111448     |  84998     |  38244     |  42906     | 2310       |  83460     | 98.19055   |\n",
       "| 서울특별시 | 용산구     | 199077     | 152068     |  60063     |  85047     | 4374       | 149484     | 98.30076   |\n",
       "| 서울특별시 | 성동구     | 252087     | 197240     |  84411     | 103880     | 5365       | 193656     | 98.18292   |\n",
       "| 서울특별시 | 광진구     | 303582     | 235471     | 109922     | 113733     | 7072       | 230727     | 97.98531   |\n",
       "| 서울특별시 | 동대문구   | 300928     | 232106     | 108171     | 112890     | 6416       | 227477     | 98.00565   |\n",
       "\n"
      ],
      "text/plain": [
       "  광역시도   시군구   선거인수 투표수 이재명 윤석열 심상정 electionSum\n",
       "1 서울특별시 종로구   129968   100629  46130  49172 3115    98417     \n",
       "2 서울특별시 중구     111448    84998  38244  42906 2310    83460     \n",
       "3 서울특별시 용산구   199077   152068  60063  85047 4374   149484     \n",
       "4 서울특별시 성동구   252087   197240  84411 103880 5365   193656     \n",
       "5 서울특별시 광진구   303582   235471 109922 113733 7072   230727     \n",
       "6 서울특별시 동대문구 300928   232106 108171 112890 6416   227477     \n",
       "  electionRatio\n",
       "1 97.80183     \n",
       "2 98.19055     \n",
       "3 98.30076     \n",
       "4 98.18292     \n",
       "5 97.98531     \n",
       "6 98.00565     "
      ]
     },
     "metadata": {},
     "output_type": "display_data"
    },
    {
     "data": {
      "text/html": [
       "<table>\n",
       "<thead><tr><th scope=col>광역시도</th><th scope=col>시군구</th><th scope=col>선거인수</th><th scope=col>투표수</th><th scope=col>이재명</th><th scope=col>윤석열</th><th scope=col>심상정</th><th scope=col>electionSum</th><th scope=col>electionRatio</th><th scope=col>윤석열득표</th></tr></thead>\n",
       "<tbody>\n",
       "\t<tr><td>서울특별시</td><td>송파구    </td><td>565840    </td><td>453536    </td><td>180490    </td><td>255166    </td><td>10652     </td><td>446308    </td><td>98.40630  </td><td>7.84      </td></tr>\n",
       "\t<tr><td>서울특별시</td><td>강남구    </td><td>451970    </td><td>354778    </td><td>106865    </td><td>235897    </td><td> 7020     </td><td>349782    </td><td>98.59180  </td><td>7.25      </td></tr>\n",
       "\t<tr><td>서울특별시</td><td>강서구    </td><td>504185    </td><td>390247    </td><td>190000    </td><td>181510    </td><td>11100     </td><td>382610    </td><td>98.04303  </td><td>5.58      </td></tr>\n",
       "\t<tr><td>서울특별시</td><td>서초구    </td><td>344756    </td><td>277878    </td><td> 88686    </td><td>179472    </td><td> 5864     </td><td>274022    </td><td>98.61234  </td><td>5.51      </td></tr>\n",
       "\t<tr><td>서울특별시</td><td>노원구    </td><td>441879    </td><td>349297    </td><td>169275    </td><td>163340    </td><td>10021     </td><td>342636    </td><td>98.09303  </td><td>5.02      </td></tr>\n",
       "\t<tr><td>서울특별시</td><td>강동구    </td><td>397634    </td><td>313203    </td><td>139172    </td><td>160593    </td><td> 8029     </td><td>307794    </td><td>98.27301  </td><td>4.93      </td></tr>\n",
       "</tbody>\n",
       "</table>\n"
      ],
      "text/latex": [
       "\\begin{tabular}{r|llllllllll}\n",
       " 광역시도 & 시군구 & 선거인수 & 투표수 & 이재명 & 윤석열 & 심상정 & electionSum & electionRatio & 윤석열득표\\\\\n",
       "\\hline\n",
       "\t 서울특별시 & 송파구     & 565840     & 453536     & 180490     & 255166     & 10652      & 446308     & 98.40630   & 7.84      \\\\\n",
       "\t 서울특별시 & 강남구     & 451970     & 354778     & 106865     & 235897     &  7020      & 349782     & 98.59180   & 7.25      \\\\\n",
       "\t 서울특별시 & 강서구     & 504185     & 390247     & 190000     & 181510     & 11100      & 382610     & 98.04303   & 5.58      \\\\\n",
       "\t 서울특별시 & 서초구     & 344756     & 277878     &  88686     & 179472     &  5864      & 274022     & 98.61234   & 5.51      \\\\\n",
       "\t 서울특별시 & 노원구     & 441879     & 349297     & 169275     & 163340     & 10021      & 342636     & 98.09303   & 5.02      \\\\\n",
       "\t 서울특별시 & 강동구     & 397634     & 313203     & 139172     & 160593     &  8029      & 307794     & 98.27301   & 4.93      \\\\\n",
       "\\end{tabular}\n"
      ],
      "text/markdown": [
       "\n",
       "| 광역시도 | 시군구 | 선거인수 | 투표수 | 이재명 | 윤석열 | 심상정 | electionSum | electionRatio | 윤석열득표 |\n",
       "|---|---|---|---|---|---|---|---|---|---|\n",
       "| 서울특별시 | 송파구     | 565840     | 453536     | 180490     | 255166     | 10652      | 446308     | 98.40630   | 7.84       |\n",
       "| 서울특별시 | 강남구     | 451970     | 354778     | 106865     | 235897     |  7020      | 349782     | 98.59180   | 7.25       |\n",
       "| 서울특별시 | 강서구     | 504185     | 390247     | 190000     | 181510     | 11100      | 382610     | 98.04303   | 5.58       |\n",
       "| 서울특별시 | 서초구     | 344756     | 277878     |  88686     | 179472     |  5864      | 274022     | 98.61234   | 5.51       |\n",
       "| 서울특별시 | 노원구     | 441879     | 349297     | 169275     | 163340     | 10021      | 342636     | 98.09303   | 5.02       |\n",
       "| 서울특별시 | 강동구     | 397634     | 313203     | 139172     | 160593     |  8029      | 307794     | 98.27301   | 4.93       |\n",
       "\n"
      ],
      "text/plain": [
       "  광역시도   시군구 선거인수 투표수 이재명 윤석열 심상정 electionSum\n",
       "1 서울특별시 송파구 565840   453536 180490 255166 10652  446308     \n",
       "2 서울특별시 강남구 451970   354778 106865 235897  7020  349782     \n",
       "3 서울특별시 강서구 504185   390247 190000 181510 11100  382610     \n",
       "4 서울특별시 서초구 344756   277878  88686 179472  5864  274022     \n",
       "5 서울특별시 노원구 441879   349297 169275 163340 10021  342636     \n",
       "6 서울특별시 강동구 397634   313203 139172 160593  8029  307794     \n",
       "  electionRatio 윤석열득표\n",
       "1 98.40630      7.84      \n",
       "2 98.59180      7.25      \n",
       "3 98.04303      5.58      \n",
       "4 98.61234      5.51      \n",
       "5 98.09303      5.02      \n",
       "6 98.27301      4.93      "
      ]
     },
     "metadata": {},
     "output_type": "display_data"
    }
   ],
   "source": [
    "# 윤석열 후보의 서울득표 top5를 구하고 나머지 지역은 기타로 합치기\n",
    "head(election)\n",
    "election_seoul <- arrange(subset(election, 광역시도 == '서울특별시'),desc(윤석열))\n",
    "#election_seoul\n",
    "election_seoul$윤석열득표 <-round(election_seoul$윤석열 / sum(election_seoul$윤석열) * 100, 2)\n",
    "head(election_seoul)\n",
    "#election_seoul[1:5,]\n",
    "\n",
    "\n",
    "#election_seoul[6:nrow(election_seoul),]"
   ]
  },
  {
   "cell_type": "code",
   "execution_count": 27,
   "id": "c583c3be",
   "metadata": {},
   "outputs": [
    {
     "ename": "ERROR",
     "evalue": "Error in pie3D(election_seoul$윤석열득표, main = \"윤석열 후보 서울 득표 Top5\", : 함수 \"pie3D\"를 찾을 수 없습니다\n",
     "output_type": "error",
     "traceback": [
      "Error in pie3D(election_seoul$윤석열득표, main = \"윤석열 후보 서울 득표 Top5\", : 함수 \"pie3D\"를 찾을 수 없습니다\nTraceback:\n"
     ]
    }
   ],
   "source": [
    "par(family = \"AppleGothic\")\n",
    "pie3D(election_seoul$윤석열득표,\n",
    "      main = \"윤석열 후보 서울 득표 Top5\",\n",
    "      \n",
    "     )"
   ]
  },
  {
   "cell_type": "markdown",
   "id": "7b391fe6",
   "metadata": {},
   "source": [
    "### 윤석렬 후보의 서울 특표 Top5만 득표율로 표시하고 나머지 지역은 기타로 합치기\n"
   ]
  },
  {
   "cell_type": "code",
   "execution_count": 28,
   "id": "bf408cf6",
   "metadata": {},
   "outputs": [
    {
     "data": {
      "text/html": [
       "<table>\n",
       "<thead><tr><th scope=col>시군구</th><th scope=col>윤석열</th></tr></thead>\n",
       "<tbody>\n",
       "\t<tr><td>송파구</td><td>255166</td></tr>\n",
       "\t<tr><td>강남구</td><td>235897</td></tr>\n",
       "\t<tr><td>강서구</td><td>181510</td></tr>\n",
       "\t<tr><td>서초구</td><td>179472</td></tr>\n",
       "\t<tr><td>노원구</td><td>163340</td></tr>\n",
       "\t<tr><td>강동구</td><td>160593</td></tr>\n",
       "</tbody>\n",
       "</table>\n"
      ],
      "text/latex": [
       "\\begin{tabular}{r|ll}\n",
       " 시군구 & 윤석열\\\\\n",
       "\\hline\n",
       "\t 송파구 & 255166\\\\\n",
       "\t 강남구 & 235897\\\\\n",
       "\t 강서구 & 181510\\\\\n",
       "\t 서초구 & 179472\\\\\n",
       "\t 노원구 & 163340\\\\\n",
       "\t 강동구 & 160593\\\\\n",
       "\\end{tabular}\n"
      ],
      "text/markdown": [
       "\n",
       "| 시군구 | 윤석열 |\n",
       "|---|---|\n",
       "| 송파구 | 255166 |\n",
       "| 강남구 | 235897 |\n",
       "| 강서구 | 181510 |\n",
       "| 서초구 | 179472 |\n",
       "| 노원구 | 163340 |\n",
       "| 강동구 | 160593 |\n",
       "\n"
      ],
      "text/plain": [
       "  시군구 윤석열\n",
       "1 송파구 255166\n",
       "2 강남구 235897\n",
       "3 강서구 181510\n",
       "4 서초구 179472\n",
       "5 노원구 163340\n",
       "6 강동구 160593"
      ]
     },
     "metadata": {},
     "output_type": "display_data"
    }
   ],
   "source": [
    "#서울특별시 Data만 발췌하기\n",
    "#subset(election, 광역시도 == \"서울특별시\")\n",
    "\n",
    "election_seoul2 <- election[election$광역시도 == \"서울특별시\",] # 파이썬에선 이걸 많이씀.\n",
    "election_seoul2_윤석열 <- arrange(election_seoul2, desc(윤석열))[, c(2,6)]\n",
    "head(election_seoul2_윤석열)"
   ]
  },
  {
   "cell_type": "code",
   "execution_count": 29,
   "id": "7883c9a4",
   "metadata": {},
   "outputs": [
    {
     "data": {
      "text/html": [
       "<ol class=list-inline>\n",
       "\t<li>7.84</li>\n",
       "\t<li>7.25</li>\n",
       "\t<li>5.58</li>\n",
       "\t<li>5.51</li>\n",
       "\t<li>5.02</li>\n",
       "\t<li>68.81</li>\n",
       "</ol>\n"
      ],
      "text/latex": [
       "\\begin{enumerate*}\n",
       "\\item 7.84\n",
       "\\item 7.25\n",
       "\\item 5.58\n",
       "\\item 5.51\n",
       "\\item 5.02\n",
       "\\item 68.81\n",
       "\\end{enumerate*}\n"
      ],
      "text/markdown": [
       "1. 7.84\n",
       "2. 7.25\n",
       "3. 5.58\n",
       "4. 5.51\n",
       "5. 5.02\n",
       "6. 68.81\n",
       "\n",
       "\n"
      ],
      "text/plain": [
       "[1]  7.84  7.25  5.58  5.51  5.02 68.81"
      ]
     },
     "metadata": {},
     "output_type": "display_data"
    }
   ],
   "source": [
    "#Ratio 구하기\n",
    "election_seoul2_윤석열_ratio <- \n",
    "    round(c(election_seoul2_윤석열[1:5, 2], sum(election_seoul2_윤석열[-c(1:5), 2])) /\n",
    "    sum(election_seoul2_윤석열$윤석열) * 100, 2)\n",
    "election_seoul2_윤석열_ratio"
   ]
  },
  {
   "cell_type": "code",
   "execution_count": 30,
   "id": "dedbf566",
   "metadata": {},
   "outputs": [
    {
     "data": {
      "text/html": [
       "<ol class=list-inline>\n",
       "\t<li>'송파구'</li>\n",
       "\t<li>'강남구'</li>\n",
       "\t<li>'강서구'</li>\n",
       "\t<li>'서초구'</li>\n",
       "\t<li>'노원구'</li>\n",
       "\t<li>'기타'</li>\n",
       "</ol>\n"
      ],
      "text/latex": [
       "\\begin{enumerate*}\n",
       "\\item '송파구'\n",
       "\\item '강남구'\n",
       "\\item '강서구'\n",
       "\\item '서초구'\n",
       "\\item '노원구'\n",
       "\\item '기타'\n",
       "\\end{enumerate*}\n"
      ],
      "text/markdown": [
       "1. '송파구'\n",
       "2. '강남구'\n",
       "3. '강서구'\n",
       "4. '서초구'\n",
       "5. '노원구'\n",
       "6. '기타'\n",
       "\n",
       "\n"
      ],
      "text/plain": [
       "[1] \"송파구\" \"강남구\" \"강서구\" \"서초구\" \"노원구\" \"기타\"  "
      ]
     },
     "metadata": {},
     "output_type": "display_data"
    }
   ],
   "source": [
    "#Label만들기\n",
    "election_seoul2_윤석열_label <- c(as.character(election_seoul2_윤석열$시군구[1:5]),\"기타\")\n",
    "election_seoul2_윤석열_label"
   ]
  },
  {
   "cell_type": "code",
   "execution_count": 31,
   "id": "f8b1f823",
   "metadata": {},
   "outputs": [],
   "source": [
    "election_seoul2_윤석열_label<- \n",
    "paste(election_seoul2_윤석열_label,\"\\n\",election_seoul2_윤석열_ratio,\"%\")\n",
    "\n",
    "#election_seoul2_윤석열_label"
   ]
  },
  {
   "cell_type": "code",
   "execution_count": 32,
   "id": "44002679",
   "metadata": {},
   "outputs": [
    {
     "ename": "ERROR",
     "evalue": "Error in pie3D(election_seoul2_윤석열_ratio, labels = election_seoul2_윤석열_label, : 함수 \"pie3D\"를 찾을 수 없습니다\n",
     "output_type": "error",
     "traceback": [
      "Error in pie3D(election_seoul2_윤석열_ratio, labels = election_seoul2_윤석열_label, : 함수 \"pie3D\"를 찾을 수 없습니다\nTraceback:\n"
     ]
    }
   ],
   "source": [
    "par(family = \"AppleGothic\")\n",
    "options(warn = -1)\n",
    "pie3D(election_seoul2_윤석열_ratio,\n",
    "      labels = election_seoul2_윤석열_label,\n",
    "      explode = 0.05,\n",
    "      labelcex = 0.8,\n",
    "      main = \"윤석열 후보 서울 득표 Top5\"\n",
    "     )"
   ]
  },
  {
   "cell_type": "code",
   "execution_count": 33,
   "id": "bbc8e00b",
   "metadata": {},
   "outputs": [
    {
     "data": {
      "text/html": [
       "<table>\n",
       "<thead><tr><th></th><th scope=col>광역시도</th><th scope=col>시군구</th><th scope=col>선거인수</th><th scope=col>투표수</th><th scope=col>이재명</th><th scope=col>윤석열</th><th scope=col>심상정</th><th scope=col>electionSum</th><th scope=col>electionRatio</th></tr></thead>\n",
       "<tbody>\n",
       "\t<tr><th scope=row>8</th><td>서울특별시</td><td>성북구    </td><td>375880    </td><td>292187    </td><td>142702    </td><td>135044    </td><td>8952      </td><td>286698    </td><td>98.12141  </td></tr>\n",
       "</tbody>\n",
       "</table>\n"
      ],
      "text/latex": [
       "\\begin{tabular}{r|lllllllll}\n",
       "  & 광역시도 & 시군구 & 선거인수 & 투표수 & 이재명 & 윤석열 & 심상정 & electionSum & electionRatio\\\\\n",
       "\\hline\n",
       "\t8 & 서울특별시 & 성북구     & 375880     & 292187     & 142702     & 135044     & 8952       & 286698     & 98.12141  \\\\\n",
       "\\end{tabular}\n"
      ],
      "text/markdown": [
       "\n",
       "| <!--/--> | 광역시도 | 시군구 | 선거인수 | 투표수 | 이재명 | 윤석열 | 심상정 | electionSum | electionRatio |\n",
       "|---|---|---|---|---|---|---|---|---|---|\n",
       "| 8 | 서울특별시 | 성북구     | 375880     | 292187     | 142702     | 135044     | 8952       | 286698     | 98.12141   |\n",
       "\n"
      ],
      "text/plain": [
       "  광역시도   시군구 선거인수 투표수 이재명 윤석열 심상정 electionSum\n",
       "8 서울특별시 성북구 375880   292187 142702 135044 8952   286698     \n",
       "  electionRatio\n",
       "8 98.12141     "
      ]
     },
     "metadata": {},
     "output_type": "display_data"
    }
   ],
   "source": [
    "#대선주자 출생자별 득표율 분석\n",
    "#서울시 성북구의 후보별 득표율\n",
    "election_seoul3 <- election[c(election$광역시도 == \"서울특별시\" & election$시군구==\"성북구\"),]\n",
    "election_seoul3"
   ]
  },
  {
   "cell_type": "code",
   "execution_count": 34,
   "id": "271124a5",
   "metadata": {},
   "outputs": [
    {
     "data": {
      "text/html": [
       "<table>\n",
       "<thead><tr><th></th><th scope=col>이재명</th><th scope=col>윤석열</th><th scope=col>심상정</th></tr></thead>\n",
       "<tbody>\n",
       "\t<tr><th scope=row>8</th><td>48.84</td><td>46.22</td><td>3.06 </td></tr>\n",
       "</tbody>\n",
       "</table>\n"
      ],
      "text/latex": [
       "\\begin{tabular}{r|lll}\n",
       "  & 이재명 & 윤석열 & 심상정\\\\\n",
       "\\hline\n",
       "\t8 & 48.84 & 46.22 & 3.06 \\\\\n",
       "\\end{tabular}\n"
      ],
      "text/markdown": [
       "\n",
       "| <!--/--> | 이재명 | 윤석열 | 심상정 |\n",
       "|---|---|---|---|\n",
       "| 8 | 48.84 | 46.22 | 3.06  |\n",
       "\n"
      ],
      "text/plain": [
       "  이재명 윤석열 심상정\n",
       "8 48.84  46.22  3.06  "
      ]
     },
     "metadata": {},
     "output_type": "display_data"
    }
   ],
   "source": [
    "# ratio 구하기\n",
    "election_seoul3_ratio <- round(election_seoul3[5:7] / election_seoul3$투표수 * 100,2)\n",
    "election_seoul3_ratio"
   ]
  },
  {
   "cell_type": "code",
   "execution_count": 35,
   "id": "7e2ce6e8",
   "metadata": {},
   "outputs": [
    {
     "data": {
      "text/html": [
       "<table>\n",
       "<thead><tr><th></th><th scope=col>이재명</th><th scope=col>윤석열</th><th scope=col>심상정</th></tr></thead>\n",
       "<tbody>\n",
       "\t<tr><th scope=row>8</th><td>48.84</td><td>46.22</td><td>3.06 </td></tr>\n",
       "</tbody>\n",
       "</table>\n"
      ],
      "text/latex": [
       "\\begin{tabular}{r|lll}\n",
       "  & 이재명 & 윤석열 & 심상정\\\\\n",
       "\\hline\n",
       "\t8 & 48.84 & 46.22 & 3.06 \\\\\n",
       "\\end{tabular}\n"
      ],
      "text/markdown": [
       "\n",
       "| <!--/--> | 이재명 | 윤석열 | 심상정 |\n",
       "|---|---|---|---|\n",
       "| 8 | 48.84 | 46.22 | 3.06  |\n",
       "\n"
      ],
      "text/plain": [
       "  이재명 윤석열 심상정\n",
       "8 48.84  46.22  3.06  "
      ]
     },
     "metadata": {},
     "output_type": "display_data"
    }
   ],
   "source": [
    "#label 만들기\n",
    "election_seoul3_ratio"
   ]
  },
  {
   "cell_type": "code",
   "execution_count": 36,
   "id": "6ebb89ac",
   "metadata": {},
   "outputs": [
    {
     "ename": "ERROR",
     "evalue": "Error in parse(text = x, srcfile = src): <text>:2:27: 예기치 않은 ')'입니다\n1: par(family = \"AppleGothic\")\n2: pie3Delection_seoul3_ratio)\n                             ^\n",
     "output_type": "error",
     "traceback": [
      "Error in parse(text = x, srcfile = src): <text>:2:27: 예기치 않은 ')'입니다\n1: par(family = \"AppleGothic\")\n2: pie3Delection_seoul3_ratio)\n                             ^\nTraceback:\n"
     ]
    }
   ],
   "source": [
    "par(family = \"AppleGothic\")\n",
    "pie3Delection_seoul3_ratio)"
   ]
  },
  {
   "cell_type": "code",
   "execution_count": 37,
   "id": "18183664",
   "metadata": {},
   "outputs": [
    {
     "data": {
      "text/html": [
       "<table>\n",
       "<thead><tr><th></th><th scope=col>광역시도</th><th scope=col>시군구</th><th scope=col>선거인수</th><th scope=col>투표수</th><th scope=col>이재명</th><th scope=col>윤석열</th><th scope=col>심상정</th><th scope=col>electionSum</th><th scope=col>electionRatio</th></tr></thead>\n",
       "<tbody>\n",
       "\t<tr><th scope=row>8</th><td>서울특별시</td><td>성북구    </td><td>375880    </td><td>292187    </td><td>142702    </td><td>135044    </td><td>8952      </td><td>286698    </td><td>98.12141  </td></tr>\n",
       "</tbody>\n",
       "</table>\n"
      ],
      "text/latex": [
       "\\begin{tabular}{r|lllllllll}\n",
       "  & 광역시도 & 시군구 & 선거인수 & 투표수 & 이재명 & 윤석열 & 심상정 & electionSum & electionRatio\\\\\n",
       "\\hline\n",
       "\t8 & 서울특별시 & 성북구     & 375880     & 292187     & 142702     & 135044     & 8952       & 286698     & 98.12141  \\\\\n",
       "\\end{tabular}\n"
      ],
      "text/markdown": [
       "\n",
       "| <!--/--> | 광역시도 | 시군구 | 선거인수 | 투표수 | 이재명 | 윤석열 | 심상정 | electionSum | electionRatio |\n",
       "|---|---|---|---|---|---|---|---|---|---|\n",
       "| 8 | 서울특별시 | 성북구     | 375880     | 292187     | 142702     | 135044     | 8952       | 286698     | 98.12141   |\n",
       "\n"
      ],
      "text/plain": [
       "  광역시도   시군구 선거인수 투표수 이재명 윤석열 심상정 electionSum\n",
       "8 서울특별시 성북구 375880   292187 142702 135044 8952   286698     \n",
       "  electionRatio\n",
       "8 98.12141     "
      ]
     },
     "metadata": {},
     "output_type": "display_data"
    }
   ],
   "source": [
    "pob_윤석열 <- subset(election, 시군구 == \"성북구\")\n",
    "pob_윤석열"
   ]
  },
  {
   "cell_type": "code",
   "execution_count": 38,
   "id": "495a0d9e",
   "metadata": {},
   "outputs": [
    {
     "data": {
      "text/html": [
       "<ol class=list-inline>\n",
       "\t<li>142702</li>\n",
       "\t<li>135044</li>\n",
       "\t<li>8952</li>\n",
       "\t<li>5489</li>\n",
       "</ol>\n"
      ],
      "text/latex": [
       "\\begin{enumerate*}\n",
       "\\item 142702\n",
       "\\item 135044\n",
       "\\item 8952\n",
       "\\item 5489\n",
       "\\end{enumerate*}\n"
      ],
      "text/markdown": [
       "1. 142702\n",
       "2. 135044\n",
       "3. 8952\n",
       "4. 5489\n",
       "\n",
       "\n"
      ],
      "text/plain": [
       "[1] 142702 135044   8952   5489"
      ]
     },
     "metadata": {},
     "output_type": "display_data"
    }
   ],
   "source": [
    "#백터로 합쳐보자\n",
    "pob_윤석열_num <-\n",
    "as.numeric(c(pob_윤석열[, 5:7], pob_윤석열[,4] - sum(pob_윤석열[, 5:7])))\n",
    "pob_윤석열_num"
   ]
  },
  {
   "cell_type": "code",
   "execution_count": 39,
   "id": "8d1208ea",
   "metadata": {},
   "outputs": [
    {
     "data": {
      "text/html": [
       "<ol class=list-inline>\n",
       "\t<li>'이재명'</li>\n",
       "\t<li>'윤석열'</li>\n",
       "\t<li>'심상정'</li>\n",
       "</ol>\n"
      ],
      "text/latex": [
       "\\begin{enumerate*}\n",
       "\\item '이재명'\n",
       "\\item '윤석열'\n",
       "\\item '심상정'\n",
       "\\end{enumerate*}\n"
      ],
      "text/markdown": [
       "1. '이재명'\n",
       "2. '윤석열'\n",
       "3. '심상정'\n",
       "\n",
       "\n"
      ],
      "text/plain": [
       "[1] \"이재명\" \"윤석열\" \"심상정\""
      ]
     },
     "metadata": {},
     "output_type": "display_data"
    }
   ],
   "source": [
    "colnames(pob_윤석열)[5:7]"
   ]
  },
  {
   "cell_type": "code",
   "execution_count": 40,
   "id": "a16dbe44",
   "metadata": {},
   "outputs": [],
   "source": [
    "#label\n",
    "pob_윤석열_label <-\n",
    "paste(c(colnames(pob_윤석열)[5:7],\"기타\"),round(pob_윤석열_num/pob_윤석열$투표수*100,2))"
   ]
  },
  {
   "cell_type": "code",
   "execution_count": 41,
   "id": "c7dc8b9d",
   "metadata": {},
   "outputs": [
    {
     "ename": "ERROR",
     "evalue": "Error in pie3D(pob_윤석열_num, labels = pob_윤석열_label, explode = 0.05, : 함수 \"pie3D\"를 찾을 수 없습니다\n",
     "output_type": "error",
     "traceback": [
      "Error in pie3D(pob_윤석열_num, labels = pob_윤석열_label, explode = 0.05, : 함수 \"pie3D\"를 찾을 수 없습니다\nTraceback:\n"
     ]
    }
   ],
   "source": [
    "par(family = \"AppleGothic\")\n",
    "options(warn = -1)\n",
    "pie3D(pob_윤석열_num,\n",
    "     labels = pob_윤석열_label,\n",
    "      explode = 0.05,\n",
    "      labelcex = 0.8,\n",
    "      col = c(\"skyblue\",\"red\",\"yellow\",\"grey\"),\n",
    "      main = \"서울시 성북구의 후보별 득표율\"\n",
    "     )"
   ]
  },
  {
   "cell_type": "markdown",
   "id": "903a2b42",
   "metadata": {},
   "source": [
    "---\n",
    "### 투표수가 가장 많은 4지역(광역시도)의 후보별 득표수 차이를 막대그프로 시각화"
   ]
  },
  {
   "cell_type": "code",
   "execution_count": 42,
   "id": "209ef220",
   "metadata": {},
   "outputs": [
    {
     "data": {
      "text/html": [
       "<table>\n",
       "<thead><tr><th scope=col>광역시도</th><th scope=col>시군구</th><th scope=col>선거인수</th><th scope=col>투표수</th><th scope=col>이재명</th><th scope=col>윤석열</th><th scope=col>심상정</th><th scope=col>electionSum</th><th scope=col>electionRatio</th></tr></thead>\n",
       "<tbody>\n",
       "\t<tr><td>서울특별시</td><td>종로구    </td><td>129968    </td><td>100629    </td><td> 46130    </td><td> 49172    </td><td>3115      </td><td> 98417    </td><td>97.80183  </td></tr>\n",
       "\t<tr><td>서울특별시</td><td>중구      </td><td>111448    </td><td> 84998    </td><td> 38244    </td><td> 42906    </td><td>2310      </td><td> 83460    </td><td>98.19055  </td></tr>\n",
       "\t<tr><td>서울특별시</td><td>용산구    </td><td>199077    </td><td>152068    </td><td> 60063    </td><td> 85047    </td><td>4374      </td><td>149484    </td><td>98.30076  </td></tr>\n",
       "\t<tr><td>서울특별시</td><td>성동구    </td><td>252087    </td><td>197240    </td><td> 84411    </td><td>103880    </td><td>5365      </td><td>193656    </td><td>98.18292  </td></tr>\n",
       "\t<tr><td>서울특별시</td><td>광진구    </td><td>303582    </td><td>235471    </td><td>109922    </td><td>113733    </td><td>7072      </td><td>230727    </td><td>97.98531  </td></tr>\n",
       "\t<tr><td>서울특별시</td><td>동대문구  </td><td>300928    </td><td>232106    </td><td>108171    </td><td>112890    </td><td>6416      </td><td>227477    </td><td>98.00565  </td></tr>\n",
       "</tbody>\n",
       "</table>\n"
      ],
      "text/latex": [
       "\\begin{tabular}{r|lllllllll}\n",
       " 광역시도 & 시군구 & 선거인수 & 투표수 & 이재명 & 윤석열 & 심상정 & electionSum & electionRatio\\\\\n",
       "\\hline\n",
       "\t 서울특별시 & 종로구     & 129968     & 100629     &  46130     &  49172     & 3115       &  98417     & 97.80183  \\\\\n",
       "\t 서울특별시 & 중구       & 111448     &  84998     &  38244     &  42906     & 2310       &  83460     & 98.19055  \\\\\n",
       "\t 서울특별시 & 용산구     & 199077     & 152068     &  60063     &  85047     & 4374       & 149484     & 98.30076  \\\\\n",
       "\t 서울특별시 & 성동구     & 252087     & 197240     &  84411     & 103880     & 5365       & 193656     & 98.18292  \\\\\n",
       "\t 서울특별시 & 광진구     & 303582     & 235471     & 109922     & 113733     & 7072       & 230727     & 97.98531  \\\\\n",
       "\t 서울특별시 & 동대문구   & 300928     & 232106     & 108171     & 112890     & 6416       & 227477     & 98.00565  \\\\\n",
       "\\end{tabular}\n"
      ],
      "text/markdown": [
       "\n",
       "| 광역시도 | 시군구 | 선거인수 | 투표수 | 이재명 | 윤석열 | 심상정 | electionSum | electionRatio |\n",
       "|---|---|---|---|---|---|---|---|---|\n",
       "| 서울특별시 | 종로구     | 129968     | 100629     |  46130     |  49172     | 3115       |  98417     | 97.80183   |\n",
       "| 서울특별시 | 중구       | 111448     |  84998     |  38244     |  42906     | 2310       |  83460     | 98.19055   |\n",
       "| 서울특별시 | 용산구     | 199077     | 152068     |  60063     |  85047     | 4374       | 149484     | 98.30076   |\n",
       "| 서울특별시 | 성동구     | 252087     | 197240     |  84411     | 103880     | 5365       | 193656     | 98.18292   |\n",
       "| 서울특별시 | 광진구     | 303582     | 235471     | 109922     | 113733     | 7072       | 230727     | 97.98531   |\n",
       "| 서울특별시 | 동대문구   | 300928     | 232106     | 108171     | 112890     | 6416       | 227477     | 98.00565   |\n",
       "\n"
      ],
      "text/plain": [
       "  광역시도   시군구   선거인수 투표수 이재명 윤석열 심상정 electionSum\n",
       "1 서울특별시 종로구   129968   100629  46130  49172 3115    98417     \n",
       "2 서울특별시 중구     111448    84998  38244  42906 2310    83460     \n",
       "3 서울특별시 용산구   199077   152068  60063  85047 4374   149484     \n",
       "4 서울특별시 성동구   252087   197240  84411 103880 5365   193656     \n",
       "5 서울특별시 광진구   303582   235471 109922 113733 7072   230727     \n",
       "6 서울특별시 동대문구 300928   232106 108171 112890 6416   227477     \n",
       "  electionRatio\n",
       "1 97.80183     \n",
       "2 98.19055     \n",
       "3 98.30076     \n",
       "4 98.18292     \n",
       "5 97.98531     \n",
       "6 98.00565     "
      ]
     },
     "metadata": {},
     "output_type": "display_data"
    }
   ],
   "source": [
    "head(election)"
   ]
  },
  {
   "cell_type": "code",
   "execution_count": 43,
   "id": "8db30f8a",
   "metadata": {},
   "outputs": [
    {
     "data": {
      "text/html": [
       "<table>\n",
       "<thead><tr><th scope=col>광역시도</th><th scope=col>투표수</th></tr></thead>\n",
       "<tbody>\n",
       "\t<tr><td>강원도        </td><td>1015458       </td></tr>\n",
       "\t<tr><td>경기도        </td><td>8518854       </td></tr>\n",
       "\t<tr><td>경상남도      </td><td>2146882       </td></tr>\n",
       "\t<tr><td>경상북도      </td><td>1774284       </td></tr>\n",
       "\t<tr><td>광주광역시    </td><td> 985492       </td></tr>\n",
       "\t<tr><td>대구광역시    </td><td>1611512       </td></tr>\n",
       "\t<tr><td>대전광역시    </td><td> 945308       </td></tr>\n",
       "\t<tr><td>부산광역시    </td><td>2200224       </td></tr>\n",
       "\t<tr><td>서울특별시    </td><td>6501831       </td></tr>\n",
       "\t<tr><td>세종특별자치시</td><td> 231832       </td></tr>\n",
       "\t<tr><td>울산광역시    </td><td> 735461       </td></tr>\n",
       "\t<tr><td>인천광역시    </td><td>1883504       </td></tr>\n",
       "\t<tr><td>전라남도      </td><td>1282168       </td></tr>\n",
       "\t<tr><td>전라북도      </td><td>1235212       </td></tr>\n",
       "\t<tr><td>제주특별자치도</td><td> 409649       </td></tr>\n",
       "\t<tr><td>충청남도      </td><td>1324660       </td></tr>\n",
       "\t<tr><td>충청북도      </td><td> 962333       </td></tr>\n",
       "</tbody>\n",
       "</table>\n"
      ],
      "text/latex": [
       "\\begin{tabular}{r|ll}\n",
       " 광역시도 & 투표수\\\\\n",
       "\\hline\n",
       "\t 강원도         & 1015458       \\\\\n",
       "\t 경기도         & 8518854       \\\\\n",
       "\t 경상남도       & 2146882       \\\\\n",
       "\t 경상북도       & 1774284       \\\\\n",
       "\t 광주광역시     &  985492       \\\\\n",
       "\t 대구광역시     & 1611512       \\\\\n",
       "\t 대전광역시     &  945308       \\\\\n",
       "\t 부산광역시     & 2200224       \\\\\n",
       "\t 서울특별시     & 6501831       \\\\\n",
       "\t 세종특별자치시 &  231832       \\\\\n",
       "\t 울산광역시     &  735461       \\\\\n",
       "\t 인천광역시     & 1883504       \\\\\n",
       "\t 전라남도       & 1282168       \\\\\n",
       "\t 전라북도       & 1235212       \\\\\n",
       "\t 제주특별자치도 &  409649       \\\\\n",
       "\t 충청남도       & 1324660       \\\\\n",
       "\t 충청북도       &  962333       \\\\\n",
       "\\end{tabular}\n"
      ],
      "text/markdown": [
       "\n",
       "| 광역시도 | 투표수 |\n",
       "|---|---|\n",
       "| 강원도         | 1015458        |\n",
       "| 경기도         | 8518854        |\n",
       "| 경상남도       | 2146882        |\n",
       "| 경상북도       | 1774284        |\n",
       "| 광주광역시     |  985492        |\n",
       "| 대구광역시     | 1611512        |\n",
       "| 대전광역시     |  945308        |\n",
       "| 부산광역시     | 2200224        |\n",
       "| 서울특별시     | 6501831        |\n",
       "| 세종특별자치시 |  231832        |\n",
       "| 울산광역시     |  735461        |\n",
       "| 인천광역시     | 1883504        |\n",
       "| 전라남도       | 1282168        |\n",
       "| 전라북도       | 1235212        |\n",
       "| 제주특별자치도 |  409649        |\n",
       "| 충청남도       | 1324660        |\n",
       "| 충청북도       |  962333        |\n",
       "\n"
      ],
      "text/plain": [
       "   광역시도       투표수 \n",
       "1  강원도         1015458\n",
       "2  경기도         8518854\n",
       "3  경상남도       2146882\n",
       "4  경상북도       1774284\n",
       "5  광주광역시      985492\n",
       "6  대구광역시     1611512\n",
       "7  대전광역시      945308\n",
       "8  부산광역시     2200224\n",
       "9  서울특별시     6501831\n",
       "10 세종특별자치시  231832\n",
       "11 울산광역시      735461\n",
       "12 인천광역시     1883504\n",
       "13 전라남도       1282168\n",
       "14 전라북도       1235212\n",
       "15 제주특별자치도  409649\n",
       "16 충청남도       1324660\n",
       "17 충청북도        962333"
      ]
     },
     "metadata": {},
     "output_type": "display_data"
    }
   ],
   "source": [
    "election_search <-aggregate(투표수~광역시도,election,sum)\n",
    "election_search"
   ]
  },
  {
   "cell_type": "code",
   "execution_count": 44,
   "id": "22af5ecf",
   "metadata": {},
   "outputs": [
    {
     "data": {
      "text/html": [
       "<table>\n",
       "<thead><tr><th scope=col>광역시도</th><th scope=col>이재명</th></tr></thead>\n",
       "<tbody>\n",
       "\t<tr><td>강원도        </td><td> 419644       </td></tr>\n",
       "\t<tr><td>경기도        </td><td>4297931       </td></tr>\n",
       "\t<tr><td>경상남도      </td><td> 794130       </td></tr>\n",
       "\t<tr><td>경상북도      </td><td> 418371       </td></tr>\n",
       "\t<tr><td>광주광역시    </td><td> 830058       </td></tr>\n",
       "\t<tr><td>대구광역시    </td><td> 345045       </td></tr>\n",
       "\t<tr><td>대전광역시    </td><td> 434950       </td></tr>\n",
       "\t<tr><td>부산광역시    </td><td> 831896       </td></tr>\n",
       "\t<tr><td>서울특별시    </td><td>2944981       </td></tr>\n",
       "\t<tr><td>세종특별자치시</td><td> 119349       </td></tr>\n",
       "\t<tr><td>울산광역시    </td><td> 297134       </td></tr>\n",
       "\t<tr><td>인천광역시    </td><td> 913320       </td></tr>\n",
       "\t<tr><td>전라남도      </td><td>1094872       </td></tr>\n",
       "\t<tr><td>전라북도      </td><td>1016863       </td></tr>\n",
       "\t<tr><td>제주특별자치도</td><td> 213130       </td></tr>\n",
       "\t<tr><td>충청남도      </td><td> 589991       </td></tr>\n",
       "\t<tr><td>충청북도      </td><td> 429153       </td></tr>\n",
       "</tbody>\n",
       "</table>\n"
      ],
      "text/latex": [
       "\\begin{tabular}{r|ll}\n",
       " 광역시도 & 이재명\\\\\n",
       "\\hline\n",
       "\t 강원도         &  419644       \\\\\n",
       "\t 경기도         & 4297931       \\\\\n",
       "\t 경상남도       &  794130       \\\\\n",
       "\t 경상북도       &  418371       \\\\\n",
       "\t 광주광역시     &  830058       \\\\\n",
       "\t 대구광역시     &  345045       \\\\\n",
       "\t 대전광역시     &  434950       \\\\\n",
       "\t 부산광역시     &  831896       \\\\\n",
       "\t 서울특별시     & 2944981       \\\\\n",
       "\t 세종특별자치시 &  119349       \\\\\n",
       "\t 울산광역시     &  297134       \\\\\n",
       "\t 인천광역시     &  913320       \\\\\n",
       "\t 전라남도       & 1094872       \\\\\n",
       "\t 전라북도       & 1016863       \\\\\n",
       "\t 제주특별자치도 &  213130       \\\\\n",
       "\t 충청남도       &  589991       \\\\\n",
       "\t 충청북도       &  429153       \\\\\n",
       "\\end{tabular}\n"
      ],
      "text/markdown": [
       "\n",
       "| 광역시도 | 이재명 |\n",
       "|---|---|\n",
       "| 강원도         |  419644        |\n",
       "| 경기도         | 4297931        |\n",
       "| 경상남도       |  794130        |\n",
       "| 경상북도       |  418371        |\n",
       "| 광주광역시     |  830058        |\n",
       "| 대구광역시     |  345045        |\n",
       "| 대전광역시     |  434950        |\n",
       "| 부산광역시     |  831896        |\n",
       "| 서울특별시     | 2944981        |\n",
       "| 세종특별자치시 |  119349        |\n",
       "| 울산광역시     |  297134        |\n",
       "| 인천광역시     |  913320        |\n",
       "| 전라남도       | 1094872        |\n",
       "| 전라북도       | 1016863        |\n",
       "| 제주특별자치도 |  213130        |\n",
       "| 충청남도       |  589991        |\n",
       "| 충청북도       |  429153        |\n",
       "\n"
      ],
      "text/plain": [
       "   광역시도       이재명 \n",
       "1  강원도          419644\n",
       "2  경기도         4297931\n",
       "3  경상남도        794130\n",
       "4  경상북도        418371\n",
       "5  광주광역시      830058\n",
       "6  대구광역시      345045\n",
       "7  대전광역시      434950\n",
       "8  부산광역시      831896\n",
       "9  서울특별시     2944981\n",
       "10 세종특별자치시  119349\n",
       "11 울산광역시      297134\n",
       "12 인천광역시      913320\n",
       "13 전라남도       1094872\n",
       "14 전라북도       1016863\n",
       "15 제주특별자치도  213130\n",
       "16 충청남도        589991\n",
       "17 충청북도        429153"
      ]
     },
     "metadata": {},
     "output_type": "display_data"
    }
   ],
   "source": [
    "aggregate(이재명~광역시도,election,sum)"
   ]
  },
  {
   "cell_type": "code",
   "execution_count": 45,
   "id": "32261ce6",
   "metadata": {},
   "outputs": [
    {
     "data": {
      "text/html": [
       "<table>\n",
       "<thead><tr><th scope=col>광역시도</th><th scope=col>이재명</th></tr></thead>\n",
       "<tbody>\n",
       "\t<tr><td>강원도    </td><td> 419644   </td></tr>\n",
       "\t<tr><td>경기도    </td><td>4297931   </td></tr>\n",
       "\t<tr><td>경상남도  </td><td> 794130   </td></tr>\n",
       "\t<tr><td>경상북도  </td><td> 418371   </td></tr>\n",
       "\t<tr><td>광주광역시</td><td> 830058   </td></tr>\n",
       "\t<tr><td>대구광역시</td><td> 345045   </td></tr>\n",
       "</tbody>\n",
       "</table>\n"
      ],
      "text/latex": [
       "\\begin{tabular}{r|ll}\n",
       " 광역시도 & 이재명\\\\\n",
       "\\hline\n",
       "\t 강원도     &  419644   \\\\\n",
       "\t 경기도     & 4297931   \\\\\n",
       "\t 경상남도   &  794130   \\\\\n",
       "\t 경상북도   &  418371   \\\\\n",
       "\t 광주광역시 &  830058   \\\\\n",
       "\t 대구광역시 &  345045   \\\\\n",
       "\\end{tabular}\n"
      ],
      "text/markdown": [
       "\n",
       "| 광역시도 | 이재명 |\n",
       "|---|---|\n",
       "| 강원도     |  419644    |\n",
       "| 경기도     | 4297931    |\n",
       "| 경상남도   |  794130    |\n",
       "| 경상북도   |  418371    |\n",
       "| 광주광역시 |  830058    |\n",
       "| 대구광역시 |  345045    |\n",
       "\n"
      ],
      "text/plain": [
       "  광역시도   이재명 \n",
       "1 강원도      419644\n",
       "2 경기도     4297931\n",
       "3 경상남도    794130\n",
       "4 경상북도    418371\n",
       "5 광주광역시  830058\n",
       "6 대구광역시  345045"
      ]
     },
     "metadata": {},
     "output_type": "display_data"
    },
    {
     "data": {
      "text/html": [
       "<table>\n",
       "<thead><tr><th scope=col>광역시도</th><th scope=col>투표수</th><th scope=col>이재명</th></tr></thead>\n",
       "<tbody>\n",
       "\t<tr><td>강원도    </td><td>1015458   </td><td> 419644   </td></tr>\n",
       "\t<tr><td>경기도    </td><td>8518854   </td><td>4297931   </td></tr>\n",
       "\t<tr><td>경상남도  </td><td>2146882   </td><td> 794130   </td></tr>\n",
       "\t<tr><td>경상북도  </td><td>1774284   </td><td> 418371   </td></tr>\n",
       "\t<tr><td>광주광역시</td><td> 985492   </td><td> 830058   </td></tr>\n",
       "\t<tr><td>대구광역시</td><td>1611512   </td><td> 345045   </td></tr>\n",
       "</tbody>\n",
       "</table>\n"
      ],
      "text/latex": [
       "\\begin{tabular}{r|lll}\n",
       " 광역시도 & 투표수 & 이재명\\\\\n",
       "\\hline\n",
       "\t 강원도     & 1015458    &  419644   \\\\\n",
       "\t 경기도     & 8518854    & 4297931   \\\\\n",
       "\t 경상남도   & 2146882    &  794130   \\\\\n",
       "\t 경상북도   & 1774284    &  418371   \\\\\n",
       "\t 광주광역시 &  985492    &  830058   \\\\\n",
       "\t 대구광역시 & 1611512    &  345045   \\\\\n",
       "\\end{tabular}\n"
      ],
      "text/markdown": [
       "\n",
       "| 광역시도 | 투표수 | 이재명 |\n",
       "|---|---|---|\n",
       "| 강원도     | 1015458    |  419644    |\n",
       "| 경기도     | 8518854    | 4297931    |\n",
       "| 경상남도   | 2146882    |  794130    |\n",
       "| 경상북도   | 1774284    |  418371    |\n",
       "| 광주광역시 |  985492    |  830058    |\n",
       "| 대구광역시 | 1611512    |  345045    |\n",
       "\n"
      ],
      "text/plain": [
       "  광역시도   투표수  이재명 \n",
       "1 강원도     1015458  419644\n",
       "2 경기도     8518854 4297931\n",
       "3 경상남도   2146882  794130\n",
       "4 경상북도   1774284  418371\n",
       "5 광주광역시  985492  830058\n",
       "6 대구광역시 1611512  345045"
      ]
     },
     "metadata": {},
     "output_type": "display_data"
    }
   ],
   "source": [
    "election_search_이재명 <- aggregate(이재명~광역시도,election,sum)\n",
    "head(election_search_이재명)\n",
    "election_search$이재명 <- election_search_이재명$이재명\n",
    "head(election_search)"
   ]
  },
  {
   "cell_type": "code",
   "execution_count": 46,
   "id": "62d1c8e4",
   "metadata": {},
   "outputs": [
    {
     "data": {
      "text/html": [
       "<table>\n",
       "<thead><tr><th scope=col>광역시도</th><th scope=col>윤석열</th></tr></thead>\n",
       "<tbody>\n",
       "\t<tr><td>강원도    </td><td> 544980   </td></tr>\n",
       "\t<tr><td>경기도    </td><td>3859666   </td></tr>\n",
       "\t<tr><td>경상남도  </td><td>1237346   </td></tr>\n",
       "\t<tr><td>경상북도  </td><td>1278922   </td></tr>\n",
       "\t<tr><td>광주광역시</td><td> 124511   </td></tr>\n",
       "\t<tr><td>대구광역시</td><td>1199888   </td></tr>\n",
       "</tbody>\n",
       "</table>\n"
      ],
      "text/latex": [
       "\\begin{tabular}{r|ll}\n",
       " 광역시도 & 윤석열\\\\\n",
       "\\hline\n",
       "\t 강원도     &  544980   \\\\\n",
       "\t 경기도     & 3859666   \\\\\n",
       "\t 경상남도   & 1237346   \\\\\n",
       "\t 경상북도   & 1278922   \\\\\n",
       "\t 광주광역시 &  124511   \\\\\n",
       "\t 대구광역시 & 1199888   \\\\\n",
       "\\end{tabular}\n"
      ],
      "text/markdown": [
       "\n",
       "| 광역시도 | 윤석열 |\n",
       "|---|---|\n",
       "| 강원도     |  544980    |\n",
       "| 경기도     | 3859666    |\n",
       "| 경상남도   | 1237346    |\n",
       "| 경상북도   | 1278922    |\n",
       "| 광주광역시 |  124511    |\n",
       "| 대구광역시 | 1199888    |\n",
       "\n"
      ],
      "text/plain": [
       "  광역시도   윤석열 \n",
       "1 강원도      544980\n",
       "2 경기도     3859666\n",
       "3 경상남도   1237346\n",
       "4 경상북도   1278922\n",
       "5 광주광역시  124511\n",
       "6 대구광역시 1199888"
      ]
     },
     "metadata": {},
     "output_type": "display_data"
    }
   ],
   "source": [
    "election_search_윤석열 <- aggregate(윤석열~광역시도,election,sum)\n",
    "head(election_search_윤석열)"
   ]
  },
  {
   "cell_type": "code",
   "execution_count": 47,
   "id": "0c6ad63f",
   "metadata": {},
   "outputs": [
    {
     "data": {
      "text/html": [
       "<table>\n",
       "<thead><tr><th scope=col>광역시도</th><th scope=col>투표수</th><th scope=col>이재명</th><th scope=col>윤석열</th></tr></thead>\n",
       "<tbody>\n",
       "\t<tr><td>강원도    </td><td>1015458   </td><td> 419644   </td><td> 544980   </td></tr>\n",
       "\t<tr><td>경기도    </td><td>8518854   </td><td>4297931   </td><td>3859666   </td></tr>\n",
       "\t<tr><td>경상남도  </td><td>2146882   </td><td> 794130   </td><td>1237346   </td></tr>\n",
       "\t<tr><td>경상북도  </td><td>1774284   </td><td> 418371   </td><td>1278922   </td></tr>\n",
       "\t<tr><td>광주광역시</td><td> 985492   </td><td> 830058   </td><td> 124511   </td></tr>\n",
       "\t<tr><td>대구광역시</td><td>1611512   </td><td> 345045   </td><td>1199888   </td></tr>\n",
       "</tbody>\n",
       "</table>\n"
      ],
      "text/latex": [
       "\\begin{tabular}{r|llll}\n",
       " 광역시도 & 투표수 & 이재명 & 윤석열\\\\\n",
       "\\hline\n",
       "\t 강원도     & 1015458    &  419644    &  544980   \\\\\n",
       "\t 경기도     & 8518854    & 4297931    & 3859666   \\\\\n",
       "\t 경상남도   & 2146882    &  794130    & 1237346   \\\\\n",
       "\t 경상북도   & 1774284    &  418371    & 1278922   \\\\\n",
       "\t 광주광역시 &  985492    &  830058    &  124511   \\\\\n",
       "\t 대구광역시 & 1611512    &  345045    & 1199888   \\\\\n",
       "\\end{tabular}\n"
      ],
      "text/markdown": [
       "\n",
       "| 광역시도 | 투표수 | 이재명 | 윤석열 |\n",
       "|---|---|---|---|\n",
       "| 강원도     | 1015458    |  419644    |  544980    |\n",
       "| 경기도     | 8518854    | 4297931    | 3859666    |\n",
       "| 경상남도   | 2146882    |  794130    | 1237346    |\n",
       "| 경상북도   | 1774284    |  418371    | 1278922    |\n",
       "| 광주광역시 |  985492    |  830058    |  124511    |\n",
       "| 대구광역시 | 1611512    |  345045    | 1199888    |\n",
       "\n"
      ],
      "text/plain": [
       "  광역시도   투표수  이재명  윤석열 \n",
       "1 강원도     1015458  419644  544980\n",
       "2 경기도     8518854 4297931 3859666\n",
       "3 경상남도   2146882  794130 1237346\n",
       "4 경상북도   1774284  418371 1278922\n",
       "5 광주광역시  985492  830058  124511\n",
       "6 대구광역시 1611512  345045 1199888"
      ]
     },
     "metadata": {},
     "output_type": "display_data"
    }
   ],
   "source": [
    "election_search$윤석열 <- election_search_윤석열$윤석열\n",
    "head(election_search)"
   ]
  },
  {
   "cell_type": "code",
   "execution_count": 48,
   "id": "ce22b985",
   "metadata": {},
   "outputs": [
    {
     "data": {
      "text/html": [
       "<table>\n",
       "<thead><tr><th scope=col>광역시도</th><th scope=col>심상정</th></tr></thead>\n",
       "<tbody>\n",
       "\t<tr><td>강원도    </td><td> 25031    </td></tr>\n",
       "\t<tr><td>경기도    </td><td>201113    </td></tr>\n",
       "\t<tr><td>경상남도  </td><td> 52591    </td></tr>\n",
       "\t<tr><td>경상북도  </td><td> 33123    </td></tr>\n",
       "\t<tr><td>광주광역시</td><td> 14865    </td></tr>\n",
       "\t<tr><td>대구광역시</td><td> 31131    </td></tr>\n",
       "</tbody>\n",
       "</table>\n"
      ],
      "text/latex": [
       "\\begin{tabular}{r|ll}\n",
       " 광역시도 & 심상정\\\\\n",
       "\\hline\n",
       "\t 강원도     &  25031    \\\\\n",
       "\t 경기도     & 201113    \\\\\n",
       "\t 경상남도   &  52591    \\\\\n",
       "\t 경상북도   &  33123    \\\\\n",
       "\t 광주광역시 &  14865    \\\\\n",
       "\t 대구광역시 &  31131    \\\\\n",
       "\\end{tabular}\n"
      ],
      "text/markdown": [
       "\n",
       "| 광역시도 | 심상정 |\n",
       "|---|---|\n",
       "| 강원도     |  25031     |\n",
       "| 경기도     | 201113     |\n",
       "| 경상남도   |  52591     |\n",
       "| 경상북도   |  33123     |\n",
       "| 광주광역시 |  14865     |\n",
       "| 대구광역시 |  31131     |\n",
       "\n"
      ],
      "text/plain": [
       "  광역시도   심상정\n",
       "1 강원도      25031\n",
       "2 경기도     201113\n",
       "3 경상남도    52591\n",
       "4 경상북도    33123\n",
       "5 광주광역시  14865\n",
       "6 대구광역시  31131"
      ]
     },
     "metadata": {},
     "output_type": "display_data"
    }
   ],
   "source": [
    "election_search_심상정 <- aggregate(심상정~광역시도,election,sum)\n",
    "head(election_search_심상정)"
   ]
  },
  {
   "cell_type": "code",
   "execution_count": 49,
   "id": "30047671",
   "metadata": {},
   "outputs": [
    {
     "data": {
      "text/html": [
       "<table>\n",
       "<thead><tr><th scope=col>광역시도</th><th scope=col>투표수</th><th scope=col>이재명</th><th scope=col>윤석열</th><th scope=col>심상정</th></tr></thead>\n",
       "<tbody>\n",
       "\t<tr><td>강원도    </td><td>1015458   </td><td> 419644   </td><td> 544980   </td><td> 25031    </td></tr>\n",
       "\t<tr><td>경기도    </td><td>8518854   </td><td>4297931   </td><td>3859666   </td><td>201113    </td></tr>\n",
       "\t<tr><td>경상남도  </td><td>2146882   </td><td> 794130   </td><td>1237346   </td><td> 52591    </td></tr>\n",
       "\t<tr><td>경상북도  </td><td>1774284   </td><td> 418371   </td><td>1278922   </td><td> 33123    </td></tr>\n",
       "\t<tr><td>광주광역시</td><td> 985492   </td><td> 830058   </td><td> 124511   </td><td> 14865    </td></tr>\n",
       "\t<tr><td>대구광역시</td><td>1611512   </td><td> 345045   </td><td>1199888   </td><td> 31131    </td></tr>\n",
       "</tbody>\n",
       "</table>\n"
      ],
      "text/latex": [
       "\\begin{tabular}{r|lllll}\n",
       " 광역시도 & 투표수 & 이재명 & 윤석열 & 심상정\\\\\n",
       "\\hline\n",
       "\t 강원도     & 1015458    &  419644    &  544980    &  25031    \\\\\n",
       "\t 경기도     & 8518854    & 4297931    & 3859666    & 201113    \\\\\n",
       "\t 경상남도   & 2146882    &  794130    & 1237346    &  52591    \\\\\n",
       "\t 경상북도   & 1774284    &  418371    & 1278922    &  33123    \\\\\n",
       "\t 광주광역시 &  985492    &  830058    &  124511    &  14865    \\\\\n",
       "\t 대구광역시 & 1611512    &  345045    & 1199888    &  31131    \\\\\n",
       "\\end{tabular}\n"
      ],
      "text/markdown": [
       "\n",
       "| 광역시도 | 투표수 | 이재명 | 윤석열 | 심상정 |\n",
       "|---|---|---|---|---|\n",
       "| 강원도     | 1015458    |  419644    |  544980    |  25031     |\n",
       "| 경기도     | 8518854    | 4297931    | 3859666    | 201113     |\n",
       "| 경상남도   | 2146882    |  794130    | 1237346    |  52591     |\n",
       "| 경상북도   | 1774284    |  418371    | 1278922    |  33123     |\n",
       "| 광주광역시 |  985492    |  830058    |  124511    |  14865     |\n",
       "| 대구광역시 | 1611512    |  345045    | 1199888    |  31131     |\n",
       "\n"
      ],
      "text/plain": [
       "  광역시도   투표수  이재명  윤석열  심상정\n",
       "1 강원도     1015458  419644  544980  25031\n",
       "2 경기도     8518854 4297931 3859666 201113\n",
       "3 경상남도   2146882  794130 1237346  52591\n",
       "4 경상북도   1774284  418371 1278922  33123\n",
       "5 광주광역시  985492  830058  124511  14865\n",
       "6 대구광역시 1611512  345045 1199888  31131"
      ]
     },
     "metadata": {},
     "output_type": "display_data"
    }
   ],
   "source": [
    "election_search$심상정 <- election_search_심상정$심상정\n",
    "head(election_search)"
   ]
  },
  {
   "cell_type": "code",
   "execution_count": 50,
   "id": "c0493fb5",
   "metadata": {},
   "outputs": [
    {
     "data": {
      "text/html": [
       "<table>\n",
       "<thead><tr><th scope=col>이재명</th><th scope=col>윤석열</th><th scope=col>심상정</th></tr></thead>\n",
       "<tbody>\n",
       "\t<tr><td>4297931</td><td>3859666</td><td>201113 </td></tr>\n",
       "\t<tr><td>2944981</td><td>3255747</td><td>180324 </td></tr>\n",
       "\t<tr><td> 831896</td><td>1270072</td><td> 47541 </td></tr>\n",
       "\t<tr><td> 794130</td><td>1237346</td><td> 52591 </td></tr>\n",
       "</tbody>\n",
       "</table>\n"
      ],
      "text/latex": [
       "\\begin{tabular}{r|lll}\n",
       " 이재명 & 윤석열 & 심상정\\\\\n",
       "\\hline\n",
       "\t 4297931 & 3859666 & 201113 \\\\\n",
       "\t 2944981 & 3255747 & 180324 \\\\\n",
       "\t  831896 & 1270072 &  47541 \\\\\n",
       "\t  794130 & 1237346 &  52591 \\\\\n",
       "\\end{tabular}\n"
      ],
      "text/markdown": [
       "\n",
       "| 이재명 | 윤석열 | 심상정 |\n",
       "|---|---|---|\n",
       "| 4297931 | 3859666 | 201113  |\n",
       "| 2944981 | 3255747 | 180324  |\n",
       "|  831896 | 1270072 |  47541  |\n",
       "|  794130 | 1237346 |  52591  |\n",
       "\n"
      ],
      "text/plain": [
       "  이재명  윤석열  심상정\n",
       "1 4297931 3859666 201113\n",
       "2 2944981 3255747 180324\n",
       "3  831896 1270072  47541\n",
       "4  794130 1237346  52591"
      ]
     },
     "metadata": {},
     "output_type": "display_data"
    }
   ],
   "source": [
    "election_search_top4 <-\n",
    "arrange(election_search, desc(투표수))[1:4,3:5]\n",
    "election_search_top4"
   ]
  },
  {
   "cell_type": "code",
   "execution_count": 51,
   "id": "77dcd9b7",
   "metadata": {},
   "outputs": [
    {
     "data": {
      "text/html": [
       "<table>\n",
       "<thead><tr><th></th><th scope=col>경기도</th><th scope=col>서울특별시</th><th scope=col>부산광역시</th><th scope=col>경상남도</th></tr></thead>\n",
       "<tbody>\n",
       "\t<tr><th scope=row>이재명</th><td>4297931</td><td>2944981</td><td> 831896</td><td> 794130</td></tr>\n",
       "\t<tr><th scope=row>윤석열</th><td>3859666</td><td>3255747</td><td>1270072</td><td>1237346</td></tr>\n",
       "\t<tr><th scope=row>심상정</th><td> 201113</td><td> 180324</td><td>  47541</td><td>  52591</td></tr>\n",
       "</tbody>\n",
       "</table>\n"
      ],
      "text/latex": [
       "\\begin{tabular}{r|llll}\n",
       "  & 경기도 & 서울특별시 & 부산광역시 & 경상남도\\\\\n",
       "\\hline\n",
       "\t이재명 & 4297931 & 2944981 &  831896 &  794130\\\\\n",
       "\t윤석열 & 3859666 & 3255747 & 1270072 & 1237346\\\\\n",
       "\t심상정 &  201113 &  180324 &   47541 &   52591\\\\\n",
       "\\end{tabular}\n"
      ],
      "text/markdown": [
       "\n",
       "| <!--/--> | 경기도 | 서울특별시 | 부산광역시 | 경상남도 |\n",
       "|---|---|---|---|---|\n",
       "| 이재명 | 4297931 | 2944981 |  831896 |  794130 |\n",
       "| 윤석열 | 3859666 | 3255747 | 1270072 | 1237346 |\n",
       "| 심상정 |  201113 |  180324 |   47541 |   52591 |\n",
       "\n"
      ],
      "text/plain": [
       "       경기도  서울특별시 부산광역시 경상남도\n",
       "이재명 4297931 2944981     831896     794130 \n",
       "윤석열 3859666 3255747    1270072    1237346 \n",
       "심상정  201113  180324      47541      52591 "
      ]
     },
     "metadata": {},
     "output_type": "display_data"
    }
   ],
   "source": [
    "election_search_top4t <-t(election_search_top4)\n",
    "\n",
    "colnames(election_search_top4t) =c(\"경기도\",\"서울특별시\",\"부산광역시\",\"경상남도\")\n",
    "election_search_top4t "
   ]
  },
  {
   "cell_type": "code",
   "execution_count": 52,
   "id": "d3693ad4",
   "metadata": {},
   "outputs": [
    {
     "data": {
      "text/html": [
       "<table>\n",
       "<thead><tr><th></th><th scope=col>경기도</th><th scope=col>서울특별시</th><th scope=col>부산광역시</th><th scope=col>경상남도</th></tr></thead>\n",
       "<tbody>\n",
       "\t<tr><th scope=row>이재명</th><td>4297931</td><td>2944981</td><td> 831896</td><td> 794130</td></tr>\n",
       "\t<tr><th scope=row>윤석열</th><td>3859666</td><td>3255747</td><td>1270072</td><td>1237346</td></tr>\n",
       "\t<tr><th scope=row>심상정</th><td> 201113</td><td> 180324</td><td>  47541</td><td>  52591</td></tr>\n",
       "</tbody>\n",
       "</table>\n"
      ],
      "text/latex": [
       "\\begin{tabular}{r|llll}\n",
       "  & 경기도 & 서울특별시 & 부산광역시 & 경상남도\\\\\n",
       "\\hline\n",
       "\t이재명 & 4297931 & 2944981 &  831896 &  794130\\\\\n",
       "\t윤석열 & 3859666 & 3255747 & 1270072 & 1237346\\\\\n",
       "\t심상정 &  201113 &  180324 &   47541 &   52591\\\\\n",
       "\\end{tabular}\n"
      ],
      "text/markdown": [
       "\n",
       "| <!--/--> | 경기도 | 서울특별시 | 부산광역시 | 경상남도 |\n",
       "|---|---|---|---|---|\n",
       "| 이재명 | 4297931 | 2944981 |  831896 |  794130 |\n",
       "| 윤석열 | 3859666 | 3255747 | 1270072 | 1237346 |\n",
       "| 심상정 |  201113 |  180324 |   47541 |   52591 |\n",
       "\n"
      ],
      "text/plain": [
       "       경기도  서울특별시 부산광역시 경상남도\n",
       "이재명 4297931 2944981     831896     794130 \n",
       "윤석열 3859666 3255747    1270072    1237346 \n",
       "심상정  201113  180324      47541      52591 "
      ]
     },
     "metadata": {},
     "output_type": "display_data"
    }
   ],
   "source": [
    "election_search_top4t2 <-\n",
    "as.matrix(election_search_top4t)\n",
    "election_search_top4t2"
   ]
  },
  {
   "cell_type": "code",
   "execution_count": 53,
   "id": "ff897f32",
   "metadata": {},
   "outputs": [
    {
     "name": "stdout",
     "output_type": "stream",
     "text": [
      " int [1:3, 1:4] 4297931 3859666 201113 2944981 3255747 180324 831896 1270072 47541 794130 ...\n",
      " - attr(*, \"dimnames\")=List of 2\n",
      "  ..$ : chr [1:3] \"이재명\" \"윤석열\" \"심상정\"\n",
      "  ..$ : chr [1:4] \"경기도\" \"서울특별시\" \"부산광역시\" \"경상남도\"\n"
     ]
    }
   ],
   "source": [
    "# data 값 chr 값 들어가면 그래프 생성시 오류 발생\n",
    "# 꼭 str값 확인!\n",
    "str(election_search_top4t2)\n"
   ]
  },
  {
   "cell_type": "code",
   "execution_count": 54,
   "id": "e99f4ac5",
   "metadata": {},
   "outputs": [
    {
     "data": {
      "image/png": "[encoded data removed]",
      "text/plain": [
       "Plot with title “투표수가 가장 많은 4지역의 후보별 득표수 차이”"
      ]
     },
     "metadata": {},
     "output_type": "display_data"
    }
   ],
   "source": [
    "par(family = \"AppleGothic\")\n",
    "options(scipen = 100)# 지수 없애기\n",
    "barplot(election_search_top4t2,\n",
    "        beside = T,\n",
    "        legend.text = T,\n",
    "        ylim = c(0, 5000000),\n",
    "        main = \"투표수가 가장 많은 4지역의 후보별 득표수 차이\",\n",
    "        #names = c(\"경기도\",\"서울특별시\",\"부산광역시\",\"경상남도\")\n",
    "        col = c(\"skyblue\",\"red\",\"yellow\"),\n",
    "       )"
   ]
  },
  {
   "cell_type": "markdown",
   "id": "4629d8a8",
   "metadata": {},
   "source": [
    "---\n",
    "# 투표수가 높은 시군구의 후보별 득표수 막대그래프로 시각화\n",
    "#### Top5"
   ]
  },
  {
   "cell_type": "code",
   "execution_count": 55,
   "id": "a54474c2",
   "metadata": {},
   "outputs": [
    {
     "data": {
      "text/html": [
       "<table>\n",
       "<thead><tr><th scope=col>광역시도</th><th scope=col>시군구</th><th scope=col>선거인수</th><th scope=col>투표수</th><th scope=col>이재명</th><th scope=col>윤석열</th><th scope=col>심상정</th><th scope=col>electionSum</th><th scope=col>electionRatio</th></tr></thead>\n",
       "<tbody>\n",
       "\t<tr><td>서울특별시</td><td>종로구    </td><td>129968    </td><td>100629    </td><td> 46130    </td><td> 49172    </td><td>3115      </td><td> 98417    </td><td>97.80183  </td></tr>\n",
       "\t<tr><td>서울특별시</td><td>중구      </td><td>111448    </td><td> 84998    </td><td> 38244    </td><td> 42906    </td><td>2310      </td><td> 83460    </td><td>98.19055  </td></tr>\n",
       "\t<tr><td>서울특별시</td><td>용산구    </td><td>199077    </td><td>152068    </td><td> 60063    </td><td> 85047    </td><td>4374      </td><td>149484    </td><td>98.30076  </td></tr>\n",
       "\t<tr><td>서울특별시</td><td>성동구    </td><td>252087    </td><td>197240    </td><td> 84411    </td><td>103880    </td><td>5365      </td><td>193656    </td><td>98.18292  </td></tr>\n",
       "\t<tr><td>서울특별시</td><td>광진구    </td><td>303582    </td><td>235471    </td><td>109922    </td><td>113733    </td><td>7072      </td><td>230727    </td><td>97.98531  </td></tr>\n",
       "\t<tr><td>서울특별시</td><td>동대문구  </td><td>300928    </td><td>232106    </td><td>108171    </td><td>112890    </td><td>6416      </td><td>227477    </td><td>98.00565  </td></tr>\n",
       "</tbody>\n",
       "</table>\n"
      ],
      "text/latex": [
       "\\begin{tabular}{r|lllllllll}\n",
       " 광역시도 & 시군구 & 선거인수 & 투표수 & 이재명 & 윤석열 & 심상정 & electionSum & electionRatio\\\\\n",
       "\\hline\n",
       "\t 서울특별시 & 종로구     & 129968     & 100629     &  46130     &  49172     & 3115       &  98417     & 97.80183  \\\\\n",
       "\t 서울특별시 & 중구       & 111448     &  84998     &  38244     &  42906     & 2310       &  83460     & 98.19055  \\\\\n",
       "\t 서울특별시 & 용산구     & 199077     & 152068     &  60063     &  85047     & 4374       & 149484     & 98.30076  \\\\\n",
       "\t 서울특별시 & 성동구     & 252087     & 197240     &  84411     & 103880     & 5365       & 193656     & 98.18292  \\\\\n",
       "\t 서울특별시 & 광진구     & 303582     & 235471     & 109922     & 113733     & 7072       & 230727     & 97.98531  \\\\\n",
       "\t 서울특별시 & 동대문구   & 300928     & 232106     & 108171     & 112890     & 6416       & 227477     & 98.00565  \\\\\n",
       "\\end{tabular}\n"
      ],
      "text/markdown": [
       "\n",
       "| 광역시도 | 시군구 | 선거인수 | 투표수 | 이재명 | 윤석열 | 심상정 | electionSum | electionRatio |\n",
       "|---|---|---|---|---|---|---|---|---|\n",
       "| 서울특별시 | 종로구     | 129968     | 100629     |  46130     |  49172     | 3115       |  98417     | 97.80183   |\n",
       "| 서울특별시 | 중구       | 111448     |  84998     |  38244     |  42906     | 2310       |  83460     | 98.19055   |\n",
       "| 서울특별시 | 용산구     | 199077     | 152068     |  60063     |  85047     | 4374       | 149484     | 98.30076   |\n",
       "| 서울특별시 | 성동구     | 252087     | 197240     |  84411     | 103880     | 5365       | 193656     | 98.18292   |\n",
       "| 서울특별시 | 광진구     | 303582     | 235471     | 109922     | 113733     | 7072       | 230727     | 97.98531   |\n",
       "| 서울특별시 | 동대문구   | 300928     | 232106     | 108171     | 112890     | 6416       | 227477     | 98.00565   |\n",
       "\n"
      ],
      "text/plain": [
       "  광역시도   시군구   선거인수 투표수 이재명 윤석열 심상정 electionSum\n",
       "1 서울특별시 종로구   129968   100629  46130  49172 3115    98417     \n",
       "2 서울특별시 중구     111448    84998  38244  42906 2310    83460     \n",
       "3 서울특별시 용산구   199077   152068  60063  85047 4374   149484     \n",
       "4 서울특별시 성동구   252087   197240  84411 103880 5365   193656     \n",
       "5 서울특별시 광진구   303582   235471 109922 113733 7072   230727     \n",
       "6 서울특별시 동대문구 300928   232106 108171 112890 6416   227477     \n",
       "  electionRatio\n",
       "1 97.80183     \n",
       "2 98.19055     \n",
       "3 98.30076     \n",
       "4 98.18292     \n",
       "5 97.98531     \n",
       "6 98.00565     "
      ]
     },
     "metadata": {},
     "output_type": "display_data"
    }
   ],
   "source": [
    "head(election)"
   ]
  },
  {
   "cell_type": "code",
   "execution_count": 56,
   "id": "82048368",
   "metadata": {},
   "outputs": [
    {
     "data": {
      "text/html": [
       "<table>\n",
       "<thead><tr><th scope=col>시군구</th><th scope=col>이재명</th><th scope=col>윤석열</th><th scope=col>심상정</th></tr></thead>\n",
       "<tbody>\n",
       "\t<tr><td>화성시  </td><td>283324  </td><td>236055  </td><td>12955   </td></tr>\n",
       "\t<tr><td>부천시  </td><td>285227  </td><td>224331  </td><td>13249   </td></tr>\n",
       "\t<tr><td>남양주시</td><td>239179  </td><td>203075  </td><td>10089   </td></tr>\n",
       "\t<tr><td>송파구  </td><td>180490  </td><td>255166  </td><td>10652   </td></tr>\n",
       "\t<tr><td>강서구  </td><td>190000  </td><td>181510  </td><td>11100   </td></tr>\n",
       "</tbody>\n",
       "</table>\n"
      ],
      "text/latex": [
       "\\begin{tabular}{r|llll}\n",
       " 시군구 & 이재명 & 윤석열 & 심상정\\\\\n",
       "\\hline\n",
       "\t 화성시   & 283324   & 236055   & 12955   \\\\\n",
       "\t 부천시   & 285227   & 224331   & 13249   \\\\\n",
       "\t 남양주시 & 239179   & 203075   & 10089   \\\\\n",
       "\t 송파구   & 180490   & 255166   & 10652   \\\\\n",
       "\t 강서구   & 190000   & 181510   & 11100   \\\\\n",
       "\\end{tabular}\n"
      ],
      "text/markdown": [
       "\n",
       "| 시군구 | 이재명 | 윤석열 | 심상정 |\n",
       "|---|---|---|---|\n",
       "| 화성시   | 283324   | 236055   | 12955    |\n",
       "| 부천시   | 285227   | 224331   | 13249    |\n",
       "| 남양주시 | 239179   | 203075   | 10089    |\n",
       "| 송파구   | 180490   | 255166   | 10652    |\n",
       "| 강서구   | 190000   | 181510   | 11100    |\n",
       "\n"
      ],
      "text/plain": [
       "  시군구   이재명 윤석열 심상정\n",
       "1 화성시   283324 236055 12955 \n",
       "2 부천시   285227 224331 13249 \n",
       "3 남양주시 239179 203075 10089 \n",
       "4 송파구   180490 255166 10652 \n",
       "5 강서구   190000 181510 11100 "
      ]
     },
     "metadata": {},
     "output_type": "display_data"
    }
   ],
   "source": [
    "election_시군구_top5 <- \n",
    "arrange(election, desc(투표수))[1:5,c(2,5:7)]\n",
    "election_시군구_top5"
   ]
  },
  {
   "cell_type": "code",
   "execution_count": 57,
   "id": "92db5985",
   "metadata": {},
   "outputs": [
    {
     "data": {
      "text/html": [
       "<table>\n",
       "<thead><tr><th></th><th scope=col>1</th><th scope=col>2</th><th scope=col>3</th><th scope=col>4</th><th scope=col>5</th></tr></thead>\n",
       "<tbody>\n",
       "\t<tr><th scope=row>이재명</th><td>283324</td><td>285227</td><td>239179</td><td>180490</td><td>190000</td></tr>\n",
       "\t<tr><th scope=row>윤석열</th><td>236055</td><td>224331</td><td>203075</td><td>255166</td><td>181510</td></tr>\n",
       "\t<tr><th scope=row>심상정</th><td> 12955</td><td> 13249</td><td> 10089</td><td> 10652</td><td> 11100</td></tr>\n",
       "</tbody>\n",
       "</table>\n"
      ],
      "text/latex": [
       "\\begin{tabular}{r|lllll}\n",
       "  & 1 & 2 & 3 & 4 & 5\\\\\n",
       "\\hline\n",
       "\t이재명 & 283324 & 285227 & 239179 & 180490 & 190000\\\\\n",
       "\t윤석열 & 236055 & 224331 & 203075 & 255166 & 181510\\\\\n",
       "\t심상정 &  12955 &  13249 &  10089 &  10652 &  11100\\\\\n",
       "\\end{tabular}\n"
      ],
      "text/markdown": [
       "\n",
       "| <!--/--> | 1 | 2 | 3 | 4 | 5 |\n",
       "|---|---|---|---|---|---|\n",
       "| 이재명 | 283324 | 285227 | 239179 | 180490 | 190000 |\n",
       "| 윤석열 | 236055 | 224331 | 203075 | 255166 | 181510 |\n",
       "| 심상정 |  12955 |  13249 |  10089 |  10652 |  11100 |\n",
       "\n"
      ],
      "text/plain": [
       "       1      2      3      4      5     \n",
       "이재명 283324 285227 239179 180490 190000\n",
       "윤석열 236055 224331 203075 255166 181510\n",
       "심상정  12955  13249  10089  10652  11100"
      ]
     },
     "metadata": {},
     "output_type": "display_data"
    }
   ],
   "source": [
    "election_t시군구_top5 <- \n",
    "t(election_시군구_top5[2:4])\n",
    "election_t시군구_top5"
   ]
  },
  {
   "cell_type": "code",
   "execution_count": 58,
   "id": "8a2192e5",
   "metadata": {},
   "outputs": [
    {
     "data": {
      "text/html": [
       "<table>\n",
       "<thead><tr><th></th><th scope=col>화성시</th><th scope=col>부천시</th><th scope=col>남양주시</th><th scope=col>송파구</th><th scope=col>강서구</th></tr></thead>\n",
       "<tbody>\n",
       "\t<tr><th scope=row>이재명</th><td>283324</td><td>285227</td><td>239179</td><td>180490</td><td>190000</td></tr>\n",
       "\t<tr><th scope=row>윤석열</th><td>236055</td><td>224331</td><td>203075</td><td>255166</td><td>181510</td></tr>\n",
       "\t<tr><th scope=row>심상정</th><td> 12955</td><td> 13249</td><td> 10089</td><td> 10652</td><td> 11100</td></tr>\n",
       "</tbody>\n",
       "</table>\n"
      ],
      "text/latex": [
       "\\begin{tabular}{r|lllll}\n",
       "  & 화성시 & 부천시 & 남양주시 & 송파구 & 강서구\\\\\n",
       "\\hline\n",
       "\t이재명 & 283324 & 285227 & 239179 & 180490 & 190000\\\\\n",
       "\t윤석열 & 236055 & 224331 & 203075 & 255166 & 181510\\\\\n",
       "\t심상정 &  12955 &  13249 &  10089 &  10652 &  11100\\\\\n",
       "\\end{tabular}\n"
      ],
      "text/markdown": [
       "\n",
       "| <!--/--> | 화성시 | 부천시 | 남양주시 | 송파구 | 강서구 |\n",
       "|---|---|---|---|---|---|\n",
       "| 이재명 | 283324 | 285227 | 239179 | 180490 | 190000 |\n",
       "| 윤석열 | 236055 | 224331 | 203075 | 255166 | 181510 |\n",
       "| 심상정 |  12955 |  13249 |  10089 |  10652 |  11100 |\n",
       "\n"
      ],
      "text/plain": [
       "       화성시 부천시 남양주시 송파구 강서구\n",
       "이재명 283324 285227 239179   180490 190000\n",
       "윤석열 236055 224331 203075   255166 181510\n",
       "심상정  12955  13249  10089    10652  11100"
      ]
     },
     "metadata": {},
     "output_type": "display_data"
    }
   ],
   "source": [
    "colnames(election_t시군구_top5) <- c(\"화성시\",\"부천시\",\"남양주시\",\"송파구\",\"강서구\")\n",
    "election_t시군구_top5"
   ]
  },
  {
   "cell_type": "code",
   "execution_count": 59,
   "id": "7793dd98",
   "metadata": {},
   "outputs": [
    {
     "name": "stdout",
     "output_type": "stream",
     "text": [
      " int [1:3, 1:5] 283324 236055 12955 285227 224331 13249 239179 203075 10089 180490 ...\n",
      " - attr(*, \"dimnames\")=List of 2\n",
      "  ..$ : chr [1:3] \"이재명\" \"윤석열\" \"심상정\"\n",
      "  ..$ : chr [1:5] \"화성시\" \"부천시\" \"남양주시\" \"송파구\" ...\n"
     ]
    }
   ],
   "source": [
    "str(election_t시군구_top5)"
   ]
  },
  {
   "cell_type": "code",
   "execution_count": 60,
   "id": "8fdb5a2f",
   "metadata": {},
   "outputs": [
    {
     "data": {
      "image/png": "[encoded data removed]",
      "text/plain": [
       "plot without title"
      ]
     },
     "metadata": {},
     "output_type": "display_data"
    }
   ],
   "source": [
    "par(family = \"AppleGothic\")\n",
    "options(scipen = 100) # 지수 없애기\n",
    "barplot(election_t시군구_top5,\n",
    "       ylim = c(0, 600000),\n",
    "       col = c(\"skyblue\",\"red\",\"yellow\"))"
   ]
  },
  {
   "cell_type": "markdown",
   "id": "42250dd9",
   "metadata": {},
   "source": [
    "---\n",
    "## 20대 대선 권역별 후보 득표율을 꺽은선 그래프로 표현하시요.\n",
    "\n",
    "수도권:<br>\n",
    "('서울특별시','인천광역시','경기도')<br><br>\n",
    "강원도:<br>\n",
    "'강원도'<br><br>\n",
    "영남:<br>\n",
    "('경상북도','경상남도','대구광역시','부산광역시','울산광역시')<br><br>\n",
    "충청:<br>\n",
    "('충청북도','충청남도','세종특별자치시','대전광역시')<br><br>\n",
    "호남:<br>\n",
    "('전라남도','전라북도','제주특별자치도','광주광역시')<br><br>\n",
    "수도권 <- c('서울특별시','인천광역시','경기도')<br>\n",
    "강원권 <- '강원도'<br>\n",
    "영남권 <- c('경상북도','경상남도','대구광역시','부산광역시','울산광역시')<br>\n",
    "충청권 <- c('충청북도','충청남도','세종특별자치시','대전광역시')<br>\n",
    "호남권 <- c('전라남도','전라북도','제주특별자치도','광주광역시')<br>\n",
    "\n",
    "- 제목 : 20대 대선 권역별 후보 득표율"
   ]
  },
  {
   "cell_type": "code",
   "execution_count": 61,
   "id": "de0bcaf3",
   "metadata": {},
   "outputs": [],
   "source": [
    "library(stringr)"
   ]
  },
  {
   "cell_type": "code",
   "execution_count": 62,
   "id": "bfc48eac",
   "metadata": {},
   "outputs": [
    {
     "data": {
      "text/html": [
       "<table>\n",
       "<thead><tr><th scope=col>광역시도</th><th scope=col>투표수</th><th scope=col>이재명</th><th scope=col>윤석열</th><th scope=col>심상정</th></tr></thead>\n",
       "<tbody>\n",
       "\t<tr><td>강원도    </td><td>1015458   </td><td> 419644   </td><td> 544980   </td><td> 25031    </td></tr>\n",
       "\t<tr><td>경기도    </td><td>8518854   </td><td>4297931   </td><td>3859666   </td><td>201113    </td></tr>\n",
       "\t<tr><td>경상남도  </td><td>2146882   </td><td> 794130   </td><td>1237346   </td><td> 52591    </td></tr>\n",
       "\t<tr><td>경상북도  </td><td>1774284   </td><td> 418371   </td><td>1278922   </td><td> 33123    </td></tr>\n",
       "\t<tr><td>광주광역시</td><td> 985492   </td><td> 830058   </td><td> 124511   </td><td> 14865    </td></tr>\n",
       "\t<tr><td>대구광역시</td><td>1611512   </td><td> 345045   </td><td>1199888   </td><td> 31131    </td></tr>\n",
       "</tbody>\n",
       "</table>\n"
      ],
      "text/latex": [
       "\\begin{tabular}{r|lllll}\n",
       " 광역시도 & 투표수 & 이재명 & 윤석열 & 심상정\\\\\n",
       "\\hline\n",
       "\t 강원도     & 1015458    &  419644    &  544980    &  25031    \\\\\n",
       "\t 경기도     & 8518854    & 4297931    & 3859666    & 201113    \\\\\n",
       "\t 경상남도   & 2146882    &  794130    & 1237346    &  52591    \\\\\n",
       "\t 경상북도   & 1774284    &  418371    & 1278922    &  33123    \\\\\n",
       "\t 광주광역시 &  985492    &  830058    &  124511    &  14865    \\\\\n",
       "\t 대구광역시 & 1611512    &  345045    & 1199888    &  31131    \\\\\n",
       "\\end{tabular}\n"
      ],
      "text/markdown": [
       "\n",
       "| 광역시도 | 투표수 | 이재명 | 윤석열 | 심상정 |\n",
       "|---|---|---|---|---|\n",
       "| 강원도     | 1015458    |  419644    |  544980    |  25031     |\n",
       "| 경기도     | 8518854    | 4297931    | 3859666    | 201113     |\n",
       "| 경상남도   | 2146882    |  794130    | 1237346    |  52591     |\n",
       "| 경상북도   | 1774284    |  418371    | 1278922    |  33123     |\n",
       "| 광주광역시 |  985492    |  830058    |  124511    |  14865     |\n",
       "| 대구광역시 | 1611512    |  345045    | 1199888    |  31131     |\n",
       "\n"
      ],
      "text/plain": [
       "  광역시도   투표수  이재명  윤석열  심상정\n",
       "1 강원도     1015458  419644  544980  25031\n",
       "2 경기도     8518854 4297931 3859666 201113\n",
       "3 경상남도   2146882  794130 1237346  52591\n",
       "4 경상북도   1774284  418371 1278922  33123\n",
       "5 광주광역시  985492  830058  124511  14865\n",
       "6 대구광역시 1611512  345045 1199888  31131"
      ]
     },
     "metadata": {},
     "output_type": "display_data"
    }
   ],
   "source": [
    "head(election_search)"
   ]
  },
  {
   "cell_type": "code",
   "execution_count": 63,
   "id": "f7837f5c",
   "metadata": {},
   "outputs": [],
   "source": [
    "#투표율\n",
    "#election_search$이투표율 <- election_search$이재명 / election_search$투표수 * 100\n",
    "#election_search$윤투표율 <- election_search$윤석열 / election_search$투표수 * 100\n",
    "#election_search$심투표율 <- election_search$심상정 / election_search$투표수 * 100\n",
    "#head(election_search)"
   ]
  },
  {
   "cell_type": "code",
   "execution_count": 64,
   "id": "4516ed2e",
   "metadata": {},
   "outputs": [
    {
     "data": {
      "text/html": [
       "<table>\n",
       "<thead><tr><th scope=col>광역시도</th><th scope=col>투표수</th><th scope=col>이재명</th><th scope=col>윤석열</th><th scope=col>심상정</th></tr></thead>\n",
       "<tbody>\n",
       "\t<tr><td>강원도        </td><td>1015458       </td><td> 419644       </td><td> 544980       </td><td> 25031        </td></tr>\n",
       "\t<tr><td>경기도        </td><td>8518854       </td><td>4297931       </td><td>3859666       </td><td>201113        </td></tr>\n",
       "\t<tr><td>경상남도      </td><td>2146882       </td><td> 794130       </td><td>1237346       </td><td> 52591        </td></tr>\n",
       "\t<tr><td>경상북도      </td><td>1774284       </td><td> 418371       </td><td>1278922       </td><td> 33123        </td></tr>\n",
       "\t<tr><td>광주광역시    </td><td> 985492       </td><td> 830058       </td><td> 124511       </td><td> 14865        </td></tr>\n",
       "\t<tr><td>대구광역시    </td><td>1611512       </td><td> 345045       </td><td>1199888       </td><td> 31131        </td></tr>\n",
       "\t<tr><td>대전광역시    </td><td> 945308       </td><td> 434950       </td><td> 464060       </td><td> 25445        </td></tr>\n",
       "\t<tr><td>부산광역시    </td><td>2200224       </td><td> 831896       </td><td>1270072       </td><td> 47541        </td></tr>\n",
       "\t<tr><td>서울특별시    </td><td>6501831       </td><td>2944981       </td><td>3255747       </td><td>180324        </td></tr>\n",
       "\t<tr><td>세종특별자치시</td><td> 231832       </td><td> 119349       </td><td> 101491       </td><td>  6780        </td></tr>\n",
       "\t<tr><td>울산광역시    </td><td> 735461       </td><td> 297134       </td><td> 396321       </td><td> 21292        </td></tr>\n",
       "\t<tr><td>인천광역시    </td><td>1883504       </td><td> 913320       </td><td> 878560       </td><td> 51852        </td></tr>\n",
       "\t<tr><td>전라남도      </td><td>1282168       </td><td>1094872       </td><td> 145549       </td><td> 16279        </td></tr>\n",
       "\t<tr><td>전라북도      </td><td>1235212       </td><td>1016863       </td><td> 176809       </td><td> 19451        </td></tr>\n",
       "\t<tr><td>제주특별자치도</td><td> 409649       </td><td> 213130       </td><td> 173014       </td><td> 13598        </td></tr>\n",
       "\t<tr><td>충청남도      </td><td>1324660       </td><td> 589991       </td><td> 670283       </td><td> 31789        </td></tr>\n",
       "\t<tr><td>충청북도      </td><td> 962333       </td><td> 429153       </td><td> 483221       </td><td> 25247        </td></tr>\n",
       "</tbody>\n",
       "</table>\n"
      ],
      "text/latex": [
       "\\begin{tabular}{r|lllll}\n",
       " 광역시도 & 투표수 & 이재명 & 윤석열 & 심상정\\\\\n",
       "\\hline\n",
       "\t 강원도         & 1015458        &  419644        &  544980        &  25031        \\\\\n",
       "\t 경기도         & 8518854        & 4297931        & 3859666        & 201113        \\\\\n",
       "\t 경상남도       & 2146882        &  794130        & 1237346        &  52591        \\\\\n",
       "\t 경상북도       & 1774284        &  418371        & 1278922        &  33123        \\\\\n",
       "\t 광주광역시     &  985492        &  830058        &  124511        &  14865        \\\\\n",
       "\t 대구광역시     & 1611512        &  345045        & 1199888        &  31131        \\\\\n",
       "\t 대전광역시     &  945308        &  434950        &  464060        &  25445        \\\\\n",
       "\t 부산광역시     & 2200224        &  831896        & 1270072        &  47541        \\\\\n",
       "\t 서울특별시     & 6501831        & 2944981        & 3255747        & 180324        \\\\\n",
       "\t 세종특별자치시 &  231832        &  119349        &  101491        &   6780        \\\\\n",
       "\t 울산광역시     &  735461        &  297134        &  396321        &  21292        \\\\\n",
       "\t 인천광역시     & 1883504        &  913320        &  878560        &  51852        \\\\\n",
       "\t 전라남도       & 1282168        & 1094872        &  145549        &  16279        \\\\\n",
       "\t 전라북도       & 1235212        & 1016863        &  176809        &  19451        \\\\\n",
       "\t 제주특별자치도 &  409649        &  213130        &  173014        &  13598        \\\\\n",
       "\t 충청남도       & 1324660        &  589991        &  670283        &  31789        \\\\\n",
       "\t 충청북도       &  962333        &  429153        &  483221        &  25247        \\\\\n",
       "\\end{tabular}\n"
      ],
      "text/markdown": [
       "\n",
       "| 광역시도 | 투표수 | 이재명 | 윤석열 | 심상정 |\n",
       "|---|---|---|---|---|\n",
       "| 강원도         | 1015458        |  419644        |  544980        |  25031         |\n",
       "| 경기도         | 8518854        | 4297931        | 3859666        | 201113         |\n",
       "| 경상남도       | 2146882        |  794130        | 1237346        |  52591         |\n",
       "| 경상북도       | 1774284        |  418371        | 1278922        |  33123         |\n",
       "| 광주광역시     |  985492        |  830058        |  124511        |  14865         |\n",
       "| 대구광역시     | 1611512        |  345045        | 1199888        |  31131         |\n",
       "| 대전광역시     |  945308        |  434950        |  464060        |  25445         |\n",
       "| 부산광역시     | 2200224        |  831896        | 1270072        |  47541         |\n",
       "| 서울특별시     | 6501831        | 2944981        | 3255747        | 180324         |\n",
       "| 세종특별자치시 |  231832        |  119349        |  101491        |   6780         |\n",
       "| 울산광역시     |  735461        |  297134        |  396321        |  21292         |\n",
       "| 인천광역시     | 1883504        |  913320        |  878560        |  51852         |\n",
       "| 전라남도       | 1282168        | 1094872        |  145549        |  16279         |\n",
       "| 전라북도       | 1235212        | 1016863        |  176809        |  19451         |\n",
       "| 제주특별자치도 |  409649        |  213130        |  173014        |  13598         |\n",
       "| 충청남도       | 1324660        |  589991        |  670283        |  31789         |\n",
       "| 충청북도       |  962333        |  429153        |  483221        |  25247         |\n",
       "\n"
      ],
      "text/plain": [
       "   광역시도       투표수  이재명  윤석열  심상정\n",
       "1  강원도         1015458  419644  544980  25031\n",
       "2  경기도         8518854 4297931 3859666 201113\n",
       "3  경상남도       2146882  794130 1237346  52591\n",
       "4  경상북도       1774284  418371 1278922  33123\n",
       "5  광주광역시      985492  830058  124511  14865\n",
       "6  대구광역시     1611512  345045 1199888  31131\n",
       "7  대전광역시      945308  434950  464060  25445\n",
       "8  부산광역시     2200224  831896 1270072  47541\n",
       "9  서울특별시     6501831 2944981 3255747 180324\n",
       "10 세종특별자치시  231832  119349  101491   6780\n",
       "11 울산광역시      735461  297134  396321  21292\n",
       "12 인천광역시     1883504  913320  878560  51852\n",
       "13 전라남도       1282168 1094872  145549  16279\n",
       "14 전라북도       1235212 1016863  176809  19451\n",
       "15 제주특별자치도  409649  213130  173014  13598\n",
       "16 충청남도       1324660  589991  670283  31789\n",
       "17 충청북도        962333  429153  483221  25247"
      ]
     },
     "metadata": {},
     "output_type": "display_data"
    }
   ],
   "source": [
    "election_search                             "
   ]
  },
  {
   "cell_type": "code",
   "execution_count": 65,
   "id": "2b602c67",
   "metadata": {},
   "outputs": [],
   "source": [
    "#수도권:('서울특별시','인천광역시','경기도')\n",
    "\n",
    "#print(str_locate(election_투표율$광역시도 , '서울특별시'))#9\n",
    "#print(str_locate(election_투표율$광역시도 , '인천광역시'))#12\n",
    "#print(str_locate(election_투표율$광역시도, '경기도')) #2\n",
    "#election_수도권 <-\n",
    "#election_투표율[c(2,9,12),]\n"
   ]
  },
  {
   "cell_type": "code",
   "execution_count": 66,
   "id": "f9cdd220",
   "metadata": {},
   "outputs": [],
   "source": [
    "# 강원도: '강원도'\n",
    "#print(str_locate(election_투표율$광역시도, '강원도')) #1\n",
    "#election_강원도<-\n",
    "#election_투표율[1,]"
   ]
  },
  {
   "cell_type": "code",
   "execution_count": 67,
   "id": "e01dd50c",
   "metadata": {},
   "outputs": [],
   "source": [
    "#영남:('경상북도','경상남도','대구광역시','부산광역시','울산광역시')\n",
    "#print(str_locate(election_투표율$광역시도, '경상북도')) #4"
   ]
  },
  {
   "cell_type": "code",
   "execution_count": 68,
   "id": "4d68b3a3",
   "metadata": {},
   "outputs": [
    {
     "data": {
      "text/html": [
       "<table>\n",
       "<thead><tr><th scope=col>광역시도</th><th scope=col>투표수</th><th scope=col>이재명</th><th scope=col>윤석열</th><th scope=col>심상정</th><th scope=col>지역</th></tr></thead>\n",
       "<tbody>\n",
       "\t<tr><td>강원도        </td><td>1015458       </td><td> 419644       </td><td> 544980       </td><td> 25031        </td><td>강원권        </td></tr>\n",
       "\t<tr><td>경기도        </td><td>8518854       </td><td>4297931       </td><td>3859666       </td><td>201113        </td><td>수도권        </td></tr>\n",
       "\t<tr><td>경상남도      </td><td>2146882       </td><td> 794130       </td><td>1237346       </td><td> 52591        </td><td>영남권        </td></tr>\n",
       "\t<tr><td>경상북도      </td><td>1774284       </td><td> 418371       </td><td>1278922       </td><td> 33123        </td><td>영남권        </td></tr>\n",
       "\t<tr><td>광주광역시    </td><td> 985492       </td><td> 830058       </td><td> 124511       </td><td> 14865        </td><td>호남권        </td></tr>\n",
       "\t<tr><td>대구광역시    </td><td>1611512       </td><td> 345045       </td><td>1199888       </td><td> 31131        </td><td>영남권        </td></tr>\n",
       "\t<tr><td>대전광역시    </td><td> 945308       </td><td> 434950       </td><td> 464060       </td><td> 25445        </td><td>충청권        </td></tr>\n",
       "\t<tr><td>부산광역시    </td><td>2200224       </td><td> 831896       </td><td>1270072       </td><td> 47541        </td><td>영남권        </td></tr>\n",
       "\t<tr><td>서울특별시    </td><td>6501831       </td><td>2944981       </td><td>3255747       </td><td>180324        </td><td>수도권        </td></tr>\n",
       "\t<tr><td>세종특별자치시</td><td> 231832       </td><td> 119349       </td><td> 101491       </td><td>  6780        </td><td>충청권        </td></tr>\n",
       "\t<tr><td>울산광역시    </td><td> 735461       </td><td> 297134       </td><td> 396321       </td><td> 21292        </td><td>영남권        </td></tr>\n",
       "\t<tr><td>인천광역시    </td><td>1883504       </td><td> 913320       </td><td> 878560       </td><td> 51852        </td><td>수도권        </td></tr>\n",
       "\t<tr><td>전라남도      </td><td>1282168       </td><td>1094872       </td><td> 145549       </td><td> 16279        </td><td>호남권        </td></tr>\n",
       "\t<tr><td>전라북도      </td><td>1235212       </td><td>1016863       </td><td> 176809       </td><td> 19451        </td><td>호남권        </td></tr>\n",
       "\t<tr><td>제주특별자치도</td><td> 409649       </td><td> 213130       </td><td> 173014       </td><td> 13598        </td><td>호남권        </td></tr>\n",
       "\t<tr><td>충청남도      </td><td>1324660       </td><td> 589991       </td><td> 670283       </td><td> 31789        </td><td>충청권        </td></tr>\n",
       "\t<tr><td>충청북도      </td><td> 962333       </td><td> 429153       </td><td> 483221       </td><td> 25247        </td><td>충청권        </td></tr>\n",
       "</tbody>\n",
       "</table>\n"
      ],
      "text/latex": [
       "\\begin{tabular}{r|llllll}\n",
       " 광역시도 & 투표수 & 이재명 & 윤석열 & 심상정 & 지역\\\\\n",
       "\\hline\n",
       "\t 강원도         & 1015458        &  419644        &  544980        &  25031         & 강원권        \\\\\n",
       "\t 경기도         & 8518854        & 4297931        & 3859666        & 201113         & 수도권        \\\\\n",
       "\t 경상남도       & 2146882        &  794130        & 1237346        &  52591         & 영남권        \\\\\n",
       "\t 경상북도       & 1774284        &  418371        & 1278922        &  33123         & 영남권        \\\\\n",
       "\t 광주광역시     &  985492        &  830058        &  124511        &  14865         & 호남권        \\\\\n",
       "\t 대구광역시     & 1611512        &  345045        & 1199888        &  31131         & 영남권        \\\\\n",
       "\t 대전광역시     &  945308        &  434950        &  464060        &  25445         & 충청권        \\\\\n",
       "\t 부산광역시     & 2200224        &  831896        & 1270072        &  47541         & 영남권        \\\\\n",
       "\t 서울특별시     & 6501831        & 2944981        & 3255747        & 180324         & 수도권        \\\\\n",
       "\t 세종특별자치시 &  231832        &  119349        &  101491        &   6780         & 충청권        \\\\\n",
       "\t 울산광역시     &  735461        &  297134        &  396321        &  21292         & 영남권        \\\\\n",
       "\t 인천광역시     & 1883504        &  913320        &  878560        &  51852         & 수도권        \\\\\n",
       "\t 전라남도       & 1282168        & 1094872        &  145549        &  16279         & 호남권        \\\\\n",
       "\t 전라북도       & 1235212        & 1016863        &  176809        &  19451         & 호남권        \\\\\n",
       "\t 제주특별자치도 &  409649        &  213130        &  173014        &  13598         & 호남권        \\\\\n",
       "\t 충청남도       & 1324660        &  589991        &  670283        &  31789         & 충청권        \\\\\n",
       "\t 충청북도       &  962333        &  429153        &  483221        &  25247         & 충청권        \\\\\n",
       "\\end{tabular}\n"
      ],
      "text/markdown": [
       "\n",
       "| 광역시도 | 투표수 | 이재명 | 윤석열 | 심상정 | 지역 |\n",
       "|---|---|---|---|---|---|\n",
       "| 강원도         | 1015458        |  419644        |  544980        |  25031         | 강원권         |\n",
       "| 경기도         | 8518854        | 4297931        | 3859666        | 201113         | 수도권         |\n",
       "| 경상남도       | 2146882        |  794130        | 1237346        |  52591         | 영남권         |\n",
       "| 경상북도       | 1774284        |  418371        | 1278922        |  33123         | 영남권         |\n",
       "| 광주광역시     |  985492        |  830058        |  124511        |  14865         | 호남권         |\n",
       "| 대구광역시     | 1611512        |  345045        | 1199888        |  31131         | 영남권         |\n",
       "| 대전광역시     |  945308        |  434950        |  464060        |  25445         | 충청권         |\n",
       "| 부산광역시     | 2200224        |  831896        | 1270072        |  47541         | 영남권         |\n",
       "| 서울특별시     | 6501831        | 2944981        | 3255747        | 180324         | 수도권         |\n",
       "| 세종특별자치시 |  231832        |  119349        |  101491        |   6780         | 충청권         |\n",
       "| 울산광역시     |  735461        |  297134        |  396321        |  21292         | 영남권         |\n",
       "| 인천광역시     | 1883504        |  913320        |  878560        |  51852         | 수도권         |\n",
       "| 전라남도       | 1282168        | 1094872        |  145549        |  16279         | 호남권         |\n",
       "| 전라북도       | 1235212        | 1016863        |  176809        |  19451         | 호남권         |\n",
       "| 제주특별자치도 |  409649        |  213130        |  173014        |  13598         | 호남권         |\n",
       "| 충청남도       | 1324660        |  589991        |  670283        |  31789         | 충청권         |\n",
       "| 충청북도       |  962333        |  429153        |  483221        |  25247         | 충청권         |\n",
       "\n"
      ],
      "text/plain": [
       "   광역시도       투표수  이재명  윤석열  심상정 지역  \n",
       "1  강원도         1015458  419644  544980  25031 강원권\n",
       "2  경기도         8518854 4297931 3859666 201113 수도권\n",
       "3  경상남도       2146882  794130 1237346  52591 영남권\n",
       "4  경상북도       1774284  418371 1278922  33123 영남권\n",
       "5  광주광역시      985492  830058  124511  14865 호남권\n",
       "6  대구광역시     1611512  345045 1199888  31131 영남권\n",
       "7  대전광역시      945308  434950  464060  25445 충청권\n",
       "8  부산광역시     2200224  831896 1270072  47541 영남권\n",
       "9  서울특별시     6501831 2944981 3255747 180324 수도권\n",
       "10 세종특별자치시  231832  119349  101491   6780 충청권\n",
       "11 울산광역시      735461  297134  396321  21292 영남권\n",
       "12 인천광역시     1883504  913320  878560  51852 수도권\n",
       "13 전라남도       1282168 1094872  145549  16279 호남권\n",
       "14 전라북도       1235212 1016863  176809  19451 호남권\n",
       "15 제주특별자치도  409649  213130  173014  13598 호남권\n",
       "16 충청남도       1324660  589991  670283  31789 충청권\n",
       "17 충청북도        962333  429153  483221  25247 충청권"
      ]
     },
     "metadata": {},
     "output_type": "display_data"
    }
   ],
   "source": [
    "수도권 <-c('서울특별시','인천광역시','경기도')\n",
    "강원권 <-'강원도'\n",
    "영남권 <- c('경상북도','경상남도','대구광역시','부산광역시','울산광역시')\n",
    "충청권 <- c('충청북도','충청남도','세종특별자치시','대전광역시')\n",
    "호남권 <- c('전라남도','전라북도','제주특별자치도','광주광역시')\n",
    "\n",
    "election_search$지역 <- ifelse(election_search$광역시도 %in% 수도권,'수도권',\n",
    "               ifelse(election_search$광역시도 %in% 강원권,'강원권',\n",
    "                     ifelse(election_search$광역시도 %in% 영남권,'영남권',\n",
    "                           ifelse(election_search$광역시도 %in% 충청권,'충청권','호남권'))))\n",
    "election_search"
   ]
  },
  {
   "cell_type": "code",
   "execution_count": 69,
   "id": "0850a5d2",
   "metadata": {},
   "outputs": [
    {
     "ename": "ERROR",
     "evalue": "Error in data.frame(수도권, 강원권, 영남권, 충청권, 호남권): arguments imply differing number of rows: 3, 1, 5, 4\n",
     "output_type": "error",
     "traceback": [
      "Error in data.frame(수도권, 강원권, 영남권, 충청권, 호남권): arguments imply differing number of rows: 3, 1, 5, 4\nTraceback:\n",
      "1. t(data.frame(수도권, 강원권, 영남권, 충청권, 호남권))",
      "2. data.frame(수도권, 강원권, 영남권, 충청권, 호남권)",
      "3. stop(gettextf(\"arguments imply differing number of rows: %s\", \n .     paste(unique(nrows), collapse = \", \")), domain = NA)"
     ]
    }
   ],
   "source": [
    "election_투표수 <- \n",
    "t(data.frame(수도권,강원권,영남권,충청권,호남권))\n",
    "election_투표수"
   ]
  },
  {
   "cell_type": "code",
   "execution_count": 70,
   "id": "898f50aa",
   "metadata": {},
   "outputs": [
    {
     "ename": "ERROR",
     "evalue": "Error in as.data.frame(election_투표수): 객체 'election_투표수'를 찾을 수 없습니다\n",
     "output_type": "error",
     "traceback": [
      "Error in as.data.frame(election_투표수): 객체 'election_투표수'를 찾을 수 없습니다\nTraceback:\n",
      "1. as.data.frame(election_투표수)"
     ]
    }
   ],
   "source": [
    "election_투표수df<-\n",
    "as.data.frame(election_투표수)\n",
    "election_투표수df"
   ]
  },
  {
   "cell_type": "code",
   "execution_count": 71,
   "id": "59932f23",
   "metadata": {},
   "outputs": [
    {
     "ename": "ERROR",
     "evalue": "Error in eval(expr, envir, enclos): 객체 'election_투표수df'를 찾을 수 없습니다\n",
     "output_type": "error",
     "traceback": [
      "Error in eval(expr, envir, enclos): 객체 'election_투표수df'를 찾을 수 없습니다\nTraceback:\n"
     ]
    }
   ],
   "source": [
    "election_투표수df$이재명 / election_투표수df$투표수 * 100"
   ]
  },
  {
   "cell_type": "code",
   "execution_count": 72,
   "id": "cf32ee17",
   "metadata": {},
   "outputs": [
    {
     "ename": "ERROR",
     "evalue": "Error in eval(expr, envir, enclos): 객체 'election_투표수df'를 찾을 수 없습니다\n",
     "output_type": "error",
     "traceback": [
      "Error in eval(expr, envir, enclos): 객체 'election_투표수df'를 찾을 수 없습니다\nTraceback:\n"
     ]
    }
   ],
   "source": [
    "#투표율\n",
    "election_투표수df$이투표율<- round(election_투표수df$이재명 / election_투표수df$투표수 * 100, 2)\n",
    "election_투표수df$윤투표율 <- round(election_투표수df$윤석열 / election_투표수df$투표수 * 100, 2)\n",
    "election_투표수df$심투표율 <- round(election_투표수df$심상정 / election_투표수df$투표수 * 100, 2)\n",
    "head(election_투표수df)"
   ]
  },
  {
   "cell_type": "code",
   "execution_count": 73,
   "id": "9f2ab39d",
   "metadata": {},
   "outputs": [
    {
     "ename": "ERROR",
     "evalue": "Error in eval(expr, envir, enclos): 객체 'election_투표수df'를 찾을 수 없습니다\n",
     "output_type": "error",
     "traceback": [
      "Error in eval(expr, envir, enclos): 객체 'election_투표수df'를 찾을 수 없습니다\nTraceback:\n"
     ]
    }
   ],
   "source": [
    "election_투표율 <- election_투표수df[,5:7]\n",
    "election_투표율"
   ]
  },
  {
   "cell_type": "code",
   "execution_count": 74,
   "id": "6d2b2b09",
   "metadata": {},
   "outputs": [
    {
     "ename": "ERROR",
     "evalue": "Error in plot(election_투표율$윤투표율, type = \"o\", axes = F, ann = F, : 객체 'election_투표율'를 찾을 수 없습니다\n",
     "output_type": "error",
     "traceback": [
      "Error in plot(election_투표율$윤투표율, type = \"o\", axes = F, ann = F, : 객체 'election_투표율'를 찾을 수 없습니다\nTraceback:\n",
      "1. plot(election_투표율$윤투표율, type = \"o\", axes = F, ann = F, \n .     col = \"red\", ylim = c(0, 100))"
     ]
    }
   ],
   "source": [
    "par(family = \"AppleGothic\")\n",
    "options(scipen = 100) # 지수 없애기\n",
    "\n",
    "plot(election_투표율$윤투표율,\n",
    "     type = 'o',\n",
    "     axes = F,\n",
    "     ann  = F,\n",
    "     col = \"red\",\n",
    "     ylim = c(0,100)\n",
    "    )\n",
    "\n",
    "lines(election_투표율$이투표율,\n",
    "    type = 'o',\n",
    "      col = \"blue\"\n",
    "    )\n",
    "\n",
    "lines(election_투표율$심투표율,\n",
    "    type = 'o',\n",
    "     col = \"yellow\"\n",
    "    )\n",
    "\n",
    "axis(1, at=1:5, lab=c(\"수도권\",\"강원권\",\"영남권\",\"충청권\",\"호남권\"))\n",
    "axis(2, ylim=c(0:100))\n",
    "\n",
    "legend(4,400,\n",
    "       c('이재명','윤석열','심상정'),\n",
    "       col = c(\"blue\",\"red\",\"yellow\")\n",
    "       \n",
    "\n",
    ")"
   ]
  },
  {
   "cell_type": "code",
   "execution_count": null,
   "id": "f767e17b",
   "metadata": {},
   "outputs": [],
   "source": []
  },
  {
   "cell_type": "code",
   "execution_count": null,
   "id": "cedeb0e1",
   "metadata": {},
   "outputs": [],
   "source": []
  },
  {
   "cell_type": "code",
   "execution_count": null,
   "id": "e3273a3d",
   "metadata": {},
   "outputs": [],
   "source": []
  },
  {
   "cell_type": "code",
   "execution_count": null,
   "id": "6cbc72a5",
   "metadata": {},
   "outputs": [],
   "source": []
  },
  {
   "cell_type": "code",
   "execution_count": null,
   "id": "ede466cc",
   "metadata": {},
   "outputs": [],
   "source": []
  }
 ],
 "metadata": {
  "kernelspec": {
   "display_name": "R",
   "language": "R",
   "name": "ir"
  },
  "language_info": {
   "codemirror_mode": "r",
   "file_extension": ".r",
   "mimetype": "text/x-r-source",
   "name": "R",
   "pygments_lexer": "r",
   "version": "3.6.1"
  }
 },
 "nbformat": 4,
 "nbformat_minor": 5
}
