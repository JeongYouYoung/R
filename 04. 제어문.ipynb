{
 "cells": [
  {
   "cell_type": "code",
   "execution_count": 1,
   "id": "21799b34",
   "metadata": {},
   "outputs": [
    {
     "name": "stdout",
     "output_type": "stream",
     "text": [
      "[1] \"----End---\"\n"
     ]
    }
   ],
   "source": [
    "x <- 10\n",
    "y <- runif(1) * 100\n",
    "\n",
    "if(x > y){\n",
    "    print(\"x > runif()\")\n",
    "}\n",
    "print(\"----End---\")"
   ]
  },
  {
   "cell_type": "code",
   "execution_count": 2,
   "id": "5cc69f24",
   "metadata": {},
   "outputs": [
    {
     "name": "stdout",
     "output_type": "stream",
     "text": [
      "[1] \"x <= runif()\"\n",
      "[1] \"----End---\"\n"
     ]
    }
   ],
   "source": [
    "x <- 10\n",
    "y <- runif(1) * 100\n",
    "\n",
    "if(x > y){\n",
    "    print(\"x > runif()\")\n",
    "}else{\n",
    "    print(\"x <= runif()\")\n",
    "}\n",
    "print(\"----End---\")"
   ]
  },
  {
   "cell_type": "code",
   "execution_count": 3,
   "id": "4bbf2865",
   "metadata": {},
   "outputs": [
    {
     "name": "stdout",
     "output_type": "stream",
     "text": [
      "[1] \"x > runif()\"\n"
     ]
    }
   ],
   "source": [
    "x <- 10\n",
    "y <- runif(1) * 100\n",
    "\n",
    "if(x > y){\n",
    "    print(\"x > runif()\")\n",
    "}else if(x > y){\n",
    "    print(\"x <= runif()\")\n",
    "}else{\n",
    "    print(\"x = runif()\")\n",
    "}"
   ]
  },
  {
   "cell_type": "code",
   "execution_count": 4,
   "id": "260c8f02",
   "metadata": {},
   "outputs": [
    {
     "data": {
      "text/html": [
       "0"
      ],
      "text/latex": [
       "0"
      ],
      "text/markdown": [
       "0"
      ],
      "text/plain": [
       "[1] 0"
      ]
     },
     "metadata": {},
     "output_type": "display_data"
    },
    {
     "data": {
      "text/html": [
       "'8는 짝수입니다.'"
      ],
      "text/latex": [
       "'8는 짝수입니다.'"
      ],
      "text/markdown": [
       "'8는 짝수입니다.'"
      ],
      "text/plain": [
       "[1] \"8는 짝수입니다.\""
      ]
     },
     "metadata": {},
     "output_type": "display_data"
    }
   ],
   "source": [
    "# 홀수 짝수 구분\n",
    "\n",
    "a <- 8\n",
    "(a %% 2)\n",
    "if((a %% 2) == 0){\n",
    "    #정수는 i\n",
    "   sprintf(\"%i는 짝수입니다.\",a) \n",
    "}else{\n",
    "    cat(a,\"는 홀수입니다.\")\n",
    "}"
   ]
  },
  {
   "cell_type": "code",
   "execution_count": 5,
   "id": "8cb7bb6d",
   "metadata": {},
   "outputs": [
    {
     "data": {
      "text/html": [
       "<ol class=list-inline>\n",
       "\t<li>0</li>\n",
       "\t<li>1</li>\n",
       "\t<li>0</li>\n",
       "</ol>\n"
      ],
      "text/latex": [
       "\\begin{enumerate*}\n",
       "\\item 0\n",
       "\\item 1\n",
       "\\item 0\n",
       "\\end{enumerate*}\n"
      ],
      "text/markdown": [
       "1. 0\n",
       "2. 1\n",
       "3. 0\n",
       "\n",
       "\n"
      ],
      "text/plain": [
       "[1] 0 1 0"
      ]
     },
     "metadata": {},
     "output_type": "display_data"
    },
    {
     "name": "stderr",
     "output_type": "stream",
     "text": [
      "Warning message in if ((a%%2) == 0) {:\n",
      "“length > 1 이라는 조건이 있고, 첫번째 요소만이 사용될 것입니다”"
     ]
    },
    {
     "data": {
      "text/html": [
       "<ol class=list-inline>\n",
       "\t<li>'8는 짝수입니다.'</li>\n",
       "\t<li>'7는 짝수입니다.'</li>\n",
       "\t<li>'6는 짝수입니다.'</li>\n",
       "</ol>\n"
      ],
      "text/latex": [
       "\\begin{enumerate*}\n",
       "\\item '8는 짝수입니다.'\n",
       "\\item '7는 짝수입니다.'\n",
       "\\item '6는 짝수입니다.'\n",
       "\\end{enumerate*}\n"
      ],
      "text/markdown": [
       "1. '8는 짝수입니다.'\n",
       "2. '7는 짝수입니다.'\n",
       "3. '6는 짝수입니다.'\n",
       "\n",
       "\n"
      ],
      "text/plain": [
       "[1] \"8는 짝수입니다.\" \"7는 짝수입니다.\" \"6는 짝수입니다.\""
      ]
     },
     "metadata": {},
     "output_type": "display_data"
    }
   ],
   "source": [
    "#a는 백터값인데 if문은 백터값을 못씀.\n",
    "a <- c(8,7,6)\n",
    "(a %% 2)\n",
    "if((a %% 2) == 0){\n",
    "    #정수는 i\n",
    "   sprintf(\"%i는 짝수입니다.\",a) \n",
    "}else{\n",
    "    cat(a,\"는 홀수입니다.\")\n",
    "}"
   ]
  },
  {
   "cell_type": "code",
   "execution_count": 6,
   "id": "831cc519",
   "metadata": {},
   "outputs": [
    {
     "data": {
      "text/html": [
       "<ol class=list-inline>\n",
       "\t<li>'짝수'</li>\n",
       "\t<li>'홀수'</li>\n",
       "\t<li>'짝수'</li>\n",
       "</ol>\n"
      ],
      "text/latex": [
       "\\begin{enumerate*}\n",
       "\\item '짝수'\n",
       "\\item '홀수'\n",
       "\\item '짝수'\n",
       "\\end{enumerate*}\n"
      ],
      "text/markdown": [
       "1. '짝수'\n",
       "2. '홀수'\n",
       "3. '짝수'\n",
       "\n",
       "\n"
      ],
      "text/plain": [
       "[1] \"짝수\" \"홀수\" \"짝수\""
      ]
     },
     "metadata": {},
     "output_type": "display_data"
    }
   ],
   "source": [
    "a <- c(8,7,6)\n",
    "#백터처리가 가능한 ifelse\n",
    "ifelse(a %% 2 == 0,\"짝수\",\"홀수\")\n"
   ]
  },
  {
   "cell_type": "code",
   "execution_count": 7,
   "id": "10dce913",
   "metadata": {},
   "outputs": [
    {
     "data": {
      "text/html": [
       "<ol class=list-inline>\n",
       "\t<li>'8 : 짝수'</li>\n",
       "\t<li>'7 : 홀수'</li>\n",
       "\t<li>'6 : 짝수'</li>\n",
       "</ol>\n"
      ],
      "text/latex": [
       "\\begin{enumerate*}\n",
       "\\item '8 : 짝수'\n",
       "\\item '7 : 홀수'\n",
       "\\item '6 : 짝수'\n",
       "\\end{enumerate*}\n"
      ],
      "text/markdown": [
       "1. '8 : 짝수'\n",
       "2. '7 : 홀수'\n",
       "3. '6 : 짝수'\n",
       "\n",
       "\n"
      ],
      "text/plain": [
       "[1] \"8 : 짝수\" \"7 : 홀수\" \"6 : 짝수\""
      ]
     },
     "metadata": {},
     "output_type": "display_data"
    }
   ],
   "source": [
    "#8:짝수 7:홀수 6:짝수 로 나타내기\n",
    "#paste는 백터를 만들어줘\n",
    "ifelse(a %% 2 == 0, paste(a,\": 짝수\"), paste(a,\": 홀수\"))\n",
    "\n"
   ]
  },
  {
   "cell_type": "code",
   "execution_count": 8,
   "id": "92570bf5",
   "metadata": {},
   "outputs": [
    {
     "name": "stdout",
     "output_type": "stream",
     "text": [
      "숫자를 입력하세요 :6\n",
      "[1] 6\n",
      "입력하신 숫자는 6 이고 짝수입니다."
     ]
    }
   ],
   "source": [
    "# 사용자로부터 데이터를 입력받아 입력한 숫자가 홀수인지 짝수인지 판단하여 출력하기\n",
    "# <-- 별표[*] 가 떠있으면 실행중 이게 떠있으면 밑에 cell작동 x\n",
    "num1 <- as.integer(readline(\"숫자를 입력하세요 :\"))\n",
    "print(num1)\n",
    "\n",
    "#입력하신 숫자는 12이고 짝수 입니다.\n",
    "if(num1 %% 2 == 0){\n",
    "    cat(\"입력하신 숫자는\", num1, \"이고 짝수입니다.\")\n",
    "}else{\n",
    "    sprintf(\"입력하신 숫자는 %i이고 홀수 입니다.\",num1)\n",
    "}"
   ]
  },
  {
   "cell_type": "code",
   "execution_count": 9,
   "id": "4be889b3",
   "metadata": {},
   "outputs": [
    {
     "name": "stdout",
     "output_type": "stream",
     "text": [
      "점수를 입력하세요 :6\n",
      "[1] \"F학점 입니다.\"\n"
     ]
    }
   ],
   "source": [
    "#점수를 입력하세요 : 88\n",
    "#\"B학점 입니다.\"\n",
    "grade <- as.integer(readline(\"점수를 입력하세요 :\"))\n",
    "\n",
    "if(grade <= 100 & grade >= 90 ){\n",
    "    print(\"A학점 입니다.\")\n",
    "}else if(grade < 90 & grade >= 80){\n",
    "     cat(\"B학점 입니다.\")  \n",
    "}else if(grade < 80 & grade >= 70){\n",
    "     print(\"C학점 입니다.\") \n",
    "}else if(grade < 70 & grade >= 60){\n",
    "     cat(\"D학점 입니다.\") \n",
    "}else{\n",
    "    print(\"F학점 입니다.\")\n",
    "}\n"
   ]
  },
  {
   "cell_type": "markdown",
   "id": "ebfa9870",
   "metadata": {},
   "source": [
    "### csv file을 불러서 사용하기"
   ]
  },
  {
   "cell_type": "code",
   "execution_count": 10,
   "id": "8534df29",
   "metadata": {},
   "outputs": [
    {
     "data": {
      "text/html": [
       "<table>\n",
       "<thead><tr><th scope=col>q1</th><th scope=col>q2</th><th scope=col>q3</th><th scope=col>q4</th><th scope=col>q5</th></tr></thead>\n",
       "<tbody>\n",
       "\t<tr><td>2</td><td>4</td><td>4</td><td>2</td><td>2</td></tr>\n",
       "\t<tr><td>1</td><td>2</td><td>2</td><td>2</td><td>2</td></tr>\n",
       "\t<tr><td>2</td><td>3</td><td>4</td><td>3</td><td>3</td></tr>\n",
       "\t<tr><td>3</td><td>5</td><td>5</td><td>3</td><td>3</td></tr>\n",
       "\t<tr><td>3</td><td>2</td><td>4</td><td>4</td><td>4</td></tr>\n",
       "\t<tr><td>4</td><td>3</td><td>3</td><td>4</td><td>2</td></tr>\n",
       "</tbody>\n",
       "</table>\n"
      ],
      "text/latex": [
       "\\begin{tabular}{r|lllll}\n",
       " q1 & q2 & q3 & q4 & q5\\\\\n",
       "\\hline\n",
       "\t 2 & 4 & 4 & 2 & 2\\\\\n",
       "\t 1 & 2 & 2 & 2 & 2\\\\\n",
       "\t 2 & 3 & 4 & 3 & 3\\\\\n",
       "\t 3 & 5 & 5 & 3 & 3\\\\\n",
       "\t 3 & 2 & 4 & 4 & 4\\\\\n",
       "\t 4 & 3 & 3 & 4 & 2\\\\\n",
       "\\end{tabular}\n"
      ],
      "text/markdown": [
       "\n",
       "| q1 | q2 | q3 | q4 | q5 |\n",
       "|---|---|---|---|---|\n",
       "| 2 | 4 | 4 | 2 | 2 |\n",
       "| 1 | 2 | 2 | 2 | 2 |\n",
       "| 2 | 3 | 4 | 3 | 3 |\n",
       "| 3 | 5 | 5 | 3 | 3 |\n",
       "| 3 | 2 | 4 | 4 | 4 |\n",
       "| 4 | 3 | 3 | 4 | 2 |\n",
       "\n"
      ],
      "text/plain": [
       "  q1 q2 q3 q4 q5\n",
       "1 2  4  4  2  2 \n",
       "2 1  2  2  2  2 \n",
       "3 2  3  4  3  3 \n",
       "4 3  5  5  3  3 \n",
       "5 3  2  4  4  4 \n",
       "6 4  3  3  4  2 "
      ]
     },
     "metadata": {},
     "output_type": "display_data"
    }
   ],
   "source": [
    "excel <- read.csv(\"Rdata/excel.csv\")\n",
    "head(excel)"
   ]
  },
  {
   "cell_type": "code",
   "execution_count": 11,
   "id": "94e168e9",
   "metadata": {},
   "outputs": [
    {
     "data": {
      "text/html": [
       "<table>\n",
       "<thead><tr><th></th><th scope=col>q1</th><th scope=col>q2</th><th scope=col>q3</th><th scope=col>q4</th><th scope=col>q5</th></tr></thead>\n",
       "<tbody>\n",
       "\t<tr><th scope=row>397</th><td>2</td><td>3</td><td>5</td><td>2</td><td>4</td></tr>\n",
       "\t<tr><th scope=row>398</th><td>4</td><td>3</td><td>3</td><td>2</td><td>4</td></tr>\n",
       "\t<tr><th scope=row>399</th><td>2</td><td>4</td><td>4</td><td>2</td><td>3</td></tr>\n",
       "\t<tr><th scope=row>400</th><td>2</td><td>2</td><td>5</td><td>2</td><td>4</td></tr>\n",
       "\t<tr><th scope=row>401</th><td>2</td><td>3</td><td>4</td><td>2</td><td>4</td></tr>\n",
       "\t<tr><th scope=row>402</th><td>2</td><td>2</td><td>4</td><td>2</td><td>4</td></tr>\n",
       "</tbody>\n",
       "</table>\n"
      ],
      "text/latex": [
       "\\begin{tabular}{r|lllll}\n",
       "  & q1 & q2 & q3 & q4 & q5\\\\\n",
       "\\hline\n",
       "\t397 & 2 & 3 & 5 & 2 & 4\\\\\n",
       "\t398 & 4 & 3 & 3 & 2 & 4\\\\\n",
       "\t399 & 2 & 4 & 4 & 2 & 3\\\\\n",
       "\t400 & 2 & 2 & 5 & 2 & 4\\\\\n",
       "\t401 & 2 & 3 & 4 & 2 & 4\\\\\n",
       "\t402 & 2 & 2 & 4 & 2 & 4\\\\\n",
       "\\end{tabular}\n"
      ],
      "text/markdown": [
       "\n",
       "| <!--/--> | q1 | q2 | q3 | q4 | q5 |\n",
       "|---|---|---|---|---|---|\n",
       "| 397 | 2 | 3 | 5 | 2 | 4 |\n",
       "| 398 | 4 | 3 | 3 | 2 | 4 |\n",
       "| 399 | 2 | 4 | 4 | 2 | 3 |\n",
       "| 400 | 2 | 2 | 5 | 2 | 4 |\n",
       "| 401 | 2 | 3 | 4 | 2 | 4 |\n",
       "| 402 | 2 | 2 | 4 | 2 | 4 |\n",
       "\n"
      ],
      "text/plain": [
       "    q1 q2 q3 q4 q5\n",
       "397 2  3  5  2  4 \n",
       "398 4  3  3  2  4 \n",
       "399 2  4  4  2  3 \n",
       "400 2  2  5  2  4 \n",
       "401 2  3  4  2  4 \n",
       "402 2  2  4  2  4 "
      ]
     },
     "metadata": {},
     "output_type": "display_data"
    }
   ],
   "source": [
    "tail(excel)"
   ]
  },
  {
   "cell_type": "code",
   "execution_count": 12,
   "id": "547bc75e",
   "metadata": {},
   "outputs": [
    {
     "name": "stdout",
     "output_type": "stream",
     "text": [
      "'data.frame':\t402 obs. of  5 variables:\n",
      " $ q1: int  2 1 2 3 3 4 3 4 4 4 ...\n",
      " $ q2: int  4 2 3 5 2 3 4 2 4 2 ...\n",
      " $ q3: int  4 2 4 5 4 3 4 4 5 4 ...\n",
      " $ q4: int  2 2 3 3 4 4 2 4 3 2 ...\n",
      " $ q5: int  2 2 3 3 4 2 2 4 4 3 ...\n"
     ]
    }
   ],
   "source": [
    "str(excel)"
   ]
  },
  {
   "cell_type": "code",
   "execution_count": 21,
   "id": "2cdb8002",
   "metadata": {},
   "outputs": [],
   "source": [
    "# q1컬럼에서 Data가 3보다 크거나 같으면 data의 제곱근을 구하고 아니면 원래 Data를 출력하기\n",
    "\n",
    "q1 <- excel$q1\n",
    "#length(q1)\n",
    "#q1 ** 2\n",
    "#위에거 참고 ifelse(a %% 2 == 0, paste(a,\": 짝수\"), paste(a,\": 홀수\"))\n",
    "#ifelse(q1 >= 3 , q1^2, q1)\n",
    "#print(ifelse(q1>=3,sqrt(q1),q1))\n",
    "#결과값 길어서 주석.\n",
    "#[1] 2.000000 1.000000 2.000000 1.732051 1.732051 2.000000 1.732051 2.000000\n",
    "#  [9] 2.000000 2.000000 2.000000 1.732051 1.732051 1.732051 1.000000 1.732051.......\n"
   ]
  },
  {
   "cell_type": "code",
   "execution_count": 14,
   "id": "a8a84d91",
   "metadata": {},
   "outputs": [
    {
     "data": {
      "text/html": [
       "<table>\n",
       "<thead><tr><th scope=col>q1</th><th scope=col>q2</th><th scope=col>q3</th><th scope=col>q4</th><th scope=col>q5</th><th scope=col>q6</th></tr></thead>\n",
       "<tbody>\n",
       "\t<tr><td>2       </td><td>4       </td><td>4       </td><td>2       </td><td>2       </td><td>2.000000</td></tr>\n",
       "\t<tr><td>1       </td><td>2       </td><td>2       </td><td>2       </td><td>2       </td><td>1.000000</td></tr>\n",
       "\t<tr><td>2       </td><td>3       </td><td>4       </td><td>3       </td><td>3       </td><td>2.000000</td></tr>\n",
       "\t<tr><td>3       </td><td>5       </td><td>5       </td><td>3       </td><td>3       </td><td>1.732051</td></tr>\n",
       "\t<tr><td>3       </td><td>2       </td><td>4       </td><td>4       </td><td>4       </td><td>1.732051</td></tr>\n",
       "\t<tr><td>4       </td><td>3       </td><td>3       </td><td>4       </td><td>2       </td><td>2.000000</td></tr>\n",
       "</tbody>\n",
       "</table>\n"
      ],
      "text/latex": [
       "\\begin{tabular}{r|llllll}\n",
       " q1 & q2 & q3 & q4 & q5 & q6\\\\\n",
       "\\hline\n",
       "\t 2        & 4        & 4        & 2        & 2        & 2.000000\\\\\n",
       "\t 1        & 2        & 2        & 2        & 2        & 1.000000\\\\\n",
       "\t 2        & 3        & 4        & 3        & 3        & 2.000000\\\\\n",
       "\t 3        & 5        & 5        & 3        & 3        & 1.732051\\\\\n",
       "\t 3        & 2        & 4        & 4        & 4        & 1.732051\\\\\n",
       "\t 4        & 3        & 3        & 4        & 2        & 2.000000\\\\\n",
       "\\end{tabular}\n"
      ],
      "text/markdown": [
       "\n",
       "| q1 | q2 | q3 | q4 | q5 | q6 |\n",
       "|---|---|---|---|---|---|\n",
       "| 2        | 4        | 4        | 2        | 2        | 2.000000 |\n",
       "| 1        | 2        | 2        | 2        | 2        | 1.000000 |\n",
       "| 2        | 3        | 4        | 3        | 3        | 2.000000 |\n",
       "| 3        | 5        | 5        | 3        | 3        | 1.732051 |\n",
       "| 3        | 2        | 4        | 4        | 4        | 1.732051 |\n",
       "| 4        | 3        | 3        | 4        | 2        | 2.000000 |\n",
       "\n"
      ],
      "text/plain": [
       "  q1 q2 q3 q4 q5 q6      \n",
       "1 2  4  4  2  2  2.000000\n",
       "2 1  2  2  2  2  1.000000\n",
       "3 2  3  4  3  3  2.000000\n",
       "4 3  5  5  3  3  1.732051\n",
       "5 3  2  4  4  4  1.732051\n",
       "6 4  3  3  4  2  2.000000"
      ]
     },
     "metadata": {},
     "output_type": "display_data"
    }
   ],
   "source": [
    "# q1컬럼에서 Data가 3보다 크거나 같으면 data의 제곱근을 구하고 아니면 원래 Data를 q6라는 컬럼을 만들어 추가하기\n",
    "excel$q6 <- ifelse(q1>=3,sqrt(q1),q1)\n",
    "head(excel)"
   ]
  },
  {
   "cell_type": "code",
   "execution_count": null,
   "id": "d6d16fb5",
   "metadata": {},
   "outputs": [],
   "source": [
    "\n",
    "\n"
   ]
  },
  {
   "cell_type": "code",
   "execution_count": null,
   "id": "7cbc2cf1",
   "metadata": {},
   "outputs": [],
   "source": []
  },
  {
   "cell_type": "code",
   "execution_count": null,
   "id": "cbb83e13",
   "metadata": {},
   "outputs": [],
   "source": []
  },
  {
   "cell_type": "code",
   "execution_count": null,
   "id": "f6f9732c",
   "metadata": {},
   "outputs": [],
   "source": []
  },
  {
   "cell_type": "code",
   "execution_count": null,
   "id": "a94cbad2",
   "metadata": {},
   "outputs": [],
   "source": []
  },
  {
   "cell_type": "code",
   "execution_count": null,
   "id": "fe851282",
   "metadata": {},
   "outputs": [],
   "source": []
  }
 ],
 "metadata": {
  "kernelspec": {
   "display_name": "R",
   "language": "R",
   "name": "ir"
  },
  "language_info": {
   "codemirror_mode": "r",
   "file_extension": ".r",
   "mimetype": "text/x-r-source",
   "name": "R",
   "pygments_lexer": "r",
   "version": "3.6.1"
  }
 },
 "nbformat": 4,
 "nbformat_minor": 5
}
