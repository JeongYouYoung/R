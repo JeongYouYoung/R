{
 "cells": [
  {
   "cell_type": "markdown",
   "id": "bc93dcf2",
   "metadata": {},
   "source": [
    "### Mushroom\n",
    "### http://archive.ics.uci.edu/ml/datasets/Mushroom\n",
    "- 8124종류의 버섯의 특징과 독의 유무를 정리해논 데이터셋\n",
    "- 버섯 모양의 특징을 기반으로 독의 유무를 판단\n",
    "\n",
    "한 줄(row)이 버섯 한 종류  \n",
    "1번째 컬럼은 독의 유무 : 독(p) ,식용 (e)  \n",
    "2번째 컬럼은 버섯의 머리모양 : b(벨형태), c(원뿔), x(볼록), f(평평), k(혹), s(오목)  \n",
    "4번째 컬럼 버섯의 머리 색 : n(갈색), b(황갈색), c(연한갈색), g(회색)  \n",
    "\n",
    "- 자세한 내용은 위의 사이트에서 확인"
   ]
  },
  {
   "cell_type": "markdown",
   "id": "7d83b47c",
   "metadata": {},
   "source": [
    "타겟 정렬이 안돼있음.   \n",
    "정렬먼저 하기.library(dplyr)    \n",
    "로우네임 정렬      \n",
    "str로는 factor 변수 ->숫자로 바꿀수 있으나 숫자의 크기는 아무 의미 없다.   \n",
    "의미 없는 숫자이니까 (검정숫자 ?) 행렬값(데이터)로 변경.?\n",
    "행렬형식(0,1 true,false)  \n",
    "summary(mush) 하니까 타겟의 갯수가 다름(p,e) > 샘플링 (샘플링때문에 정렬을 한거)   \n",
    "- 데이터가 많을때 비율이 6:4까지는 그냥 사용가능. \n",
    "\n",
    " \n",
    ">정렬이 되어있야 한다.    \n",
    ">타겟이 1:1 이여야 한다.      \n",
    ">나머지 피쳐들이 '의미가 있는 숫자(0,1)'로 되어있다    \n"
   ]
  },
  {
   "cell_type": "markdown",
   "id": "0eae1911",
   "metadata": {},
   "source": [
    "인공신경망, 의사결정나무, RandomForest, SVM, 로지스틱 회귀분석"
   ]
  },
  {
   "cell_type": "code",
   "execution_count": 32,
   "id": "d2fa2d1e",
   "metadata": {},
   "outputs": [],
   "source": [
    "library(dplyr)"
   ]
  },
  {
   "cell_type": "code",
   "execution_count": 33,
   "id": "d8f58a9e",
   "metadata": {
    "scrolled": true
   },
   "outputs": [
    {
     "data": {
      "text/html": [
       "<table>\n",
       "<thead><tr><th scope=col>V1</th><th scope=col>V2</th><th scope=col>V3</th><th scope=col>V4</th><th scope=col>V5</th><th scope=col>V6</th><th scope=col>V7</th><th scope=col>V8</th><th scope=col>V9</th><th scope=col>V10</th><th scope=col>...</th><th scope=col>V14</th><th scope=col>V15</th><th scope=col>V16</th><th scope=col>V17</th><th scope=col>V18</th><th scope=col>V19</th><th scope=col>V20</th><th scope=col>V21</th><th scope=col>V22</th><th scope=col>V23</th></tr></thead>\n",
       "<tbody>\n",
       "\t<tr><td>p  </td><td>x  </td><td>s  </td><td>n  </td><td>t  </td><td>p  </td><td>f  </td><td>c  </td><td>n  </td><td>k  </td><td>...</td><td>s  </td><td>w  </td><td>w  </td><td>p  </td><td>w  </td><td>o  </td><td>p  </td><td>k  </td><td>s  </td><td>u  </td></tr>\n",
       "\t<tr><td>e  </td><td>x  </td><td>s  </td><td>y  </td><td>t  </td><td>a  </td><td>f  </td><td>c  </td><td>b  </td><td>k  </td><td>...</td><td>s  </td><td>w  </td><td>w  </td><td>p  </td><td>w  </td><td>o  </td><td>p  </td><td>n  </td><td>n  </td><td>g  </td></tr>\n",
       "\t<tr><td>e  </td><td>b  </td><td>s  </td><td>w  </td><td>t  </td><td>l  </td><td>f  </td><td>c  </td><td>b  </td><td>n  </td><td>...</td><td>s  </td><td>w  </td><td>w  </td><td>p  </td><td>w  </td><td>o  </td><td>p  </td><td>n  </td><td>n  </td><td>m  </td></tr>\n",
       "\t<tr><td>p  </td><td>x  </td><td>y  </td><td>w  </td><td>t  </td><td>p  </td><td>f  </td><td>c  </td><td>n  </td><td>n  </td><td>...</td><td>s  </td><td>w  </td><td>w  </td><td>p  </td><td>w  </td><td>o  </td><td>p  </td><td>k  </td><td>s  </td><td>u  </td></tr>\n",
       "\t<tr><td>e  </td><td>x  </td><td>s  </td><td>g  </td><td>f  </td><td>n  </td><td>f  </td><td>w  </td><td>b  </td><td>k  </td><td>...</td><td>s  </td><td>w  </td><td>w  </td><td>p  </td><td>w  </td><td>o  </td><td>e  </td><td>n  </td><td>a  </td><td>g  </td></tr>\n",
       "\t<tr><td>e  </td><td>x  </td><td>y  </td><td>y  </td><td>t  </td><td>a  </td><td>f  </td><td>c  </td><td>b  </td><td>n  </td><td>...</td><td>s  </td><td>w  </td><td>w  </td><td>p  </td><td>w  </td><td>o  </td><td>p  </td><td>k  </td><td>n  </td><td>g  </td></tr>\n",
       "</tbody>\n",
       "</table>\n"
      ],
      "text/latex": [
       "\\begin{tabular}{r|lllllllllllllllllllllll}\n",
       " V1 & V2 & V3 & V4 & V5 & V6 & V7 & V8 & V9 & V10 & ... & V14 & V15 & V16 & V17 & V18 & V19 & V20 & V21 & V22 & V23\\\\\n",
       "\\hline\n",
       "\t p   & x   & s   & n   & t   & p   & f   & c   & n   & k   & ... & s   & w   & w   & p   & w   & o   & p   & k   & s   & u  \\\\\n",
       "\t e   & x   & s   & y   & t   & a   & f   & c   & b   & k   & ... & s   & w   & w   & p   & w   & o   & p   & n   & n   & g  \\\\\n",
       "\t e   & b   & s   & w   & t   & l   & f   & c   & b   & n   & ... & s   & w   & w   & p   & w   & o   & p   & n   & n   & m  \\\\\n",
       "\t p   & x   & y   & w   & t   & p   & f   & c   & n   & n   & ... & s   & w   & w   & p   & w   & o   & p   & k   & s   & u  \\\\\n",
       "\t e   & x   & s   & g   & f   & n   & f   & w   & b   & k   & ... & s   & w   & w   & p   & w   & o   & e   & n   & a   & g  \\\\\n",
       "\t e   & x   & y   & y   & t   & a   & f   & c   & b   & n   & ... & s   & w   & w   & p   & w   & o   & p   & k   & n   & g  \\\\\n",
       "\\end{tabular}\n"
      ],
      "text/markdown": [
       "\n",
       "| V1 | V2 | V3 | V4 | V5 | V6 | V7 | V8 | V9 | V10 | ... | V14 | V15 | V16 | V17 | V18 | V19 | V20 | V21 | V22 | V23 |\n",
       "|---|---|---|---|---|---|---|---|---|---|---|---|---|---|---|---|---|---|---|---|---|\n",
       "| p   | x   | s   | n   | t   | p   | f   | c   | n   | k   | ... | s   | w   | w   | p   | w   | o   | p   | k   | s   | u   |\n",
       "| e   | x   | s   | y   | t   | a   | f   | c   | b   | k   | ... | s   | w   | w   | p   | w   | o   | p   | n   | n   | g   |\n",
       "| e   | b   | s   | w   | t   | l   | f   | c   | b   | n   | ... | s   | w   | w   | p   | w   | o   | p   | n   | n   | m   |\n",
       "| p   | x   | y   | w   | t   | p   | f   | c   | n   | n   | ... | s   | w   | w   | p   | w   | o   | p   | k   | s   | u   |\n",
       "| e   | x   | s   | g   | f   | n   | f   | w   | b   | k   | ... | s   | w   | w   | p   | w   | o   | e   | n   | a   | g   |\n",
       "| e   | x   | y   | y   | t   | a   | f   | c   | b   | n   | ... | s   | w   | w   | p   | w   | o   | p   | k   | n   | g   |\n",
       "\n"
      ],
      "text/plain": [
       "  V1 V2 V3 V4 V5 V6 V7 V8 V9 V10 ... V14 V15 V16 V17 V18 V19 V20 V21 V22 V23\n",
       "1 p  x  s  n  t  p  f  c  n  k   ... s   w   w   p   w   o   p   k   s   u  \n",
       "2 e  x  s  y  t  a  f  c  b  k   ... s   w   w   p   w   o   p   n   n   g  \n",
       "3 e  b  s  w  t  l  f  c  b  n   ... s   w   w   p   w   o   p   n   n   m  \n",
       "4 p  x  y  w  t  p  f  c  n  n   ... s   w   w   p   w   o   p   k   s   u  \n",
       "5 e  x  s  g  f  n  f  w  b  k   ... s   w   w   p   w   o   e   n   a   g  \n",
       "6 e  x  y  y  t  a  f  c  b  n   ... s   w   w   p   w   o   p   k   n   g  "
      ]
     },
     "metadata": {},
     "output_type": "display_data"
    },
    {
     "data": {
      "text/html": [
       "23"
      ],
      "text/latex": [
       "23"
      ],
      "text/markdown": [
       "23"
      ],
      "text/plain": [
       "[1] 23"
      ]
     },
     "metadata": {},
     "output_type": "display_data"
    }
   ],
   "source": [
    "mush <- read.csv(\"Rdata/mushroom.csv\", header = F)\n",
    "head(mush)\n",
    "ncol(mush)"
   ]
  },
  {
   "cell_type": "code",
   "execution_count": 34,
   "id": "491336c6",
   "metadata": {},
   "outputs": [
    {
     "data": {
      "text/html": [
       "<table>\n",
       "<thead><tr><th></th><th scope=col>V1</th><th scope=col>V2</th><th scope=col>V3</th><th scope=col>V4</th><th scope=col>V5</th><th scope=col>V6</th><th scope=col>V7</th><th scope=col>V8</th><th scope=col>V9</th><th scope=col>V10</th><th scope=col>...</th><th scope=col>V14</th><th scope=col>V15</th><th scope=col>V16</th><th scope=col>V17</th><th scope=col>V18</th><th scope=col>V19</th><th scope=col>V20</th><th scope=col>V21</th><th scope=col>V22</th><th scope=col>V23</th></tr></thead>\n",
       "<tbody>\n",
       "\t<tr><th scope=row>8119</th><td>p  </td><td>k  </td><td>y  </td><td>n  </td><td>f  </td><td>f  </td><td>f  </td><td>c  </td><td>n  </td><td>b  </td><td>...</td><td>s  </td><td>p  </td><td>w  </td><td>p  </td><td>w  </td><td>o  </td><td>e  </td><td>w  </td><td>v  </td><td>d  </td></tr>\n",
       "\t<tr><th scope=row>8120</th><td>e  </td><td>k  </td><td>s  </td><td>n  </td><td>f  </td><td>n  </td><td>a  </td><td>c  </td><td>b  </td><td>y  </td><td>...</td><td>s  </td><td>o  </td><td>o  </td><td>p  </td><td>o  </td><td>o  </td><td>p  </td><td>b  </td><td>c  </td><td>l  </td></tr>\n",
       "\t<tr><th scope=row>8121</th><td>e  </td><td>x  </td><td>s  </td><td>n  </td><td>f  </td><td>n  </td><td>a  </td><td>c  </td><td>b  </td><td>y  </td><td>...</td><td>s  </td><td>o  </td><td>o  </td><td>p  </td><td>n  </td><td>o  </td><td>p  </td><td>b  </td><td>v  </td><td>l  </td></tr>\n",
       "\t<tr><th scope=row>8122</th><td>e  </td><td>f  </td><td>s  </td><td>n  </td><td>f  </td><td>n  </td><td>a  </td><td>c  </td><td>b  </td><td>n  </td><td>...</td><td>s  </td><td>o  </td><td>o  </td><td>p  </td><td>o  </td><td>o  </td><td>p  </td><td>b  </td><td>c  </td><td>l  </td></tr>\n",
       "\t<tr><th scope=row>8123</th><td>p  </td><td>k  </td><td>y  </td><td>n  </td><td>f  </td><td>y  </td><td>f  </td><td>c  </td><td>n  </td><td>b  </td><td>...</td><td>k  </td><td>w  </td><td>w  </td><td>p  </td><td>w  </td><td>o  </td><td>e  </td><td>w  </td><td>v  </td><td>l  </td></tr>\n",
       "\t<tr><th scope=row>8124</th><td>e  </td><td>x  </td><td>s  </td><td>n  </td><td>f  </td><td>n  </td><td>a  </td><td>c  </td><td>b  </td><td>y  </td><td>...</td><td>s  </td><td>o  </td><td>o  </td><td>p  </td><td>o  </td><td>o  </td><td>p  </td><td>o  </td><td>c  </td><td>l  </td></tr>\n",
       "</tbody>\n",
       "</table>\n"
      ],
      "text/latex": [
       "\\begin{tabular}{r|lllllllllllllllllllllll}\n",
       "  & V1 & V2 & V3 & V4 & V5 & V6 & V7 & V8 & V9 & V10 & ... & V14 & V15 & V16 & V17 & V18 & V19 & V20 & V21 & V22 & V23\\\\\n",
       "\\hline\n",
       "\t8119 & p   & k   & y   & n   & f   & f   & f   & c   & n   & b   & ... & s   & p   & w   & p   & w   & o   & e   & w   & v   & d  \\\\\n",
       "\t8120 & e   & k   & s   & n   & f   & n   & a   & c   & b   & y   & ... & s   & o   & o   & p   & o   & o   & p   & b   & c   & l  \\\\\n",
       "\t8121 & e   & x   & s   & n   & f   & n   & a   & c   & b   & y   & ... & s   & o   & o   & p   & n   & o   & p   & b   & v   & l  \\\\\n",
       "\t8122 & e   & f   & s   & n   & f   & n   & a   & c   & b   & n   & ... & s   & o   & o   & p   & o   & o   & p   & b   & c   & l  \\\\\n",
       "\t8123 & p   & k   & y   & n   & f   & y   & f   & c   & n   & b   & ... & k   & w   & w   & p   & w   & o   & e   & w   & v   & l  \\\\\n",
       "\t8124 & e   & x   & s   & n   & f   & n   & a   & c   & b   & y   & ... & s   & o   & o   & p   & o   & o   & p   & o   & c   & l  \\\\\n",
       "\\end{tabular}\n"
      ],
      "text/markdown": [
       "\n",
       "| <!--/--> | V1 | V2 | V3 | V4 | V5 | V6 | V7 | V8 | V9 | V10 | ... | V14 | V15 | V16 | V17 | V18 | V19 | V20 | V21 | V22 | V23 |\n",
       "|---|---|---|---|---|---|---|---|---|---|---|---|---|---|---|---|---|---|---|---|---|---|\n",
       "| 8119 | p   | k   | y   | n   | f   | f   | f   | c   | n   | b   | ... | s   | p   | w   | p   | w   | o   | e   | w   | v   | d   |\n",
       "| 8120 | e   | k   | s   | n   | f   | n   | a   | c   | b   | y   | ... | s   | o   | o   | p   | o   | o   | p   | b   | c   | l   |\n",
       "| 8121 | e   | x   | s   | n   | f   | n   | a   | c   | b   | y   | ... | s   | o   | o   | p   | n   | o   | p   | b   | v   | l   |\n",
       "| 8122 | e   | f   | s   | n   | f   | n   | a   | c   | b   | n   | ... | s   | o   | o   | p   | o   | o   | p   | b   | c   | l   |\n",
       "| 8123 | p   | k   | y   | n   | f   | y   | f   | c   | n   | b   | ... | k   | w   | w   | p   | w   | o   | e   | w   | v   | l   |\n",
       "| 8124 | e   | x   | s   | n   | f   | n   | a   | c   | b   | y   | ... | s   | o   | o   | p   | o   | o   | p   | o   | c   | l   |\n",
       "\n"
      ],
      "text/plain": [
       "     V1 V2 V3 V4 V5 V6 V7 V8 V9 V10 ... V14 V15 V16 V17 V18 V19 V20 V21 V22 V23\n",
       "8119 p  k  y  n  f  f  f  c  n  b   ... s   p   w   p   w   o   e   w   v   d  \n",
       "8120 e  k  s  n  f  n  a  c  b  y   ... s   o   o   p   o   o   p   b   c   l  \n",
       "8121 e  x  s  n  f  n  a  c  b  y   ... s   o   o   p   n   o   p   b   v   l  \n",
       "8122 e  f  s  n  f  n  a  c  b  n   ... s   o   o   p   o   o   p   b   c   l  \n",
       "8123 p  k  y  n  f  y  f  c  n  b   ... k   w   w   p   w   o   e   w   v   l  \n",
       "8124 e  x  s  n  f  n  a  c  b  y   ... s   o   o   p   o   o   p   o   c   l  "
      ]
     },
     "metadata": {},
     "output_type": "display_data"
    }
   ],
   "source": [
    "tail(mush)"
   ]
  },
  {
   "cell_type": "code",
   "execution_count": 35,
   "id": "4bbd6eb9",
   "metadata": {},
   "outputs": [
    {
     "name": "stdout",
     "output_type": "stream",
     "text": [
      "  V1 V2 V3 V4 V5 V6 V7 V8 V9 V10 V11 V12 V13 V14 V15 V16 V17 V18 V19 V20 V21\n",
      "1  e  x  s  y  t  a  f  c  b   k   e   c   s   s   w   w   p   w   o   p   n\n",
      "2  e  b  s  w  t  l  f  c  b   n   e   c   s   s   w   w   p   w   o   p   n\n",
      "3  e  x  s  g  f  n  f  w  b   k   t   e   s   s   w   w   p   w   o   e   n\n",
      "4  e  x  y  y  t  a  f  c  b   n   e   c   s   s   w   w   p   w   o   p   k\n",
      "5  e  b  s  w  t  a  f  c  b   g   e   c   s   s   w   w   p   w   o   p   k\n",
      "6  e  b  y  w  t  l  f  c  b   n   e   c   s   s   w   w   p   w   o   p   n\n",
      "  V22 V23\n",
      "1   n   g\n",
      "2   n   m\n",
      "3   a   g\n",
      "4   n   g\n",
      "5   n   m\n",
      "6   s   m\n"
     ]
    }
   ],
   "source": [
    "mush <- arrange(mush,V1)\n",
    "print(head(mush))"
   ]
  },
  {
   "cell_type": "code",
   "execution_count": 41,
   "id": "ba86e3c5",
   "metadata": {},
   "outputs": [
    {
     "name": "stdout",
     "output_type": "stream",
     "text": [
      "  V1 V2 V3 V4 V5 V6 V7 V8 V9 V10 V11 V12 V13 V14 V15 V16 V17 V18 V19 V20 V21\n",
      "1  e  x  s  y  t  a  f  c  b   k   e   c   s   s   w   w   p   w   o   p   n\n",
      "2  e  b  s  w  t  l  f  c  b   n   e   c   s   s   w   w   p   w   o   p   n\n",
      "3  e  x  s  g  f  n  f  w  b   k   t   e   s   s   w   w   p   w   o   e   n\n",
      "4  e  x  y  y  t  a  f  c  b   n   e   c   s   s   w   w   p   w   o   p   k\n",
      "5  e  b  s  w  t  a  f  c  b   g   e   c   s   s   w   w   p   w   o   p   k\n",
      "6  e  b  y  w  t  l  f  c  b   n   e   c   s   s   w   w   p   w   o   p   n\n",
      "  V22 V23\n",
      "1   n   g\n",
      "2   n   m\n",
      "3   a   g\n",
      "4   n   g\n",
      "5   n   m\n",
      "6   s   m\n"
     ]
    }
   ],
   "source": [
    "row.names(mush) <- c()\n",
    "print(head(mush))"
   ]
  },
  {
   "cell_type": "code",
   "execution_count": 3,
   "id": "57b661df",
   "metadata": {},
   "outputs": [
    {
     "name": "stdout",
     "output_type": "stream",
     "text": [
      "'data.frame':\t8124 obs. of  23 variables:\n",
      " $ V1 : Factor w/ 2 levels \"e\",\"p\": 2 1 1 2 1 1 1 1 2 1 ...\n",
      " $ V2 : Factor w/ 6 levels \"b\",\"c\",\"f\",\"k\",..: 6 6 1 6 6 6 1 1 6 1 ...\n",
      " $ V3 : Factor w/ 4 levels \"f\",\"g\",\"s\",\"y\": 3 3 3 4 3 4 3 4 4 3 ...\n",
      " $ V4 : Factor w/ 10 levels \"b\",\"c\",\"e\",\"g\",..: 5 10 9 9 4 10 9 9 9 10 ...\n",
      " $ V5 : Factor w/ 2 levels \"f\",\"t\": 2 2 2 2 1 2 2 2 2 2 ...\n",
      " $ V6 : Factor w/ 9 levels \"a\",\"c\",\"f\",\"l\",..: 7 1 4 7 6 1 1 4 7 1 ...\n",
      " $ V7 : Factor w/ 2 levels \"a\",\"f\": 2 2 2 2 2 2 2 2 2 2 ...\n",
      " $ V8 : Factor w/ 2 levels \"c\",\"w\": 1 1 1 1 2 1 1 1 1 1 ...\n",
      " $ V9 : Factor w/ 2 levels \"b\",\"n\": 2 1 1 2 1 1 1 1 2 1 ...\n",
      " $ V10: Factor w/ 12 levels \"b\",\"e\",\"g\",\"h\",..: 5 5 6 6 5 6 3 6 8 3 ...\n",
      " $ V11: Factor w/ 2 levels \"e\",\"t\": 1 1 1 1 2 1 1 1 1 1 ...\n",
      " $ V12: Factor w/ 5 levels \"?\",\"b\",\"c\",\"e\",..: 4 3 3 4 4 3 3 3 4 3 ...\n",
      " $ V13: Factor w/ 4 levels \"f\",\"k\",\"s\",\"y\": 3 3 3 3 3 3 3 3 3 3 ...\n",
      " $ V14: Factor w/ 4 levels \"f\",\"k\",\"s\",\"y\": 3 3 3 3 3 3 3 3 3 3 ...\n",
      " $ V15: Factor w/ 9 levels \"b\",\"c\",\"e\",\"g\",..: 8 8 8 8 8 8 8 8 8 8 ...\n",
      " $ V16: Factor w/ 9 levels \"b\",\"c\",\"e\",\"g\",..: 8 8 8 8 8 8 8 8 8 8 ...\n",
      " $ V17: Factor w/ 1 level \"p\": 1 1 1 1 1 1 1 1 1 1 ...\n",
      " $ V18: Factor w/ 4 levels \"n\",\"o\",\"w\",\"y\": 3 3 3 3 3 3 3 3 3 3 ...\n",
      " $ V19: Factor w/ 3 levels \"n\",\"o\",\"t\": 2 2 2 2 2 2 2 2 2 2 ...\n",
      " $ V20: Factor w/ 5 levels \"e\",\"f\",\"l\",\"n\",..: 5 5 5 5 1 5 5 5 5 5 ...\n",
      " $ V21: Factor w/ 9 levels \"b\",\"h\",\"k\",\"n\",..: 3 4 4 3 4 3 3 4 3 3 ...\n",
      " $ V22: Factor w/ 6 levels \"a\",\"c\",\"n\",\"s\",..: 4 3 3 4 1 3 3 4 5 4 ...\n",
      " $ V23: Factor w/ 7 levels \"d\",\"g\",\"l\",\"m\",..: 6 2 4 6 2 2 4 4 2 4 ...\n"
     ]
    }
   ],
   "source": [
    "str(mush)"
   ]
  },
  {
   "cell_type": "code",
   "execution_count": 37,
   "id": "d635ad85",
   "metadata": {},
   "outputs": [
    {
     "data": {
      "text/plain": [
       " V1       V2       V3             V4       V5             V6       V7      \n",
       " e:4208   b: 452   f:2320   n      :2284   f:4748   n      :3528   a: 210  \n",
       " p:3916   c:   4   g:   4   g      :1840   t:3376   f      :2160   f:7914  \n",
       "          f:3152   s:2556   e      :1500            s      : 576           \n",
       "          k: 828   y:3244   y      :1072            y      : 576           \n",
       "          s:  32            w      :1040            a      : 400           \n",
       "          x:3656            b      : 168            l      : 400           \n",
       "                            (Other): 220            (Other): 484           \n",
       " V8       V9            V10       V11      V12      V13      V14     \n",
       " c:6812   b:5612   b      :1728   e:3516   ?:2480   f: 552   f: 600  \n",
       " w:1312   n:2512   p      :1492   t:4608   b:3776   k:2372   k:2304  \n",
       "                   w      :1202            c: 556   s:5176   s:4936  \n",
       "                   n      :1048            e:1120   y:  24   y: 284  \n",
       "                   g      : 752            r: 192                    \n",
       "                   h      : 732                                      \n",
       "                   (Other):1170                                      \n",
       "      V15            V16       V17      V18      V19      V20     \n",
       " w      :4464   w      :4384   p:8124   n:  96   n:  36   e:2776  \n",
       " p      :1872   p      :1872            o:  96   o:7488   f:  48  \n",
       " g      : 576   g      : 576            w:7924   t: 600   l:1296  \n",
       " n      : 448   n      : 512            y:   8            n:  36  \n",
       " b      : 432   b      : 432                              p:3968  \n",
       " o      : 192   o      : 192                                      \n",
       " (Other): 140   (Other): 156                                      \n",
       "      V21       V22      V23     \n",
       " w      :2388   a: 384   d:3148  \n",
       " n      :1968   c: 340   g:2148  \n",
       " k      :1872   n: 400   l: 832  \n",
       " h      :1632   s:1248   m: 292  \n",
       " r      :  72   v:4040   p:1144  \n",
       " b      :  48   y:1712   u: 368  \n",
       " (Other): 144            w: 192  "
      ]
     },
     "metadata": {},
     "output_type": "display_data"
    }
   ],
   "source": [
    "summary(mush)"
   ]
  },
  {
   "cell_type": "code",
   "execution_count": 5,
   "id": "cfc598ed",
   "metadata": {},
   "outputs": [],
   "source": [
    "#colnames(mush) <- c('poison','cap-shape', 'cap-surface', 'cap-color', 'bruises', 'odor',\n",
    "#    'gill-attachment', 'gill-spacing', 'gill-size','gill-color', 'stalk-shape','stalk-root',\n",
    "#    'stalk-surface-above-ring','stalk-surface-below-ring', 'stalk-color-above-ring',\n",
    "#   'stalk-color-below-ring','veil-type', 'veil-color', \n",
    "#    'ring-number','ring-type','spore-print-color', 'population','habitat')\n",
    "#head(mush)"
   ]
  },
  {
   "cell_type": "code",
   "execution_count": 38,
   "id": "20ee1172",
   "metadata": {},
   "outputs": [
    {
     "name": "stdout",
     "output_type": "stream",
     "text": [
      "'data.frame':\t8124 obs. of  23 variables:\n",
      " $ V1 : Factor w/ 2 levels \"e\",\"p\": 1 1 1 1 1 1 1 1 1 1 ...\n",
      " $ V2 : Factor w/ 6 levels \"b\",\"c\",\"f\",\"k\",..: 6 1 6 6 1 1 1 6 6 1 ...\n",
      " $ V3 : Factor w/ 4 levels \"f\",\"g\",\"s\",\"y\": 3 3 3 4 3 4 3 4 4 3 ...\n",
      " $ V4 : Factor w/ 10 levels \"b\",\"c\",\"e\",\"g\",..: 10 9 4 10 9 9 10 10 10 10 ...\n",
      " $ V5 : Factor w/ 2 levels \"f\",\"t\": 2 2 1 2 2 2 2 2 2 2 ...\n",
      " $ V6 : Factor w/ 9 levels \"a\",\"c\",\"f\",\"l\",..: 1 4 6 1 1 4 1 4 1 1 ...\n",
      " $ V7 : Factor w/ 2 levels \"a\",\"f\": 2 2 2 2 2 2 2 2 2 2 ...\n",
      " $ V8 : Factor w/ 2 levels \"c\",\"w\": 1 1 2 1 1 1 1 1 1 1 ...\n",
      " $ V9 : Factor w/ 2 levels \"b\",\"n\": 1 1 1 1 1 1 1 1 1 1 ...\n",
      " $ V10: Factor w/ 12 levels \"b\",\"e\",\"g\",\"h\",..: 5 6 5 6 3 6 3 3 6 11 ...\n",
      " $ V11: Factor w/ 2 levels \"e\",\"t\": 1 1 2 1 1 1 1 1 1 1 ...\n",
      " $ V12: Factor w/ 5 levels \"?\",\"b\",\"c\",\"e\",..: 3 3 4 3 3 3 3 3 3 3 ...\n",
      " $ V13: Factor w/ 4 levels \"f\",\"k\",\"s\",\"y\": 3 3 3 3 3 3 3 3 3 3 ...\n",
      " $ V14: Factor w/ 4 levels \"f\",\"k\",\"s\",\"y\": 3 3 3 3 3 3 3 3 3 3 ...\n",
      " $ V15: Factor w/ 9 levels \"b\",\"c\",\"e\",\"g\",..: 8 8 8 8 8 8 8 8 8 8 ...\n",
      " $ V16: Factor w/ 9 levels \"b\",\"c\",\"e\",\"g\",..: 8 8 8 8 8 8 8 8 8 8 ...\n",
      " $ V17: Factor w/ 1 level \"p\": 1 1 1 1 1 1 1 1 1 1 ...\n",
      " $ V18: Factor w/ 4 levels \"n\",\"o\",\"w\",\"y\": 3 3 3 3 3 3 3 3 3 3 ...\n",
      " $ V19: Factor w/ 3 levels \"n\",\"o\",\"t\": 2 2 2 2 2 2 2 2 2 2 ...\n",
      " $ V20: Factor w/ 5 levels \"e\",\"f\",\"l\",\"n\",..: 5 5 1 5 5 5 5 5 5 5 ...\n",
      " $ V21: Factor w/ 9 levels \"b\",\"h\",\"k\",\"n\",..: 4 4 4 3 3 4 3 4 3 4 ...\n",
      " $ V22: Factor w/ 6 levels \"a\",\"c\",\"n\",\"s\",..: 3 3 1 3 3 4 4 3 4 4 ...\n",
      " $ V23: Factor w/ 7 levels \"d\",\"g\",\"l\",\"m\",..: 2 4 2 2 4 4 4 2 4 2 ...\n"
     ]
    }
   ],
   "source": [
    "str(mush)"
   ]
  },
  {
   "cell_type": "code",
   "execution_count": 7,
   "id": "0ac1aeeb",
   "metadata": {},
   "outputs": [],
   "source": [
    "#for(i in 1:length(mush)){\n",
    "#    print(table(mush[,i]))\n",
    "#}"
   ]
  },
  {
   "cell_type": "code",
   "execution_count": 8,
   "id": "71bebfdd",
   "metadata": {},
   "outputs": [
    {
     "name": "stderr",
     "output_type": "stream",
     "text": [
      "Loading required package: lattice\n",
      "Loading required package: ggplot2\n",
      "Registered S3 methods overwritten by 'ggplot2':\n",
      "  method         from \n",
      "  [.quosures     rlang\n",
      "  c.quosures     rlang\n",
      "  print.quosures rlang\n",
      "Loading required package: grid\n",
      "Loading required package: mvtnorm\n",
      "Loading required package: modeltools\n",
      "Loading required package: stats4\n",
      "Loading required package: strucchange\n",
      "Loading required package: zoo\n",
      "\n",
      "Attaching package: ‘zoo’\n",
      "\n",
      "The following objects are masked from ‘package:base’:\n",
      "\n",
      "    as.Date, as.Date.numeric\n",
      "\n",
      "Loading required package: sandwich\n",
      "randomForest 4.6-14\n",
      "Type rfNews() to see new features/changes/bug fixes.\n",
      "\n",
      "Attaching package: ‘randomForest’\n",
      "\n",
      "The following object is masked from ‘package:ggplot2’:\n",
      "\n",
      "    margin\n",
      "\n"
     ]
    }
   ],
   "source": [
    "library(caret)\n",
    "library(nnet)\n",
    "library(party)\n",
    "library(randomForest)\n",
    "library(e1071)"
   ]
  },
  {
   "cell_type": "code",
   "execution_count": 10,
   "id": "2ef2aad1",
   "metadata": {},
   "outputs": [],
   "source": [
    "#지금은 숫자 데이터 의미 없다.\n",
    "for(i in 2:22){\n",
    "mush[,i] <- as.numeric(mush[,i])\n",
    "}"
   ]
  },
  {
   "cell_type": "code",
   "execution_count": 23,
   "id": "841dec95",
   "metadata": {},
   "outputs": [
    {
     "name": "stdout",
     "output_type": "stream",
     "text": [
      "# weights:  59\n",
      "initial  value 4553.462843 \n",
      "iter  10 value 3875.267092\n",
      "iter  20 value 3573.381902\n",
      "iter  30 value 2840.148840\n",
      "iter  40 value 2213.647393\n",
      "iter  50 value 2059.474187\n",
      "iter  60 value 2046.982362\n",
      "iter  70 value 2046.614169\n",
      "iter  80 value 1946.486783\n",
      "iter  90 value 1569.440162\n",
      "iter 100 value 643.806158\n",
      "final  value 643.806158 \n",
      "stopped after 100 iterations\n"
     ]
    },
    {
     "name": "stderr",
     "output_type": "stream",
     "text": [
      "Warning message in svm.default(x, y, scale = scale, ..., na.action = na.action):\n",
      "“Variable(s) ‘V17’ constant. Cannot scale data.”"
     ]
    },
    {
     "name": "stdout",
     "output_type": "stream",
     "text": [
      "# weights:  29 (28 variable)\n",
      "initial  value 3942.621163 \n",
      "iter  10 value 1467.732100\n",
      "iter  20 value 1080.635562\n",
      "iter  30 value 741.525838\n",
      "iter  40 value 692.852274\n",
      "iter  50 value 668.258669\n",
      "iter  60 value 665.112355\n",
      "iter  70 value 665.107794\n",
      "iter  80 value 665.106339\n",
      "final  value 665.106292 \n",
      "converged\n"
     ]
    },
    {
     "data": {
      "text/html": [
       "'인공신경망 : 0.9688013136289'"
      ],
      "text/latex": [
       "'인공신경망 : 0.9688013136289'"
      ],
      "text/markdown": [
       "'인공신경망 : 0.9688013136289'"
      ],
      "text/plain": [
       "[1] \"인공신경망 : 0.9688013136289\""
      ]
     },
     "metadata": {},
     "output_type": "display_data"
    },
    {
     "data": {
      "text/html": [
       "'의사결정나무 : 1'"
      ],
      "text/latex": [
       "'의사결정나무 : 1'"
      ],
      "text/markdown": [
       "'의사결정나무 : 1'"
      ],
      "text/plain": [
       "[1] \"의사결정나무 : 1\""
      ]
     },
     "metadata": {},
     "output_type": "display_data"
    },
    {
     "data": {
      "text/html": [
       "'RandomForest : 1'"
      ],
      "text/latex": [
       "'RandomForest : 1'"
      ],
      "text/markdown": [
       "'RandomForest : 1'"
      ],
      "text/plain": [
       "[1] \"RandomForest : 1\""
      ]
     },
     "metadata": {},
     "output_type": "display_data"
    },
    {
     "data": {
      "text/html": [
       "'SVM : 0.999589490968801'"
      ],
      "text/latex": [
       "'SVM : 0.999589490968801'"
      ],
      "text/markdown": [
       "'SVM : 0.999589490968801'"
      ],
      "text/plain": [
       "[1] \"SVM : 0.999589490968801\""
      ]
     },
     "metadata": {},
     "output_type": "display_data"
    },
    {
     "data": {
      "text/html": [
       "'로지스틱회귀분석 : 0.964285714285714'"
      ],
      "text/latex": [
       "'로지스틱회귀분석 : 0.964285714285714'"
      ],
      "text/markdown": [
       "'로지스틱회귀분석 : 0.964285714285714'"
      ],
      "text/plain": [
       "[1] \"로지스틱회귀분석 : 0.964285714285714\""
      ]
     },
     "metadata": {},
     "output_type": "display_data"
    },
    {
     "ename": "ERROR",
     "evalue": "Error in colname(예측) <- \"예측치\": 함수 \"colname<-\"를 찾을 수 없습니다\n",
     "output_type": "error",
     "traceback": [
      "Error in colname(예측) <- \"예측치\": 함수 \"colname<-\"를 찾을 수 없습니다\nTraceback:\n"
     ]
    }
   ],
   "source": [
    "samp <- createDataPartition(mush$V1, p=0.7, list=F)\n",
    "data.tr <- mush[samp,]\n",
    "data.test <- mush[-samp,]\n",
    "x <- subset(data.test, select = -V1)\n",
    "y <- data.test$V1\n",
    "\n",
    "model.nnet <- nnet(V1 ~ ., data=data.tr, size=2)\n",
    "model.ctree <- ctree(V1 ~., data=data.tr)\n",
    "model.rf <- randomForest(V1 ~ ., data=data.tr, ntree = 100)\n",
    "model.svm <- svm(V1 ~ . , data=data.tr)\n",
    "model <- multinom(V1 ~., data=data.tr)\n",
    "\n",
    "인pred <- predict(model.nnet, x, type = \"class\")\n",
    "의pred <- predict(model.ctree, x)\n",
    "Rpred <- predict(model.rf, x)\n",
    "Spred <- predict(model.svm, x)\n",
    "로pred <- predict(model, x)\n",
    "\n",
    "인공신경망 <-  mean(인pred == y)\n",
    "의사결정나무 <- mean(의pred == y)\n",
    "RandomForest <- mean(Rpred == y)\n",
    "SVM <- mean(Spred == y)\n",
    "로지스틱회귀분석 <- mean(로pred == y)\n",
    "\n",
    "paste(\"인공신경망 :\", 인공신경망)\n",
    "paste(\"의사결정나무 :\", 의사결정나무)\n",
    "paste(\"RandomForest :\", RandomForest)\n",
    "paste(\"SVM :\", SVM)\n",
    "paste(\"로지스틱회귀분석 :\", 로지스틱회귀분석)\n",
    "\n",
    "예측 <- t(data.frame(인공신경망,의사결정나무,RandomForest,SVM,로지스틱회귀분석))\n"
   ]
  }
 ],
 "metadata": {
  "kernelspec": {
   "display_name": "R",
   "language": "R",
   "name": "ir"
  },
  "language_info": {
   "codemirror_mode": "r",
   "file_extension": ".r",
   "mimetype": "text/x-r-source",
   "name": "R",
   "pygments_lexer": "r",
   "version": "3.6.1"
  }
 },
 "nbformat": 4,
 "nbformat_minor": 5
}
